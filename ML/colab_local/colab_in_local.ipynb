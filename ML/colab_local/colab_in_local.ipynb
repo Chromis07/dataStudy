{
  "nbformat": 4,
  "nbformat_minor": 0,
  "metadata": {
    "colab": {
      "name": "colab_in_local.ipynb",
      "provenance": [],
      "collapsed_sections": [],
      "mount_file_id": "1OAhEgej1dQDO7z98MDfpV73jWlUmviFS",
      "authorship_tag": "ABX9TyP8L88d30+ZK7Fbjn6pdkyJ",
      "include_colab_link": true
    },
    "kernelspec": {
      "name": "python3",
      "display_name": "Python 3"
    },
    "language_info": {
      "name": "python"
    },
    "accelerator": "GPU"
  },
  "cells": [
    {
      "cell_type": "markdown",
      "metadata": {
        "id": "view-in-github",
        "colab_type": "text"
      },
      "source": [
        "<a href=\"https://colab.research.google.com/github/Chromis07/dataStudy/blob/main/ML/colab_local/colab_in_local.ipynb\" target=\"_parent\"><img src=\"https://colab.research.google.com/assets/colab-badge.svg\" alt=\"Open In Colab\"/></a>"
      ]
    },
    {
      "cell_type": "markdown",
      "metadata": {
        "id": "SjG-7xwLxuIk"
      },
      "source": [
        "# 준비물\n",
        "1. ngrok\n",
        "2. Google Colab\n",
        "3. VS Code (remote-ssh)"
      ]
    },
    {
      "cell_type": "code",
      "metadata": {
        "id": "i6PkwE8lpePM"
      },
      "source": [
        "NGROK_TOKEN = 'ngrok authtoken 복사'\n",
        "PASSWORD = '사용할 비밀번호 적용'"
      ],
      "execution_count": null,
      "outputs": []
    },
    {
      "cell_type": "markdown",
      "metadata": {
        "id": "tRnW81Sxp09K"
      },
      "source": [
        "# GPU 확인"
      ]
    },
    {
      "cell_type": "code",
      "metadata": {
        "id": "BfaZYzXSpvsB"
      },
      "source": [
        "# 노트 설정 GPU 해두기\n",
        "!nvidia-smi"
      ],
      "execution_count": null,
      "outputs": []
    },
    {
      "cell_type": "markdown",
      "metadata": {
        "id": "v7OZTw8RqL30"
      },
      "source": [
        "# Google Drive 마운트"
      ]
    },
    {
      "cell_type": "markdown",
      "metadata": {
        "id": "fWzirUaSqbcn"
      },
      "source": [
        "# ColabCode 연결 방법"
      ]
    },
    {
      "cell_type": "code",
      "metadata": {
        "id": "40NWVtvQpzcj"
      },
      "source": [
        "!pip install colabcode"
      ],
      "execution_count": null,
      "outputs": []
    },
    {
      "cell_type": "code",
      "metadata": {
        "id": "5gponuqiqlmJ"
      },
      "source": [
        "from colabcode import ColabCode\n",
        "\n",
        "ColabCode(port=10000, password=PASSWORD)\n",
        "\n",
        "# ngrok.io 주소로 접속"
      ],
      "execution_count": null,
      "outputs": []
    },
    {
      "cell_type": "markdown",
      "metadata": {
        "id": "YIWMTRQZr5WL"
      },
      "source": [
        "# Colab-SSH로 연결 방법"
      ]
    },
    {
      "cell_type": "code",
      "metadata": {
        "id": "7_WzdTQ2rCpY"
      },
      "source": [
        "!pip install colab_ssh"
      ],
      "execution_count": null,
      "outputs": []
    },
    {
      "cell_type": "code",
      "metadata": {
        "id": "-Uwj9bSNsGsl"
      },
      "source": [
        "from colab_ssh import launch_ssh\n",
        "\n",
        "launch_ssh(NGROK_TOKEN, PASSWORD)"
      ],
      "execution_count": null,
      "outputs": []
    },
    {
      "cell_type": "markdown",
      "metadata": {
        "id": "KoKM_EffskVL"
      },
      "source": [
        "설정 - remote-ssh : connect host\n",
        "- ssh root@'Hostname' -p 'PortNumber'"
      ]
    }
  ]
}