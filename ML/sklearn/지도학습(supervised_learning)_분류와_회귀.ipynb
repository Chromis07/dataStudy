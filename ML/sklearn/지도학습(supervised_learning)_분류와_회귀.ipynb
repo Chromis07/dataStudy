{
  "nbformat": 4,
  "nbformat_minor": 0,
  "metadata": {
    "colab": {
      "name": "지도학습(supervised-learning) 분류와 회귀.ipynb",
      "provenance": [],
      "collapsed_sections": [],
      "authorship_tag": "ABX9TyPV0E3Mkt9gWKHeABWPRMy7",
      "include_colab_link": true
    },
    "kernelspec": {
      "name": "python3",
      "display_name": "Python 3"
    },
    "language_info": {
      "name": "python"
    }
  },
  "cells": [
    {
      "cell_type": "markdown",
      "metadata": {
        "id": "view-in-github",
        "colab_type": "text"
      },
      "source": [
        "<a href=\"https://colab.research.google.com/github/Chromis07/dataStudy/blob/main/ML/%EC%A7%80%EB%8F%84%ED%95%99%EC%8A%B5(supervised_learning)_%EB%B6%84%EB%A5%98%EC%99%80_%ED%9A%8C%EA%B7%80.ipynb\" target=\"_parent\"><img src=\"https://colab.research.google.com/assets/colab-badge.svg\" alt=\"Open In Colab\"/></a>"
      ]
    },
    {
      "cell_type": "markdown",
      "metadata": {
        "id": "Wj1NZihE6iE5"
      },
      "source": [
        "지도 학습\n",
        "\n",
        "*   분류와 회귀\n",
        "\n"
      ]
    },
    {
      "cell_type": "markdown",
      "metadata": {
        "id": "GdJV80th6npJ"
      },
      "source": [
        "지도 학습 알고리즘"
      ]
    },
    {
      "cell_type": "code",
      "metadata": {
        "colab": {
          "base_uri": "https://localhost:8080/"
        },
        "id": "KoFeihJA6Li_",
        "outputId": "7a119ee3-de30-453f-a31c-c478bcf1166c"
      },
      "source": [
        "pip install mglearn"
      ],
      "execution_count": 27,
      "outputs": [
        {
          "output_type": "stream",
          "text": [
            "Requirement already satisfied: mglearn in /usr/local/lib/python3.7/dist-packages (0.1.9)\n",
            "Requirement already satisfied: pillow in /usr/local/lib/python3.7/dist-packages (from mglearn) (7.1.2)\n",
            "Requirement already satisfied: cycler in /usr/local/lib/python3.7/dist-packages (from mglearn) (0.10.0)\n",
            "Requirement already satisfied: imageio in /usr/local/lib/python3.7/dist-packages (from mglearn) (2.4.1)\n",
            "Requirement already satisfied: pandas in /usr/local/lib/python3.7/dist-packages (from mglearn) (1.1.5)\n",
            "Requirement already satisfied: joblib in /usr/local/lib/python3.7/dist-packages (from mglearn) (1.0.1)\n",
            "Requirement already satisfied: matplotlib in /usr/local/lib/python3.7/dist-packages (from mglearn) (3.2.2)\n",
            "Requirement already satisfied: numpy in /usr/local/lib/python3.7/dist-packages (from mglearn) (1.19.5)\n",
            "Requirement already satisfied: scikit-learn in /usr/local/lib/python3.7/dist-packages (from mglearn) (0.22.2.post1)\n",
            "Requirement already satisfied: six in /usr/local/lib/python3.7/dist-packages (from cycler->mglearn) (1.15.0)\n",
            "Requirement already satisfied: python-dateutil>=2.7.3 in /usr/local/lib/python3.7/dist-packages (from pandas->mglearn) (2.8.1)\n",
            "Requirement already satisfied: pytz>=2017.2 in /usr/local/lib/python3.7/dist-packages (from pandas->mglearn) (2018.9)\n",
            "Requirement already satisfied: pyparsing!=2.0.4,!=2.1.2,!=2.1.6,>=2.0.1 in /usr/local/lib/python3.7/dist-packages (from matplotlib->mglearn) (2.4.7)\n",
            "Requirement already satisfied: kiwisolver>=1.0.1 in /usr/local/lib/python3.7/dist-packages (from matplotlib->mglearn) (1.3.1)\n",
            "Requirement already satisfied: scipy>=0.17.0 in /usr/local/lib/python3.7/dist-packages (from scikit-learn->mglearn) (1.4.1)\n"
          ],
          "name": "stdout"
        }
      ]
    },
    {
      "cell_type": "code",
      "metadata": {
        "colab": {
          "base_uri": "https://localhost:8080/"
        },
        "id": "qQivnvJ96y_P",
        "outputId": "ef30b9e4-bbd6-4711-ba68-31fcfc92d95a"
      },
      "source": [
        "# 한글 깨짐 방지\n",
        "import matplotlib as mpl\n",
        "import matplotlib.pyplot as plt\n",
        " \n",
        "%config InlineBackend.figure_format = 'retina'\n",
        " \n",
        "!apt -qq -y install fonts-nanum\n",
        " \n",
        "import matplotlib.font_manager as fm\n",
        "\n",
        "fontpath = '/usr/share/fonts/truetype/nanum/NanumBarunGothic.ttf'\n",
        "font = fm.FontProperties(fname=fontpath, size=9)\n",
        "plt.rc('font', family='NanumBarunGothic') \n",
        "mpl.font_manager._rebuild()"
      ],
      "execution_count": 28,
      "outputs": [
        {
          "output_type": "stream",
          "text": [
            "fonts-nanum is already the newest version (20170925-1).\n",
            "0 upgraded, 0 newly installed, 0 to remove and 39 not upgraded.\n"
          ],
          "name": "stdout"
        }
      ]
    },
    {
      "cell_type": "code",
      "metadata": {
        "id": "ppttbgFkDeWW"
      },
      "source": [
        "plt.rcParams['axes.unicode_minus'] = False # 마이너스 기호 깨짐 방지"
      ],
      "execution_count": 29,
      "outputs": []
    },
    {
      "cell_type": "markdown",
      "metadata": {
        "id": "3urIlptg7Ami"
      },
      "source": [
        "예제에 사용할 data set"
      ]
    },
    {
      "cell_type": "markdown",
      "metadata": {
        "id": "q9jh6KbW7Dh-"
      },
      "source": [
        "1. 이진 분류 data set(forge) 확인하기"
      ]
    },
    {
      "cell_type": "code",
      "metadata": {
        "colab": {
          "base_uri": "https://localhost:8080/"
        },
        "id": "gxHb9B6k67M9",
        "outputId": "5c7bf8ad-9aad-44e6-9cfe-20c0a45a57ca"
      },
      "source": [
        "# data set 다운로드\n",
        "import mglearn\n",
        "import matplotlib.pyplot as plt\n",
        "\n",
        "# data set 만들기\n",
        "X, y= mglearn.datasets.make_forge()"
      ],
      "execution_count": 30,
      "outputs": [
        {
          "output_type": "stream",
          "text": [
            "/usr/local/lib/python3.7/dist-packages/sklearn/utils/deprecation.py:87: FutureWarning: Function make_blobs is deprecated; Please import make_blobs directly from scikit-learn\n",
            "  warnings.warn(msg, category=FutureWarning)\n"
          ],
          "name": "stderr"
        }
      ]
    },
    {
      "cell_type": "markdown",
      "metadata": {
        "id": "qy46_qB77mR_"
      },
      "source": [
        "데이터 확인하기"
      ]
    },
    {
      "cell_type": "code",
      "metadata": {
        "colab": {
          "base_uri": "https://localhost:8080/"
        },
        "id": "u_Y8qqJ07ZDO",
        "outputId": "c771b40e-0e08-44ff-ec56-93d47946e545"
      },
      "source": [
        "print(\"X.shape :\", X.shape)\n",
        "print(\"y.shape :\", y.shape)"
      ],
      "execution_count": 31,
      "outputs": [
        {
          "output_type": "stream",
          "text": [
            "X.shape : (26, 2)\n",
            "y.shape : (26,)\n"
          ],
          "name": "stdout"
        }
      ]
    },
    {
      "cell_type": "code",
      "metadata": {
        "colab": {
          "base_uri": "https://localhost:8080/"
        },
        "id": "2Z5rwgZZ7u_X",
        "outputId": "50999b01-48ca-46d8-8f50-9792c597f494"
      },
      "source": [
        "X"
      ],
      "execution_count": 32,
      "outputs": [
        {
          "output_type": "execute_result",
          "data": {
            "text/plain": [
              "array([[ 9.96346605,  4.59676542],\n",
              "       [11.0329545 , -0.16816717],\n",
              "       [11.54155807,  5.21116083],\n",
              "       [ 8.69289001,  1.54322016],\n",
              "       [ 8.1062269 ,  4.28695977],\n",
              "       [ 8.30988863,  4.80623966],\n",
              "       [11.93027136,  4.64866327],\n",
              "       [ 9.67284681, -0.20283165],\n",
              "       [ 8.34810316,  5.13415623],\n",
              "       [ 8.67494727,  4.47573059],\n",
              "       [ 9.17748385,  5.09283177],\n",
              "       [10.24028948,  2.45544401],\n",
              "       [ 8.68937095,  1.48709629],\n",
              "       [ 8.92229526, -0.63993225],\n",
              "       [ 9.49123469,  4.33224792],\n",
              "       [ 9.25694192,  5.13284858],\n",
              "       [ 7.99815287,  4.8525051 ],\n",
              "       [ 8.18378052,  1.29564214],\n",
              "       [ 8.7337095 ,  2.49162431],\n",
              "       [ 9.32298256,  5.09840649],\n",
              "       [10.06393839,  0.99078055],\n",
              "       [ 9.50048972, -0.26430318],\n",
              "       [ 8.34468785,  1.63824349],\n",
              "       [ 9.50169345,  1.93824624],\n",
              "       [ 9.15072323,  5.49832246],\n",
              "       [11.563957  ,  1.3389402 ]])"
            ]
          },
          "metadata": {
            "tags": []
          },
          "execution_count": 32
        }
      ]
    },
    {
      "cell_type": "code",
      "metadata": {
        "colab": {
          "base_uri": "https://localhost:8080/"
        },
        "id": "ecE3N0Rn7_5r",
        "outputId": "aacdffc9-2978-4c19-813a-644eaaa269a4"
      },
      "source": [
        "y"
      ],
      "execution_count": 33,
      "outputs": [
        {
          "output_type": "execute_result",
          "data": {
            "text/plain": [
              "array([1, 0, 1, 0, 0, 1, 1, 0, 1, 1, 1, 1, 0, 0, 1, 1, 1, 0, 0, 1, 0, 0,\n",
              "       0, 0, 1, 0])"
            ]
          },
          "metadata": {
            "tags": []
          },
          "execution_count": 33
        }
      ]
    },
    {
      "cell_type": "code",
      "metadata": {
        "colab": {
          "base_uri": "https://localhost:8080/",
          "height": 384
        },
        "id": "DcoNTNAh8BHV",
        "outputId": "8d3ca4b8-dea1-4228-dc9a-35c6e6ac7b5a"
      },
      "source": [
        "plt.figure(dpi=100)\n",
        "plt.rc('font', family='NanumBarunGothic')\n",
        "\n",
        "# 산점도 그리기\n",
        "mglearn.discrete_scatter(X[:,0], X[:,1], y)\n",
        "plt.legend(['클래스 0', '클래스 1'], loc=4)\n",
        "plt.xlabel(\"첫 번째 특성\")\n",
        "plt.ylabel(\"두 번째 특성\")\n",
        "plt.show()"
      ],
      "execution_count": 34,
      "outputs": [
        {
          "output_type": "display_data",
          "data": {
            "image/png": "[encoded data removed]",
            "text/plain": [
              "<Figure size 600x400 with 1 Axes>"
            ]
          },
          "metadata": {
            "tags": [],
            "image/png": {
              "width": 531,
              "height": 367
            },
            "needs_background": "light"
          }
        }
      ]
    },
    {
      "cell_type": "markdown",
      "metadata": {
        "id": "VDFGdwdNCaN2"
      },
      "source": [
        "2. 회귀 data set(wave) 확인하기"
      ]
    },
    {
      "cell_type": "markdown",
      "metadata": {
        "id": "SXpXDTAnCfm3"
      },
      "source": [
        "데이터 다운로드"
      ]
    },
    {
      "cell_type": "code",
      "metadata": {
        "id": "K5p-_VY68vfj"
      },
      "source": [
        "X, y= mglearn.datasets.make_wave(n_samples=40)"
      ],
      "execution_count": 35,
      "outputs": []
    },
    {
      "cell_type": "markdown",
      "metadata": {
        "id": "dnRlkIqeCqf5"
      },
      "source": [
        "데이터 확인하기"
      ]
    },
    {
      "cell_type": "code",
      "metadata": {
        "colab": {
          "base_uri": "https://localhost:8080/"
        },
        "id": "6iZh-YhtCqEV",
        "outputId": "9df4d4d4-6268-4944-a658-88bc04cda49b"
      },
      "source": [
        "print(\"X.shape :\", X.shape)\n",
        "print(\"y.shape :\", y.shape)"
      ],
      "execution_count": 36,
      "outputs": [
        {
          "output_type": "stream",
          "text": [
            "X.shape : (40, 1)\n",
            "y.shape : (40,)\n"
          ],
          "name": "stdout"
        }
      ]
    },
    {
      "cell_type": "code",
      "metadata": {
        "colab": {
          "base_uri": "https://localhost:8080/"
        },
        "id": "kMdY2z4wCrn5",
        "outputId": "656e9ad2-e618-40af-8fad-f1bcbc03be33"
      },
      "source": [
        "X"
      ],
      "execution_count": 37,
      "outputs": [
        {
          "output_type": "execute_result",
          "data": {
            "text/plain": [
              "array([[-0.75275929],\n",
              "       [ 2.70428584],\n",
              "       [ 1.39196365],\n",
              "       [ 0.59195091],\n",
              "       [-2.06388816],\n",
              "       [-2.06403288],\n",
              "       [-2.65149833],\n",
              "       [ 2.19705687],\n",
              "       [ 0.60669007],\n",
              "       [ 1.24843547],\n",
              "       [-2.87649303],\n",
              "       [ 2.81945911],\n",
              "       [ 1.99465584],\n",
              "       [-1.72596534],\n",
              "       [-1.9090502 ],\n",
              "       [-1.89957294],\n",
              "       [-1.17454654],\n",
              "       [ 0.14853859],\n",
              "       [-0.40832989],\n",
              "       [-1.25262516],\n",
              "       [ 0.67111737],\n",
              "       [-2.16303684],\n",
              "       [-1.24713211],\n",
              "       [-0.80182894],\n",
              "       [-0.26358009],\n",
              "       [ 1.71105577],\n",
              "       [-1.80195731],\n",
              "       [ 0.08540663],\n",
              "       [ 0.55448741],\n",
              "       [-2.72129752],\n",
              "       [ 0.64526911],\n",
              "       [-1.97685526],\n",
              "       [-2.60969044],\n",
              "       [ 2.69331322],\n",
              "       [ 2.7937922 ],\n",
              "       [ 1.85038409],\n",
              "       [-1.17231738],\n",
              "       [-2.41396732],\n",
              "       [ 1.10539816],\n",
              "       [-0.35908504]])"
            ]
          },
          "metadata": {
            "tags": []
          },
          "execution_count": 37
        }
      ]
    },
    {
      "cell_type": "code",
      "metadata": {
        "colab": {
          "base_uri": "https://localhost:8080/"
        },
        "id": "dkkhsC9gCsd_",
        "outputId": "448a7ae6-c36d-4d1e-adc3-88d97ac7c4ab"
      },
      "source": [
        "y"
      ],
      "execution_count": 38,
      "outputs": [
        {
          "output_type": "execute_result",
          "data": {
            "text/plain": [
              "array([-0.44822073,  0.33122576,  0.77932073,  0.03497884, -1.38773632,\n",
              "       -2.47196233, -1.52730805,  1.49417157,  1.00032374,  0.22956153,\n",
              "       -1.05979555,  0.7789638 ,  0.75418806, -1.51369739, -1.67303415,\n",
              "       -0.90496988,  0.08448544, -0.52734666, -0.54114599, -0.3409073 ,\n",
              "        0.21778193, -1.12469096,  0.37299129,  0.09756349, -0.98618122,\n",
              "        0.96695428, -1.13455014,  0.69798591,  0.43655826, -0.95652133,\n",
              "        0.03527881, -2.08581717, -0.47411033,  1.53708251,  0.86893293,\n",
              "        1.87664889,  0.0945257 , -1.41502356,  0.25438895,  0.09398858])"
            ]
          },
          "metadata": {
            "tags": []
          },
          "execution_count": 38
        }
      ]
    },
    {
      "cell_type": "code",
      "metadata": {
        "colab": {
          "base_uri": "https://localhost:8080/",
          "height": 389
        },
        "id": "eW3lPieyCs8C",
        "outputId": "8092d307-1802-4462-b848-9dfc4f2bc12c"
      },
      "source": [
        "# 산점도 그리기\n",
        "plt.figure(dpi=100)\n",
        "plt.rc('font', family='NanumBarunGothic')\n",
        "# plt.rcParams\n",
        "\n",
        "plt.plot(X, y, 'o')\n",
        "plt.ylim(-3, 3)\n",
        "plt.xlabel('특성')\n",
        "plt.ylabel('타깃')\n",
        "plt.show()"
      ],
      "execution_count": 39,
      "outputs": [
        {
          "output_type": "display_data",
          "data": {
            "image/png": "[encoded data removed]",
            "text/plain": [
              "<Figure size 600x400 with 1 Axes>"
            ]
          },
          "metadata": {
            "tags": [],
            "image/png": {
              "width": 531,
              "height": 372
            },
            "needs_background": "light"
          }
        }
      ]
    },
    {
      "cell_type": "markdown",
      "metadata": {
        "id": "nI0uBSimFxUW"
      },
      "source": [
        "분류 문제정의 : 위스콘신 유방암 data set을 사용한 악성 종양(Label, 1) 예측하기"
      ]
    },
    {
      "cell_type": "markdown",
      "metadata": {
        "id": "UwooQGFNGFWE"
      },
      "source": [
        "데이터 준비하기 (https://archive.ics.uci.edu/ml/datasets/Breast+Cancer+Wisconsin+(Diagnostic)\n",
        ")"
      ]
    },
    {
      "cell_type": "code",
      "metadata": {
        "colab": {
          "base_uri": "https://localhost:8080/"
        },
        "id": "0PI34ZnyCzgA",
        "outputId": "9b3647ca-71b6-4204-f489-7d423beb72d5"
      },
      "source": [
        "from sklearn.datasets import load_breast_cancer\n",
        "\n",
        "cancer = load_breast_cancer()\n",
        "print(cancer.keys()) # data set 확인"
      ],
      "execution_count": 40,
      "outputs": [
        {
          "output_type": "stream",
          "text": [
            "dict_keys(['data', 'target', 'target_names', 'DESCR', 'feature_names', 'filename'])\n"
          ],
          "name": "stdout"
        }
      ]
    },
    {
      "cell_type": "markdown",
      "metadata": {
        "id": "xlg13Q9fGiYu"
      },
      "source": [
        "데이터 확인하기"
      ]
    },
    {
      "cell_type": "code",
      "metadata": {
        "colab": {
          "base_uri": "https://localhost:8080/"
        },
        "id": "XiODWF89Gewj",
        "outputId": "9f09eab0-8aaa-4600-c855-c77dcf587bfd"
      },
      "source": [
        "cancer.data.shape # 유방암 데이터의 형태 -> 569건, 특성 30개"
      ],
      "execution_count": 41,
      "outputs": [
        {
          "output_type": "execute_result",
          "data": {
            "text/plain": [
              "(569, 30)"
            ]
          },
          "metadata": {
            "tags": []
          },
          "execution_count": 41
        }
      ]
    },
    {
      "cell_type": "code",
      "metadata": {
        "colab": {
          "base_uri": "https://localhost:8080/"
        },
        "id": "UD0OniZ-GnKZ",
        "outputId": "0539cc52-b243-44c9-9d5a-77d3fd89c831"
      },
      "source": [
        "# 클래스별 샘플 갯수\n",
        "import numpy as np\n",
        "\n",
        "{n : v for n, v in zip(cancer.target_names, np.bincount(cancer.target))}"
      ],
      "execution_count": 42,
      "outputs": [
        {
          "output_type": "execute_result",
          "data": {
            "text/plain": [
              "{'benign': 357, 'malignant': 212}"
            ]
          },
          "metadata": {
            "tags": []
          },
          "execution_count": 42
        }
      ]
    },
    {
      "cell_type": "code",
      "metadata": {
        "colab": {
          "base_uri": "https://localhost:8080/"
        },
        "id": "TR0IfOJrG8HP",
        "outputId": "fcd263d5-344b-4c31-c31f-06ac836a111b"
      },
      "source": [
        "cancer.feature_names"
      ],
      "execution_count": 43,
      "outputs": [
        {
          "output_type": "execute_result",
          "data": {
            "text/plain": [
              "array(['mean radius', 'mean texture', 'mean perimeter', 'mean area',\n",
              "       'mean smoothness', 'mean compactness', 'mean concavity',\n",
              "       'mean concave points', 'mean symmetry', 'mean fractal dimension',\n",
              "       'radius error', 'texture error', 'perimeter error', 'area error',\n",
              "       'smoothness error', 'compactness error', 'concavity error',\n",
              "       'concave points error', 'symmetry error',\n",
              "       'fractal dimension error', 'worst radius', 'worst texture',\n",
              "       'worst perimeter', 'worst area', 'worst smoothness',\n",
              "       'worst compactness', 'worst concavity', 'worst concave points',\n",
              "       'worst symmetry', 'worst fractal dimension'], dtype='<U23')"
            ]
          },
          "metadata": {
            "tags": []
          },
          "execution_count": 43
        }
      ]
    },
    {
      "cell_type": "markdown",
      "metadata": {
        "id": "V0kaXGY8IOdG"
      },
      "source": [
        "회귀 문제정의 : 보스턴 주택 가격 data set을 사용한 보스턴 주변의 평균 가격 예측하기"
      ]
    },
    {
      "cell_type": "markdown",
      "metadata": {
        "id": "pHoxRuwhH29k"
      },
      "source": [
        "데이터 준비하기 (https://www.kaggle.com/c/boston-housing)"
      ]
    },
    {
      "cell_type": "code",
      "metadata": {
        "id": "BrqsNneKHKEM"
      },
      "source": [
        "from sklearn.datasets import load_boston\n",
        "\n",
        "boston = load_boston()"
      ],
      "execution_count": 44,
      "outputs": []
    },
    {
      "cell_type": "markdown",
      "metadata": {
        "id": "8XWBKtuPIlNE"
      },
      "source": [
        "데이터 확인하기"
      ]
    },
    {
      "cell_type": "code",
      "metadata": {
        "colab": {
          "base_uri": "https://localhost:8080/"
        },
        "id": "CItl1uo1Ikt0",
        "outputId": "a2d6a2cf-61f0-41ba-95e0-2e0e8497506f"
      },
      "source": [
        "# 데이터 형태 확인\n",
        "boston.data.shape # 50개 데이터, 13개 특성"
      ],
      "execution_count": 45,
      "outputs": [
        {
          "output_type": "execute_result",
          "data": {
            "text/plain": [
              "(506, 13)"
            ]
          },
          "metadata": {
            "tags": []
          },
          "execution_count": 45
        }
      ]
    },
    {
      "cell_type": "code",
      "metadata": {
        "colab": {
          "base_uri": "https://localhost:8080/"
        },
        "id": "gGVXY1C0Iq_n",
        "outputId": "6164631b-8af1-46fb-ac33-f155fcb3f8f8"
      },
      "source": [
        "# 데이터 특성(feature 확인)\n",
        "boston.feature_names"
      ],
      "execution_count": 46,
      "outputs": [
        {
          "output_type": "execute_result",
          "data": {
            "text/plain": [
              "array(['CRIM', 'ZN', 'INDUS', 'CHAS', 'NOX', 'RM', 'AGE', 'DIS', 'RAD',\n",
              "       'TAX', 'PTRATIO', 'B', 'LSTAT'], dtype='<U7')"
            ]
          },
          "metadata": {
            "tags": []
          },
          "execution_count": 46
        }
      ]
    },
    {
      "cell_type": "code",
      "metadata": {
        "id": "IEzrtE-eIwen"
      },
      "source": [
        ""
      ],
      "execution_count": null,
      "outputs": []
    }
  ]
}