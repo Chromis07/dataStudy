{
  "nbformat": 4,
  "nbformat_minor": 0,
  "metadata": {
    "colab": {
      "name": "[sklearn] Titanic Classification - Ensemble Model.ipynb",
      "provenance": [],
      "collapsed_sections": [],
      "authorship_tag": "ABX9TyNAmpXucjXzVaskkc1y8pCB",
      "include_colab_link": true
    },
    "kernelspec": {
      "name": "python3",
      "display_name": "Python 3"
    },
    "language_info": {
      "name": "python"
    }
  },
  "cells": [
    {
      "cell_type": "markdown",
      "metadata": {
        "id": "view-in-github",
        "colab_type": "text"
      },
      "source": [
        "<a href=\"https://colab.research.google.com/github/Chromis07/dataStudy/blob/main/ML/sklearn/Titanic_Classification_Ensemble_Model.ipynb\" target=\"_parent\"><img src=\"https://colab.research.google.com/assets/colab-badge.svg\" alt=\"Open In Colab\"/></a>"
      ]
    },
    {
      "cell_type": "code",
      "metadata": {
        "id": "Zo1DiaF5pvcI"
      },
      "source": [
        "# Libraries for reading and handling the data\n",
        "import numpy as np \n",
        "import pandas as pd\n",
        "import re\n",
        "\n",
        "# Libraries for data visualization\n",
        "import matplotlib.pyplot as plt\n",
        "import seaborn as sns\n",
        "\n",
        "# Libraries for data preprocessing\n",
        "from sklearn.model_selection import train_test_split # 일반적인 함수들은 소문자\n",
        "from sklearn.preprocessing import StandardScaler # 객체를 생성하거나 뭘 해야되는애들은 대문자, 스케일을 0~1 로 조정\n",
        "from sklearn.compose import ColumnTransformer\n",
        "from sklearn.base import BaseEstimator, TransformerMixin\n",
        "\n",
        "\n",
        "# Libraries for creating ML model\n",
        "from sklearn.linear_model import LogisticRegression\n",
        "from sklearn.tree import DecisionTreeClassifier\n",
        "from sklearn.ensemble import RandomForestClassifier\n",
        "from sklearn.ensemble import GradientBoostingClassifier\n",
        "\n",
        "# Library for Analysing the ML model\n",
        "from sklearn import metrics #평가를 위한라이브러리"
      ],
      "execution_count": 1,
      "outputs": []
    },
    {
      "cell_type": "markdown",
      "metadata": {
        "id": "8Ilz9DVosFga"
      },
      "source": [
        "데이터 준비하기"
      ]
    },
    {
      "cell_type": "code",
      "metadata": {
        "id": "1e4P79herG3K"
      },
      "source": [
        "train_path = 'train.csv'\n",
        "\n",
        "target = 'Survived'\n",
        "\n",
        "index = 'PassengerId'\n",
        "\n",
        "dtypes = ({\n",
        "    'Survived': bool, \n",
        "    'Pclass':   'category', \n",
        "    'Name':     'category',\n",
        "    'Sex':      'category',\n",
        "    'Age':      float,\n",
        "    'SibSp':    int,\n",
        "    'Parch':    int,\n",
        "    'Ticket':  'category',\n",
        "    'Fare':     float,\n",
        "    'Cabin':   'category',\n",
        "    'Embarked':'category'\n",
        "})\n",
        "\n",
        "titanic = pd.read_csv(train_path, index_col=index, dtype=dtypes)"
      ],
      "execution_count": 2,
      "outputs": []
    },
    {
      "cell_type": "code",
      "metadata": {
        "colab": {
          "base_uri": "https://localhost:8080/",
          "height": 514
        },
        "id": "2xY7KS3ks7eN",
        "outputId": "5e90cfbe-0ddb-4185-b12d-a6a0efb28996"
      },
      "source": [
        "titanic.head()"
      ],
      "execution_count": 3,
      "outputs": [
        {
          "output_type": "execute_result",
          "data": {
            "text/html": [
              "<div>\n",
              "<style scoped>\n",
              "    .dataframe tbody tr th:only-of-type {\n",
              "        vertical-align: middle;\n",
              "    }\n",
              "\n",
              "    .dataframe tbody tr th {\n",
              "        vertical-align: top;\n",
              "    }\n",
              "\n",
              "    .dataframe thead th {\n",
              "        text-align: right;\n",
              "    }\n",
              "</style>\n",
              "<table border=\"1\" class=\"dataframe\">\n",
              "  <thead>\n",
              "    <tr style=\"text-align: right;\">\n",
              "      <th></th>\n",
              "      <th>Survived</th>\n",
              "      <th>Pclass</th>\n",
              "      <th>Name</th>\n",
              "      <th>Sex</th>\n",
              "      <th>Age</th>\n",
              "      <th>SibSp</th>\n",
              "      <th>Parch</th>\n",
              "      <th>Ticket</th>\n",
              "      <th>Fare</th>\n",
              "      <th>Cabin</th>\n",
              "      <th>Embarked</th>\n",
              "    </tr>\n",
              "    <tr>\n",
              "      <th>PassengerId</th>\n",
              "      <th></th>\n",
              "      <th></th>\n",
              "      <th></th>\n",
              "      <th></th>\n",
              "      <th></th>\n",
              "      <th></th>\n",
              "      <th></th>\n",
              "      <th></th>\n",
              "      <th></th>\n",
              "      <th></th>\n",
              "      <th></th>\n",
              "    </tr>\n",
              "  </thead>\n",
              "  <tbody>\n",
              "    <tr>\n",
              "      <th>1</th>\n",
              "      <td>False</td>\n",
              "      <td>3</td>\n",
              "      <td>Braund, Mr. Owen Harris</td>\n",
              "      <td>male</td>\n",
              "      <td>22.0</td>\n",
              "      <td>1</td>\n",
              "      <td>0</td>\n",
              "      <td>A/5 21171</td>\n",
              "      <td>7.2500</td>\n",
              "      <td>NaN</td>\n",
              "      <td>S</td>\n",
              "    </tr>\n",
              "    <tr>\n",
              "      <th>2</th>\n",
              "      <td>True</td>\n",
              "      <td>1</td>\n",
              "      <td>Cumings, Mrs. John Bradley (Florence Briggs Th...</td>\n",
              "      <td>female</td>\n",
              "      <td>38.0</td>\n",
              "      <td>1</td>\n",
              "      <td>0</td>\n",
              "      <td>PC 17599</td>\n",
              "      <td>71.2833</td>\n",
              "      <td>C85</td>\n",
              "      <td>C</td>\n",
              "    </tr>\n",
              "    <tr>\n",
              "      <th>3</th>\n",
              "      <td>True</td>\n",
              "      <td>3</td>\n",
              "      <td>Heikkinen, Miss. Laina</td>\n",
              "      <td>female</td>\n",
              "      <td>26.0</td>\n",
              "      <td>0</td>\n",
              "      <td>0</td>\n",
              "      <td>STON/O2. 3101282</td>\n",
              "      <td>7.9250</td>\n",
              "      <td>NaN</td>\n",
              "      <td>S</td>\n",
              "    </tr>\n",
              "    <tr>\n",
              "      <th>4</th>\n",
              "      <td>True</td>\n",
              "      <td>1</td>\n",
              "      <td>Futrelle, Mrs. Jacques Heath (Lily May Peel)</td>\n",
              "      <td>female</td>\n",
              "      <td>35.0</td>\n",
              "      <td>1</td>\n",
              "      <td>0</td>\n",
              "      <td>113803</td>\n",
              "      <td>53.1000</td>\n",
              "      <td>C123</td>\n",
              "      <td>S</td>\n",
              "    </tr>\n",
              "    <tr>\n",
              "      <th>5</th>\n",
              "      <td>False</td>\n",
              "      <td>3</td>\n",
              "      <td>Allen, Mr. William Henry</td>\n",
              "      <td>male</td>\n",
              "      <td>35.0</td>\n",
              "      <td>0</td>\n",
              "      <td>0</td>\n",
              "      <td>373450</td>\n",
              "      <td>8.0500</td>\n",
              "      <td>NaN</td>\n",
              "      <td>S</td>\n",
              "    </tr>\n",
              "  </tbody>\n",
              "</table>\n",
              "</div>"
            ],
            "text/plain": [
              "             Survived Pclass  ... Cabin Embarked\n",
              "PassengerId                   ...               \n",
              "1               False      3  ...   NaN        S\n",
              "2                True      1  ...   C85        C\n",
              "3                True      3  ...   NaN        S\n",
              "4                True      1  ...  C123        S\n",
              "5               False      3  ...   NaN        S\n",
              "\n",
              "[5 rows x 11 columns]"
            ]
          },
          "metadata": {
            "tags": []
          },
          "execution_count": 3
        }
      ]
    },
    {
      "cell_type": "code",
      "metadata": {
        "colab": {
          "base_uri": "https://localhost:8080/"
        },
        "id": "2Z4lMW9Js-DI",
        "outputId": "276e42f6-3886-4da1-bee2-919f1dd209aa"
      },
      "source": [
        "titanic.info()"
      ],
      "execution_count": 4,
      "outputs": [
        {
          "output_type": "stream",
          "text": [
            "<class 'pandas.core.frame.DataFrame'>\n",
            "Int64Index: 891 entries, 1 to 891\n",
            "Data columns (total 11 columns):\n",
            " #   Column    Non-Null Count  Dtype   \n",
            "---  ------    --------------  -----   \n",
            " 0   Survived  891 non-null    bool    \n",
            " 1   Pclass    891 non-null    category\n",
            " 2   Name      891 non-null    category\n",
            " 3   Sex       891 non-null    category\n",
            " 4   Age       714 non-null    float64 \n",
            " 5   SibSp     891 non-null    int64   \n",
            " 6   Parch     891 non-null    int64   \n",
            " 7   Ticket    891 non-null    category\n",
            " 8   Fare      891 non-null    float64 \n",
            " 9   Cabin     204 non-null    category\n",
            " 10  Embarked  889 non-null    category\n",
            "dtypes: bool(1), category(6), float64(2), int64(2)\n",
            "memory usage: 122.2 KB\n"
          ],
          "name": "stdout"
        }
      ]
    },
    {
      "cell_type": "markdown",
      "metadata": {
        "id": "PrpMyv25tN2b"
      },
      "source": [
        "데이터 시각화"
      ]
    },
    {
      "cell_type": "code",
      "metadata": {
        "colab": {
          "base_uri": "https://localhost:8080/"
        },
        "id": "cKTeLDSatGW5",
        "outputId": "c68d0f7e-5407-45e4-c3c0-97a8d5f9e842"
      },
      "source": [
        "titanic['Survived'].value_counts()"
      ],
      "execution_count": 5,
      "outputs": [
        {
          "output_type": "execute_result",
          "data": {
            "text/plain": [
              "False    549\n",
              "True     342\n",
              "Name: Survived, dtype: int64"
            ]
          },
          "metadata": {
            "tags": []
          },
          "execution_count": 5
        }
      ]
    },
    {
      "cell_type": "code",
      "metadata": {
        "colab": {
          "base_uri": "https://localhost:8080/",
          "height": 378
        },
        "id": "fPf2UFHktU64",
        "outputId": "d72df72a-5552-4682-fe1b-62b1cc94b2fa"
      },
      "source": [
        "attributes = ['Survived', 'Sex' , 'Pclass', 'Embarked', 'SibSp', 'Parch']\n",
        "\n",
        "plt.figure(figsize=(14,12), dpi=200)\n",
        "\n",
        "for i, feature in enumerate(attributes) :\n",
        "  plt.subplot(3,3,i+1)\n",
        "  sns.countplot(data=titanic, x=feature, hue='Survived')\n",
        "\n",
        "sns.despine()\n",
        "\n",
        "# 이진 분류 일때만 사용 가능"
      ],
      "execution_count": 6,
      "outputs": [
        {
          "output_type": "display_data",
          "data": {
            "image/png": "[encoded data removed]",
            "text/plain": [
              "<Figure size 2800x2400 with 6 Axes>"
            ]
          },
          "metadata": {
            "tags": [],
            "needs_background": "light"
          }
        }
      ]
    },
    {
      "cell_type": "markdown",
      "metadata": {
        "id": "E5TRJh1DvHiQ"
      },
      "source": [
        "데이터 전처리"
      ]
    },
    {
      "cell_type": "code",
      "metadata": {
        "colab": {
          "base_uri": "https://localhost:8080/"
        },
        "id": "UD2RiUTIuHIp",
        "outputId": "0649bb44-2977-4ff9-bb88-44ecd8ed2747"
      },
      "source": [
        "titanic['Name'].iloc[0:5]\n",
        "\n",
        "# 이름 앞에 Mr, Mrs 등으로 정보를 얻을 수 있다"
      ],
      "execution_count": 7,
      "outputs": [
        {
          "output_type": "execute_result",
          "data": {
            "text/plain": [
              "PassengerId\n",
              "1                              Braund, Mr. Owen Harris\n",
              "2    Cumings, Mrs. John Bradley (Florence Briggs Th...\n",
              "3                               Heikkinen, Miss. Laina\n",
              "4         Futrelle, Mrs. Jacques Heath (Lily May Peel)\n",
              "5                             Allen, Mr. William Henry\n",
              "Name: Name, dtype: category\n",
              "Categories (891, object): ['Abbing, Mr. Anthony', 'Abbott, Mr. Rossmore Edward',\n",
              "                           'Abbott, Mrs. Stanton (Rosa Hunt)', 'Abelson, Mr. Samuel', ..., 'de Pelsmaeker, Mr. Alfons',\n",
              "                           'del Carlo, Mr. Sebastiano', 'van Billiard, Mr. Austin Blyler',\n",
              "                           'van Melkebeke, Mr. Philemon']"
            ]
          },
          "metadata": {
            "tags": []
          },
          "execution_count": 7
        }
      ]
    },
    {
      "cell_type": "code",
      "metadata": {
        "id": "d4eiYh7Zvl9L"
      },
      "source": [
        "def get_title(name) :\n",
        "  return re.split(',|\\.', name)[1].strip()"
      ],
      "execution_count": 8,
      "outputs": []
    },
    {
      "cell_type": "code",
      "metadata": {
        "id": "ZTaf9u2rwBmy"
      },
      "source": [
        "# 이름에서 호칭 추출 (Miss, Mrs ...)\n",
        "titanic['title'] = titanic['Name'].apply(get_title)"
      ],
      "execution_count": 9,
      "outputs": []
    },
    {
      "cell_type": "code",
      "metadata": {
        "colab": {
          "base_uri": "https://localhost:8080/",
          "height": 514
        },
        "id": "vP1EzElVwHsr",
        "outputId": "3b792f07-23dc-4387-9249-f8796cbfbf22"
      },
      "source": [
        "titanic.head()"
      ],
      "execution_count": 10,
      "outputs": [
        {
          "output_type": "execute_result",
          "data": {
            "text/html": [
              "<div>\n",
              "<style scoped>\n",
              "    .dataframe tbody tr th:only-of-type {\n",
              "        vertical-align: middle;\n",
              "    }\n",
              "\n",
              "    .dataframe tbody tr th {\n",
              "        vertical-align: top;\n",
              "    }\n",
              "\n",
              "    .dataframe thead th {\n",
              "        text-align: right;\n",
              "    }\n",
              "</style>\n",
              "<table border=\"1\" class=\"dataframe\">\n",
              "  <thead>\n",
              "    <tr style=\"text-align: right;\">\n",
              "      <th></th>\n",
              "      <th>Survived</th>\n",
              "      <th>Pclass</th>\n",
              "      <th>Name</th>\n",
              "      <th>Sex</th>\n",
              "      <th>Age</th>\n",
              "      <th>SibSp</th>\n",
              "      <th>Parch</th>\n",
              "      <th>Ticket</th>\n",
              "      <th>Fare</th>\n",
              "      <th>Cabin</th>\n",
              "      <th>Embarked</th>\n",
              "      <th>title</th>\n",
              "    </tr>\n",
              "    <tr>\n",
              "      <th>PassengerId</th>\n",
              "      <th></th>\n",
              "      <th></th>\n",
              "      <th></th>\n",
              "      <th></th>\n",
              "      <th></th>\n",
              "      <th></th>\n",
              "      <th></th>\n",
              "      <th></th>\n",
              "      <th></th>\n",
              "      <th></th>\n",
              "      <th></th>\n",
              "      <th></th>\n",
              "    </tr>\n",
              "  </thead>\n",
              "  <tbody>\n",
              "    <tr>\n",
              "      <th>1</th>\n",
              "      <td>False</td>\n",
              "      <td>3</td>\n",
              "      <td>Braund, Mr. Owen Harris</td>\n",
              "      <td>male</td>\n",
              "      <td>22.0</td>\n",
              "      <td>1</td>\n",
              "      <td>0</td>\n",
              "      <td>A/5 21171</td>\n",
              "      <td>7.2500</td>\n",
              "      <td>NaN</td>\n",
              "      <td>S</td>\n",
              "      <td>Mr</td>\n",
              "    </tr>\n",
              "    <tr>\n",
              "      <th>2</th>\n",
              "      <td>True</td>\n",
              "      <td>1</td>\n",
              "      <td>Cumings, Mrs. John Bradley (Florence Briggs Th...</td>\n",
              "      <td>female</td>\n",
              "      <td>38.0</td>\n",
              "      <td>1</td>\n",
              "      <td>0</td>\n",
              "      <td>PC 17599</td>\n",
              "      <td>71.2833</td>\n",
              "      <td>C85</td>\n",
              "      <td>C</td>\n",
              "      <td>Mrs</td>\n",
              "    </tr>\n",
              "    <tr>\n",
              "      <th>3</th>\n",
              "      <td>True</td>\n",
              "      <td>3</td>\n",
              "      <td>Heikkinen, Miss. Laina</td>\n",
              "      <td>female</td>\n",
              "      <td>26.0</td>\n",
              "      <td>0</td>\n",
              "      <td>0</td>\n",
              "      <td>STON/O2. 3101282</td>\n",
              "      <td>7.9250</td>\n",
              "      <td>NaN</td>\n",
              "      <td>S</td>\n",
              "      <td>Miss</td>\n",
              "    </tr>\n",
              "    <tr>\n",
              "      <th>4</th>\n",
              "      <td>True</td>\n",
              "      <td>1</td>\n",
              "      <td>Futrelle, Mrs. Jacques Heath (Lily May Peel)</td>\n",
              "      <td>female</td>\n",
              "      <td>35.0</td>\n",
              "      <td>1</td>\n",
              "      <td>0</td>\n",
              "      <td>113803</td>\n",
              "      <td>53.1000</td>\n",
              "      <td>C123</td>\n",
              "      <td>S</td>\n",
              "      <td>Mrs</td>\n",
              "    </tr>\n",
              "    <tr>\n",
              "      <th>5</th>\n",
              "      <td>False</td>\n",
              "      <td>3</td>\n",
              "      <td>Allen, Mr. William Henry</td>\n",
              "      <td>male</td>\n",
              "      <td>35.0</td>\n",
              "      <td>0</td>\n",
              "      <td>0</td>\n",
              "      <td>373450</td>\n",
              "      <td>8.0500</td>\n",
              "      <td>NaN</td>\n",
              "      <td>S</td>\n",
              "      <td>Mr</td>\n",
              "    </tr>\n",
              "  </tbody>\n",
              "</table>\n",
              "</div>"
            ],
            "text/plain": [
              "             Survived Pclass  ... Embarked title\n",
              "PassengerId                   ...               \n",
              "1               False      3  ...        S    Mr\n",
              "2                True      1  ...        C   Mrs\n",
              "3                True      3  ...        S  Miss\n",
              "4                True      1  ...        S   Mrs\n",
              "5               False      3  ...        S    Mr\n",
              "\n",
              "[5 rows x 12 columns]"
            ]
          },
          "metadata": {
            "tags": []
          },
          "execution_count": 10
        }
      ]
    },
    {
      "cell_type": "code",
      "metadata": {
        "id": "wbu3c-WWwXYy"
      },
      "source": [
        "# 호칭이 생존에 과연 영향을 끼치는지 확인을 위해 집계 함수 -> 카운트, 평균\n",
        "titles = titanic.groupby('title').agg({'Survived' : ['count', 'mean']})"
      ],
      "execution_count": 11,
      "outputs": []
    },
    {
      "cell_type": "code",
      "metadata": {
        "id": "QNWJQJmwxaqR"
      },
      "source": [
        "# Survived 컬럼 레이어 정리\n",
        "titles.columns = titles.columns.droplevel()"
      ],
      "execution_count": 12,
      "outputs": []
    },
    {
      "cell_type": "code",
      "metadata": {
        "colab": {
          "base_uri": "https://localhost:8080/",
          "height": 580
        },
        "id": "f81KIo6Oxci6",
        "outputId": "ea2201d5-6f30-4716-d183-2a7b252c01c0"
      },
      "source": [
        "# 생존 평균이 높은 순으로 정렬\n",
        "titles.sort_values('mean', ascending=False)"
      ],
      "execution_count": 13,
      "outputs": [
        {
          "output_type": "execute_result",
          "data": {
            "text/html": [
              "<div>\n",
              "<style scoped>\n",
              "    .dataframe tbody tr th:only-of-type {\n",
              "        vertical-align: middle;\n",
              "    }\n",
              "\n",
              "    .dataframe tbody tr th {\n",
              "        vertical-align: top;\n",
              "    }\n",
              "\n",
              "    .dataframe thead th {\n",
              "        text-align: right;\n",
              "    }\n",
              "</style>\n",
              "<table border=\"1\" class=\"dataframe\">\n",
              "  <thead>\n",
              "    <tr style=\"text-align: right;\">\n",
              "      <th></th>\n",
              "      <th>count</th>\n",
              "      <th>mean</th>\n",
              "    </tr>\n",
              "    <tr>\n",
              "      <th>title</th>\n",
              "      <th></th>\n",
              "      <th></th>\n",
              "    </tr>\n",
              "  </thead>\n",
              "  <tbody>\n",
              "    <tr>\n",
              "      <th>the Countess</th>\n",
              "      <td>1</td>\n",
              "      <td>1.000000</td>\n",
              "    </tr>\n",
              "    <tr>\n",
              "      <th>Mlle</th>\n",
              "      <td>2</td>\n",
              "      <td>1.000000</td>\n",
              "    </tr>\n",
              "    <tr>\n",
              "      <th>Sir</th>\n",
              "      <td>1</td>\n",
              "      <td>1.000000</td>\n",
              "    </tr>\n",
              "    <tr>\n",
              "      <th>Ms</th>\n",
              "      <td>1</td>\n",
              "      <td>1.000000</td>\n",
              "    </tr>\n",
              "    <tr>\n",
              "      <th>Lady</th>\n",
              "      <td>1</td>\n",
              "      <td>1.000000</td>\n",
              "    </tr>\n",
              "    <tr>\n",
              "      <th>Mme</th>\n",
              "      <td>1</td>\n",
              "      <td>1.000000</td>\n",
              "    </tr>\n",
              "    <tr>\n",
              "      <th>Mrs</th>\n",
              "      <td>125</td>\n",
              "      <td>0.792000</td>\n",
              "    </tr>\n",
              "    <tr>\n",
              "      <th>Miss</th>\n",
              "      <td>182</td>\n",
              "      <td>0.697802</td>\n",
              "    </tr>\n",
              "    <tr>\n",
              "      <th>Master</th>\n",
              "      <td>40</td>\n",
              "      <td>0.575000</td>\n",
              "    </tr>\n",
              "    <tr>\n",
              "      <th>Col</th>\n",
              "      <td>2</td>\n",
              "      <td>0.500000</td>\n",
              "    </tr>\n",
              "    <tr>\n",
              "      <th>Major</th>\n",
              "      <td>2</td>\n",
              "      <td>0.500000</td>\n",
              "    </tr>\n",
              "    <tr>\n",
              "      <th>Dr</th>\n",
              "      <td>7</td>\n",
              "      <td>0.428571</td>\n",
              "    </tr>\n",
              "    <tr>\n",
              "      <th>Mr</th>\n",
              "      <td>517</td>\n",
              "      <td>0.156673</td>\n",
              "    </tr>\n",
              "    <tr>\n",
              "      <th>Jonkheer</th>\n",
              "      <td>1</td>\n",
              "      <td>0.000000</td>\n",
              "    </tr>\n",
              "    <tr>\n",
              "      <th>Rev</th>\n",
              "      <td>6</td>\n",
              "      <td>0.000000</td>\n",
              "    </tr>\n",
              "    <tr>\n",
              "      <th>Don</th>\n",
              "      <td>1</td>\n",
              "      <td>0.000000</td>\n",
              "    </tr>\n",
              "    <tr>\n",
              "      <th>Capt</th>\n",
              "      <td>1</td>\n",
              "      <td>0.000000</td>\n",
              "    </tr>\n",
              "  </tbody>\n",
              "</table>\n",
              "</div>"
            ],
            "text/plain": [
              "              count      mean\n",
              "title                        \n",
              "the Countess      1  1.000000\n",
              "Mlle              2  1.000000\n",
              "Sir               1  1.000000\n",
              "Ms                1  1.000000\n",
              "Lady              1  1.000000\n",
              "Mme               1  1.000000\n",
              "Mrs             125  0.792000\n",
              "Miss            182  0.697802\n",
              "Master           40  0.575000\n",
              "Col               2  0.500000\n",
              "Major             2  0.500000\n",
              "Dr                7  0.428571\n",
              "Mr              517  0.156673\n",
              "Jonkheer          1  0.000000\n",
              "Rev               6  0.000000\n",
              "Don               1  0.000000\n",
              "Capt              1  0.000000"
            ]
          },
          "metadata": {
            "tags": []
          },
          "execution_count": 13
        }
      ]
    },
    {
      "cell_type": "code",
      "metadata": {
        "id": "Nj_kjK6zyJsW"
      },
      "source": [
        "# 호칭 추출이 되지 않은 title 값을 Other로 처리\n",
        "uncommon_titles = (['Don', 'Rev', 'Dr', 'Mme', 'Ms', 'Major', \n",
        "                    'Lady', 'Sir', 'Mlle', 'Col', 'Capt', \n",
        "                    'the Countess', 'Jonkheer'])\n",
        "\n",
        "titanic['title'] = titanic['title'].replace(uncommon_titles, 'other')"
      ],
      "execution_count": 14,
      "outputs": []
    },
    {
      "cell_type": "code",
      "metadata": {
        "colab": {
          "base_uri": "https://localhost:8080/",
          "height": 550
        },
        "id": "Mq0eA0C9zGNv",
        "outputId": "6c8b192c-1eee-4e1c-cea9-675dbc758809"
      },
      "source": [
        "sns.catplot(x='title', kind = 'count', hue='Survived', data=titanic,\n",
        "            height=7)\n",
        "\n",
        "plt.tick_params(labelsize=12)\n",
        "plt.ylabel('Count', fontsize=14)\n",
        "plt.xlabel('Title', fontsize=14)\n",
        "plt.title('Survival by Title')\n",
        "plt.show()"
      ],
      "execution_count": 15,
      "outputs": [
        {
          "output_type": "display_data",
          "data": {
            "image/png": "[encoded data removed]",
            "text/plain": [
              "<Figure size 565.25x504 with 1 Axes>"
            ]
          },
          "metadata": {
            "tags": [],
            "needs_background": "light"
          }
        }
      ]
    },
    {
      "cell_type": "code",
      "metadata": {
        "id": "aAQpkvmb14m0"
      },
      "source": [
        "# 가족 사이즈(fam_size) -> SibSp(동승한 자매 or 배우자) + Parch(동승한 부모 or 자식수)\n",
        "titanic['fam_size'] = titanic['SibSp'] + titanic['Parch']"
      ],
      "execution_count": 16,
      "outputs": []
    },
    {
      "cell_type": "code",
      "metadata": {
        "colab": {
          "base_uri": "https://localhost:8080/",
          "height": 550
        },
        "id": "XJ6Pk6Qoz7En",
        "outputId": "7c8f81ea-9163-4354-adc0-372da70a0fb1"
      },
      "source": [
        "sns.catplot(x='fam_size', kind='count', hue='Survived',\n",
        "            data=titanic, height=7)\n",
        "plt.tick_params(labelsize=12)\n",
        "plt.ylabel('Count', fontsize=14)\n",
        "plt.xlabel('fam_size', fontsize=14)\n",
        "plt.title('Survival by Title')\n",
        "plt.show()"
      ],
      "execution_count": 17,
      "outputs": [
        {
          "output_type": "display_data",
          "data": {
            "image/png": "[encoded data removed]",
            "text/plain": [
              "<Figure size 565.25x504 with 1 Axes>"
            ]
          },
          "metadata": {
            "tags": [],
            "needs_background": "light"
          }
        }
      ]
    },
    {
      "cell_type": "markdown",
      "metadata": {
        "id": "2cvwZWu12Yqv"
      },
      "source": [
        "ML을 위한 전처리"
      ]
    },
    {
      "cell_type": "code",
      "metadata": {
        "id": "3d9wZ2f52XJJ"
      },
      "source": [
        "# 텍스트 데이터 삭제\n",
        "titanic = titanic.drop(['Name','Ticket','Cabin', 'Embarked','title'], axis=1)"
      ],
      "execution_count": 18,
      "outputs": []
    },
    {
      "cell_type": "code",
      "metadata": {
        "colab": {
          "base_uri": "https://localhost:8080/",
          "height": 225
        },
        "id": "4S0_q2l12oZX",
        "outputId": "e3f453c5-99a4-4a1c-8cdd-b968d0116ea9"
      },
      "source": [
        "titanic.head()"
      ],
      "execution_count": 19,
      "outputs": [
        {
          "output_type": "execute_result",
          "data": {
            "text/html": [
              "<div>\n",
              "<style scoped>\n",
              "    .dataframe tbody tr th:only-of-type {\n",
              "        vertical-align: middle;\n",
              "    }\n",
              "\n",
              "    .dataframe tbody tr th {\n",
              "        vertical-align: top;\n",
              "    }\n",
              "\n",
              "    .dataframe thead th {\n",
              "        text-align: right;\n",
              "    }\n",
              "</style>\n",
              "<table border=\"1\" class=\"dataframe\">\n",
              "  <thead>\n",
              "    <tr style=\"text-align: right;\">\n",
              "      <th></th>\n",
              "      <th>Survived</th>\n",
              "      <th>Pclass</th>\n",
              "      <th>Sex</th>\n",
              "      <th>Age</th>\n",
              "      <th>SibSp</th>\n",
              "      <th>Parch</th>\n",
              "      <th>Fare</th>\n",
              "      <th>fam_size</th>\n",
              "    </tr>\n",
              "    <tr>\n",
              "      <th>PassengerId</th>\n",
              "      <th></th>\n",
              "      <th></th>\n",
              "      <th></th>\n",
              "      <th></th>\n",
              "      <th></th>\n",
              "      <th></th>\n",
              "      <th></th>\n",
              "      <th></th>\n",
              "    </tr>\n",
              "  </thead>\n",
              "  <tbody>\n",
              "    <tr>\n",
              "      <th>1</th>\n",
              "      <td>False</td>\n",
              "      <td>3</td>\n",
              "      <td>male</td>\n",
              "      <td>22.0</td>\n",
              "      <td>1</td>\n",
              "      <td>0</td>\n",
              "      <td>7.2500</td>\n",
              "      <td>1</td>\n",
              "    </tr>\n",
              "    <tr>\n",
              "      <th>2</th>\n",
              "      <td>True</td>\n",
              "      <td>1</td>\n",
              "      <td>female</td>\n",
              "      <td>38.0</td>\n",
              "      <td>1</td>\n",
              "      <td>0</td>\n",
              "      <td>71.2833</td>\n",
              "      <td>1</td>\n",
              "    </tr>\n",
              "    <tr>\n",
              "      <th>3</th>\n",
              "      <td>True</td>\n",
              "      <td>3</td>\n",
              "      <td>female</td>\n",
              "      <td>26.0</td>\n",
              "      <td>0</td>\n",
              "      <td>0</td>\n",
              "      <td>7.9250</td>\n",
              "      <td>0</td>\n",
              "    </tr>\n",
              "    <tr>\n",
              "      <th>4</th>\n",
              "      <td>True</td>\n",
              "      <td>1</td>\n",
              "      <td>female</td>\n",
              "      <td>35.0</td>\n",
              "      <td>1</td>\n",
              "      <td>0</td>\n",
              "      <td>53.1000</td>\n",
              "      <td>1</td>\n",
              "    </tr>\n",
              "    <tr>\n",
              "      <th>5</th>\n",
              "      <td>False</td>\n",
              "      <td>3</td>\n",
              "      <td>male</td>\n",
              "      <td>35.0</td>\n",
              "      <td>0</td>\n",
              "      <td>0</td>\n",
              "      <td>8.0500</td>\n",
              "      <td>0</td>\n",
              "    </tr>\n",
              "  </tbody>\n",
              "</table>\n",
              "</div>"
            ],
            "text/plain": [
              "             Survived Pclass     Sex   Age  SibSp  Parch     Fare  fam_size\n",
              "PassengerId                                                                \n",
              "1               False      3    male  22.0      1      0   7.2500         1\n",
              "2                True      1  female  38.0      1      0  71.2833         1\n",
              "3                True      3  female  26.0      0      0   7.9250         0\n",
              "4                True      1  female  35.0      1      0  53.1000         1\n",
              "5               False      3    male  35.0      0      0   8.0500         0"
            ]
          },
          "metadata": {
            "tags": []
          },
          "execution_count": 19
        }
      ]
    },
    {
      "cell_type": "code",
      "metadata": {
        "id": "H3ZT8gqe25ee"
      },
      "source": [
        "# 여성을 1로, 남성을 0으로 처리\n",
        "tmp = []\n",
        "\n",
        "for each in titanic['Sex'] :\n",
        "  if each == 'female' :\n",
        "    tmp.append(1)\n",
        "  elif each == 'male' :\n",
        "    tmp.append(0)\n",
        "  else :\n",
        "    tmp.append(np.nan)\n",
        "\n",
        "titanic['Sex'] = tmp"
      ],
      "execution_count": 20,
      "outputs": []
    },
    {
      "cell_type": "code",
      "metadata": {
        "colab": {
          "base_uri": "https://localhost:8080/",
          "height": 225
        },
        "id": "EW8qEYdO3WGv",
        "outputId": "0dee163e-9dba-421c-bd63-983ee877c203"
      },
      "source": [
        "titanic.head()"
      ],
      "execution_count": 21,
      "outputs": [
        {
          "output_type": "execute_result",
          "data": {
            "text/html": [
              "<div>\n",
              "<style scoped>\n",
              "    .dataframe tbody tr th:only-of-type {\n",
              "        vertical-align: middle;\n",
              "    }\n",
              "\n",
              "    .dataframe tbody tr th {\n",
              "        vertical-align: top;\n",
              "    }\n",
              "\n",
              "    .dataframe thead th {\n",
              "        text-align: right;\n",
              "    }\n",
              "</style>\n",
              "<table border=\"1\" class=\"dataframe\">\n",
              "  <thead>\n",
              "    <tr style=\"text-align: right;\">\n",
              "      <th></th>\n",
              "      <th>Survived</th>\n",
              "      <th>Pclass</th>\n",
              "      <th>Sex</th>\n",
              "      <th>Age</th>\n",
              "      <th>SibSp</th>\n",
              "      <th>Parch</th>\n",
              "      <th>Fare</th>\n",
              "      <th>fam_size</th>\n",
              "    </tr>\n",
              "    <tr>\n",
              "      <th>PassengerId</th>\n",
              "      <th></th>\n",
              "      <th></th>\n",
              "      <th></th>\n",
              "      <th></th>\n",
              "      <th></th>\n",
              "      <th></th>\n",
              "      <th></th>\n",
              "      <th></th>\n",
              "    </tr>\n",
              "  </thead>\n",
              "  <tbody>\n",
              "    <tr>\n",
              "      <th>1</th>\n",
              "      <td>False</td>\n",
              "      <td>3</td>\n",
              "      <td>0</td>\n",
              "      <td>22.0</td>\n",
              "      <td>1</td>\n",
              "      <td>0</td>\n",
              "      <td>7.2500</td>\n",
              "      <td>1</td>\n",
              "    </tr>\n",
              "    <tr>\n",
              "      <th>2</th>\n",
              "      <td>True</td>\n",
              "      <td>1</td>\n",
              "      <td>1</td>\n",
              "      <td>38.0</td>\n",
              "      <td>1</td>\n",
              "      <td>0</td>\n",
              "      <td>71.2833</td>\n",
              "      <td>1</td>\n",
              "    </tr>\n",
              "    <tr>\n",
              "      <th>3</th>\n",
              "      <td>True</td>\n",
              "      <td>3</td>\n",
              "      <td>1</td>\n",
              "      <td>26.0</td>\n",
              "      <td>0</td>\n",
              "      <td>0</td>\n",
              "      <td>7.9250</td>\n",
              "      <td>0</td>\n",
              "    </tr>\n",
              "    <tr>\n",
              "      <th>4</th>\n",
              "      <td>True</td>\n",
              "      <td>1</td>\n",
              "      <td>1</td>\n",
              "      <td>35.0</td>\n",
              "      <td>1</td>\n",
              "      <td>0</td>\n",
              "      <td>53.1000</td>\n",
              "      <td>1</td>\n",
              "    </tr>\n",
              "    <tr>\n",
              "      <th>5</th>\n",
              "      <td>False</td>\n",
              "      <td>3</td>\n",
              "      <td>0</td>\n",
              "      <td>35.0</td>\n",
              "      <td>0</td>\n",
              "      <td>0</td>\n",
              "      <td>8.0500</td>\n",
              "      <td>0</td>\n",
              "    </tr>\n",
              "  </tbody>\n",
              "</table>\n",
              "</div>"
            ],
            "text/plain": [
              "             Survived Pclass  Sex   Age  SibSp  Parch     Fare  fam_size\n",
              "PassengerId                                                             \n",
              "1               False      3    0  22.0      1      0   7.2500         1\n",
              "2                True      1    1  38.0      1      0  71.2833         1\n",
              "3                True      3    1  26.0      0      0   7.9250         0\n",
              "4                True      1    1  35.0      1      0  53.1000         1\n",
              "5               False      3    0  35.0      0      0   8.0500         0"
            ]
          },
          "metadata": {
            "tags": []
          },
          "execution_count": 21
        }
      ]
    },
    {
      "cell_type": "markdown",
      "metadata": {
        "id": "Poi7Mj257gIH"
      },
      "source": [
        "데이터 형변환 및 결손 데이터 처리"
      ]
    },
    {
      "cell_type": "code",
      "metadata": {
        "id": "1OtrJjbM38pv"
      },
      "source": [
        "#데이터 형 변환 (소수점)\n",
        "titanic['Pclass'] = titanic['Pclass'].astype('float')\n",
        "titanic['Sex'] = titanic['Sex'].astype('float')\n",
        "titanic['SibSp'] = titanic['SibSp'].astype('float')\n",
        "titanic['Parch'] = titanic['Parch'].astype('float')\n",
        "titanic['Fare'] = titanic['Fare'].astype('float')\n",
        "\n",
        "#null(결손) 값인 경우 삭제\n",
        "titanic = titanic[titanic['Survived'].notnull()]\n",
        "titanic = titanic[titanic['Age'].notnull()]\n",
        "titanic = titanic[titanic['SibSp'].notnull()]\n",
        "titanic = titanic[titanic['Parch'].notnull()]\n",
        "titanic = titanic[titanic['Fare'].notnull()]"
      ],
      "execution_count": 22,
      "outputs": []
    },
    {
      "cell_type": "markdown",
      "metadata": {
        "id": "3irIkUxN73rT"
      },
      "source": [
        "데이터 분리하기 X, y"
      ]
    },
    {
      "cell_type": "code",
      "metadata": {
        "id": "r-xmq-QT72l9"
      },
      "source": [
        "titanic_labels = titanic['Survived'].copy()\n",
        "titanic = titanic.drop('Survived', axis=1)"
      ],
      "execution_count": 23,
      "outputs": []
    },
    {
      "cell_type": "markdown",
      "metadata": {
        "id": "WX8RGEkd8Kfk"
      },
      "source": [
        "train / test 분리하기"
      ]
    },
    {
      "cell_type": "code",
      "metadata": {
        "id": "rGP_1nGV8JV1"
      },
      "source": [
        "X_train, X_test, y_train, y_test = train_test_split(titanic, \n",
        "                                                    titanic_labels, \n",
        "                                                    train_size=0.8, \n",
        "                                                    random_state=500)"
      ],
      "execution_count": 144,
      "outputs": []
    },
    {
      "cell_type": "markdown",
      "metadata": {
        "id": "b215mnoa8d_s"
      },
      "source": [
        "머신 러닝 모델 구축 - 1) LogisticRegression"
      ]
    },
    {
      "cell_type": "code",
      "metadata": {
        "id": "OQQcKV7S8dkw"
      },
      "source": [
        "log_reg = LogisticRegression().fit(X_train,y_train)"
      ],
      "execution_count": 145,
      "outputs": []
    },
    {
      "cell_type": "code",
      "metadata": {
        "colab": {
          "base_uri": "https://localhost:8080/"
        },
        "id": "dcAMmDMF8hIF",
        "outputId": "b3673a23-2704-4a2f-a8c0-336f198a47b5"
      },
      "source": [
        "# 정확도 확인\n",
        "print('Train data Score :' , log_reg.score(X_train,y_train))\n",
        "print('Test data score : ' , log_reg.score(X_test,y_test))"
      ],
      "execution_count": 146,
      "outputs": [
        {
          "output_type": "stream",
          "text": [
            "Train data Score : 0.809106830122592\n",
            "Test data score :  0.8181818181818182\n"
          ],
          "name": "stdout"
        }
      ]
    },
    {
      "cell_type": "markdown",
      "metadata": {
        "id": "Qrc6L0Xx8oYQ"
      },
      "source": [
        "머신러닝 모델 구축 2) Decision Tree"
      ]
    },
    {
      "cell_type": "code",
      "metadata": {
        "id": "w1WdDpT78i6V"
      },
      "source": [
        "tree = DecisionTreeClassifier(max_depth=5,\n",
        "                              min_samples_leaf=20,\n",
        "                              min_samples_split=40).fit(X_train, y_train)"
      ],
      "execution_count": 147,
      "outputs": []
    },
    {
      "cell_type": "code",
      "metadata": {
        "colab": {
          "base_uri": "https://localhost:8080/"
        },
        "id": "bStNDAvk8tbp",
        "outputId": "93160c4d-8ea9-416d-a0a0-8f8987f66cb3"
      },
      "source": [
        "# 정확도 확인\n",
        "print('Train data Score :' , tree.score(X_train,y_train))\n",
        "print('Test data score : ' , tree.score(X_test,y_test))"
      ],
      "execution_count": 148,
      "outputs": [
        {
          "output_type": "stream",
          "text": [
            "Train data Score : 0.8143607705779334\n",
            "Test data score :  0.8321678321678322\n"
          ],
          "name": "stdout"
        }
      ]
    },
    {
      "cell_type": "markdown",
      "metadata": {
        "id": "Ti8x_K5p9gH-"
      },
      "source": [
        "머신러닝 모델 구축 3) GradientBoostingClassifier"
      ]
    },
    {
      "cell_type": "code",
      "metadata": {
        "id": "mRWy4rd28vQN"
      },
      "source": [
        "boost = GradientBoostingClassifier(max_depth=3,\n",
        "                                   learning_rate=0.05).fit(X_train,y_train)"
      ],
      "execution_count": 149,
      "outputs": []
    },
    {
      "cell_type": "code",
      "metadata": {
        "colab": {
          "base_uri": "https://localhost:8080/"
        },
        "id": "H5i97Hp79iUR",
        "outputId": "73b05ee9-cb66-4eab-cd4c-363322e1b689"
      },
      "source": [
        "# 정확도 확인\n",
        "print('Train data Score : ', boost.score(X_train, y_train))\n",
        "print('Test data Score : ', boost.score(X_test, y_test))"
      ],
      "execution_count": 150,
      "outputs": [
        {
          "output_type": "stream",
          "text": [
            "Train data Score :  0.8809106830122592\n",
            "Test data Score :  0.8391608391608392\n"
          ],
          "name": "stdout"
        }
      ]
    },
    {
      "cell_type": "markdown",
      "metadata": {
        "id": "FexH-Ffy9lJ2"
      },
      "source": [
        "머신러닝 모델 구축 4) RandomForestClassifier"
      ]
    },
    {
      "cell_type": "code",
      "metadata": {
        "id": "OE1Wbr4W9jsK"
      },
      "source": [
        "random = RandomForestClassifier(n_estimators=300,\n",
        "                                   random_state=0).fit(X_train,y_train)"
      ],
      "execution_count": 151,
      "outputs": []
    },
    {
      "cell_type": "code",
      "metadata": {
        "colab": {
          "base_uri": "https://localhost:8080/"
        },
        "id": "eeU_TU_69zHU",
        "outputId": "5f83f1f1-09ca-425d-dfb4-2dad8f7b6cbf"
      },
      "source": [
        "# 정확도 확인\n",
        "print('Train data Score : ', random.score(X_train, y_train))\n",
        "print('Test data Score : ', random.score(X_test, y_test))"
      ],
      "execution_count": 152,
      "outputs": [
        {
          "output_type": "stream",
          "text": [
            "Train data Score :  0.989492119089317\n",
            "Test data Score :  0.7902097902097902\n"
          ],
          "name": "stdout"
        }
      ]
    },
    {
      "cell_type": "markdown",
      "metadata": {
        "id": "-eKlYAa2At3d"
      },
      "source": [
        "성능평가 - ROC 커브"
      ]
    },
    {
      "cell_type": "code",
      "metadata": {
        "id": "tXQ7xGdl92Ju"
      },
      "source": [
        "# ROC curve 함수\n",
        "def plot_auc_roc(model):\n",
        "    probs = model.predict_proba(X_test)\n",
        "    preds = probs[:,1]\n",
        "    fpr, tpr, threshold = metrics.roc_curve(y_test, preds)\n",
        "    roc_auc = metrics.auc(fpr, tpr)\n",
        "\n",
        "    # method I: plt\n",
        "    import matplotlib.pyplot as plt\n",
        "    plt.title('Receiver Operating Characteristic')\n",
        "    plt.plot(fpr, tpr, 'b', label = 'AUC = %0.2f' % roc_auc)\n",
        "    plt.legend(loc = 'lower right')\n",
        "    plt.plot([0, 1], [0, 1],'r--')\n",
        "    plt.xlim([0, 1])\n",
        "    plt.ylim([0, 1])\n",
        "    plt.ylabel('True Positive Rate')\n",
        "    plt.xlabel('False Positive Rate')\n",
        "    plt.show()"
      ],
      "execution_count": 153,
      "outputs": []
    },
    {
      "cell_type": "code",
      "metadata": {
        "colab": {
          "base_uri": "https://localhost:8080/",
          "height": 295
        },
        "id": "YPPJCs5HAzOV",
        "outputId": "a00d89a7-aa5e-4c01-9158-dde11883d3fa"
      },
      "source": [
        "# Logistic Regression ROC\n",
        "plot_auc_roc(log_reg)"
      ],
      "execution_count": 154,
      "outputs": [
        {
          "output_type": "display_data",
          "data": {
            "image/png": "[encoded data removed]",
            "text/plain": [
              "<Figure size 432x288 with 1 Axes>"
            ]
          },
          "metadata": {
            "tags": [],
            "needs_background": "light"
          }
        }
      ]
    },
    {
      "cell_type": "code",
      "metadata": {
        "colab": {
          "base_uri": "https://localhost:8080/",
          "height": 295
        },
        "id": "lB_--cBjA05T",
        "outputId": "34073081-8ca0-4d55-8af4-71cc6fdbeb2e"
      },
      "source": [
        "# Decision Tree ROC\n",
        "plot_auc_roc(tree)"
      ],
      "execution_count": 155,
      "outputs": [
        {
          "output_type": "display_data",
          "data": {
            "image/png": "[encoded data removed]",
            "text/plain": [
              "<Figure size 432x288 with 1 Axes>"
            ]
          },
          "metadata": {
            "tags": [],
            "needs_background": "light"
          }
        }
      ]
    },
    {
      "cell_type": "code",
      "metadata": {
        "colab": {
          "base_uri": "https://localhost:8080/",
          "height": 295
        },
        "id": "O3jGmdbqA3Uo",
        "outputId": "431636f3-143c-420a-af6a-e1d0fdecabb5"
      },
      "source": [
        "# GradientBoosingClassifier ROC\n",
        "plot_auc_roc(boost)"
      ],
      "execution_count": 156,
      "outputs": [
        {
          "output_type": "display_data",
          "data": {
            "image/png": "[encoded data removed]",
            "text/plain": [
              "<Figure size 432x288 with 1 Axes>"
            ]
          },
          "metadata": {
            "tags": [],
            "needs_background": "light"
          }
        }
      ]
    },
    {
      "cell_type": "code",
      "metadata": {
        "colab": {
          "base_uri": "https://localhost:8080/",
          "height": 295
        },
        "id": "EKXrdtriA4__",
        "outputId": "99613029-affb-4a99-9941-5f80b5cc7b8c"
      },
      "source": [
        "# RandomForestClassifier ROC\n",
        "plot_auc_roc(random)"
      ],
      "execution_count": 157,
      "outputs": [
        {
          "output_type": "display_data",
          "data": {
            "image/png": "[encoded data removed]",
            "text/plain": [
              "<Figure size 432x288 with 1 Axes>"
            ]
          },
          "metadata": {
            "tags": [],
            "needs_background": "light"
          }
        }
      ]
    },
    {
      "cell_type": "markdown",
      "metadata": {
        "id": "7mdj2Aa-ByW1"
      },
      "source": [
        "성능평가 - 평가지표(classification_report)"
      ]
    },
    {
      "cell_type": "code",
      "metadata": {
        "colab": {
          "base_uri": "https://localhost:8080/"
        },
        "id": "4GuI9y0zCm3r",
        "outputId": "38c5fdb7-8acb-4a77-c46d-a8f5439ab91f"
      },
      "source": [
        "# Logistic Regression 평가 지표\n",
        "lg_y_hat = log_reg.predict(X_test)\n",
        "lg_report = metrics.classification_report(y_test, lg_y_hat)\n",
        "print('Logistic Regression 평가 지표')\n",
        "print(lg_report)\n",
        "print('accuracy', metrics.accuracy_score(y_test,lg_y_hat) )\n",
        "print('precision', metrics.precision_score(y_test,lg_y_hat) )\n",
        "print('recall', metrics.recall_score(y_test,lg_y_hat) )\n",
        "print('f1', metrics.f1_score(y_test,lg_y_hat) )"
      ],
      "execution_count": 158,
      "outputs": [
        {
          "output_type": "stream",
          "text": [
            "Logistic Regression 평가 지표\n",
            "              precision    recall  f1-score   support\n",
            "\n",
            "       False       0.89      0.83      0.86        94\n",
            "        True       0.71      0.80      0.75        49\n",
            "\n",
            "    accuracy                           0.82       143\n",
            "   macro avg       0.80      0.81      0.80       143\n",
            "weighted avg       0.83      0.82      0.82       143\n",
            "\n",
            "accuracy 0.8181818181818182\n",
            "precision 0.7090909090909091\n",
            "recall 0.7959183673469388\n",
            "f1 0.75\n"
          ],
          "name": "stdout"
        }
      ]
    },
    {
      "cell_type": "code",
      "metadata": {
        "colab": {
          "base_uri": "https://localhost:8080/"
        },
        "id": "qUVV2lccCoFd",
        "outputId": "0a94d157-456a-41fc-a5e8-4a7d0b7d37a4"
      },
      "source": [
        "# Decision Tree 평가 지표\n",
        "tree_y_hat = tree.predict(X_test)\n",
        "tree_report = metrics.classification_report(y_test, tree_y_hat)\n",
        "print('Logistic Regression 평가 지표')\n",
        "print(tree_report)\n",
        "print('accuracy', metrics.accuracy_score(y_test,tree_y_hat) )\n",
        "print('precision', metrics.precision_score(y_test,tree_y_hat) )\n",
        "print('recall', metrics.recall_score(y_test,tree_y_hat) )\n",
        "print('f1', metrics.f1_score(y_test,tree_y_hat) )"
      ],
      "execution_count": 159,
      "outputs": [
        {
          "output_type": "stream",
          "text": [
            "Logistic Regression 평가 지표\n",
            "              precision    recall  f1-score   support\n",
            "\n",
            "       False       0.89      0.85      0.87        94\n",
            "        True       0.74      0.80      0.76        49\n",
            "\n",
            "    accuracy                           0.83       143\n",
            "   macro avg       0.81      0.82      0.82       143\n",
            "weighted avg       0.84      0.83      0.83       143\n",
            "\n",
            "accuracy 0.8321678321678322\n",
            "precision 0.7358490566037735\n",
            "recall 0.7959183673469388\n",
            "f1 0.7647058823529412\n"
          ],
          "name": "stdout"
        }
      ]
    },
    {
      "cell_type": "code",
      "metadata": {
        "colab": {
          "base_uri": "https://localhost:8080/"
        },
        "id": "D3eB6ZpoCqRi",
        "outputId": "aac04011-53e9-4c89-d1b0-8e176d34ec25"
      },
      "source": [
        "# GradientBoosingClassifier 평가 지표\n",
        "boost_y_hat = boost.predict(X_test)\n",
        "boost_report = metrics.classification_report(y_test, boost_y_hat)\n",
        "print('GradientBoosingClassifier 평가 지표')\n",
        "print(boost_report)\n",
        "print('accuracy', metrics.accuracy_score(y_test,boost_y_hat) )\n",
        "print('precision', metrics.precision_score(y_test,boost_y_hat) )\n",
        "print('recall', metrics.recall_score(y_test,boost_y_hat) )\n",
        "print('f1', metrics.f1_score(y_test,boost_y_hat) )"
      ],
      "execution_count": 160,
      "outputs": [
        {
          "output_type": "stream",
          "text": [
            "GradientBoosingClassifier 평가 지표\n",
            "              precision    recall  f1-score   support\n",
            "\n",
            "       False       0.88      0.87      0.88        94\n",
            "        True       0.76      0.78      0.77        49\n",
            "\n",
            "    accuracy                           0.84       143\n",
            "   macro avg       0.82      0.82      0.82       143\n",
            "weighted avg       0.84      0.84      0.84       143\n",
            "\n",
            "accuracy 0.8391608391608392\n",
            "precision 0.76\n",
            "recall 0.7755102040816326\n",
            "f1 0.7676767676767676\n"
          ],
          "name": "stdout"
        }
      ]
    },
    {
      "cell_type": "code",
      "metadata": {
        "colab": {
          "base_uri": "https://localhost:8080/"
        },
        "id": "KQ8cC3LICs21",
        "outputId": "ea9339e2-3c15-43e3-8e9b-d23869314668"
      },
      "source": [
        "# RandomForestClassifier 평가 지표\n",
        "random_y_hat = random.predict(X_test)\n",
        "random_report = metrics.classification_report(y_test, random_y_hat)\n",
        "print('GradientBoosingClassifier 평가 지표')\n",
        "print(boost_report)\n",
        "print('accuracy', metrics.accuracy_score(y_test,random_y_hat) )\n",
        "print('precision', metrics.precision_score(y_test,random_y_hat) )\n",
        "print('recall', metrics.recall_score(y_test,random_y_hat) )\n",
        "print('f1', metrics.f1_score(y_test,random_y_hat) )"
      ],
      "execution_count": 161,
      "outputs": [
        {
          "output_type": "stream",
          "text": [
            "GradientBoosingClassifier 평가 지표\n",
            "              precision    recall  f1-score   support\n",
            "\n",
            "       False       0.88      0.87      0.88        94\n",
            "        True       0.76      0.78      0.77        49\n",
            "\n",
            "    accuracy                           0.84       143\n",
            "   macro avg       0.82      0.82      0.82       143\n",
            "weighted avg       0.84      0.84      0.84       143\n",
            "\n",
            "accuracy 0.7902097902097902\n",
            "precision 0.6557377049180327\n",
            "recall 0.8163265306122449\n",
            "f1 0.7272727272727273\n"
          ],
          "name": "stdout"
        }
      ]
    },
    {
      "cell_type": "markdown",
      "metadata": {
        "id": "eeAJq6DQB88q"
      },
      "source": [
        "성능평가 - precision_score, recall_score 각 모델별로 추출한 후 그래프로 시각화"
      ]
    },
    {
      "cell_type": "code",
      "metadata": {
        "id": "kzi7Gk0DDdbP"
      },
      "source": [
        "precision_list = []\n",
        "recall_list = []\n",
        "\n",
        "precision_list.append(metrics.precision_score(y_test, lg_y_hat))\n",
        "recall_list.append(metrics.recall_score(y_test, lg_y_hat))\n",
        "\n",
        "precision_list.append(metrics.precision_score(y_test, tree_y_hat))\n",
        "recall_list.append(metrics.recall_score(y_test, tree_y_hat))\n",
        "\n",
        "precision_list.append(metrics.precision_score(y_test, boost_y_hat))\n",
        "recall_list.append(metrics.recall_score(y_test, boost_y_hat))\n",
        "\n",
        "precision_list.append(metrics.precision_score(y_test, random_y_hat))\n",
        "recall_list.append(metrics.recall_score(y_test, random_y_hat))"
      ],
      "execution_count": 162,
      "outputs": []
    },
    {
      "cell_type": "code",
      "metadata": {
        "colab": {
          "base_uri": "https://localhost:8080/",
          "height": 265
        },
        "id": "d7Gi9yKPBBNj",
        "outputId": "226989cb-19b9-4f15-d271-bc2b6f9f8794"
      },
      "source": [
        "plt.plot(['lg', 'tree', 'boost', 'random'], precision_list, label='precision')\n",
        "plt.plot(['lg', 'tree', 'boost', 'random'], recall_list, label='recall')\n",
        "plt.legend()\n",
        "plt.show()\n",
        "# 사망, 진료 등은 recall (오진단 시 critical할 경우), 추천 알고리즘은 precision\n",
        "# 그러므로 RandomforestClassifier가 가장 적합한 모델 (F1 score는 Boosting이 좋음)"
      ],
      "execution_count": 163,
      "outputs": [
        {
          "output_type": "display_data",
          "data": {
            "image/png": "[encoded data removed]",
            "text/plain": [
              "<Figure size 432x288 with 1 Axes>"
            ]
          },
          "metadata": {
            "tags": [],
            "needs_background": "light"
          }
        }
      ]
    }
  ]
}