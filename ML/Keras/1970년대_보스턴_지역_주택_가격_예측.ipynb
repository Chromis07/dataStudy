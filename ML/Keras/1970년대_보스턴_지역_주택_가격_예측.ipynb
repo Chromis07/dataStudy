{
  "nbformat": 4,
  "nbformat_minor": 0,
  "metadata": {
    "colab": {
      "name": "1970년대 보스턴 지역 주택 가격 예측.ipynb",
      "provenance": [],
      "collapsed_sections": [],
      "authorship_tag": "ABX9TyNz7QmXo0YZVjxi+riPmayE",
      "include_colab_link": true
    },
    "kernelspec": {
      "name": "python3",
      "display_name": "Python 3"
    },
    "language_info": {
      "name": "python"
    }
  },
  "cells": [
    {
      "cell_type": "markdown",
      "metadata": {
        "id": "view-in-github",
        "colab_type": "text"
      },
      "source": [
        "<a href=\"https://colab.research.google.com/github/Chromis07/dataStudy/blob/main/ML/Keras/1970%EB%85%84%EB%8C%80_%EB%B3%B4%EC%8A%A4%ED%84%B4_%EC%A7%80%EC%97%AD_%EC%A3%BC%ED%83%9D_%EA%B0%80%EA%B2%A9_%EC%98%88%EC%B8%A1.ipynb\" target=\"_parent\"><img src=\"https://colab.research.google.com/assets/colab-badge.svg\" alt=\"Open In Colab\"/></a>"
      ]
    },
    {
      "cell_type": "markdown",
      "metadata": {
        "id": "1uTtnQ74i1l-"
      },
      "source": [
        "1970년대 보스턴 지역 주택 가격 예측 -> 회귀"
      ]
    },
    {
      "cell_type": "markdown",
      "metadata": {
        "id": "YKqedy6Li_1J"
      },
      "source": [
        "데이터 준비하기"
      ]
    },
    {
      "cell_type": "code",
      "metadata": {
        "colab": {
          "base_uri": "https://localhost:8080/"
        },
        "id": "sVuAXRRuhuzN",
        "outputId": "ff1cf9d5-b955-45e6-a9d0-c39aba8cd719"
      },
      "source": [
        "from tensorflow.keras.datasets.boston_housing import load_data\n",
        "\n",
        "(x_train, y_train), (x_test, y_test) = load_data(path='boston_housing.npz',\n",
        "                                                 test_split=0.2,\n",
        "                                                 seed=777)"
      ],
      "execution_count": 2,
      "outputs": [
        {
          "output_type": "stream",
          "text": [
            "Downloading data from https://storage.googleapis.com/tensorflow/tf-keras-datasets/boston_housing.npz\n",
            "57344/57026 [==============================] - 0s 0us/step\n"
          ],
          "name": "stdout"
        }
      ]
    },
    {
      "cell_type": "code",
      "metadata": {
        "colab": {
          "base_uri": "https://localhost:8080/"
        },
        "id": "jzzDjOJajWqr",
        "outputId": "f2236cfd-c40c-4a20-b4dc-8610839a704d"
      },
      "source": [
        "# training data\n",
        "print(x_train.shape, y_train.shape)\n",
        "print(x_test.shape, y_test.shape)"
      ],
      "execution_count": 3,
      "outputs": [
        {
          "output_type": "stream",
          "text": [
            "(404, 13) (404,)\n",
            "(102, 13) (102,)\n"
          ],
          "name": "stdout"
        }
      ]
    },
    {
      "cell_type": "markdown",
      "metadata": {
        "id": "Ys-mER6kkKn-"
      },
      "source": [
        "데이터 전처리 및 검증 데이터셋 만들기"
      ]
    },
    {
      "cell_type": "code",
      "metadata": {
        "colab": {
          "base_uri": "https://localhost:8080/"
        },
        "id": "uRNPOISCjvkp",
        "outputId": "8d590d6e-471f-4c55-c820-752c5872b520"
      },
      "source": [
        "import numpy as np\n",
        "np.set_printoptions(suppress=True)\n",
        "\n",
        "print(x_train[0])"
      ],
      "execution_count": 4,
      "outputs": [
        {
          "output_type": "stream",
          "text": [
            "[  0.25199   0.       10.59      0.        0.489     5.783    72.7\n",
            "   4.3549    4.      277.       18.6     389.43     18.06   ]\n"
          ],
          "name": "stdout"
        }
      ]
    },
    {
      "cell_type": "code",
      "metadata": {
        "colab": {
          "base_uri": "https://localhost:8080/"
        },
        "id": "4hxIUu2mkWfw",
        "outputId": "9178245b-68ca-43c5-cfae-91070a22d20d"
      },
      "source": [
        "# 데이터 전처리 -> 표준화(Standardization)\n",
        "\n",
        "mean = np.mean(x_train, axis=0)\n",
        "std = np.std(x_train, axis=0)\n",
        "\n",
        "# (데이터(train, test 모두) - 평균) / 표준편차 (Standardization)\n",
        "x_train = (x_train - mean) / std\n",
        "x_test = (x_test - mean) / std\n",
        "\n",
        "print(x_train[0])"
      ],
      "execution_count": 7,
      "outputs": [
        {
          "output_type": "stream",
          "text": [
            "[-0.40102395 -0.48033655 -0.12089418 -0.28828791 -0.58254176 -0.68137272\n",
            "  0.11117586  0.26484408 -0.65187119 -0.80249043  0.0756568   0.37366783\n",
            "  0.69211835]\n"
          ],
          "name": "stdout"
        }
      ]
    },
    {
      "cell_type": "code",
      "metadata": {
        "id": "uSc-Re2ckiCp"
      },
      "source": [
        "from sklearn.model_selection import train_test_split\n",
        "\n",
        "# train / validation 데이터를 6:3 비율로 분리\n",
        "x_train, x_val, y_train, y_val = train_test_split(x_train, y_train,\n",
        "                                                  test_size=0.33,\n",
        "                                                  random_state=777)"
      ],
      "execution_count": 8,
      "outputs": []
    },
    {
      "cell_type": "code",
      "metadata": {
        "colab": {
          "base_uri": "https://localhost:8080/"
        },
        "id": "MW_DkChRlJfA",
        "outputId": "5d260ef1-e780-437f-bb57-6d491d422196"
      },
      "source": [
        "print(x_train.shape, x_val.shape)"
      ],
      "execution_count": 9,
      "outputs": [
        {
          "output_type": "stream",
          "text": [
            "(270, 13) (134, 13)\n"
          ],
          "name": "stdout"
        }
      ]
    },
    {
      "cell_type": "markdown",
      "metadata": {
        "id": "Ahx0-tr8mGmR"
      },
      "source": [
        "모델 구성하기"
      ]
    },
    {
      "cell_type": "code",
      "metadata": {
        "id": "cdUPW20glOw5"
      },
      "source": [
        "from tensorflow.keras.models import Sequential\n",
        "from tensorflow.keras.layers import Dense\n",
        "\n",
        "model = Sequential()\n",
        "model.add(Dense(64, activation='relu', input_shape=(13,)))\n",
        "model.add(Dense(32, activation='relu'))\n",
        "model.add(Dense(1))  # 하나의 값을 출력 -> 주택 가격\n",
        "# 활성 함수의 기본값은 linear이기 때문에 적지 않아도 무방"
      ],
      "execution_count": 26,
      "outputs": []
    },
    {
      "cell_type": "markdown",
      "metadata": {
        "id": "V_PervxMm4Fa"
      },
      "source": [
        "모델 설정하기"
      ]
    },
    {
      "cell_type": "code",
      "metadata": {
        "id": "DLrmjU0Xm5Ga"
      },
      "source": [
        "model.compile(optimizer='adam', loss='mse', metrics=['mae','mse'])"
      ],
      "execution_count": 29,
      "outputs": []
    },
    {
      "cell_type": "markdown",
      "metadata": {
        "id": "AzCLvt90owha"
      },
      "source": [
        "모델 학습하기"
      ]
    },
    {
      "cell_type": "code",
      "metadata": {
        "colab": {
          "base_uri": "https://localhost:8080/"
        },
        "id": "d7GwDjWeox_P",
        "outputId": "b6814948-0325-43b9-c635-236e134cdb2d"
      },
      "source": [
        "# 모델 학습하기\n",
        "history = model.fit(x_train,y_train,\n",
        "                    epochs = 300,\n",
        "                    validation_data = (x_val, y_val))"
      ],
      "execution_count": 30,
      "outputs": [
        {
          "output_type": "stream",
          "text": [
            "Epoch 1/300\n",
            "9/9 [==============================] - 1s 49ms/step - loss: 546.4070 - mae: 21.6711 - mse: 546.4070 - val_loss: 596.7136 - val_mae: 22.1267 - val_mse: 596.7136\n",
            "Epoch 2/300\n",
            "9/9 [==============================] - 0s 4ms/step - loss: 522.0996 - mae: 21.0719 - mse: 522.0996 - val_loss: 571.7101 - val_mae: 21.5473 - val_mse: 571.7101\n",
            "Epoch 3/300\n",
            "9/9 [==============================] - 0s 5ms/step - loss: 498.2575 - mae: 20.4905 - mse: 498.2575 - val_loss: 545.3220 - val_mae: 20.9124 - val_mse: 545.3220\n",
            "Epoch 4/300\n",
            "9/9 [==============================] - 0s 4ms/step - loss: 471.9757 - mae: 19.8103 - mse: 471.9757 - val_loss: 513.8603 - val_mae: 20.1342 - val_mse: 513.8603\n",
            "Epoch 5/300\n",
            "9/9 [==============================] - 0s 5ms/step - loss: 439.5785 - mae: 18.9788 - mse: 439.5785 - val_loss: 475.4886 - val_mae: 19.1393 - val_mse: 475.4886\n",
            "Epoch 6/300\n",
            "9/9 [==============================] - 0s 4ms/step - loss: 400.1640 - mae: 17.9630 - mse: 400.1640 - val_loss: 427.9099 - val_mae: 17.8466 - val_mse: 427.9099\n",
            "Epoch 7/300\n",
            "9/9 [==============================] - 0s 5ms/step - loss: 353.0292 - mae: 16.6941 - mse: 353.0292 - val_loss: 371.2809 - val_mae: 16.3220 - val_mse: 371.2809\n",
            "Epoch 8/300\n",
            "9/9 [==============================] - 0s 4ms/step - loss: 296.7760 - mae: 15.1487 - mse: 296.7760 - val_loss: 309.5515 - val_mae: 14.6706 - val_mse: 309.5515\n",
            "Epoch 9/300\n",
            "9/9 [==============================] - 0s 6ms/step - loss: 237.2594 - mae: 13.3603 - mse: 237.2594 - val_loss: 245.8042 - val_mae: 12.9432 - val_mse: 245.8042\n",
            "Epoch 10/300\n",
            "9/9 [==============================] - 0s 4ms/step - loss: 180.1715 - mae: 11.4270 - mse: 180.1715 - val_loss: 184.4552 - val_mae: 11.0314 - val_mse: 184.4552\n",
            "Epoch 11/300\n",
            "9/9 [==============================] - 0s 5ms/step - loss: 127.9222 - mae: 9.4079 - mse: 127.9222 - val_loss: 134.4761 - val_mae: 9.2038 - val_mse: 134.4761\n",
            "Epoch 12/300\n",
            "9/9 [==============================] - 0s 5ms/step - loss: 88.1679 - mae: 7.6215 - mse: 88.1679 - val_loss: 98.7597 - val_mae: 7.6946 - val_mse: 98.7597\n",
            "Epoch 13/300\n",
            "9/9 [==============================] - 0s 4ms/step - loss: 62.5338 - mae: 6.2909 - mse: 62.5338 - val_loss: 76.5938 - val_mae: 6.6576 - val_mse: 76.5938\n",
            "Epoch 14/300\n",
            "9/9 [==============================] - 0s 5ms/step - loss: 49.4823 - mae: 5.5098 - mse: 49.4823 - val_loss: 63.1598 - val_mae: 5.9628 - val_mse: 63.1598\n",
            "Epoch 15/300\n",
            "9/9 [==============================] - 0s 7ms/step - loss: 40.9527 - mae: 4.9447 - mse: 40.9527 - val_loss: 54.5580 - val_mae: 5.4594 - val_mse: 54.5580\n",
            "Epoch 16/300\n",
            "9/9 [==============================] - 0s 5ms/step - loss: 35.1613 - mae: 4.5359 - mse: 35.1613 - val_loss: 48.0964 - val_mae: 5.0820 - val_mse: 48.0964\n",
            "Epoch 17/300\n",
            "9/9 [==============================] - 0s 7ms/step - loss: 30.7015 - mae: 4.1917 - mse: 30.7015 - val_loss: 43.0785 - val_mae: 4.7702 - val_mse: 43.0785\n",
            "Epoch 18/300\n",
            "9/9 [==============================] - 0s 4ms/step - loss: 27.1784 - mae: 3.8924 - mse: 27.1784 - val_loss: 39.3528 - val_mae: 4.5147 - val_mse: 39.3528\n",
            "Epoch 19/300\n",
            "9/9 [==============================] - 0s 5ms/step - loss: 24.7988 - mae: 3.6745 - mse: 24.7988 - val_loss: 36.5988 - val_mae: 4.3243 - val_mse: 36.5988\n",
            "Epoch 20/300\n",
            "9/9 [==============================] - 0s 7ms/step - loss: 23.0276 - mae: 3.5112 - mse: 23.0276 - val_loss: 34.3161 - val_mae: 4.1834 - val_mse: 34.3161\n",
            "Epoch 21/300\n",
            "9/9 [==============================] - 0s 7ms/step - loss: 21.8056 - mae: 3.3946 - mse: 21.8056 - val_loss: 32.5039 - val_mae: 4.0866 - val_mse: 32.5039\n",
            "Epoch 22/300\n",
            "9/9 [==============================] - 0s 5ms/step - loss: 21.0360 - mae: 3.3294 - mse: 21.0360 - val_loss: 31.1466 - val_mae: 4.0078 - val_mse: 31.1466\n",
            "Epoch 23/300\n",
            "9/9 [==============================] - 0s 5ms/step - loss: 20.0941 - mae: 3.2358 - mse: 20.0941 - val_loss: 30.4320 - val_mae: 3.9312 - val_mse: 30.4320\n",
            "Epoch 24/300\n",
            "9/9 [==============================] - 0s 5ms/step - loss: 19.5545 - mae: 3.1569 - mse: 19.5545 - val_loss: 29.6301 - val_mae: 3.8473 - val_mse: 29.6301\n",
            "Epoch 25/300\n",
            "9/9 [==============================] - 0s 4ms/step - loss: 19.0172 - mae: 3.0992 - mse: 19.0172 - val_loss: 29.0352 - val_mae: 3.8166 - val_mse: 29.0352\n",
            "Epoch 26/300\n",
            "9/9 [==============================] - 0s 6ms/step - loss: 18.4915 - mae: 3.0483 - mse: 18.4915 - val_loss: 28.3366 - val_mae: 3.7658 - val_mse: 28.3366\n",
            "Epoch 27/300\n",
            "9/9 [==============================] - 0s 4ms/step - loss: 18.0701 - mae: 2.9985 - mse: 18.0701 - val_loss: 27.7545 - val_mae: 3.7141 - val_mse: 27.7545\n",
            "Epoch 28/300\n",
            "9/9 [==============================] - 0s 7ms/step - loss: 17.6878 - mae: 2.9579 - mse: 17.6878 - val_loss: 27.1326 - val_mae: 3.6788 - val_mse: 27.1326\n",
            "Epoch 29/300\n",
            "9/9 [==============================] - 0s 5ms/step - loss: 17.3285 - mae: 2.9220 - mse: 17.3285 - val_loss: 26.6318 - val_mae: 3.6326 - val_mse: 26.6318\n",
            "Epoch 30/300\n",
            "9/9 [==============================] - 0s 6ms/step - loss: 16.9754 - mae: 2.8800 - mse: 16.9754 - val_loss: 26.3613 - val_mae: 3.6093 - val_mse: 26.3613\n",
            "Epoch 31/300\n",
            "9/9 [==============================] - 0s 5ms/step - loss: 16.7493 - mae: 2.8723 - mse: 16.7493 - val_loss: 26.0597 - val_mae: 3.6404 - val_mse: 26.0597\n",
            "Epoch 32/300\n",
            "9/9 [==============================] - 0s 4ms/step - loss: 16.4201 - mae: 2.8490 - mse: 16.4201 - val_loss: 25.5635 - val_mae: 3.5985 - val_mse: 25.5635\n",
            "Epoch 33/300\n",
            "9/9 [==============================] - 0s 5ms/step - loss: 16.1849 - mae: 2.8116 - mse: 16.1849 - val_loss: 25.4100 - val_mae: 3.5525 - val_mse: 25.4100\n",
            "Epoch 34/300\n",
            "9/9 [==============================] - 0s 4ms/step - loss: 15.8503 - mae: 2.7952 - mse: 15.8503 - val_loss: 24.8483 - val_mae: 3.5443 - val_mse: 24.8483\n",
            "Epoch 35/300\n",
            "9/9 [==============================] - 0s 6ms/step - loss: 15.6495 - mae: 2.7961 - mse: 15.6495 - val_loss: 24.2934 - val_mae: 3.5470 - val_mse: 24.2934\n",
            "Epoch 36/300\n",
            "9/9 [==============================] - 0s 5ms/step - loss: 15.4424 - mae: 2.7742 - mse: 15.4424 - val_loss: 24.2409 - val_mae: 3.4979 - val_mse: 24.2409\n",
            "Epoch 37/300\n",
            "9/9 [==============================] - 0s 5ms/step - loss: 15.1255 - mae: 2.7312 - mse: 15.1255 - val_loss: 23.8324 - val_mae: 3.4554 - val_mse: 23.8324\n",
            "Epoch 38/300\n",
            "9/9 [==============================] - 0s 5ms/step - loss: 14.8793 - mae: 2.7054 - mse: 14.8793 - val_loss: 23.4456 - val_mae: 3.4289 - val_mse: 23.4456\n",
            "Epoch 39/300\n",
            "9/9 [==============================] - 0s 6ms/step - loss: 14.7053 - mae: 2.6838 - mse: 14.7053 - val_loss: 23.1143 - val_mae: 3.3796 - val_mse: 23.1143\n",
            "Epoch 40/300\n",
            "9/9 [==============================] - 0s 5ms/step - loss: 14.5295 - mae: 2.6668 - mse: 14.5295 - val_loss: 22.8510 - val_mae: 3.3801 - val_mse: 22.8510\n",
            "Epoch 41/300\n",
            "9/9 [==============================] - 0s 7ms/step - loss: 14.3195 - mae: 2.6464 - mse: 14.3195 - val_loss: 22.6479 - val_mae: 3.3464 - val_mse: 22.6479\n",
            "Epoch 42/300\n",
            "9/9 [==============================] - 0s 5ms/step - loss: 14.1897 - mae: 2.6243 - mse: 14.1897 - val_loss: 22.2716 - val_mae: 3.3090 - val_mse: 22.2716\n",
            "Epoch 43/300\n",
            "9/9 [==============================] - 0s 5ms/step - loss: 13.9745 - mae: 2.6020 - mse: 13.9745 - val_loss: 22.1790 - val_mae: 3.3290 - val_mse: 22.1790\n",
            "Epoch 44/300\n",
            "9/9 [==============================] - 0s 7ms/step - loss: 13.8606 - mae: 2.5946 - mse: 13.8606 - val_loss: 21.9788 - val_mae: 3.3217 - val_mse: 21.9788\n",
            "Epoch 45/300\n",
            "9/9 [==============================] - 0s 5ms/step - loss: 13.6072 - mae: 2.5757 - mse: 13.6072 - val_loss: 21.6346 - val_mae: 3.2963 - val_mse: 21.6346\n",
            "Epoch 46/300\n",
            "9/9 [==============================] - 0s 7ms/step - loss: 13.4775 - mae: 2.5646 - mse: 13.4775 - val_loss: 21.5088 - val_mae: 3.2774 - val_mse: 21.5088\n",
            "Epoch 47/300\n",
            "9/9 [==============================] - 0s 5ms/step - loss: 13.4526 - mae: 2.5483 - mse: 13.4526 - val_loss: 21.4395 - val_mae: 3.2208 - val_mse: 21.4395\n",
            "Epoch 48/300\n",
            "9/9 [==============================] - 0s 5ms/step - loss: 13.2124 - mae: 2.5262 - mse: 13.2124 - val_loss: 21.0275 - val_mae: 3.2464 - val_mse: 21.0275\n",
            "Epoch 49/300\n",
            "9/9 [==============================] - 0s 6ms/step - loss: 13.1172 - mae: 2.5320 - mse: 13.1172 - val_loss: 20.7149 - val_mae: 3.2409 - val_mse: 20.7149\n",
            "Epoch 50/300\n",
            "9/9 [==============================] - 0s 4ms/step - loss: 12.8446 - mae: 2.5039 - mse: 12.8446 - val_loss: 20.6130 - val_mae: 3.1807 - val_mse: 20.6130\n",
            "Epoch 51/300\n",
            "9/9 [==============================] - 0s 5ms/step - loss: 12.7576 - mae: 2.4759 - mse: 12.7576 - val_loss: 20.6182 - val_mae: 3.1515 - val_mse: 20.6182\n",
            "Epoch 52/300\n",
            "9/9 [==============================] - 0s 5ms/step - loss: 12.6867 - mae: 2.4571 - mse: 12.6867 - val_loss: 20.6496 - val_mae: 3.1653 - val_mse: 20.6496\n",
            "Epoch 53/300\n",
            "9/9 [==============================] - 0s 5ms/step - loss: 12.5034 - mae: 2.4438 - mse: 12.5034 - val_loss: 20.1676 - val_mae: 3.1745 - val_mse: 20.1676\n",
            "Epoch 54/300\n",
            "9/9 [==============================] - 0s 7ms/step - loss: 12.3960 - mae: 2.4428 - mse: 12.3960 - val_loss: 19.8352 - val_mae: 3.1424 - val_mse: 19.8352\n",
            "Epoch 55/300\n",
            "9/9 [==============================] - 0s 6ms/step - loss: 12.2932 - mae: 2.4236 - mse: 12.2932 - val_loss: 19.9657 - val_mae: 3.1230 - val_mse: 19.9657\n",
            "Epoch 56/300\n",
            "9/9 [==============================] - 0s 6ms/step - loss: 12.1756 - mae: 2.4140 - mse: 12.1756 - val_loss: 19.8395 - val_mae: 3.1294 - val_mse: 19.8395\n",
            "Epoch 57/300\n",
            "9/9 [==============================] - 0s 6ms/step - loss: 12.0979 - mae: 2.3996 - mse: 12.0979 - val_loss: 19.6889 - val_mae: 3.0949 - val_mse: 19.6889\n",
            "Epoch 58/300\n",
            "9/9 [==============================] - 0s 5ms/step - loss: 11.9983 - mae: 2.3921 - mse: 11.9983 - val_loss: 19.7831 - val_mae: 3.1079 - val_mse: 19.7831\n",
            "Epoch 59/300\n",
            "9/9 [==============================] - 0s 5ms/step - loss: 11.8867 - mae: 2.3807 - mse: 11.8867 - val_loss: 19.5972 - val_mae: 3.1007 - val_mse: 19.5972\n",
            "Epoch 60/300\n",
            "9/9 [==============================] - 0s 5ms/step - loss: 11.8343 - mae: 2.3692 - mse: 11.8343 - val_loss: 19.3522 - val_mae: 3.0646 - val_mse: 19.3522\n",
            "Epoch 61/300\n",
            "9/9 [==============================] - 0s 5ms/step - loss: 11.7276 - mae: 2.3605 - mse: 11.7276 - val_loss: 19.1874 - val_mae: 3.0707 - val_mse: 19.1874\n",
            "Epoch 62/300\n",
            "9/9 [==============================] - 0s 7ms/step - loss: 11.6624 - mae: 2.3592 - mse: 11.6624 - val_loss: 19.2229 - val_mae: 3.0759 - val_mse: 19.2229\n",
            "Epoch 63/300\n",
            "9/9 [==============================] - 0s 5ms/step - loss: 11.5932 - mae: 2.3459 - mse: 11.5932 - val_loss: 18.9438 - val_mae: 3.0355 - val_mse: 18.9438\n",
            "Epoch 64/300\n",
            "9/9 [==============================] - 0s 5ms/step - loss: 11.4785 - mae: 2.3361 - mse: 11.4785 - val_loss: 18.9557 - val_mae: 3.0659 - val_mse: 18.9557\n",
            "Epoch 65/300\n",
            "9/9 [==============================] - 0s 7ms/step - loss: 11.4126 - mae: 2.3311 - mse: 11.4126 - val_loss: 18.8717 - val_mae: 3.0454 - val_mse: 18.8717\n",
            "Epoch 66/300\n",
            "9/9 [==============================] - 0s 5ms/step - loss: 11.3210 - mae: 2.3267 - mse: 11.3210 - val_loss: 18.9165 - val_mae: 3.0644 - val_mse: 18.9165\n",
            "Epoch 67/300\n",
            "9/9 [==============================] - 0s 4ms/step - loss: 11.3310 - mae: 2.3408 - mse: 11.3310 - val_loss: 18.5312 - val_mae: 3.0482 - val_mse: 18.5312\n",
            "Epoch 68/300\n",
            "9/9 [==============================] - 0s 5ms/step - loss: 11.2656 - mae: 2.3113 - mse: 11.2656 - val_loss: 18.7315 - val_mae: 3.0051 - val_mse: 18.7315\n",
            "Epoch 69/300\n",
            "9/9 [==============================] - 0s 6ms/step - loss: 11.0665 - mae: 2.2852 - mse: 11.0665 - val_loss: 18.4885 - val_mae: 3.0336 - val_mse: 18.4885\n",
            "Epoch 70/300\n",
            "9/9 [==============================] - 0s 7ms/step - loss: 11.0845 - mae: 2.3257 - mse: 11.0845 - val_loss: 18.1840 - val_mae: 3.0412 - val_mse: 18.1840\n",
            "Epoch 71/300\n",
            "9/9 [==============================] - 0s 5ms/step - loss: 11.0086 - mae: 2.3076 - mse: 11.0086 - val_loss: 18.1211 - val_mae: 2.9894 - val_mse: 18.1211\n",
            "Epoch 72/300\n",
            "9/9 [==============================] - 0s 5ms/step - loss: 10.9003 - mae: 2.2775 - mse: 10.9003 - val_loss: 18.3363 - val_mae: 2.9848 - val_mse: 18.3363\n",
            "Epoch 73/300\n",
            "9/9 [==============================] - 0s 5ms/step - loss: 10.8570 - mae: 2.2800 - mse: 10.8570 - val_loss: 18.0303 - val_mae: 3.0026 - val_mse: 18.0303\n",
            "Epoch 74/300\n",
            "9/9 [==============================] - 0s 5ms/step - loss: 10.7474 - mae: 2.2797 - mse: 10.7474 - val_loss: 17.9178 - val_mae: 2.9806 - val_mse: 17.9178\n",
            "Epoch 75/300\n",
            "9/9 [==============================] - 0s 5ms/step - loss: 10.6648 - mae: 2.2701 - mse: 10.6648 - val_loss: 17.7229 - val_mae: 2.9634 - val_mse: 17.7229\n",
            "Epoch 76/300\n",
            "9/9 [==============================] - 0s 4ms/step - loss: 10.6008 - mae: 2.2499 - mse: 10.6008 - val_loss: 17.7939 - val_mae: 2.9505 - val_mse: 17.7939\n",
            "Epoch 77/300\n",
            "9/9 [==============================] - 0s 5ms/step - loss: 10.6058 - mae: 2.2509 - mse: 10.6058 - val_loss: 17.5399 - val_mae: 2.9626 - val_mse: 17.5399\n",
            "Epoch 78/300\n",
            "9/9 [==============================] - 0s 5ms/step - loss: 10.5080 - mae: 2.2542 - mse: 10.5080 - val_loss: 17.6190 - val_mae: 2.9453 - val_mse: 17.6190\n",
            "Epoch 79/300\n",
            "9/9 [==============================] - 0s 6ms/step - loss: 10.4682 - mae: 2.2325 - mse: 10.4682 - val_loss: 17.8527 - val_mae: 2.9511 - val_mse: 17.8527\n",
            "Epoch 80/300\n",
            "9/9 [==============================] - 0s 5ms/step - loss: 10.2976 - mae: 2.2319 - mse: 10.2976 - val_loss: 17.5106 - val_mae: 2.9576 - val_mse: 17.5106\n",
            "Epoch 81/300\n",
            "9/9 [==============================] - 0s 4ms/step - loss: 10.4404 - mae: 2.2672 - mse: 10.4404 - val_loss: 17.4950 - val_mae: 2.9983 - val_mse: 17.4950\n",
            "Epoch 82/300\n",
            "9/9 [==============================] - 0s 6ms/step - loss: 10.3871 - mae: 2.2501 - mse: 10.3871 - val_loss: 17.5705 - val_mae: 2.9376 - val_mse: 17.5705\n",
            "Epoch 83/300\n",
            "9/9 [==============================] - 0s 4ms/step - loss: 10.2429 - mae: 2.2245 - mse: 10.2429 - val_loss: 17.2283 - val_mae: 2.9066 - val_mse: 17.2283\n",
            "Epoch 84/300\n",
            "9/9 [==============================] - 0s 4ms/step - loss: 10.1687 - mae: 2.2174 - mse: 10.1687 - val_loss: 17.3302 - val_mae: 2.9264 - val_mse: 17.3302\n",
            "Epoch 85/300\n",
            "9/9 [==============================] - 0s 5ms/step - loss: 10.0691 - mae: 2.2080 - mse: 10.0691 - val_loss: 17.3125 - val_mae: 2.9522 - val_mse: 17.3125\n",
            "Epoch 86/300\n",
            "9/9 [==============================] - 0s 5ms/step - loss: 10.0311 - mae: 2.2235 - mse: 10.0311 - val_loss: 17.1174 - val_mae: 2.9313 - val_mse: 17.1174\n",
            "Epoch 87/300\n",
            "9/9 [==============================] - 0s 7ms/step - loss: 9.9400 - mae: 2.1920 - mse: 9.9400 - val_loss: 17.2279 - val_mae: 2.9141 - val_mse: 17.2279\n",
            "Epoch 88/300\n",
            "9/9 [==============================] - 0s 6ms/step - loss: 9.9217 - mae: 2.1860 - mse: 9.9217 - val_loss: 17.1252 - val_mae: 2.9083 - val_mse: 17.1252\n",
            "Epoch 89/300\n",
            "9/9 [==============================] - 0s 4ms/step - loss: 9.8904 - mae: 2.1812 - mse: 9.8904 - val_loss: 17.0897 - val_mae: 2.9123 - val_mse: 17.0897\n",
            "Epoch 90/300\n",
            "9/9 [==============================] - 0s 5ms/step - loss: 9.7986 - mae: 2.1787 - mse: 9.7986 - val_loss: 16.8720 - val_mae: 2.9030 - val_mse: 16.8720\n",
            "Epoch 91/300\n",
            "9/9 [==============================] - 0s 5ms/step - loss: 9.7403 - mae: 2.1754 - mse: 9.7403 - val_loss: 17.0524 - val_mae: 2.9093 - val_mse: 17.0524\n",
            "Epoch 92/300\n",
            "9/9 [==============================] - 0s 5ms/step - loss: 9.7102 - mae: 2.1610 - mse: 9.7102 - val_loss: 16.9547 - val_mae: 2.8854 - val_mse: 16.9547\n",
            "Epoch 93/300\n",
            "9/9 [==============================] - 0s 7ms/step - loss: 9.6773 - mae: 2.1535 - mse: 9.6773 - val_loss: 16.7937 - val_mae: 2.8757 - val_mse: 16.7937\n",
            "Epoch 94/300\n",
            "9/9 [==============================] - 0s 5ms/step - loss: 9.6155 - mae: 2.1750 - mse: 9.6155 - val_loss: 16.4901 - val_mae: 2.8950 - val_mse: 16.4901\n",
            "Epoch 95/300\n",
            "9/9 [==============================] - 0s 5ms/step - loss: 9.6557 - mae: 2.1814 - mse: 9.6557 - val_loss: 16.9676 - val_mae: 2.9149 - val_mse: 16.9676\n",
            "Epoch 96/300\n",
            "9/9 [==============================] - 0s 7ms/step - loss: 9.5786 - mae: 2.1481 - mse: 9.5786 - val_loss: 16.8570 - val_mae: 2.8896 - val_mse: 16.8570\n",
            "Epoch 97/300\n",
            "9/9 [==============================] - 0s 7ms/step - loss: 9.4671 - mae: 2.1485 - mse: 9.4671 - val_loss: 16.3580 - val_mae: 2.8794 - val_mse: 16.3580\n",
            "Epoch 98/300\n",
            "9/9 [==============================] - 0s 5ms/step - loss: 9.4699 - mae: 2.1679 - mse: 9.4699 - val_loss: 16.3398 - val_mae: 2.8587 - val_mse: 16.3398\n",
            "Epoch 99/300\n",
            "9/9 [==============================] - 0s 4ms/step - loss: 9.4122 - mae: 2.1519 - mse: 9.4122 - val_loss: 16.5512 - val_mae: 2.8802 - val_mse: 16.5512\n",
            "Epoch 100/300\n",
            "9/9 [==============================] - 0s 5ms/step - loss: 9.3695 - mae: 2.1475 - mse: 9.3695 - val_loss: 16.1950 - val_mae: 2.8465 - val_mse: 16.1950\n",
            "Epoch 101/300\n",
            "9/9 [==============================] - 0s 7ms/step - loss: 9.2862 - mae: 2.1292 - mse: 9.2862 - val_loss: 16.4679 - val_mae: 2.8550 - val_mse: 16.4679\n",
            "Epoch 102/300\n",
            "9/9 [==============================] - 0s 5ms/step - loss: 9.2512 - mae: 2.1140 - mse: 9.2512 - val_loss: 16.4888 - val_mae: 2.8579 - val_mse: 16.4888\n",
            "Epoch 103/300\n",
            "9/9 [==============================] - 0s 5ms/step - loss: 9.3031 - mae: 2.1392 - mse: 9.3031 - val_loss: 16.0584 - val_mae: 2.8403 - val_mse: 16.0584\n",
            "Epoch 104/300\n",
            "9/9 [==============================] - 0s 7ms/step - loss: 9.1419 - mae: 2.1220 - mse: 9.1419 - val_loss: 16.2164 - val_mae: 2.8396 - val_mse: 16.2164\n",
            "Epoch 105/300\n",
            "9/9 [==============================] - 0s 7ms/step - loss: 9.2338 - mae: 2.1042 - mse: 9.2338 - val_loss: 16.2244 - val_mae: 2.8200 - val_mse: 16.2244\n",
            "Epoch 106/300\n",
            "9/9 [==============================] - 0s 4ms/step - loss: 9.0762 - mae: 2.1020 - mse: 9.0762 - val_loss: 15.9620 - val_mae: 2.8280 - val_mse: 15.9620\n",
            "Epoch 107/300\n",
            "9/9 [==============================] - 0s 6ms/step - loss: 9.0436 - mae: 2.1086 - mse: 9.0436 - val_loss: 16.0084 - val_mae: 2.8280 - val_mse: 16.0084\n",
            "Epoch 108/300\n",
            "9/9 [==============================] - 0s 8ms/step - loss: 9.0181 - mae: 2.0870 - mse: 9.0181 - val_loss: 16.0909 - val_mae: 2.8191 - val_mse: 16.0909\n",
            "Epoch 109/300\n",
            "9/9 [==============================] - 0s 5ms/step - loss: 8.9593 - mae: 2.0776 - mse: 8.9593 - val_loss: 15.8818 - val_mae: 2.8104 - val_mse: 15.8818\n",
            "Epoch 110/300\n",
            "9/9 [==============================] - 0s 5ms/step - loss: 8.8989 - mae: 2.0824 - mse: 8.8989 - val_loss: 15.9249 - val_mae: 2.8095 - val_mse: 15.9249\n",
            "Epoch 111/300\n",
            "9/9 [==============================] - 0s 5ms/step - loss: 8.8810 - mae: 2.0892 - mse: 8.8810 - val_loss: 15.8529 - val_mae: 2.8214 - val_mse: 15.8529\n",
            "Epoch 112/300\n",
            "9/9 [==============================] - 0s 5ms/step - loss: 8.8587 - mae: 2.0789 - mse: 8.8587 - val_loss: 15.6593 - val_mae: 2.7856 - val_mse: 15.6593\n",
            "Epoch 113/300\n",
            "9/9 [==============================] - 0s 7ms/step - loss: 8.8344 - mae: 2.0879 - mse: 8.8344 - val_loss: 15.6973 - val_mae: 2.8102 - val_mse: 15.6973\n",
            "Epoch 114/300\n",
            "9/9 [==============================] - 0s 5ms/step - loss: 8.7520 - mae: 2.0748 - mse: 8.7520 - val_loss: 15.6599 - val_mae: 2.7805 - val_mse: 15.6599\n",
            "Epoch 115/300\n",
            "9/9 [==============================] - 0s 8ms/step - loss: 8.7111 - mae: 2.0507 - mse: 8.7111 - val_loss: 15.8595 - val_mae: 2.7829 - val_mse: 15.8595\n",
            "Epoch 116/300\n",
            "9/9 [==============================] - 0s 6ms/step - loss: 8.6646 - mae: 2.0496 - mse: 8.6646 - val_loss: 15.8774 - val_mae: 2.8107 - val_mse: 15.8774\n",
            "Epoch 117/300\n",
            "9/9 [==============================] - 0s 5ms/step - loss: 8.6374 - mae: 2.0731 - mse: 8.6374 - val_loss: 15.5055 - val_mae: 2.7988 - val_mse: 15.5055\n",
            "Epoch 118/300\n",
            "9/9 [==============================] - 0s 4ms/step - loss: 8.5727 - mae: 2.0554 - mse: 8.5727 - val_loss: 15.6500 - val_mae: 2.7820 - val_mse: 15.6500\n",
            "Epoch 119/300\n",
            "9/9 [==============================] - 0s 5ms/step - loss: 8.4909 - mae: 2.0318 - mse: 8.4909 - val_loss: 15.5607 - val_mae: 2.7788 - val_mse: 15.5607\n",
            "Epoch 120/300\n",
            "9/9 [==============================] - 0s 5ms/step - loss: 8.4954 - mae: 2.0566 - mse: 8.4954 - val_loss: 15.2592 - val_mae: 2.7923 - val_mse: 15.2592\n",
            "Epoch 121/300\n",
            "9/9 [==============================] - 0s 6ms/step - loss: 8.5287 - mae: 2.0585 - mse: 8.5287 - val_loss: 15.3898 - val_mae: 2.7636 - val_mse: 15.3898\n",
            "Epoch 122/300\n",
            "9/9 [==============================] - 0s 5ms/step - loss: 8.3243 - mae: 2.0232 - mse: 8.3243 - val_loss: 15.2142 - val_mae: 2.7606 - val_mse: 15.2142\n",
            "Epoch 123/300\n",
            "9/9 [==============================] - 0s 7ms/step - loss: 8.3640 - mae: 2.0462 - mse: 8.3640 - val_loss: 15.2587 - val_mae: 2.7825 - val_mse: 15.2587\n",
            "Epoch 124/300\n",
            "9/9 [==============================] - 0s 5ms/step - loss: 8.2770 - mae: 2.0331 - mse: 8.2770 - val_loss: 15.2687 - val_mae: 2.7533 - val_mse: 15.2687\n",
            "Epoch 125/300\n",
            "9/9 [==============================] - 0s 5ms/step - loss: 8.2264 - mae: 2.0164 - mse: 8.2264 - val_loss: 15.1453 - val_mae: 2.7420 - val_mse: 15.1453\n",
            "Epoch 126/300\n",
            "9/9 [==============================] - 0s 5ms/step - loss: 8.1783 - mae: 2.0141 - mse: 8.1783 - val_loss: 15.1936 - val_mae: 2.7431 - val_mse: 15.1936\n",
            "Epoch 127/300\n",
            "9/9 [==============================] - 0s 7ms/step - loss: 8.1418 - mae: 2.0180 - mse: 8.1418 - val_loss: 15.1860 - val_mae: 2.7652 - val_mse: 15.1860\n",
            "Epoch 128/300\n",
            "9/9 [==============================] - 0s 7ms/step - loss: 8.0934 - mae: 2.0145 - mse: 8.0934 - val_loss: 15.0903 - val_mae: 2.7497 - val_mse: 15.0903\n",
            "Epoch 129/300\n",
            "9/9 [==============================] - 0s 5ms/step - loss: 8.0572 - mae: 2.0006 - mse: 8.0572 - val_loss: 14.9745 - val_mae: 2.7301 - val_mse: 14.9745\n",
            "Epoch 130/300\n",
            "9/9 [==============================] - 0s 5ms/step - loss: 8.0408 - mae: 1.9987 - mse: 8.0408 - val_loss: 15.1682 - val_mae: 2.7472 - val_mse: 15.1682\n",
            "Epoch 131/300\n",
            "9/9 [==============================] - 0s 5ms/step - loss: 7.9517 - mae: 1.9845 - mse: 7.9517 - val_loss: 15.0163 - val_mae: 2.7432 - val_mse: 15.0163\n",
            "Epoch 132/300\n",
            "9/9 [==============================] - 0s 6ms/step - loss: 7.9207 - mae: 1.9863 - mse: 7.9207 - val_loss: 14.8646 - val_mae: 2.7248 - val_mse: 14.8646\n",
            "Epoch 133/300\n",
            "9/9 [==============================] - 0s 5ms/step - loss: 7.8616 - mae: 1.9820 - mse: 7.8616 - val_loss: 14.7738 - val_mae: 2.7318 - val_mse: 14.7738\n",
            "Epoch 134/300\n",
            "9/9 [==============================] - 0s 5ms/step - loss: 7.8344 - mae: 1.9817 - mse: 7.8344 - val_loss: 14.7450 - val_mae: 2.7189 - val_mse: 14.7450\n",
            "Epoch 135/300\n",
            "9/9 [==============================] - 0s 5ms/step - loss: 7.8103 - mae: 1.9895 - mse: 7.8103 - val_loss: 14.4568 - val_mae: 2.6974 - val_mse: 14.4568\n",
            "Epoch 136/300\n",
            "9/9 [==============================] - 0s 7ms/step - loss: 7.7453 - mae: 1.9755 - mse: 7.7453 - val_loss: 14.6413 - val_mae: 2.7047 - val_mse: 14.6413\n",
            "Epoch 137/300\n",
            "9/9 [==============================] - 0s 5ms/step - loss: 7.8083 - mae: 1.9986 - mse: 7.8083 - val_loss: 14.3969 - val_mae: 2.7148 - val_mse: 14.3969\n",
            "Epoch 138/300\n",
            "9/9 [==============================] - 0s 5ms/step - loss: 7.6438 - mae: 1.9868 - mse: 7.6438 - val_loss: 14.3351 - val_mae: 2.6867 - val_mse: 14.3351\n",
            "Epoch 139/300\n",
            "9/9 [==============================] - 0s 6ms/step - loss: 7.7097 - mae: 1.9666 - mse: 7.7097 - val_loss: 14.9060 - val_mae: 2.7174 - val_mse: 14.9060\n",
            "Epoch 140/300\n",
            "9/9 [==============================] - 0s 5ms/step - loss: 7.5927 - mae: 1.9493 - mse: 7.5927 - val_loss: 14.3012 - val_mae: 2.6836 - val_mse: 14.3012\n",
            "Epoch 141/300\n",
            "9/9 [==============================] - 0s 5ms/step - loss: 7.5873 - mae: 1.9658 - mse: 7.5873 - val_loss: 14.5896 - val_mae: 2.7050 - val_mse: 14.5896\n",
            "Epoch 142/300\n",
            "9/9 [==============================] - 0s 6ms/step - loss: 7.5321 - mae: 1.9697 - mse: 7.5321 - val_loss: 14.2417 - val_mae: 2.6918 - val_mse: 14.2417\n",
            "Epoch 143/300\n",
            "9/9 [==============================] - 0s 5ms/step - loss: 7.4245 - mae: 1.9429 - mse: 7.4245 - val_loss: 14.4406 - val_mae: 2.6967 - val_mse: 14.4406\n",
            "Epoch 144/300\n",
            "9/9 [==============================] - 0s 7ms/step - loss: 7.4022 - mae: 1.9262 - mse: 7.4022 - val_loss: 14.5111 - val_mae: 2.6936 - val_mse: 14.5111\n",
            "Epoch 145/300\n",
            "9/9 [==============================] - 0s 7ms/step - loss: 7.3123 - mae: 1.9271 - mse: 7.3123 - val_loss: 14.0411 - val_mae: 2.6706 - val_mse: 14.0411\n",
            "Epoch 146/300\n",
            "9/9 [==============================] - 0s 5ms/step - loss: 7.3944 - mae: 1.9583 - mse: 7.3944 - val_loss: 14.1367 - val_mae: 2.6971 - val_mse: 14.1367\n",
            "Epoch 147/300\n",
            "9/9 [==============================] - 0s 5ms/step - loss: 7.2472 - mae: 1.9171 - mse: 7.2472 - val_loss: 14.2664 - val_mae: 2.6634 - val_mse: 14.2664\n",
            "Epoch 148/300\n",
            "9/9 [==============================] - 0s 5ms/step - loss: 7.2694 - mae: 1.9091 - mse: 7.2694 - val_loss: 14.0839 - val_mae: 2.6550 - val_mse: 14.0839\n",
            "Epoch 149/300\n",
            "9/9 [==============================] - 0s 7ms/step - loss: 7.1516 - mae: 1.9093 - mse: 7.1516 - val_loss: 14.2111 - val_mae: 2.6886 - val_mse: 14.2111\n",
            "Epoch 150/300\n",
            "9/9 [==============================] - 0s 5ms/step - loss: 7.1293 - mae: 1.9148 - mse: 7.1293 - val_loss: 14.0406 - val_mae: 2.6554 - val_mse: 14.0406\n",
            "Epoch 151/300\n",
            "9/9 [==============================] - 0s 6ms/step - loss: 7.1222 - mae: 1.8943 - mse: 7.1222 - val_loss: 14.0241 - val_mae: 2.6395 - val_mse: 14.0241\n",
            "Epoch 152/300\n",
            "9/9 [==============================] - 0s 6ms/step - loss: 7.0337 - mae: 1.8995 - mse: 7.0337 - val_loss: 13.7887 - val_mae: 2.6499 - val_mse: 13.7887\n",
            "Epoch 153/300\n",
            "9/9 [==============================] - 0s 7ms/step - loss: 7.1995 - mae: 1.9491 - mse: 7.1995 - val_loss: 14.1759 - val_mae: 2.6772 - val_mse: 14.1759\n",
            "Epoch 154/300\n",
            "9/9 [==============================] - 0s 6ms/step - loss: 7.1758 - mae: 1.8858 - mse: 7.1758 - val_loss: 14.1286 - val_mae: 2.6335 - val_mse: 14.1286\n",
            "Epoch 155/300\n",
            "9/9 [==============================] - 0s 5ms/step - loss: 7.0025 - mae: 1.8957 - mse: 7.0025 - val_loss: 13.7773 - val_mae: 2.6621 - val_mse: 13.7773\n",
            "Epoch 156/300\n",
            "9/9 [==============================] - 0s 6ms/step - loss: 6.9443 - mae: 1.9006 - mse: 6.9443 - val_loss: 13.7363 - val_mae: 2.6175 - val_mse: 13.7363\n",
            "Epoch 157/300\n",
            "9/9 [==============================] - 0s 5ms/step - loss: 6.8564 - mae: 1.8682 - mse: 6.8564 - val_loss: 13.9298 - val_mae: 2.6532 - val_mse: 13.9298\n",
            "Epoch 158/300\n",
            "9/9 [==============================] - 0s 6ms/step - loss: 6.8678 - mae: 1.8674 - mse: 6.8678 - val_loss: 13.7816 - val_mae: 2.6411 - val_mse: 13.7816\n",
            "Epoch 159/300\n",
            "9/9 [==============================] - 0s 5ms/step - loss: 6.7714 - mae: 1.8781 - mse: 6.7714 - val_loss: 13.7152 - val_mae: 2.6378 - val_mse: 13.7152\n",
            "Epoch 160/300\n",
            "9/9 [==============================] - 0s 7ms/step - loss: 6.7239 - mae: 1.8762 - mse: 6.7239 - val_loss: 13.3936 - val_mae: 2.5951 - val_mse: 13.3936\n",
            "Epoch 161/300\n",
            "9/9 [==============================] - 0s 7ms/step - loss: 6.9267 - mae: 1.8903 - mse: 6.9267 - val_loss: 13.2915 - val_mae: 2.5682 - val_mse: 13.2915\n",
            "Epoch 162/300\n",
            "9/9 [==============================] - 0s 6ms/step - loss: 6.6493 - mae: 1.8465 - mse: 6.6493 - val_loss: 13.8634 - val_mae: 2.6650 - val_mse: 13.8634\n",
            "Epoch 163/300\n",
            "9/9 [==============================] - 0s 7ms/step - loss: 6.6766 - mae: 1.8504 - mse: 6.6766 - val_loss: 13.4859 - val_mae: 2.5926 - val_mse: 13.4859\n",
            "Epoch 164/300\n",
            "9/9 [==============================] - 0s 6ms/step - loss: 6.5692 - mae: 1.8491 - mse: 6.5692 - val_loss: 13.3661 - val_mae: 2.6075 - val_mse: 13.3661\n",
            "Epoch 165/300\n",
            "9/9 [==============================] - 0s 8ms/step - loss: 6.5527 - mae: 1.8430 - mse: 6.5527 - val_loss: 13.5704 - val_mae: 2.6203 - val_mse: 13.5704\n",
            "Epoch 166/300\n",
            "9/9 [==============================] - 0s 5ms/step - loss: 6.5622 - mae: 1.8545 - mse: 6.5622 - val_loss: 13.2865 - val_mae: 2.6251 - val_mse: 13.2865\n",
            "Epoch 167/300\n",
            "9/9 [==============================] - 0s 6ms/step - loss: 6.4922 - mae: 1.8462 - mse: 6.4922 - val_loss: 13.1896 - val_mae: 2.5768 - val_mse: 13.1896\n",
            "Epoch 168/300\n",
            "9/9 [==============================] - 0s 6ms/step - loss: 6.4454 - mae: 1.8240 - mse: 6.4454 - val_loss: 13.4713 - val_mae: 2.6132 - val_mse: 13.4713\n",
            "Epoch 169/300\n",
            "9/9 [==============================] - 0s 8ms/step - loss: 6.3558 - mae: 1.8177 - mse: 6.3558 - val_loss: 13.2938 - val_mae: 2.5830 - val_mse: 13.2938\n",
            "Epoch 170/300\n",
            "9/9 [==============================] - 0s 6ms/step - loss: 6.3508 - mae: 1.8129 - mse: 6.3508 - val_loss: 13.2502 - val_mae: 2.5791 - val_mse: 13.2502\n",
            "Epoch 171/300\n",
            "9/9 [==============================] - 0s 5ms/step - loss: 6.3430 - mae: 1.8198 - mse: 6.3430 - val_loss: 13.3962 - val_mae: 2.6062 - val_mse: 13.3962\n",
            "Epoch 172/300\n",
            "9/9 [==============================] - 0s 5ms/step - loss: 6.2242 - mae: 1.8005 - mse: 6.2242 - val_loss: 13.1821 - val_mae: 2.5681 - val_mse: 13.1821\n",
            "Epoch 173/300\n",
            "9/9 [==============================] - 0s 6ms/step - loss: 6.2939 - mae: 1.7941 - mse: 6.2939 - val_loss: 13.1654 - val_mae: 2.5596 - val_mse: 13.1654\n",
            "Epoch 174/300\n",
            "9/9 [==============================] - 0s 6ms/step - loss: 6.1994 - mae: 1.7927 - mse: 6.1994 - val_loss: 13.3127 - val_mae: 2.5913 - val_mse: 13.3127\n",
            "Epoch 175/300\n",
            "9/9 [==============================] - 0s 6ms/step - loss: 6.2906 - mae: 1.8364 - mse: 6.2906 - val_loss: 12.8679 - val_mae: 2.5801 - val_mse: 12.8679\n",
            "Epoch 176/300\n",
            "9/9 [==============================] - 0s 5ms/step - loss: 6.2234 - mae: 1.7946 - mse: 6.2234 - val_loss: 13.3196 - val_mae: 2.5628 - val_mse: 13.3196\n",
            "Epoch 177/300\n",
            "9/9 [==============================] - 0s 5ms/step - loss: 6.1274 - mae: 1.7758 - mse: 6.1274 - val_loss: 13.3181 - val_mae: 2.6040 - val_mse: 13.3181\n",
            "Epoch 178/300\n",
            "9/9 [==============================] - 0s 8ms/step - loss: 6.1682 - mae: 1.8166 - mse: 6.1682 - val_loss: 12.9272 - val_mae: 2.5707 - val_mse: 12.9272\n",
            "Epoch 179/300\n",
            "9/9 [==============================] - 0s 6ms/step - loss: 6.0871 - mae: 1.7912 - mse: 6.0871 - val_loss: 12.9120 - val_mae: 2.5503 - val_mse: 12.9120\n",
            "Epoch 180/300\n",
            "9/9 [==============================] - 0s 5ms/step - loss: 5.9686 - mae: 1.7674 - mse: 5.9686 - val_loss: 13.1288 - val_mae: 2.5622 - val_mse: 13.1288\n",
            "Epoch 181/300\n",
            "9/9 [==============================] - 0s 6ms/step - loss: 5.9818 - mae: 1.7668 - mse: 5.9818 - val_loss: 13.0415 - val_mae: 2.5520 - val_mse: 13.0415\n",
            "Epoch 182/300\n",
            "9/9 [==============================] - 0s 5ms/step - loss: 5.9589 - mae: 1.7701 - mse: 5.9589 - val_loss: 12.8194 - val_mae: 2.5527 - val_mse: 12.8194\n",
            "Epoch 183/300\n",
            "9/9 [==============================] - 0s 7ms/step - loss: 5.9780 - mae: 1.7540 - mse: 5.9780 - val_loss: 13.1608 - val_mae: 2.5560 - val_mse: 13.1608\n",
            "Epoch 184/300\n",
            "9/9 [==============================] - 0s 6ms/step - loss: 5.9407 - mae: 1.7474 - mse: 5.9407 - val_loss: 12.9760 - val_mae: 2.5736 - val_mse: 12.9760\n",
            "Epoch 185/300\n",
            "9/9 [==============================] - 0s 5ms/step - loss: 5.8566 - mae: 1.7615 - mse: 5.8566 - val_loss: 12.7148 - val_mae: 2.5352 - val_mse: 12.7148\n",
            "Epoch 186/300\n",
            "9/9 [==============================] - 0s 6ms/step - loss: 5.8640 - mae: 1.7405 - mse: 5.8640 - val_loss: 12.9992 - val_mae: 2.5363 - val_mse: 12.9992\n",
            "Epoch 187/300\n",
            "9/9 [==============================] - 0s 6ms/step - loss: 5.7649 - mae: 1.7307 - mse: 5.7649 - val_loss: 12.9757 - val_mae: 2.5593 - val_mse: 12.9757\n",
            "Epoch 188/300\n",
            "9/9 [==============================] - 0s 7ms/step - loss: 5.7553 - mae: 1.7425 - mse: 5.7553 - val_loss: 12.7277 - val_mae: 2.5329 - val_mse: 12.7277\n",
            "Epoch 189/300\n",
            "9/9 [==============================] - 0s 6ms/step - loss: 5.7370 - mae: 1.7276 - mse: 5.7370 - val_loss: 12.6440 - val_mae: 2.5123 - val_mse: 12.6440\n",
            "Epoch 190/300\n",
            "9/9 [==============================] - 0s 5ms/step - loss: 5.6995 - mae: 1.7108 - mse: 5.6995 - val_loss: 12.9040 - val_mae: 2.5404 - val_mse: 12.9040\n",
            "Epoch 191/300\n",
            "9/9 [==============================] - 0s 5ms/step - loss: 5.7288 - mae: 1.7336 - mse: 5.7288 - val_loss: 12.7412 - val_mae: 2.5465 - val_mse: 12.7412\n",
            "Epoch 192/300\n",
            "9/9 [==============================] - 0s 4ms/step - loss: 5.6728 - mae: 1.7230 - mse: 5.6728 - val_loss: 12.5764 - val_mae: 2.5080 - val_mse: 12.5764\n",
            "Epoch 193/300\n",
            "9/9 [==============================] - 0s 5ms/step - loss: 5.6131 - mae: 1.7051 - mse: 5.6131 - val_loss: 12.7832 - val_mae: 2.5345 - val_mse: 12.7832\n",
            "Epoch 194/300\n",
            "9/9 [==============================] - 0s 6ms/step - loss: 5.5564 - mae: 1.7071 - mse: 5.5564 - val_loss: 12.7005 - val_mae: 2.5412 - val_mse: 12.7005\n",
            "Epoch 195/300\n",
            "9/9 [==============================] - 0s 6ms/step - loss: 5.5303 - mae: 1.7094 - mse: 5.5303 - val_loss: 12.5684 - val_mae: 2.5299 - val_mse: 12.5684\n",
            "Epoch 196/300\n",
            "9/9 [==============================] - 0s 6ms/step - loss: 5.5227 - mae: 1.6991 - mse: 5.5227 - val_loss: 12.3236 - val_mae: 2.4918 - val_mse: 12.3236\n",
            "Epoch 197/300\n",
            "9/9 [==============================] - 0s 5ms/step - loss: 5.5241 - mae: 1.6912 - mse: 5.5241 - val_loss: 12.7563 - val_mae: 2.5405 - val_mse: 12.7563\n",
            "Epoch 198/300\n",
            "9/9 [==============================] - 0s 7ms/step - loss: 5.4738 - mae: 1.6874 - mse: 5.4738 - val_loss: 12.7487 - val_mae: 2.5404 - val_mse: 12.7487\n",
            "Epoch 199/300\n",
            "9/9 [==============================] - 0s 5ms/step - loss: 5.4272 - mae: 1.6917 - mse: 5.4272 - val_loss: 12.5100 - val_mae: 2.5254 - val_mse: 12.5100\n",
            "Epoch 200/300\n",
            "9/9 [==============================] - 0s 5ms/step - loss: 5.4412 - mae: 1.6876 - mse: 5.4412 - val_loss: 12.6432 - val_mae: 2.5158 - val_mse: 12.6432\n",
            "Epoch 201/300\n",
            "9/9 [==============================] - 0s 5ms/step - loss: 5.3472 - mae: 1.6624 - mse: 5.3472 - val_loss: 12.6496 - val_mae: 2.5243 - val_mse: 12.6496\n",
            "Epoch 202/300\n",
            "9/9 [==============================] - 0s 5ms/step - loss: 5.3608 - mae: 1.6710 - mse: 5.3608 - val_loss: 12.3020 - val_mae: 2.5119 - val_mse: 12.3020\n",
            "Epoch 203/300\n",
            "9/9 [==============================] - 0s 5ms/step - loss: 5.3038 - mae: 1.6593 - mse: 5.3038 - val_loss: 12.3720 - val_mae: 2.4966 - val_mse: 12.3720\n",
            "Epoch 204/300\n",
            "9/9 [==============================] - 0s 5ms/step - loss: 5.2608 - mae: 1.6552 - mse: 5.2608 - val_loss: 12.3513 - val_mae: 2.4940 - val_mse: 12.3513\n",
            "Epoch 205/300\n",
            "9/9 [==============================] - 0s 8ms/step - loss: 5.3051 - mae: 1.6731 - mse: 5.3051 - val_loss: 12.3416 - val_mae: 2.5043 - val_mse: 12.3416\n",
            "Epoch 206/300\n",
            "9/9 [==============================] - 0s 6ms/step - loss: 5.2678 - mae: 1.6494 - mse: 5.2678 - val_loss: 12.3233 - val_mae: 2.4737 - val_mse: 12.3233\n",
            "Epoch 207/300\n",
            "9/9 [==============================] - 0s 5ms/step - loss: 5.2536 - mae: 1.6453 - mse: 5.2536 - val_loss: 12.2434 - val_mae: 2.4971 - val_mse: 12.2434\n",
            "Epoch 208/300\n",
            "9/9 [==============================] - 0s 6ms/step - loss: 5.1759 - mae: 1.6457 - mse: 5.1759 - val_loss: 12.6666 - val_mae: 2.5306 - val_mse: 12.6666\n",
            "Epoch 209/300\n",
            "9/9 [==============================] - 0s 6ms/step - loss: 5.1633 - mae: 1.6384 - mse: 5.1633 - val_loss: 12.3467 - val_mae: 2.4800 - val_mse: 12.3467\n",
            "Epoch 210/300\n",
            "9/9 [==============================] - 0s 7ms/step - loss: 5.1540 - mae: 1.6379 - mse: 5.1540 - val_loss: 12.0957 - val_mae: 2.4755 - val_mse: 12.0957\n",
            "Epoch 211/300\n",
            "9/9 [==============================] - 0s 5ms/step - loss: 5.1290 - mae: 1.6383 - mse: 5.1290 - val_loss: 12.1238 - val_mae: 2.4608 - val_mse: 12.1238\n",
            "Epoch 212/300\n",
            "9/9 [==============================] - 0s 6ms/step - loss: 5.1121 - mae: 1.6260 - mse: 5.1121 - val_loss: 12.1642 - val_mae: 2.4653 - val_mse: 12.1642\n",
            "Epoch 213/300\n",
            "9/9 [==============================] - 0s 6ms/step - loss: 5.1050 - mae: 1.6313 - mse: 5.1050 - val_loss: 12.2748 - val_mae: 2.4955 - val_mse: 12.2748\n",
            "Epoch 214/300\n",
            "9/9 [==============================] - 0s 5ms/step - loss: 5.2545 - mae: 1.6327 - mse: 5.2545 - val_loss: 12.0685 - val_mae: 2.4563 - val_mse: 12.0685\n",
            "Epoch 215/300\n",
            "9/9 [==============================] - 0s 5ms/step - loss: 5.0982 - mae: 1.6360 - mse: 5.0982 - val_loss: 12.2987 - val_mae: 2.4961 - val_mse: 12.2987\n",
            "Epoch 216/300\n",
            "9/9 [==============================] - 0s 5ms/step - loss: 5.0062 - mae: 1.6007 - mse: 5.0062 - val_loss: 12.3024 - val_mae: 2.4652 - val_mse: 12.3024\n",
            "Epoch 217/300\n",
            "9/9 [==============================] - 0s 6ms/step - loss: 4.9448 - mae: 1.5969 - mse: 4.9448 - val_loss: 12.0854 - val_mae: 2.4745 - val_mse: 12.0854\n",
            "Epoch 218/300\n",
            "9/9 [==============================] - 0s 5ms/step - loss: 4.9624 - mae: 1.6031 - mse: 4.9624 - val_loss: 12.1071 - val_mae: 2.4662 - val_mse: 12.1071\n",
            "Epoch 219/300\n",
            "9/9 [==============================] - 0s 5ms/step - loss: 4.9511 - mae: 1.5958 - mse: 4.9511 - val_loss: 12.4011 - val_mae: 2.4882 - val_mse: 12.4011\n",
            "Epoch 220/300\n",
            "9/9 [==============================] - 0s 6ms/step - loss: 4.9517 - mae: 1.6100 - mse: 4.9517 - val_loss: 11.8064 - val_mae: 2.4715 - val_mse: 11.8064\n",
            "Epoch 221/300\n",
            "9/9 [==============================] - 0s 6ms/step - loss: 5.0246 - mae: 1.6478 - mse: 5.0246 - val_loss: 12.1111 - val_mae: 2.4936 - val_mse: 12.1111\n",
            "Epoch 222/300\n",
            "9/9 [==============================] - 0s 5ms/step - loss: 4.8926 - mae: 1.5916 - mse: 4.8926 - val_loss: 11.7470 - val_mae: 2.4246 - val_mse: 11.7470\n",
            "Epoch 223/300\n",
            "9/9 [==============================] - 0s 5ms/step - loss: 4.8078 - mae: 1.5822 - mse: 4.8078 - val_loss: 12.0073 - val_mae: 2.4509 - val_mse: 12.0073\n",
            "Epoch 224/300\n",
            "9/9 [==============================] - 0s 6ms/step - loss: 4.7876 - mae: 1.5911 - mse: 4.7876 - val_loss: 12.0529 - val_mae: 2.4749 - val_mse: 12.0529\n",
            "Epoch 225/300\n",
            "9/9 [==============================] - 0s 5ms/step - loss: 4.7194 - mae: 1.5756 - mse: 4.7194 - val_loss: 12.0649 - val_mae: 2.4535 - val_mse: 12.0649\n",
            "Epoch 226/300\n",
            "9/9 [==============================] - 0s 5ms/step - loss: 4.7134 - mae: 1.5616 - mse: 4.7134 - val_loss: 12.0088 - val_mae: 2.4345 - val_mse: 12.0088\n",
            "Epoch 227/300\n",
            "9/9 [==============================] - 0s 8ms/step - loss: 4.7252 - mae: 1.5674 - mse: 4.7252 - val_loss: 12.0152 - val_mae: 2.4634 - val_mse: 12.0152\n",
            "Epoch 228/300\n",
            "9/9 [==============================] - 0s 8ms/step - loss: 4.7999 - mae: 1.5562 - mse: 4.7999 - val_loss: 11.7631 - val_mae: 2.4126 - val_mse: 11.7631\n",
            "Epoch 229/300\n",
            "9/9 [==============================] - 0s 9ms/step - loss: 4.7183 - mae: 1.5676 - mse: 4.7183 - val_loss: 12.1024 - val_mae: 2.4670 - val_mse: 12.1024\n",
            "Epoch 230/300\n",
            "9/9 [==============================] - 0s 8ms/step - loss: 4.5849 - mae: 1.5444 - mse: 4.5849 - val_loss: 12.0632 - val_mae: 2.4411 - val_mse: 12.0632\n",
            "Epoch 231/300\n",
            "9/9 [==============================] - 0s 5ms/step - loss: 4.6763 - mae: 1.5409 - mse: 4.6763 - val_loss: 11.7646 - val_mae: 2.4193 - val_mse: 11.7646\n",
            "Epoch 232/300\n",
            "9/9 [==============================] - 0s 5ms/step - loss: 4.6095 - mae: 1.5476 - mse: 4.6095 - val_loss: 11.8548 - val_mae: 2.4408 - val_mse: 11.8548\n",
            "Epoch 233/300\n",
            "9/9 [==============================] - 0s 5ms/step - loss: 4.5921 - mae: 1.5527 - mse: 4.5921 - val_loss: 12.0576 - val_mae: 2.4597 - val_mse: 12.0576\n",
            "Epoch 234/300\n",
            "9/9 [==============================] - 0s 8ms/step - loss: 4.5174 - mae: 1.5297 - mse: 4.5174 - val_loss: 11.8873 - val_mae: 2.4234 - val_mse: 11.8873\n",
            "Epoch 235/300\n",
            "9/9 [==============================] - 0s 6ms/step - loss: 4.5292 - mae: 1.5244 - mse: 4.5292 - val_loss: 11.7634 - val_mae: 2.4320 - val_mse: 11.7634\n",
            "Epoch 236/300\n",
            "9/9 [==============================] - 0s 5ms/step - loss: 4.5375 - mae: 1.5434 - mse: 4.5375 - val_loss: 11.8092 - val_mae: 2.4260 - val_mse: 11.8092\n",
            "Epoch 237/300\n",
            "9/9 [==============================] - 0s 6ms/step - loss: 4.4463 - mae: 1.5144 - mse: 4.4463 - val_loss: 11.7469 - val_mae: 2.4251 - val_mse: 11.7469\n",
            "Epoch 238/300\n",
            "9/9 [==============================] - 0s 5ms/step - loss: 4.4572 - mae: 1.5164 - mse: 4.4572 - val_loss: 11.8030 - val_mae: 2.4323 - val_mse: 11.8030\n",
            "Epoch 239/300\n",
            "9/9 [==============================] - 0s 7ms/step - loss: 4.4537 - mae: 1.5044 - mse: 4.4537 - val_loss: 11.8681 - val_mae: 2.4114 - val_mse: 11.8681\n",
            "Epoch 240/300\n",
            "9/9 [==============================] - 0s 7ms/step - loss: 4.3970 - mae: 1.5081 - mse: 4.3970 - val_loss: 11.8600 - val_mae: 2.4322 - val_mse: 11.8600\n",
            "Epoch 241/300\n",
            "9/9 [==============================] - 0s 8ms/step - loss: 4.4404 - mae: 1.5202 - mse: 4.4404 - val_loss: 11.9032 - val_mae: 2.4141 - val_mse: 11.9032\n",
            "Epoch 242/300\n",
            "9/9 [==============================] - 0s 8ms/step - loss: 4.3689 - mae: 1.5051 - mse: 4.3689 - val_loss: 11.5564 - val_mae: 2.4053 - val_mse: 11.5564\n",
            "Epoch 243/300\n",
            "9/9 [==============================] - 0s 6ms/step - loss: 4.3779 - mae: 1.5116 - mse: 4.3779 - val_loss: 11.7396 - val_mae: 2.4077 - val_mse: 11.7396\n",
            "Epoch 244/300\n",
            "9/9 [==============================] - 0s 6ms/step - loss: 4.3110 - mae: 1.4897 - mse: 4.3110 - val_loss: 11.6064 - val_mae: 2.3992 - val_mse: 11.6064\n",
            "Epoch 245/300\n",
            "9/9 [==============================] - 0s 6ms/step - loss: 4.2831 - mae: 1.4913 - mse: 4.2831 - val_loss: 11.7210 - val_mae: 2.4111 - val_mse: 11.7210\n",
            "Epoch 246/300\n",
            "9/9 [==============================] - 0s 8ms/step - loss: 4.2775 - mae: 1.4936 - mse: 4.2775 - val_loss: 11.8673 - val_mae: 2.4184 - val_mse: 11.8673\n",
            "Epoch 247/300\n",
            "9/9 [==============================] - 0s 6ms/step - loss: 4.2686 - mae: 1.4645 - mse: 4.2686 - val_loss: 11.6509 - val_mae: 2.4044 - val_mse: 11.6509\n",
            "Epoch 248/300\n",
            "9/9 [==============================] - 0s 5ms/step - loss: 4.2627 - mae: 1.4951 - mse: 4.2627 - val_loss: 11.6554 - val_mae: 2.4334 - val_mse: 11.6554\n",
            "Epoch 249/300\n",
            "9/9 [==============================] - 0s 5ms/step - loss: 4.3231 - mae: 1.4861 - mse: 4.3231 - val_loss: 11.6827 - val_mae: 2.3979 - val_mse: 11.6827\n",
            "Epoch 250/300\n",
            "9/9 [==============================] - 0s 6ms/step - loss: 4.1874 - mae: 1.4732 - mse: 4.1874 - val_loss: 11.6534 - val_mae: 2.4375 - val_mse: 11.6534\n",
            "Epoch 251/300\n",
            "9/9 [==============================] - 0s 5ms/step - loss: 4.2507 - mae: 1.4863 - mse: 4.2507 - val_loss: 11.7542 - val_mae: 2.4113 - val_mse: 11.7542\n",
            "Epoch 252/300\n",
            "9/9 [==============================] - 0s 5ms/step - loss: 4.1325 - mae: 1.4696 - mse: 4.1325 - val_loss: 11.7254 - val_mae: 2.4451 - val_mse: 11.7254\n",
            "Epoch 253/300\n",
            "9/9 [==============================] - 0s 7ms/step - loss: 4.1277 - mae: 1.4635 - mse: 4.1277 - val_loss: 11.6539 - val_mae: 2.4019 - val_mse: 11.6539\n",
            "Epoch 254/300\n",
            "9/9 [==============================] - 0s 5ms/step - loss: 4.1423 - mae: 1.4468 - mse: 4.1423 - val_loss: 11.6452 - val_mae: 2.3864 - val_mse: 11.6452\n",
            "Epoch 255/300\n",
            "9/9 [==============================] - 0s 7ms/step - loss: 4.1174 - mae: 1.4532 - mse: 4.1174 - val_loss: 11.5335 - val_mae: 2.4172 - val_mse: 11.5335\n",
            "Epoch 256/300\n",
            "9/9 [==============================] - 0s 6ms/step - loss: 4.0906 - mae: 1.4606 - mse: 4.0906 - val_loss: 11.6565 - val_mae: 2.3906 - val_mse: 11.6565\n",
            "Epoch 257/300\n",
            "9/9 [==============================] - 0s 8ms/step - loss: 4.0821 - mae: 1.4620 - mse: 4.0821 - val_loss: 11.6079 - val_mae: 2.4168 - val_mse: 11.6079\n",
            "Epoch 258/300\n",
            "9/9 [==============================] - 0s 6ms/step - loss: 3.9964 - mae: 1.4395 - mse: 3.9964 - val_loss: 11.6873 - val_mae: 2.4022 - val_mse: 11.6873\n",
            "Epoch 259/300\n",
            "9/9 [==============================] - 0s 6ms/step - loss: 3.9948 - mae: 1.4257 - mse: 3.9948 - val_loss: 11.6000 - val_mae: 2.3850 - val_mse: 11.6000\n",
            "Epoch 260/300\n",
            "9/9 [==============================] - 0s 6ms/step - loss: 3.9876 - mae: 1.4186 - mse: 3.9876 - val_loss: 11.6692 - val_mae: 2.4123 - val_mse: 11.6692\n",
            "Epoch 261/300\n",
            "9/9 [==============================] - 0s 5ms/step - loss: 4.0182 - mae: 1.4467 - mse: 4.0182 - val_loss: 11.7702 - val_mae: 2.4216 - val_mse: 11.7702\n",
            "Epoch 262/300\n",
            "9/9 [==============================] - 0s 5ms/step - loss: 3.9477 - mae: 1.4327 - mse: 3.9477 - val_loss: 11.7616 - val_mae: 2.4194 - val_mse: 11.7616\n",
            "Epoch 263/300\n",
            "9/9 [==============================] - 0s 7ms/step - loss: 3.9252 - mae: 1.4238 - mse: 3.9252 - val_loss: 11.7005 - val_mae: 2.4041 - val_mse: 11.7005\n",
            "Epoch 264/300\n",
            "9/9 [==============================] - 0s 5ms/step - loss: 3.8553 - mae: 1.4034 - mse: 3.8553 - val_loss: 11.5476 - val_mae: 2.3896 - val_mse: 11.5476\n",
            "Epoch 265/300\n",
            "9/9 [==============================] - 0s 6ms/step - loss: 3.8915 - mae: 1.4187 - mse: 3.8915 - val_loss: 11.4769 - val_mae: 2.3792 - val_mse: 11.4769\n",
            "Epoch 266/300\n",
            "9/9 [==============================] - 0s 9ms/step - loss: 4.0177 - mae: 1.4195 - mse: 4.0177 - val_loss: 11.4485 - val_mae: 2.3541 - val_mse: 11.4485\n",
            "Epoch 267/300\n",
            "9/9 [==============================] - 0s 5ms/step - loss: 3.9731 - mae: 1.4501 - mse: 3.9731 - val_loss: 11.9644 - val_mae: 2.4584 - val_mse: 11.9644\n",
            "Epoch 268/300\n",
            "9/9 [==============================] - 0s 7ms/step - loss: 3.8147 - mae: 1.4170 - mse: 3.8147 - val_loss: 11.7580 - val_mae: 2.3989 - val_mse: 11.7580\n",
            "Epoch 269/300\n",
            "9/9 [==============================] - 0s 8ms/step - loss: 3.8554 - mae: 1.4033 - mse: 3.8554 - val_loss: 11.5167 - val_mae: 2.3968 - val_mse: 11.5167\n",
            "Epoch 270/300\n",
            "9/9 [==============================] - 0s 5ms/step - loss: 3.8475 - mae: 1.3902 - mse: 3.8475 - val_loss: 11.4487 - val_mae: 2.3668 - val_mse: 11.4487\n",
            "Epoch 271/300\n",
            "9/9 [==============================] - 0s 8ms/step - loss: 3.7248 - mae: 1.3668 - mse: 3.7248 - val_loss: 11.8688 - val_mae: 2.4254 - val_mse: 11.8688\n",
            "Epoch 272/300\n",
            "9/9 [==============================] - 0s 5ms/step - loss: 3.8352 - mae: 1.4003 - mse: 3.8352 - val_loss: 11.5740 - val_mae: 2.3950 - val_mse: 11.5740\n",
            "Epoch 273/300\n",
            "9/9 [==============================] - 0s 6ms/step - loss: 3.7675 - mae: 1.3730 - mse: 3.7675 - val_loss: 11.6326 - val_mae: 2.3825 - val_mse: 11.6326\n",
            "Epoch 274/300\n",
            "9/9 [==============================] - 0s 5ms/step - loss: 3.7118 - mae: 1.3769 - mse: 3.7118 - val_loss: 11.6741 - val_mae: 2.3994 - val_mse: 11.6741\n",
            "Epoch 275/300\n",
            "9/9 [==============================] - 0s 5ms/step - loss: 3.6949 - mae: 1.3643 - mse: 3.6949 - val_loss: 11.5748 - val_mae: 2.3832 - val_mse: 11.5748\n",
            "Epoch 276/300\n",
            "9/9 [==============================] - 0s 7ms/step - loss: 3.6959 - mae: 1.3598 - mse: 3.6959 - val_loss: 11.8093 - val_mae: 2.4161 - val_mse: 11.8093\n",
            "Epoch 277/300\n",
            "9/9 [==============================] - 0s 6ms/step - loss: 3.6520 - mae: 1.3630 - mse: 3.6520 - val_loss: 11.2798 - val_mae: 2.3528 - val_mse: 11.2798\n",
            "Epoch 278/300\n",
            "9/9 [==============================] - 0s 8ms/step - loss: 3.6980 - mae: 1.3651 - mse: 3.6980 - val_loss: 11.6126 - val_mae: 2.3742 - val_mse: 11.6126\n",
            "Epoch 279/300\n",
            "9/9 [==============================] - 0s 6ms/step - loss: 3.6258 - mae: 1.3600 - mse: 3.6258 - val_loss: 11.9028 - val_mae: 2.4167 - val_mse: 11.9028\n",
            "Epoch 280/300\n",
            "9/9 [==============================] - 0s 6ms/step - loss: 3.5974 - mae: 1.3412 - mse: 3.5974 - val_loss: 11.7010 - val_mae: 2.3824 - val_mse: 11.7010\n",
            "Epoch 281/300\n",
            "9/9 [==============================] - 0s 5ms/step - loss: 3.5781 - mae: 1.3291 - mse: 3.5781 - val_loss: 11.6273 - val_mae: 2.3806 - val_mse: 11.6273\n",
            "Epoch 282/300\n",
            "9/9 [==============================] - 0s 6ms/step - loss: 3.6564 - mae: 1.3801 - mse: 3.6564 - val_loss: 11.5876 - val_mae: 2.4018 - val_mse: 11.5876\n",
            "Epoch 283/300\n",
            "9/9 [==============================] - 0s 6ms/step - loss: 3.5629 - mae: 1.3599 - mse: 3.5629 - val_loss: 11.5668 - val_mae: 2.3652 - val_mse: 11.5668\n",
            "Epoch 284/300\n",
            "9/9 [==============================] - 0s 5ms/step - loss: 3.5270 - mae: 1.3280 - mse: 3.5270 - val_loss: 11.9432 - val_mae: 2.4219 - val_mse: 11.9432\n",
            "Epoch 285/300\n",
            "9/9 [==============================] - 0s 6ms/step - loss: 3.5145 - mae: 1.3449 - mse: 3.5145 - val_loss: 11.8988 - val_mae: 2.4285 - val_mse: 11.8988\n",
            "Epoch 286/300\n",
            "9/9 [==============================] - 0s 5ms/step - loss: 3.5456 - mae: 1.3287 - mse: 3.5456 - val_loss: 11.8623 - val_mae: 2.4060 - val_mse: 11.8623\n",
            "Epoch 287/300\n",
            "9/9 [==============================] - 0s 5ms/step - loss: 3.4558 - mae: 1.3302 - mse: 3.4558 - val_loss: 11.7195 - val_mae: 2.4173 - val_mse: 11.7195\n",
            "Epoch 288/300\n",
            "9/9 [==============================] - 0s 5ms/step - loss: 3.5558 - mae: 1.3427 - mse: 3.5558 - val_loss: 11.5846 - val_mae: 2.3652 - val_mse: 11.5846\n",
            "Epoch 289/300\n",
            "9/9 [==============================] - 0s 5ms/step - loss: 3.4653 - mae: 1.3189 - mse: 3.4653 - val_loss: 11.8107 - val_mae: 2.4010 - val_mse: 11.8107\n",
            "Epoch 290/300\n",
            "9/9 [==============================] - 0s 6ms/step - loss: 3.4315 - mae: 1.3083 - mse: 3.4315 - val_loss: 11.5013 - val_mae: 2.3569 - val_mse: 11.5013\n",
            "Epoch 291/300\n",
            "9/9 [==============================] - 0s 6ms/step - loss: 3.4725 - mae: 1.3396 - mse: 3.4725 - val_loss: 11.6152 - val_mae: 2.3676 - val_mse: 11.6152\n",
            "Epoch 292/300\n",
            "9/9 [==============================] - 0s 6ms/step - loss: 3.3982 - mae: 1.3034 - mse: 3.3982 - val_loss: 11.7155 - val_mae: 2.3784 - val_mse: 11.7155\n",
            "Epoch 293/300\n",
            "9/9 [==============================] - 0s 5ms/step - loss: 3.3662 - mae: 1.3021 - mse: 3.3662 - val_loss: 11.7725 - val_mae: 2.3970 - val_mse: 11.7725\n",
            "Epoch 294/300\n",
            "9/9 [==============================] - 0s 6ms/step - loss: 3.3671 - mae: 1.3104 - mse: 3.3671 - val_loss: 11.8064 - val_mae: 2.3954 - val_mse: 11.8064\n",
            "Epoch 295/300\n",
            "9/9 [==============================] - 0s 6ms/step - loss: 3.6002 - mae: 1.3237 - mse: 3.6002 - val_loss: 11.7066 - val_mae: 2.3689 - val_mse: 11.7066\n",
            "Epoch 296/300\n",
            "9/9 [==============================] - 0s 6ms/step - loss: 3.4025 - mae: 1.3583 - mse: 3.4025 - val_loss: 12.1525 - val_mae: 2.4905 - val_mse: 12.1525\n",
            "Epoch 297/300\n",
            "9/9 [==============================] - 0s 7ms/step - loss: 3.5267 - mae: 1.3441 - mse: 3.5267 - val_loss: 11.2688 - val_mae: 2.3089 - val_mse: 11.2688\n",
            "Epoch 298/300\n",
            "9/9 [==============================] - 0s 6ms/step - loss: 3.3725 - mae: 1.3010 - mse: 3.3725 - val_loss: 11.8588 - val_mae: 2.4062 - val_mse: 11.8588\n",
            "Epoch 299/300\n",
            "9/9 [==============================] - 0s 7ms/step - loss: 3.3679 - mae: 1.3250 - mse: 3.3679 - val_loss: 11.7524 - val_mae: 2.3829 - val_mse: 11.7524\n",
            "Epoch 300/300\n",
            "9/9 [==============================] - 0s 6ms/step - loss: 3.3187 - mae: 1.2794 - mse: 3.3187 - val_loss: 11.7254 - val_mae: 2.3598 - val_mse: 11.7254\n"
          ],
          "name": "stdout"
        }
      ]
    },
    {
      "cell_type": "markdown",
      "metadata": {
        "id": "cplqstFxpIjp"
      },
      "source": [
        "모델 평가하기"
      ]
    },
    {
      "cell_type": "code",
      "metadata": {
        "colab": {
          "base_uri": "https://localhost:8080/",
          "height": 350
        },
        "id": "tPASvGPrnWHl",
        "outputId": "40a4d9ec-ee5a-43c6-f9e7-4b5fbeaa28ae"
      },
      "source": [
        "import matplotlib.pyplot as plt\n",
        "\n",
        "his_dict = history.history\n",
        "mse = his_dict['mse']\n",
        "val_mse = his_dict['val_mse'] # 검증 데이터가 있는 경우 ‘val_’ 수식어가 붙습니다.\n",
        "\n",
        "epochs = range(1, len(mse) + 1)\n",
        "fig = plt.figure(figsize = (10, 5))\n",
        "\n",
        "# 훈련 및 검증 손실 그리기\n",
        "ax1 = fig.add_subplot(1, 2, 1)\n",
        "ax1.plot(epochs, mse, color = 'blue', label = 'train_mse')\n",
        "ax1.plot(epochs, val_mse, color = 'orange', label = 'val_mse')\n",
        "ax1.set_title('train and val mse')\n",
        "ax1.set_xlabel('epochs')\n",
        "ax1.set_ylabel('mse')\n",
        "ax1.legend()\n",
        "\n",
        "mae = his_dict['mae']\n",
        "val_mae = his_dict['val_mae']\n",
        "\n",
        "# 훈련 및 검증 정확도 그리기\n",
        "ax2 = fig.add_subplot(1, 2, 2)\n",
        "ax2.plot(epochs, mae, color = 'blue', label = 'train_mae')\n",
        "ax2.plot(epochs, val_mae, color = 'orange', label = 'val_mae')\n",
        "ax2.set_title('train and val mae')\n",
        "ax2.set_xlabel('epochs')\n",
        "ax2.set_ylabel('mae')\n",
        "ax2.legend()\n",
        "\n",
        "plt.show()"
      ],
      "execution_count": 31,
      "outputs": [
        {
          "output_type": "display_data",
          "data": {
            "image/png": "[encoded data removed]",
            "text/plain": [
              "<Figure size 720x360 with 2 Axes>"
            ]
          },
          "metadata": {
            "tags": [],
            "needs_background": "light"
          }
        }
      ]
    },
    {
      "cell_type": "code",
      "metadata": {
        "colab": {
          "base_uri": "https://localhost:8080/"
        },
        "id": "tT9PcFqMpHrq",
        "outputId": "c68ba190-5b5a-4468-a454-aeaa609ca328"
      },
      "source": [
        "# 모델 평가하기\n",
        "model.evaluate(x_test, y_test) # mae 2.0 -> 실제 집값과 2000 달러정도 차이"
      ],
      "execution_count": 32,
      "outputs": [
        {
          "output_type": "stream",
          "text": [
            "4/4 [==============================] - 0s 3ms/step - loss: 11.0972 - mae: 2.4394 - mse: 11.0972\n"
          ],
          "name": "stdout"
        },
        {
          "output_type": "execute_result",
          "data": {
            "text/plain": [
              "[11.097163200378418, 2.439354658126831, 11.097163200378418]"
            ]
          },
          "metadata": {
            "tags": []
          },
          "execution_count": 32
        }
      ]
    },
    {
      "cell_type": "markdown",
      "metadata": {
        "id": "Ipkcj_pFpQtV"
      },
      "source": [
        "모델 예측하기"
      ]
    },
    {
      "cell_type": "code",
      "metadata": {
        "colab": {
          "base_uri": "https://localhost:8080/",
          "height": 279
        },
        "id": "NNMg08YVpLT3",
        "outputId": "2d544030-e5bb-46ab-878d-c695c792f0e9"
      },
      "source": [
        "test_predictions = model.predict(x_test).flatten()\n",
        "\n",
        "plt.scatter(y_test, test_predictions)\n",
        "plt.xlabel('True Values [Price]')\n",
        "plt.ylabel('Predictions [Price]')\n",
        "plt.axis('equal')\n",
        "plt.axis('square')\n",
        "plt.xlim([0,plt.xlim()[1]])\n",
        "plt.ylim([0,plt.ylim()[1]])\n",
        "_ = plt.plot([-100, 100], [-100, 100])"
      ],
      "execution_count": 33,
      "outputs": [
        {
          "output_type": "display_data",
          "data": {
            "image/png": "[encoded data removed]",
            "text/plain": [
              "<Figure size 432x288 with 1 Axes>"
            ]
          },
          "metadata": {
            "tags": [],
            "needs_background": "light"
          }
        }
      ]
    }
  ]
}