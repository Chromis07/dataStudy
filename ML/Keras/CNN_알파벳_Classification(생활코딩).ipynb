{
  "nbformat": 4,
  "nbformat_minor": 0,
  "metadata": {
    "colab": {
      "name": "CNN 알파벳 Classification(생활코딩).ipynb",
      "provenance": [],
      "authorship_tag": "ABX9TyN8yvp6jmKlwCitt2H6Hmb+",
      "include_colab_link": true
    },
    "kernelspec": {
      "name": "python3",
      "display_name": "Python 3"
    },
    "language_info": {
      "name": "python"
    }
  },
  "cells": [
    {
      "cell_type": "markdown",
      "metadata": {
        "id": "view-in-github",
        "colab_type": "text"
      },
      "source": [
        "<a href=\"https://colab.research.google.com/github/Chromis07/dataStudy/blob/main/ML/Keras/CNN_%EC%95%8C%ED%8C%8C%EB%B2%B3_Classification(%EC%83%9D%ED%99%9C%EC%BD%94%EB%94%A9).ipynb\" target=\"_parent\"><img src=\"https://colab.research.google.com/assets/colab-badge.svg\" alt=\"Open In Colab\"/></a>"
      ]
    },
    {
      "cell_type": "code",
      "metadata": {
        "id": "IJWte63y6ha8"
      },
      "source": [
        "!wget -q https://raw.githubusercontent.com/blackdew/tensorflow1/master/csv/notMNIST_small.tar.gz\n",
        "!tar -xzf notMNIST_small.tar.gz"
      ],
      "execution_count": null,
      "outputs": []
    },
    {
      "cell_type": "code",
      "metadata": {
        "colab": {
          "base_uri": "https://localhost:8080/"
        },
        "id": "76QloofC7a2A",
        "outputId": "634d3d5a-5ae3-4897-db02-174f1a2576dd"
      },
      "source": [
        "# 이미지 읽어서 데이터 준비하기\n",
        "import glob\n",
        "import numpy as np\n",
        "import pandas as pd\n",
        "import matplotlib.pyplot as plt\n",
        "\n",
        "paths = glob.glob('./notMNIST_small/*/*.png') # 파일 경로를 전부 불러들임\n",
        "paths = np.random.permutation(paths) # 파일들을 섞어줌\n",
        "독립 = np.array([plt.imread(paths[i]) for i in range(len(paths))]) # 파일 경로에 가서 읽음\n",
        "종속 = np.array([paths[i].split('/')[-2] for i in range(len(paths))])\n",
        "print(독립.shape, 종속.shape)"
      ],
      "execution_count": null,
      "outputs": [
        {
          "output_type": "stream",
          "text": [
            "(18724, 28, 28) (18724,)\n"
          ],
          "name": "stdout"
        }
      ]
    },
    {
      "cell_type": "code",
      "metadata": {
        "colab": {
          "base_uri": "https://localhost:8080/"
        },
        "id": "VJrggZ3y8LrR",
        "outputId": "5330f55e-b801-4ecd-e00c-d8e8d2ff3a0a"
      },
      "source": [
        "종속[0:10]"
      ],
      "execution_count": null,
      "outputs": [
        {
          "output_type": "execute_result",
          "data": {
            "text/plain": [
              "array(['C', 'E', 'I', 'C', 'F', 'B', 'B', 'D', 'A', 'J'], dtype='<U1')"
            ]
          },
          "metadata": {
            "tags": []
          },
          "execution_count": 10
        }
      ]
    },
    {
      "cell_type": "code",
      "metadata": {
        "colab": {
          "base_uri": "https://localhost:8080/",
          "height": 283
        },
        "id": "4TFmcR898NCC",
        "outputId": "a44fea1d-eff7-4a45-9d65-2ac5d3742d0b"
      },
      "source": [
        "plt.imshow(독립[0], cmap='gray')"
      ],
      "execution_count": null,
      "outputs": [
        {
          "output_type": "execute_result",
          "data": {
            "text/plain": [
              "<matplotlib.image.AxesImage at 0x7f6ad70b1a50>"
            ]
          },
          "metadata": {
            "tags": []
          },
          "execution_count": 11
        },
        {
          "output_type": "display_data",
          "data": {
            "image/png": "[encoded data removed]",
            "text/plain": [
              "<Figure size 432x288 with 1 Axes>"
            ]
          },
          "metadata": {
            "tags": [],
            "needs_background": "light"
          }
        }
      ]
    },
    {
      "cell_type": "code",
      "metadata": {
        "colab": {
          "base_uri": "https://localhost:8080/"
        },
        "id": "HKe8EJ-g7cka",
        "outputId": "b929bd96-8151-4a7a-c0f9-8442029bc4f0"
      },
      "source": [
        "독립 = 독립.reshape(18724, 28, 28, 1)\n",
        "종속 = pd.get_dummies(종속)\n",
        "print(독립.shape, 종속.shape)"
      ],
      "execution_count": null,
      "outputs": [
        {
          "output_type": "stream",
          "text": [
            "(18724, 28, 28, 1) (18724, 10)\n"
          ],
          "name": "stdout"
        }
      ]
    },
    {
      "cell_type": "code",
      "metadata": {
        "id": "FJoUibnh8N1E"
      },
      "source": [
        "import tensorflow as tf \n",
        "\n",
        "# 모델을 완성합니다. \n",
        "X = tf.keras.layers.Input(shape=[28, 28, 1])\n",
        "\n",
        "H = tf.keras.layers.Conv2D(6, kernel_size=5, padding='same', activation='swish')(X)\n",
        "H = tf.keras.layers.MaxPool2D()(H)\n",
        "\n",
        "H = tf.keras.layers.Conv2D(16, kernel_size=5, activation='swish')(H)\n",
        "H = tf.keras.layers.MaxPool2D()(H)\n",
        "\n",
        "H = tf.keras.layers.Flatten()(H)\n",
        "H = tf.keras.layers.Dense(120, activation='swish')(H)\n",
        "H = tf.keras.layers.Dense(84, activation='swish')(H)\n",
        "Y = tf.keras.layers.Dense(10, activation='softmax')(H)\n",
        "\n",
        "model = tf.keras.models.Model(X, Y)\n",
        "model.compile(loss='categorical_crossentropy', metrics='accuracy')"
      ],
      "execution_count": null,
      "outputs": []
    },
    {
      "cell_type": "code",
      "metadata": {
        "colab": {
          "base_uri": "https://localhost:8080/"
        },
        "id": "BJw93Hjg8SIQ",
        "outputId": "2c8d60f4-25b3-4d3c-f2d4-b92ace61a832"
      },
      "source": [
        "model.fit(독립, 종속, epochs=10)"
      ],
      "execution_count": null,
      "outputs": [
        {
          "output_type": "stream",
          "text": [
            "Epoch 1/10\n",
            "586/586 [==============================] - 14s 22ms/step - loss: 0.5054 - accuracy: 0.8562\n",
            "Epoch 2/10\n",
            "586/586 [==============================] - 13s 22ms/step - loss: 0.2642 - accuracy: 0.9233\n",
            "Epoch 3/10\n",
            "586/586 [==============================] - 13s 23ms/step - loss: 0.2083 - accuracy: 0.9366\n",
            "Epoch 4/10\n",
            "586/586 [==============================] - 13s 22ms/step - loss: 0.1723 - accuracy: 0.9476\n",
            "Epoch 5/10\n",
            "586/586 [==============================] - 13s 23ms/step - loss: 0.1446 - accuracy: 0.9551\n",
            "Epoch 6/10\n",
            "586/586 [==============================] - 13s 23ms/step - loss: 0.1226 - accuracy: 0.9609\n",
            "Epoch 7/10\n",
            "586/586 [==============================] - 13s 23ms/step - loss: 0.1040 - accuracy: 0.9668\n",
            "Epoch 8/10\n",
            "586/586 [==============================] - 13s 22ms/step - loss: 0.0886 - accuracy: 0.9700\n",
            "Epoch 9/10\n",
            "586/586 [==============================] - 13s 23ms/step - loss: 0.0724 - accuracy: 0.9773\n",
            "Epoch 10/10\n",
            "586/586 [==============================] - 13s 23ms/step - loss: 0.0608 - accuracy: 0.9810\n"
          ],
          "name": "stdout"
        },
        {
          "output_type": "execute_result",
          "data": {
            "text/plain": [
              "<tensorflow.python.keras.callbacks.History at 0x7f6ad6e2a090>"
            ]
          },
          "metadata": {
            "tags": []
          },
          "execution_count": 14
        }
      ]
    }
  ]
}