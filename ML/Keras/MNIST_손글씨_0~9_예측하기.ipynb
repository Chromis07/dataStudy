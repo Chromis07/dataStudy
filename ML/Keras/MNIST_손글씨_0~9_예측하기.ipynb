{
  "nbformat": 4,
  "nbformat_minor": 0,
  "metadata": {
    "colab": {
      "name": "MNIST 손글씨 0~9 예측하기.ipynb",
      "provenance": [],
      "collapsed_sections": [],
      "authorship_tag": "ABX9TyMoTphoF31nMSzYGSDylUsE",
      "include_colab_link": true
    },
    "kernelspec": {
      "name": "python3",
      "display_name": "Python 3"
    },
    "language_info": {
      "name": "python"
    }
  },
  "cells": [
    {
      "cell_type": "markdown",
      "metadata": {
        "id": "view-in-github",
        "colab_type": "text"
      },
      "source": [
        "<a href=\"https://colab.research.google.com/github/Chromis07/dataStudy/blob/main/ML/Keras/MNIST_%EC%86%90%EA%B8%80%EC%94%A8_0~9_%EC%98%88%EC%B8%A1%ED%95%98%EA%B8%B0.ipynb\" target=\"_parent\"><img src=\"https://colab.research.google.com/assets/colab-badge.svg\" alt=\"Open In Colab\"/></a>"
      ]
    },
    {
      "cell_type": "markdown",
      "metadata": {
        "id": "CjDuP3rz_wqD"
      },
      "source": [
        "0~9 숫자를 예측하는 다중 분류 문제"
      ]
    },
    {
      "cell_type": "markdown",
      "metadata": {
        "id": "kao7qYWt_0yb"
      },
      "source": [
        "데이터 준비하기"
      ]
    },
    {
      "cell_type": "code",
      "metadata": {
        "id": "cKoztU0w_qxy"
      },
      "source": [
        "from tensorflow.keras.datasets.mnist import load_data\n",
        "\n",
        "# 텐서플로우 저장소에서 데이터를 다운받습니다.\n",
        "(x_train, y_train), (x_test, y_test) = load_data(path='mnist.npz')"
      ],
      "execution_count": 1,
      "outputs": []
    },
    {
      "cell_type": "markdown",
      "metadata": {
        "id": "sRZk9FNWABn3"
      },
      "source": [
        "데이터의 형태 확인하기"
      ]
    },
    {
      "cell_type": "code",
      "metadata": {
        "colab": {
          "base_uri": "https://localhost:8080/"
        },
        "id": "JLGYt8VL_3eU",
        "outputId": "1bc71414-54e2-47df-a18c-ca2dbd4afb66"
      },
      "source": [
        "# training data\n",
        "print(x_train.shape, y_train.shape)\n",
        "print(y_train)\n",
        "\n",
        "# test data\n",
        "print(x_test.shape, y_test.shape)\n",
        "print(y_test)"
      ],
      "execution_count": 2,
      "outputs": [
        {
          "output_type": "stream",
          "text": [
            "(60000, 28, 28) (60000,)\n",
            "[5 0 4 ... 5 6 8]\n",
            "(10000, 28, 28) (10000,)\n",
            "[7 2 1 ... 4 5 6]\n"
          ],
          "name": "stdout"
        }
      ]
    },
    {
      "cell_type": "code",
      "metadata": {
        "colab": {
          "base_uri": "https://localhost:8080/"
        },
        "id": "itmINjI6AVMc",
        "outputId": "4e04ccfe-6446-49db-8a34-10eec25ee906"
      },
      "source": [
        "print(x_train[1])"
      ],
      "execution_count": 3,
      "outputs": [
        {
          "output_type": "stream",
          "text": [
            "[[  0   0   0   0   0   0   0   0   0   0   0   0   0   0   0   0   0   0\n",
            "    0   0   0   0   0   0   0   0   0   0]\n",
            " [  0   0   0   0   0   0   0   0   0   0   0   0   0   0   0   0   0   0\n",
            "    0   0   0   0   0   0   0   0   0   0]\n",
            " [  0   0   0   0   0   0   0   0   0   0   0   0   0   0   0   0   0   0\n",
            "    0   0   0   0   0   0   0   0   0   0]\n",
            " [  0   0   0   0   0   0   0   0   0   0   0   0   0   0   0   0   0   0\n",
            "    0   0   0   0   0   0   0   0   0   0]\n",
            " [  0   0   0   0   0   0   0   0   0   0   0   0   0   0   0  51 159 253\n",
            "  159  50   0   0   0   0   0   0   0   0]\n",
            " [  0   0   0   0   0   0   0   0   0   0   0   0   0   0  48 238 252 252\n",
            "  252 237   0   0   0   0   0   0   0   0]\n",
            " [  0   0   0   0   0   0   0   0   0   0   0   0   0  54 227 253 252 239\n",
            "  233 252  57   6   0   0   0   0   0   0]\n",
            " [  0   0   0   0   0   0   0   0   0   0   0  10  60 224 252 253 252 202\n",
            "   84 252 253 122   0   0   0   0   0   0]\n",
            " [  0   0   0   0   0   0   0   0   0   0   0 163 252 252 252 253 252 252\n",
            "   96 189 253 167   0   0   0   0   0   0]\n",
            " [  0   0   0   0   0   0   0   0   0   0  51 238 253 253 190 114 253 228\n",
            "   47  79 255 168   0   0   0   0   0   0]\n",
            " [  0   0   0   0   0   0   0   0   0  48 238 252 252 179  12  75 121  21\n",
            "    0   0 253 243  50   0   0   0   0   0]\n",
            " [  0   0   0   0   0   0   0   0  38 165 253 233 208  84   0   0   0   0\n",
            "    0   0 253 252 165   0   0   0   0   0]\n",
            " [  0   0   0   0   0   0   0   7 178 252 240  71  19  28   0   0   0   0\n",
            "    0   0 253 252 195   0   0   0   0   0]\n",
            " [  0   0   0   0   0   0   0  57 252 252  63   0   0   0   0   0   0   0\n",
            "    0   0 253 252 195   0   0   0   0   0]\n",
            " [  0   0   0   0   0   0   0 198 253 190   0   0   0   0   0   0   0   0\n",
            "    0   0 255 253 196   0   0   0   0   0]\n",
            " [  0   0   0   0   0   0  76 246 252 112   0   0   0   0   0   0   0   0\n",
            "    0   0 253 252 148   0   0   0   0   0]\n",
            " [  0   0   0   0   0   0  85 252 230  25   0   0   0   0   0   0   0   0\n",
            "    7 135 253 186  12   0   0   0   0   0]\n",
            " [  0   0   0   0   0   0  85 252 223   0   0   0   0   0   0   0   0   7\n",
            "  131 252 225  71   0   0   0   0   0   0]\n",
            " [  0   0   0   0   0   0  85 252 145   0   0   0   0   0   0   0  48 165\n",
            "  252 173   0   0   0   0   0   0   0   0]\n",
            " [  0   0   0   0   0   0  86 253 225   0   0   0   0   0   0 114 238 253\n",
            "  162   0   0   0   0   0   0   0   0   0]\n",
            " [  0   0   0   0   0   0  85 252 249 146  48  29  85 178 225 253 223 167\n",
            "   56   0   0   0   0   0   0   0   0   0]\n",
            " [  0   0   0   0   0   0  85 252 252 252 229 215 252 252 252 196 130   0\n",
            "    0   0   0   0   0   0   0   0   0   0]\n",
            " [  0   0   0   0   0   0  28 199 252 252 253 252 252 233 145   0   0   0\n",
            "    0   0   0   0   0   0   0   0   0   0]\n",
            " [  0   0   0   0   0   0   0  25 128 252 253 252 141  37   0   0   0   0\n",
            "    0   0   0   0   0   0   0   0   0   0]\n",
            " [  0   0   0   0   0   0   0   0   0   0   0   0   0   0   0   0   0   0\n",
            "    0   0   0   0   0   0   0   0   0   0]\n",
            " [  0   0   0   0   0   0   0   0   0   0   0   0   0   0   0   0   0   0\n",
            "    0   0   0   0   0   0   0   0   0   0]\n",
            " [  0   0   0   0   0   0   0   0   0   0   0   0   0   0   0   0   0   0\n",
            "    0   0   0   0   0   0   0   0   0   0]\n",
            " [  0   0   0   0   0   0   0   0   0   0   0   0   0   0   0   0   0   0\n",
            "    0   0   0   0   0   0   0   0   0   0]]\n"
          ],
          "name": "stdout"
        }
      ]
    },
    {
      "cell_type": "markdown",
      "metadata": {
        "id": "f46JKmNEA5Y9"
      },
      "source": [
        "데이터 그려보기"
      ]
    },
    {
      "cell_type": "code",
      "metadata": {
        "colab": {
          "base_uri": "https://localhost:8080/",
          "height": 299
        },
        "id": "MxcFLw9FA4Db",
        "outputId": "f4d14c3c-94df-4474-9a5c-f75d8024c6db"
      },
      "source": [
        "import matplotlib.pyplot as plt\n",
        "import numpy as np\n",
        "\n",
        "idx = 2\n",
        "img = x_train[idx, :]\n",
        "label = y_train[idx]\n",
        "plt.figure()\n",
        "plt.imshow(img)\n",
        "plt.title('%d-th data, label is %d' % (idx,label))"
      ],
      "execution_count": 4,
      "outputs": [
        {
          "output_type": "execute_result",
          "data": {
            "text/plain": [
              "Text(0.5, 1.0, '2-th data, label is 4')"
            ]
          },
          "metadata": {
            "tags": []
          },
          "execution_count": 4
        },
        {
          "output_type": "display_data",
          "data": {
            "image/png": "[encoded data removed]",
            "text/plain": [
              "<Figure size 432x288 with 1 Axes>"
            ]
          },
          "metadata": {
            "tags": [],
            "needs_background": "light"
          }
        }
      ]
    },
    {
      "cell_type": "markdown",
      "metadata": {
        "id": "uJMo_ZniBdwm"
      },
      "source": [
        "validation data 만들기"
      ]
    },
    {
      "cell_type": "code",
      "metadata": {
        "id": "OJyUQVK7A7iL"
      },
      "source": [
        "from sklearn.model_selection import train_test_split\n",
        "\n",
        "# train / validation 데이터를 7:3 비율로 분리\n",
        "x_train, x_val, y_train, y_val = train_test_split(x_train, y_train,\n",
        "                                                  test_size=0.3,\n",
        "                                                  random_state=777)"
      ],
      "execution_count": 5,
      "outputs": []
    },
    {
      "cell_type": "code",
      "metadata": {
        "colab": {
          "base_uri": "https://localhost:8080/"
        },
        "id": "_4dRr3scCGsf",
        "outputId": "c356e7bb-2e59-4e97-dc71-04d693fc6d4a"
      },
      "source": [
        "print(f'훈련데이터 {x_train.shape} 레이블 {y_train.shape}')\n",
        "print(f'검증데이터 {x_val.shape} 레이블 {y_val.shape}')"
      ],
      "execution_count": 6,
      "outputs": [
        {
          "output_type": "stream",
          "text": [
            "훈련데이터 (42000, 28, 28) 레이블 (42000,)\n",
            "검증데이터 (18000, 28, 28) 레이블 (18000,)\n"
          ],
          "name": "stdout"
        }
      ]
    },
    {
      "cell_type": "markdown",
      "metadata": {
        "id": "fn4GGaDrCfPd"
      },
      "source": [
        "모델 입력을 위한 훈련 데이터(손글씨 이미지) 전처리"
      ]
    },
    {
      "cell_type": "markdown",
      "metadata": {
        "id": "ZW67EMpBCtjn"
      },
      "source": [
        "1) 2차원 배열 -> 1차원 배열로 변경 (28*28= 784)**굵은 텍스트**"
      ]
    },
    {
      "cell_type": "code",
      "metadata": {
        "id": "366io8dbCqzk"
      },
      "source": [
        "# 모델의 입력으로 사용하기 위한 전처리 과정\n",
        "\n",
        "num_x_train = x_train.shape[0] # 42000\n",
        "num_x_val = x_val.shape[0] # 18000\n",
        "num_x_test = x_test.shape[0] # 10000"
      ],
      "execution_count": 7,
      "outputs": []
    },
    {
      "cell_type": "code",
      "metadata": {
        "colab": {
          "base_uri": "https://localhost:8080/"
        },
        "id": "8z3uYRReDPZF",
        "outputId": "7c0e3635-41d6-46d4-a33e-425b026b34ad"
      },
      "source": [
        "# 2c차원 배열 -> 1차원 배열로 변경\n",
        "\n",
        "x_train = (x_train.reshape(num_x_train, 28*28))\n",
        "x_val = (x_val.reshape(num_x_val, 28*28))\n",
        "x_test = (x_test.reshape(num_x_test, 28*28))\n",
        "\n",
        "print(x_train.shape) # 모델 입력을 위해 데이터를 784의 1차원으로 변경# 뎅\n",
        "print(x_val.shape)\n",
        "print(x_test.shape)"
      ],
      "execution_count": 8,
      "outputs": [
        {
          "output_type": "stream",
          "text": [
            "(42000, 784)\n",
            "(18000, 784)\n",
            "(10000, 784)\n"
          ],
          "name": "stdout"
        }
      ]
    },
    {
      "cell_type": "code",
      "metadata": {
        "colab": {
          "base_uri": "https://localhost:8080/"
        },
        "id": "_6PiszbcDotJ",
        "outputId": "75a6dcaf-f131-4ad7-9269-d1ccd509e791"
      },
      "source": [
        "# 데이터 스케일링 0~255 -> 0~1 MinMax 알고리즘 사용\n",
        "\n",
        "x_train = x_train / 255\n",
        "x_val = x_val / 255\n",
        "x_test = x_test / 255\n",
        "\n",
        "print(x_train[0])"
      ],
      "execution_count": 9,
      "outputs": [
        {
          "output_type": "stream",
          "text": [
            "[0.         0.         0.         0.         0.         0.\n",
            " 0.         0.         0.         0.         0.         0.\n",
            " 0.         0.         0.         0.         0.         0.\n",
            " 0.         0.         0.         0.         0.         0.\n",
            " 0.         0.         0.         0.         0.         0.\n",
            " 0.         0.         0.         0.         0.         0.\n",
            " 0.         0.         0.         0.         0.         0.\n",
            " 0.         0.         0.         0.         0.         0.\n",
            " 0.         0.         0.         0.         0.         0.\n",
            " 0.         0.         0.         0.         0.         0.\n",
            " 0.         0.         0.         0.         0.         0.\n",
            " 0.         0.         0.         0.         0.         0.\n",
            " 0.         0.         0.         0.         0.         0.\n",
            " 0.         0.         0.         0.         0.         0.\n",
            " 0.         0.         0.         0.         0.         0.\n",
            " 0.         0.         0.         0.         0.         0.\n",
            " 0.         0.09803922 0.49411765 0.81568627 0.99607843 0.88627451\n",
            " 0.04705882 0.         0.         0.         0.         0.\n",
            " 0.         0.         0.         0.         0.         0.\n",
            " 0.         0.         0.         0.         0.         0.\n",
            " 0.         0.         0.         0.         0.05882353 0.82745098\n",
            " 0.99607843 0.99215686 0.99215686 0.99215686 0.4        0.\n",
            " 0.         0.         0.         0.         0.         0.\n",
            " 0.         0.         0.         0.         0.         0.\n",
            " 0.         0.         0.         0.         0.         0.\n",
            " 0.         0.         0.54901961 0.99215686 0.99607843 0.99215686\n",
            " 0.99215686 0.99215686 0.7254902  0.         0.         0.\n",
            " 0.         0.         0.         0.         0.         0.\n",
            " 0.         0.         0.         0.         0.         0.\n",
            " 0.         0.         0.         0.         0.         0.\n",
            " 0.7372549  0.99215686 0.99607843 0.99215686 0.99215686 0.99215686\n",
            " 0.80784314 0.         0.         0.         0.         0.\n",
            " 0.         0.         0.         0.         0.         0.\n",
            " 0.         0.         0.         0.         0.         0.\n",
            " 0.         0.         0.         0.         0.25490196 0.94509804\n",
            " 0.99607843 0.85490196 0.99215686 0.99215686 0.67058824 0.\n",
            " 0.         0.         0.         0.         0.         0.\n",
            " 0.         0.         0.         0.         0.         0.\n",
            " 0.         0.         0.         0.         0.         0.\n",
            " 0.         0.         0.         0.1372549  0.18431373 0.33333333\n",
            " 0.99215686 0.99215686 0.64313725 0.         0.         0.\n",
            " 0.         0.         0.         0.         0.         0.\n",
            " 0.         0.         0.         0.         0.         0.\n",
            " 0.         0.         0.         0.         0.         0.\n",
            " 0.         0.         0.         0.51372549 0.99215686 0.99215686\n",
            " 0.18039216 0.         0.         0.         0.         0.\n",
            " 0.         0.         0.         0.         0.         0.\n",
            " 0.         0.         0.         0.         0.         0.\n",
            " 0.         0.         0.         0.         0.         0.\n",
            " 0.23921569 0.93333333 0.99215686 0.70588235 0.00392157 0.\n",
            " 0.         0.         0.         0.         0.         0.\n",
            " 0.         0.         0.         0.         0.         0.\n",
            " 0.         0.         0.         0.         0.         0.\n",
            " 0.         0.         0.         0.         0.66666667 0.99215686\n",
            " 0.99215686 0.51764706 0.         0.         0.         0.\n",
            " 0.         0.         0.         0.         0.         0.\n",
            " 0.         0.         0.         0.         0.         0.\n",
            " 0.         0.         0.         0.         0.         0.\n",
            " 0.         0.41176471 0.99607843 0.99215686 0.69019608 0.08627451\n",
            " 0.         0.         0.         0.         0.         0.\n",
            " 0.         0.         0.         0.         0.         0.\n",
            " 0.         0.         0.         0.         0.         0.\n",
            " 0.         0.         0.         0.         0.44313725 0.99607843\n",
            " 1.         0.66666667 0.08235294 0.         0.         0.\n",
            " 0.         0.         0.         0.         0.         0.\n",
            " 0.         0.         0.         0.         0.         0.\n",
            " 0.         0.         0.         0.         0.         0.\n",
            " 0.         0.44705882 0.97647059 0.99215686 0.80392157 0.09411765\n",
            " 0.         0.         0.         0.         0.         0.\n",
            " 0.         0.         0.         0.         0.         0.\n",
            " 0.         0.         0.         0.         0.         0.00784314\n",
            " 0.34117647 0.77254902 0.77254902 0.74509804 0.6627451  0.98431373\n",
            " 0.99215686 0.82745098 0.08235294 0.         0.         0.\n",
            " 0.         0.         0.         0.01176471 0.31372549 0.01176471\n",
            " 0.         0.         0.         0.         0.         0.\n",
            " 0.         0.         0.         0.50196078 0.99215686 0.99215686\n",
            " 0.99215686 0.99215686 0.99215686 0.99215686 0.80784314 0.08627451\n",
            " 0.         0.         0.         0.         0.         0.\n",
            " 0.         0.57647059 0.91764706 0.08627451 0.         0.\n",
            " 0.         0.         0.         0.         0.         0.\n",
            " 0.21568627 0.94509804 0.99215686 0.99215686 0.99215686 0.99215686\n",
            " 0.99215686 0.99215686 0.7372549  0.05098039 0.         0.\n",
            " 0.         0.         0.         0.01568627 0.56470588 0.98823529\n",
            " 0.81176471 0.         0.         0.         0.         0.\n",
            " 0.         0.         0.         0.         0.59607843 0.99215686\n",
            " 0.99215686 0.99215686 0.99215686 0.98431373 0.78039216 0.98823529\n",
            " 0.99215686 0.71764706 0.02745098 0.         0.         0.\n",
            " 0.         0.26666667 0.99215686 0.99215686 0.21176471 0.\n",
            " 0.         0.         0.         0.         0.         0.\n",
            " 0.         0.         0.07843137 0.52941176 0.99215686 0.99215686\n",
            " 0.61176471 0.27058824 0.         0.83529412 0.99215686 0.99215686\n",
            " 0.81176471 0.3254902  0.         0.         0.38039216 0.9372549\n",
            " 0.99215686 0.91764706 0.09803922 0.         0.         0.\n",
            " 0.         0.         0.         0.         0.         0.\n",
            " 0.         0.00784314 0.03529412 0.03529412 0.00392157 0.\n",
            " 0.         0.10588235 0.82352941 0.99215686 0.99607843 0.98431373\n",
            " 0.95686275 0.95686275 0.98823529 0.99215686 0.99215686 0.05882353\n",
            " 0.         0.         0.         0.         0.         0.\n",
            " 0.         0.         0.         0.         0.         0.\n",
            " 0.         0.         0.         0.         0.         0.\n",
            " 0.07058824 0.69019608 0.99607843 0.99215686 0.99215686 0.99215686\n",
            " 0.99215686 0.95686275 0.39215686 0.00784314 0.         0.\n",
            " 0.         0.         0.         0.         0.         0.\n",
            " 0.         0.         0.         0.         0.         0.\n",
            " 0.         0.         0.         0.         0.         0.\n",
            " 0.49019608 0.62352941 0.62352941 0.75686275 0.55294118 0.23921569\n",
            " 0.         0.         0.         0.         0.         0.\n",
            " 0.         0.         0.         0.         0.         0.\n",
            " 0.         0.         0.         0.         0.         0.\n",
            " 0.         0.         0.         0.         0.         0.\n",
            " 0.         0.         0.         0.         0.         0.\n",
            " 0.         0.         0.         0.         0.         0.\n",
            " 0.         0.         0.         0.         0.         0.\n",
            " 0.         0.         0.         0.         0.         0.\n",
            " 0.         0.         0.         0.         0.         0.\n",
            " 0.         0.         0.         0.         0.         0.\n",
            " 0.         0.         0.         0.         0.         0.\n",
            " 0.         0.         0.         0.         0.         0.\n",
            " 0.         0.         0.         0.         0.         0.\n",
            " 0.         0.         0.         0.         0.         0.\n",
            " 0.         0.         0.         0.         0.         0.\n",
            " 0.         0.         0.         0.         0.         0.\n",
            " 0.         0.         0.         0.         0.         0.\n",
            " 0.         0.         0.         0.         0.         0.\n",
            " 0.         0.         0.         0.         0.         0.\n",
            " 0.         0.         0.         0.         0.         0.\n",
            " 0.         0.         0.         0.         0.         0.\n",
            " 0.         0.         0.         0.         0.         0.\n",
            " 0.         0.         0.         0.         0.         0.\n",
            " 0.         0.         0.         0.         0.         0.\n",
            " 0.         0.         0.         0.        ]\n"
          ],
          "name": "stdout"
        }
      ]
    },
    {
      "cell_type": "markdown",
      "metadata": {
        "id": "WYeRPK7fGcV-"
      },
      "source": [
        "모델 입력을 위한 레이블(정답) 전처리"
      ]
    },
    {
      "cell_type": "code",
      "metadata": {
        "colab": {
          "base_uri": "https://localhost:8080/"
        },
        "id": "By2QZxlHG1Cp",
        "outputId": "b3c30c02-3e4c-4f11-c375-d40141052088"
      },
      "source": [
        "from tensorflow.keras.utils import to_categorical\n",
        "\n",
        "# 각 데이터의 레이블 0~9 숫자 값을 범주형 형태로 변경\n",
        "\n",
        "y_train = to_categorical(y_train)\n",
        "y_val = to_categorical(y_val)\n",
        "y_test = to_categorical(y_test)\n",
        "y_train.shape"
      ],
      "execution_count": 10,
      "outputs": [
        {
          "output_type": "execute_result",
          "data": {
            "text/plain": [
              "(42000, 10)"
            ]
          },
          "metadata": {
            "tags": []
          },
          "execution_count": 10
        }
      ]
    },
    {
      "cell_type": "markdown",
      "metadata": {
        "id": "QmY0DFljHvlk"
      },
      "source": [
        "모델 구성하기"
      ]
    },
    {
      "cell_type": "code",
      "metadata": {
        "id": "Z1iDBi8CHPbh"
      },
      "source": [
        "from tensorflow.keras.models import Sequential\n",
        "from tensorflow.keras.layers import Dense\n",
        "\n",
        "model = Sequential()\n",
        "model.add(Dense(64, activation='relu', input_shape=(784,)))\n",
        "model.add(Dense(32,activation='relu'))\n",
        "model.add(Dense(10,activation='softmax')) # 10개의 결과, softmax 함수로 다중 분류"
      ],
      "execution_count": 11,
      "outputs": []
    },
    {
      "cell_type": "markdown",
      "metadata": {
        "id": "r7gz4OxfJP--"
      },
      "source": [
        "모델 설정하기"
      ]
    },
    {
      "cell_type": "code",
      "metadata": {
        "id": "ATEgMkFSIRC9"
      },
      "source": [
        " model.compile(loss='categorical_crossentropy',\n",
        "              optimizer='adam',\n",
        "              metrics=['acc']) # accuracy"
      ],
      "execution_count": 12,
      "outputs": []
    },
    {
      "cell_type": "markdown",
      "metadata": {
        "id": "10XD4h_sJdKs"
      },
      "source": [
        "모델 학습시키기"
      ]
    },
    {
      "cell_type": "code",
      "metadata": {
        "colab": {
          "base_uri": "https://localhost:8080/"
        },
        "id": "gOHVxjkUJZ5v",
        "outputId": "1e371732-0c61-4c17-a4bf-b0c40cefad7c"
      },
      "source": [
        "history = model.fit(x_train, y_train, \n",
        "                     epochs=30, \n",
        "                     batch_size=128,\n",
        "                     validation_data = (x_val, y_val))"
      ],
      "execution_count": 13,
      "outputs": [
        {
          "output_type": "stream",
          "text": [
            "Epoch 1/30\n",
            "329/329 [==============================] - 2s 5ms/step - loss: 0.5105 - acc: 0.8503 - val_loss: 0.2410 - val_acc: 0.9319\n",
            "Epoch 2/30\n",
            "329/329 [==============================] - 1s 4ms/step - loss: 0.2005 - acc: 0.9417 - val_loss: 0.1820 - val_acc: 0.9469\n",
            "Epoch 3/30\n",
            "329/329 [==============================] - 1s 4ms/step - loss: 0.1506 - acc: 0.9563 - val_loss: 0.1508 - val_acc: 0.9552\n",
            "Epoch 4/30\n",
            "329/329 [==============================] - 1s 4ms/step - loss: 0.1208 - acc: 0.9640 - val_loss: 0.1403 - val_acc: 0.9569\n",
            "Epoch 5/30\n",
            "329/329 [==============================] - 1s 4ms/step - loss: 0.1031 - acc: 0.9700 - val_loss: 0.1333 - val_acc: 0.9603\n",
            "Epoch 6/30\n",
            "329/329 [==============================] - 1s 4ms/step - loss: 0.0876 - acc: 0.9749 - val_loss: 0.1186 - val_acc: 0.9634\n",
            "Epoch 7/30\n",
            "329/329 [==============================] - 1s 4ms/step - loss: 0.0765 - acc: 0.9775 - val_loss: 0.1179 - val_acc: 0.9658\n",
            "Epoch 8/30\n",
            "329/329 [==============================] - 1s 4ms/step - loss: 0.0687 - acc: 0.9798 - val_loss: 0.1092 - val_acc: 0.9679\n",
            "Epoch 9/30\n",
            "329/329 [==============================] - 1s 3ms/step - loss: 0.0593 - acc: 0.9828 - val_loss: 0.1159 - val_acc: 0.9660\n",
            "Epoch 10/30\n",
            "329/329 [==============================] - 1s 4ms/step - loss: 0.0522 - acc: 0.9851 - val_loss: 0.1033 - val_acc: 0.9696\n",
            "Epoch 11/30\n",
            "329/329 [==============================] - 1s 4ms/step - loss: 0.0448 - acc: 0.9869 - val_loss: 0.1064 - val_acc: 0.9686\n",
            "Epoch 12/30\n",
            "329/329 [==============================] - 1s 4ms/step - loss: 0.0406 - acc: 0.9881 - val_loss: 0.1114 - val_acc: 0.9686\n",
            "Epoch 13/30\n",
            "329/329 [==============================] - 1s 4ms/step - loss: 0.0378 - acc: 0.9885 - val_loss: 0.1094 - val_acc: 0.9702\n",
            "Epoch 14/30\n",
            "329/329 [==============================] - 1s 3ms/step - loss: 0.0333 - acc: 0.9899 - val_loss: 0.1086 - val_acc: 0.9707\n",
            "Epoch 15/30\n",
            "329/329 [==============================] - 1s 4ms/step - loss: 0.0279 - acc: 0.9922 - val_loss: 0.1066 - val_acc: 0.9701\n",
            "Epoch 16/30\n",
            "329/329 [==============================] - 1s 4ms/step - loss: 0.0253 - acc: 0.9926 - val_loss: 0.1072 - val_acc: 0.9706\n",
            "Epoch 17/30\n",
            "329/329 [==============================] - 1s 4ms/step - loss: 0.0233 - acc: 0.9934 - val_loss: 0.1209 - val_acc: 0.9674\n",
            "Epoch 18/30\n",
            "329/329 [==============================] - 1s 4ms/step - loss: 0.0204 - acc: 0.9939 - val_loss: 0.1152 - val_acc: 0.9703\n",
            "Epoch 19/30\n",
            "329/329 [==============================] - 1s 4ms/step - loss: 0.0173 - acc: 0.9951 - val_loss: 0.1120 - val_acc: 0.9702\n",
            "Epoch 20/30\n",
            "329/329 [==============================] - 1s 4ms/step - loss: 0.0146 - acc: 0.9959 - val_loss: 0.1234 - val_acc: 0.9698\n",
            "Epoch 21/30\n",
            "329/329 [==============================] - 1s 4ms/step - loss: 0.0140 - acc: 0.9959 - val_loss: 0.1191 - val_acc: 0.9703\n",
            "Epoch 22/30\n",
            "329/329 [==============================] - 1s 4ms/step - loss: 0.0126 - acc: 0.9968 - val_loss: 0.1183 - val_acc: 0.9723\n",
            "Epoch 23/30\n",
            "329/329 [==============================] - 1s 4ms/step - loss: 0.0098 - acc: 0.9979 - val_loss: 0.1260 - val_acc: 0.9708\n",
            "Epoch 24/30\n",
            "329/329 [==============================] - 1s 3ms/step - loss: 0.0104 - acc: 0.9972 - val_loss: 0.1473 - val_acc: 0.9664\n",
            "Epoch 25/30\n",
            "329/329 [==============================] - 1s 3ms/step - loss: 0.0097 - acc: 0.9978 - val_loss: 0.1299 - val_acc: 0.9698\n",
            "Epoch 26/30\n",
            "329/329 [==============================] - 1s 4ms/step - loss: 0.0084 - acc: 0.9979 - val_loss: 0.1296 - val_acc: 0.9721\n",
            "Epoch 27/30\n",
            "329/329 [==============================] - 1s 3ms/step - loss: 0.0058 - acc: 0.9989 - val_loss: 0.1313 - val_acc: 0.9719\n",
            "Epoch 28/30\n",
            "329/329 [==============================] - 1s 4ms/step - loss: 0.0152 - acc: 0.9949 - val_loss: 0.1759 - val_acc: 0.9647\n",
            "Epoch 29/30\n",
            "329/329 [==============================] - 1s 4ms/step - loss: 0.0088 - acc: 0.9973 - val_loss: 0.1379 - val_acc: 0.9714\n",
            "Epoch 30/30\n",
            "329/329 [==============================] - 1s 4ms/step - loss: 0.0039 - acc: 0.9992 - val_loss: 0.1402 - val_acc: 0.9720\n"
          ],
          "name": "stdout"
        }
      ]
    },
    {
      "cell_type": "code",
      "metadata": {
        "colab": {
          "base_uri": "https://localhost:8080/",
          "height": 350
        },
        "id": "B9xrNOWZJqfJ",
        "outputId": "6a42a39e-3ffd-44b8-a0d3-5439859a8b4c"
      },
      "source": [
        "import matplotlib.pyplot as plt\n",
        "\n",
        "his_dict = history.history\n",
        "loss = his_dict['loss']\n",
        "val_loss = his_dict['val_loss'] # 검증 데이터가 있는 경우 ‘val_’ 수식어가 붙습니다.\n",
        "\n",
        "epochs = range(1, len(loss) + 1)\n",
        "fig = plt.figure(figsize = (10, 5))\n",
        "\n",
        "# 훈련 및 검증 손실 그리기\n",
        "ax1 = fig.add_subplot(1, 2, 1)\n",
        "ax1.plot(epochs, loss, color = 'blue', label = 'train_loss')\n",
        "ax1.plot(epochs, val_loss, color = 'orange', label = 'val_loss')\n",
        "ax1.set_title('train and val loss')\n",
        "ax1.set_xlabel('epochs')\n",
        "ax1.set_ylabel('loss')\n",
        "ax1.legend()\n",
        "\n",
        "acc = his_dict['acc']\n",
        "val_acc = his_dict['val_acc']\n",
        "\n",
        "# 훈련 및 검증 정확도 그리기\n",
        "ax2 = fig.add_subplot(1, 2, 2)\n",
        "ax2.plot(epochs, acc, color = 'blue', label = 'train_acc')\n",
        "ax2.plot(epochs, val_acc, color = 'orange', label = 'val_acc')\n",
        "ax2.set_title('train and val acc')\n",
        "ax2.set_xlabel('epochs')\n",
        "ax2.set_ylabel('loss')\n",
        "ax2.legend()\n",
        "\n",
        "plt.show()"
      ],
      "execution_count": 14,
      "outputs": [
        {
          "output_type": "display_data",
          "data": {
            "image/png": "[encoded data removed]",
            "text/plain": [
              "<Figure size 720x360 with 2 Axes>"
            ]
          },
          "metadata": {
            "tags": [],
            "needs_background": "light"
          }
        }
      ]
    },
    {
      "cell_type": "markdown",
      "metadata": {
        "id": "e4buFC5YK-uL"
      },
      "source": [
        "모델 평가하기"
      ]
    },
    {
      "cell_type": "code",
      "metadata": {
        "colab": {
          "base_uri": "https://localhost:8080/"
        },
        "id": "amEBgDpkKeUa",
        "outputId": "7ddc43ea-410d-4087-e3b1-b41d18f4a6c3"
      },
      "source": [
        "model.evaluate(x_test, y_test)"
      ],
      "execution_count": 15,
      "outputs": [
        {
          "output_type": "stream",
          "text": [
            "313/313 [==============================] - 0s 1ms/step - loss: 0.1317 - acc: 0.9718\n"
          ],
          "name": "stdout"
        },
        {
          "output_type": "execute_result",
          "data": {
            "text/plain": [
              "[0.1316869556903839, 0.9718000292778015]"
            ]
          },
          "metadata": {
            "tags": []
          },
          "execution_count": 15
        }
      ]
    },
    {
      "cell_type": "markdown",
      "metadata": {
        "id": "mFFRiCNFLL25"
      },
      "source": [
        "예측값 그려서 확인해보기"
      ]
    },
    {
      "cell_type": "code",
      "metadata": {
        "colab": {
          "base_uri": "https://localhost:8080/"
        },
        "id": "5WPdWerVLDcy",
        "outputId": "8b042d1b-3118-48bd-c3c4-26dae196092f"
      },
      "source": [
        "import numpy as np\n",
        "np.set_printoptions(suppress=True)\n",
        "\n",
        "results = model.predict(x_test)\n",
        "print(results.shape)\n",
        "np.set_printoptions(precision=7) # numpy 소수점 제한\n",
        "print(f'각 클래스에 속할 확률 : \\n{results[0]}')"
      ],
      "execution_count": 16,
      "outputs": [
        {
          "output_type": "stream",
          "text": [
            "(10000, 10)\n",
            "각 클래스에 속할 확률 : \n",
            "[0. 0. 0. 0. 0. 0. 0. 1. 0. 0.]\n"
          ],
          "name": "stdout"
        }
      ]
    },
    {
      "cell_type": "code",
      "metadata": {
        "colab": {
          "base_uri": "https://localhost:8080/",
          "height": 281
        },
        "id": "gzGU5vPiLWSg",
        "outputId": "ad8fc655-af00-438e-973f-48ff10292670"
      },
      "source": [
        "import matplotlib.pyplot as plt\n",
        "\n",
        "arg_results = np.argmax(results, axis = -1) # 가장 큰 값의 인덱스를 가져옵니다.\n",
        "plt.imshow(x_test[0].reshape(28, 28))\n",
        "plt.title('Predicted value of the first image : ' + str(arg_results[0]))\n",
        "plt.show()"
      ],
      "execution_count": 17,
      "outputs": [
        {
          "output_type": "display_data",
          "data": {
            "image/png": "[encoded data removed]",
            "text/plain": [
              "<Figure size 432x288 with 1 Axes>"
            ]
          },
          "metadata": {
            "tags": [],
            "needs_background": "light"
          }
        }
      ]
    },
    {
      "cell_type": "markdown",
      "metadata": {
        "id": "xipILs2qLvsC"
      },
      "source": [
        "모델 평가 방법 1 - 혼동 행렬"
      ]
    },
    {
      "cell_type": "code",
      "metadata": {
        "colab": {
          "base_uri": "https://localhost:8080/",
          "height": 442
        },
        "id": "yY8hk8PhLdkx",
        "outputId": "3df2b0bf-7abd-4585-fa5e-a7232153e86c"
      },
      "source": [
        "# sklearn.metrics 모듈은 여러가지 평가 지표에 관한 기능을 제공합니다.\n",
        "from sklearn.metrics import classification_report, confusion_matrix\n",
        "import matplotlib.pyplot as plt\n",
        "import seaborn as sns\n",
        "\n",
        "# 혼동 행렬을 만듭니다.\n",
        "plt.figure(figsize = (7, 7))\n",
        "cm = confusion_matrix(np.argmax(y_test, axis = -1), np.argmax(results, axis = -1))\n",
        "sns.heatmap(cm, annot = True, fmt = 'd',cmap = 'Blues')\n",
        "plt.xlabel('predicted label')\n",
        "plt.ylabel('true label')\n",
        "plt.show()\n",
        "\n",
        "# 부족한 친구들은? - 데이터를 추가"
      ],
      "execution_count": 18,
      "outputs": [
        {
          "output_type": "display_data",
          "data": {
            "image/png": "[encoded data removed]",
            "text/plain": [
              "<Figure size 504x504 with 2 Axes>"
            ]
          },
          "metadata": {
            "tags": [],
            "needs_background": "light"
          }
        }
      ]
    },
    {
      "cell_type": "markdown",
      "metadata": {
        "id": "2O8wlB4pMizH"
      },
      "source": [
        "모델 평가 방법 2 - 분류 보고서"
      ]
    },
    {
      "cell_type": "code",
      "metadata": {
        "colab": {
          "base_uri": "https://localhost:8080/"
        },
        "id": "lg29J6QPL0bw",
        "outputId": "6c4c09d0-da9d-4fb4-c23c-3968673757a6"
      },
      "source": [
        "print('\\n', classification_report(np.argmax(y_test, axis = -1), np.argmax(results, axis = -1)))"
      ],
      "execution_count": 19,
      "outputs": [
        {
          "output_type": "stream",
          "text": [
            "\n",
            "               precision    recall  f1-score   support\n",
            "\n",
            "           0       0.97      0.98      0.98       980\n",
            "           1       0.99      0.99      0.99      1135\n",
            "           2       0.97      0.97      0.97      1032\n",
            "           3       0.97      0.97      0.97      1010\n",
            "           4       0.98      0.96      0.97       982\n",
            "           5       0.97      0.97      0.97       892\n",
            "           6       0.98      0.97      0.97       958\n",
            "           7       0.96      0.97      0.97      1028\n",
            "           8       0.97      0.97      0.97       974\n",
            "           9       0.96      0.96      0.96      1009\n",
            "\n",
            "    accuracy                           0.97     10000\n",
            "   macro avg       0.97      0.97      0.97     10000\n",
            "weighted avg       0.97      0.97      0.97     10000\n",
            "\n"
          ],
          "name": "stdout"
        }
      ]
    }
  ]
}