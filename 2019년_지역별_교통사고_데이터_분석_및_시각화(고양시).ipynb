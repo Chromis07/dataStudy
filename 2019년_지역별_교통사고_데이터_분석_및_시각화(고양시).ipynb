{
  "nbformat": 4,
  "nbformat_minor": 0,
  "metadata": {
    "colab": {
      "name": "2019년 지역별 교통사고 데이터 분석 및 시각화(고양시).ipynb",
      "provenance": [],
      "collapsed_sections": [],
      "authorship_tag": "ABX9TyNGR+6edM53ivdoq52h7OZX",
      "include_colab_link": true
    },
    "kernelspec": {
      "name": "python3",
      "display_name": "Python 3"
    },
    "language_info": {
      "name": "python"
    }
  },
  "cells": [
    {
      "cell_type": "markdown",
      "metadata": {
        "id": "view-in-github",
        "colab_type": "text"
      },
      "source": [
        "<a href=\"https://colab.research.google.com/github/Chromis07/dataStudy/blob/main/2019%EB%85%84_%EC%A7%80%EC%97%AD%EB%B3%84_%EA%B5%90%ED%86%B5%EC%82%AC%EA%B3%A0_%EB%8D%B0%EC%9D%B4%ED%84%B0_%EB%B6%84%EC%84%9D_%EB%B0%8F_%EC%8B%9C%EA%B0%81%ED%99%94(%EA%B3%A0%EC%96%91%EC%8B%9C).ipynb\" target=\"_parent\"><img src=\"https://colab.research.google.com/assets/colab-badge.svg\" alt=\"Open In Colab\"/></a>"
      ]
    },
    {
      "cell_type": "code",
      "metadata": {
        "id": "jVSdjP8qe8Ev"
      },
      "source": [
        "import plotly.express as px\n",
        "import pandas as pd"
      ],
      "execution_count": null,
      "outputs": []
    },
    {
      "cell_type": "markdown",
      "metadata": {
        "id": "fVVbibYEfP2z"
      },
      "source": [
        "데이터 준비하기"
      ]
    },
    {
      "cell_type": "code",
      "metadata": {
        "colab": {
          "base_uri": "https://localhost:8080/",
          "height": 887
        },
        "id": "9CNj8XO-fTAo",
        "outputId": "94b666e6-d4ff-4eb8-b801-944fcf964dbf"
      },
      "source": [
        "df = pd.read_csv('/content/도로교통공단_교통사고 정보.csv', encoding='euc-kr')\n",
        "df.head()"
      ],
      "execution_count": null,
      "outputs": [
        {
          "output_type": "execute_result",
          "data": {
            "text/html": [
              "<div>\n",
              "<style scoped>\n",
              "    .dataframe tbody tr th:only-of-type {\n",
              "        vertical-align: middle;\n",
              "    }\n",
              "\n",
              "    .dataframe tbody tr th {\n",
              "        vertical-align: top;\n",
              "    }\n",
              "\n",
              "    .dataframe thead th {\n",
              "        text-align: right;\n",
              "    }\n",
              "</style>\n",
              "<table border=\"1\" class=\"dataframe\">\n",
              "  <thead>\n",
              "    <tr style=\"text-align: right;\">\n",
              "      <th></th>\n",
              "      <th>발생년</th>\n",
              "      <th>발생년월일시</th>\n",
              "      <th>주야</th>\n",
              "      <th>요일</th>\n",
              "      <th>사망자수</th>\n",
              "      <th>부상자수</th>\n",
              "      <th>중상자수</th>\n",
              "      <th>경상자수</th>\n",
              "      <th>부상신고자수</th>\n",
              "      <th>발생지시도</th>\n",
              "      <th>발생지시군구</th>\n",
              "      <th>사고유형_대분류</th>\n",
              "      <th>사고유형_중분류</th>\n",
              "      <th>사고유형</th>\n",
              "      <th>가해자법규위반</th>\n",
              "      <th>도로형태_대분류</th>\n",
              "      <th>도로형태</th>\n",
              "      <th>가해자_당사자종별</th>\n",
              "      <th>피해자_당사자종별</th>\n",
              "      <th>발생위치X_UTMK</th>\n",
              "      <th>발생위치Y_UTMK</th>\n",
              "      <th>경도</th>\n",
              "      <th>위도</th>\n",
              "    </tr>\n",
              "  </thead>\n",
              "  <tbody>\n",
              "    <tr>\n",
              "      <th>0</th>\n",
              "      <td>2019</td>\n",
              "      <td>2019010100</td>\n",
              "      <td>야</td>\n",
              "      <td>화</td>\n",
              "      <td>1</td>\n",
              "      <td>0</td>\n",
              "      <td>0</td>\n",
              "      <td>0</td>\n",
              "      <td>0</td>\n",
              "      <td>부산</td>\n",
              "      <td>해운대구</td>\n",
              "      <td>차대사람</td>\n",
              "      <td>기타</td>\n",
              "      <td>기타</td>\n",
              "      <td>중앙선 침범</td>\n",
              "      <td>교차로</td>\n",
              "      <td>교차로내</td>\n",
              "      <td>승용차</td>\n",
              "      <td>보행자</td>\n",
              "      <td>1150507.0</td>\n",
              "      <td>1685987.0</td>\n",
              "      <td>129.152465</td>\n",
              "      <td>35.157884</td>\n",
              "    </tr>\n",
              "    <tr>\n",
              "      <th>1</th>\n",
              "      <td>2019</td>\n",
              "      <td>2019010103</td>\n",
              "      <td>야</td>\n",
              "      <td>화</td>\n",
              "      <td>1</td>\n",
              "      <td>0</td>\n",
              "      <td>0</td>\n",
              "      <td>0</td>\n",
              "      <td>0</td>\n",
              "      <td>경기</td>\n",
              "      <td>안산시</td>\n",
              "      <td>차대차</td>\n",
              "      <td>정면충돌</td>\n",
              "      <td>정면충돌</td>\n",
              "      <td>중앙선 침범</td>\n",
              "      <td>단일로</td>\n",
              "      <td>기타단일로</td>\n",
              "      <td>승용차</td>\n",
              "      <td>승용차</td>\n",
              "      <td>943018.0</td>\n",
              "      <td>1921233.0</td>\n",
              "      <td>126.857149</td>\n",
              "      <td>37.288292</td>\n",
              "    </tr>\n",
              "    <tr>\n",
              "      <th>2</th>\n",
              "      <td>2019</td>\n",
              "      <td>2019010116</td>\n",
              "      <td>주</td>\n",
              "      <td>화</td>\n",
              "      <td>1</td>\n",
              "      <td>0</td>\n",
              "      <td>0</td>\n",
              "      <td>0</td>\n",
              "      <td>0</td>\n",
              "      <td>경북</td>\n",
              "      <td>청도군</td>\n",
              "      <td>차대차</td>\n",
              "      <td>측면충돌</td>\n",
              "      <td>측면충돌</td>\n",
              "      <td>안전운전 의무 불이행</td>\n",
              "      <td>교차로</td>\n",
              "      <td>교차로부근</td>\n",
              "      <td>승용차</td>\n",
              "      <td>사륜오토바이(ATV)</td>\n",
              "      <td>1100414.0</td>\n",
              "      <td>1739893.0</td>\n",
              "      <td>128.609230</td>\n",
              "      <td>35.650108</td>\n",
              "    </tr>\n",
              "    <tr>\n",
              "      <th>3</th>\n",
              "      <td>2019</td>\n",
              "      <td>2019010119</td>\n",
              "      <td>야</td>\n",
              "      <td>화</td>\n",
              "      <td>1</td>\n",
              "      <td>0</td>\n",
              "      <td>0</td>\n",
              "      <td>0</td>\n",
              "      <td>0</td>\n",
              "      <td>대전</td>\n",
              "      <td>서구</td>\n",
              "      <td>차대사람</td>\n",
              "      <td>횡단중</td>\n",
              "      <td>횡단중</td>\n",
              "      <td>안전운전 의무 불이행</td>\n",
              "      <td>교차로</td>\n",
              "      <td>교차로부근</td>\n",
              "      <td>승용차</td>\n",
              "      <td>보행자</td>\n",
              "      <td>989194.0</td>\n",
              "      <td>1817621.0</td>\n",
              "      <td>127.379560</td>\n",
              "      <td>36.355946</td>\n",
              "    </tr>\n",
              "    <tr>\n",
              "      <th>4</th>\n",
              "      <td>2019</td>\n",
              "      <td>2019010121</td>\n",
              "      <td>야</td>\n",
              "      <td>화</td>\n",
              "      <td>1</td>\n",
              "      <td>0</td>\n",
              "      <td>0</td>\n",
              "      <td>0</td>\n",
              "      <td>0</td>\n",
              "      <td>경북</td>\n",
              "      <td>영천시</td>\n",
              "      <td>차대사람</td>\n",
              "      <td>기타</td>\n",
              "      <td>기타</td>\n",
              "      <td>안전운전 의무 불이행</td>\n",
              "      <td>단일로</td>\n",
              "      <td>기타단일로</td>\n",
              "      <td>승용차</td>\n",
              "      <td>보행자</td>\n",
              "      <td>1127700.0</td>\n",
              "      <td>1767912.0</td>\n",
              "      <td>128.915041</td>\n",
              "      <td>35.899506</td>\n",
              "    </tr>\n",
              "  </tbody>\n",
              "</table>\n",
              "</div>"
            ],
            "text/plain": [
              "    발생년      발생년월일시 주야 요일  ...  발생위치X_UTMK  발생위치Y_UTMK          경도         위도\n",
              "0  2019  2019010100  야  화  ...   1150507.0   1685987.0  129.152465  35.157884\n",
              "1  2019  2019010103  야  화  ...    943018.0   1921233.0  126.857149  37.288292\n",
              "2  2019  2019010116  주  화  ...   1100414.0   1739893.0  128.609230  35.650108\n",
              "3  2019  2019010119  야  화  ...    989194.0   1817621.0  127.379560  36.355946\n",
              "4  2019  2019010121  야  화  ...   1127700.0   1767912.0  128.915041  35.899506\n",
              "\n",
              "[5 rows x 23 columns]"
            ]
          },
          "metadata": {
            "tags": []
          },
          "execution_count": 5
        }
      ]
    },
    {
      "cell_type": "code",
      "metadata": {
        "colab": {
          "base_uri": "https://localhost:8080/"
        },
        "id": "FuzUn-5kfVnx",
        "outputId": "bf43d81c-8d46-4543-c712-8ccc6ed20686"
      },
      "source": [
        "df.info()"
      ],
      "execution_count": null,
      "outputs": [
        {
          "output_type": "stream",
          "text": [
            "<class 'pandas.core.frame.DataFrame'>\n",
            "RangeIndex: 3233 entries, 0 to 3232\n",
            "Data columns (total 23 columns):\n",
            " #   Column      Non-Null Count  Dtype  \n",
            "---  ------      --------------  -----  \n",
            " 0   발생년         3233 non-null   int64  \n",
            " 1   발생년월일시      3233 non-null   int64  \n",
            " 2   주야          3233 non-null   object \n",
            " 3   요일          3233 non-null   object \n",
            " 4   사망자수        3233 non-null   int64  \n",
            " 5   부상자수        3233 non-null   int64  \n",
            " 6   중상자수        3233 non-null   int64  \n",
            " 7   경상자수        3233 non-null   int64  \n",
            " 8   부상신고자수      3233 non-null   int64  \n",
            " 9   발생지시도       3233 non-null   object \n",
            " 10  발생지시군구      3233 non-null   object \n",
            " 11  사고유형_대분류    3233 non-null   object \n",
            " 12  사고유형_중분류    3233 non-null   object \n",
            " 13  사고유형        3233 non-null   object \n",
            " 14  가해자법규위반     3233 non-null   object \n",
            " 15  도로형태_대분류    3233 non-null   object \n",
            " 16  도로형태        3233 non-null   object \n",
            " 17  가해자_당사자종별   3233 non-null   object \n",
            " 18  피해자_당사자종별   3233 non-null   object \n",
            " 19  발생위치X_UTMK  3233 non-null   float64\n",
            " 20  발생위치Y_UTMK  3233 non-null   float64\n",
            " 21  경도          3233 non-null   float64\n",
            " 22  위도          3233 non-null   float64\n",
            "dtypes: float64(4), int64(7), object(12)\n",
            "memory usage: 581.1+ KB\n"
          ],
          "name": "stdout"
        }
      ]
    },
    {
      "cell_type": "markdown",
      "metadata": {
        "id": "4z4qwzi9hdv7"
      },
      "source": [
        "교통사고 시간 전처리"
      ]
    },
    {
      "cell_type": "code",
      "metadata": {
        "id": "7cpaKVYygDGR"
      },
      "source": [
        "# Substr 문자열 자르기를 위해 데이터타입 변경\n",
        "df = df.astype({'발생년월일시' : 'string'})"
      ],
      "execution_count": null,
      "outputs": []
    },
    {
      "cell_type": "code",
      "metadata": {
        "colab": {
          "base_uri": "https://localhost:8080/"
        },
        "id": "QmCgptYSho5p",
        "outputId": "e5c3b6b6-fe98-442a-aa35-1f07feb529f7"
      },
      "source": [
        "df.info()"
      ],
      "execution_count": null,
      "outputs": [
        {
          "output_type": "stream",
          "text": [
            "<class 'pandas.core.frame.DataFrame'>\n",
            "RangeIndex: 3233 entries, 0 to 3232\n",
            "Data columns (total 23 columns):\n",
            " #   Column      Non-Null Count  Dtype  \n",
            "---  ------      --------------  -----  \n",
            " 0   발생년         3233 non-null   int64  \n",
            " 1   발생년월일시      3233 non-null   string \n",
            " 2   주야          3233 non-null   object \n",
            " 3   요일          3233 non-null   object \n",
            " 4   사망자수        3233 non-null   int64  \n",
            " 5   부상자수        3233 non-null   int64  \n",
            " 6   중상자수        3233 non-null   int64  \n",
            " 7   경상자수        3233 non-null   int64  \n",
            " 8   부상신고자수      3233 non-null   int64  \n",
            " 9   발생지시도       3233 non-null   object \n",
            " 10  발생지시군구      3233 non-null   object \n",
            " 11  사고유형_대분류    3233 non-null   object \n",
            " 12  사고유형_중분류    3233 non-null   object \n",
            " 13  사고유형        3233 non-null   object \n",
            " 14  가해자법규위반     3233 non-null   object \n",
            " 15  도로형태_대분류    3233 non-null   object \n",
            " 16  도로형태        3233 non-null   object \n",
            " 17  가해자_당사자종별   3233 non-null   object \n",
            " 18  피해자_당사자종별   3233 non-null   object \n",
            " 19  발생위치X_UTMK  3233 non-null   float64\n",
            " 20  발생위치Y_UTMK  3233 non-null   float64\n",
            " 21  경도          3233 non-null   float64\n",
            " 22  위도          3233 non-null   float64\n",
            "dtypes: float64(4), int64(6), object(12), string(1)\n",
            "memory usage: 581.1+ KB\n"
          ],
          "name": "stdout"
        }
      ]
    },
    {
      "cell_type": "code",
      "metadata": {
        "id": "KwdY4tCthp6i"
      },
      "source": [
        "# 2019010100 -> 00 시간으로 분리\n",
        "df['발생시간'] = df['발생년월일시'].str[8:]"
      ],
      "execution_count": null,
      "outputs": []
    },
    {
      "cell_type": "code",
      "metadata": {
        "id": "DfWIi9GTiCdp"
      },
      "source": [
        "# 발생시간 숫자 데이터타입으로 변경\n",
        "df = df.astype({'발생시간' : 'int64'})"
      ],
      "execution_count": null,
      "outputs": []
    },
    {
      "cell_type": "code",
      "metadata": {
        "colab": {
          "base_uri": "https://localhost:8080/"
        },
        "id": "BPl3H7IdiDd4",
        "outputId": "0754fd7e-7a12-4d09-ae2e-dee5d4ab0a69"
      },
      "source": [
        "df.info()"
      ],
      "execution_count": null,
      "outputs": [
        {
          "output_type": "stream",
          "text": [
            "<class 'pandas.core.frame.DataFrame'>\n",
            "RangeIndex: 3233 entries, 0 to 3232\n",
            "Data columns (total 24 columns):\n",
            " #   Column      Non-Null Count  Dtype  \n",
            "---  ------      --------------  -----  \n",
            " 0   발생년         3233 non-null   int64  \n",
            " 1   발생년월일시      3233 non-null   string \n",
            " 2   주야          3233 non-null   object \n",
            " 3   요일          3233 non-null   object \n",
            " 4   사망자수        3233 non-null   int64  \n",
            " 5   부상자수        3233 non-null   int64  \n",
            " 6   중상자수        3233 non-null   int64  \n",
            " 7   경상자수        3233 non-null   int64  \n",
            " 8   부상신고자수      3233 non-null   int64  \n",
            " 9   발생지시도       3233 non-null   object \n",
            " 10  발생지시군구      3233 non-null   object \n",
            " 11  사고유형_대분류    3233 non-null   object \n",
            " 12  사고유형_중분류    3233 non-null   object \n",
            " 13  사고유형        3233 non-null   object \n",
            " 14  가해자법규위반     3233 non-null   object \n",
            " 15  도로형태_대분류    3233 non-null   object \n",
            " 16  도로형태        3233 non-null   object \n",
            " 17  가해자_당사자종별   3233 non-null   object \n",
            " 18  피해자_당사자종별   3233 non-null   object \n",
            " 19  발생위치X_UTMK  3233 non-null   float64\n",
            " 20  발생위치Y_UTMK  3233 non-null   float64\n",
            " 21  경도          3233 non-null   float64\n",
            " 22  위도          3233 non-null   float64\n",
            " 23  발생시간        3233 non-null   int64  \n",
            "dtypes: float64(4), int64(7), object(12), string(1)\n",
            "memory usage: 606.3+ KB\n"
          ],
          "name": "stdout"
        }
      ]
    },
    {
      "cell_type": "code",
      "metadata": {
        "id": "UhpiMdHBiZlv"
      },
      "source": [
        "# 2019010100 추출 -> 2019-01-01 (날짜형태 YYYY-MM-DD 형태로 변경)\n",
        "df['발생년월일시'] = pd.to_datetime(df['발생년월일시'].str[:8], \n",
        "                              format = '%Y-%m-%d', errors='raise')"
      ],
      "execution_count": null,
      "outputs": []
    },
    {
      "cell_type": "code",
      "metadata": {
        "colab": {
          "base_uri": "https://localhost:8080/",
          "height": 887
        },
        "id": "mGI6iyOrjJho",
        "outputId": "bbadf6e4-fe5f-40fa-f640-8d3c43ace839"
      },
      "source": [
        "df.head()"
      ],
      "execution_count": null,
      "outputs": [
        {
          "output_type": "execute_result",
          "data": {
            "text/html": [
              "<div>\n",
              "<style scoped>\n",
              "    .dataframe tbody tr th:only-of-type {\n",
              "        vertical-align: middle;\n",
              "    }\n",
              "\n",
              "    .dataframe tbody tr th {\n",
              "        vertical-align: top;\n",
              "    }\n",
              "\n",
              "    .dataframe thead th {\n",
              "        text-align: right;\n",
              "    }\n",
              "</style>\n",
              "<table border=\"1\" class=\"dataframe\">\n",
              "  <thead>\n",
              "    <tr style=\"text-align: right;\">\n",
              "      <th></th>\n",
              "      <th>발생년</th>\n",
              "      <th>발생년월일시</th>\n",
              "      <th>주야</th>\n",
              "      <th>요일</th>\n",
              "      <th>사망자수</th>\n",
              "      <th>부상자수</th>\n",
              "      <th>중상자수</th>\n",
              "      <th>경상자수</th>\n",
              "      <th>부상신고자수</th>\n",
              "      <th>발생지시도</th>\n",
              "      <th>발생지시군구</th>\n",
              "      <th>사고유형_대분류</th>\n",
              "      <th>사고유형_중분류</th>\n",
              "      <th>사고유형</th>\n",
              "      <th>가해자법규위반</th>\n",
              "      <th>도로형태_대분류</th>\n",
              "      <th>도로형태</th>\n",
              "      <th>가해자_당사자종별</th>\n",
              "      <th>피해자_당사자종별</th>\n",
              "      <th>발생위치X_UTMK</th>\n",
              "      <th>발생위치Y_UTMK</th>\n",
              "      <th>경도</th>\n",
              "      <th>위도</th>\n",
              "      <th>발생시간</th>\n",
              "    </tr>\n",
              "  </thead>\n",
              "  <tbody>\n",
              "    <tr>\n",
              "      <th>0</th>\n",
              "      <td>2019</td>\n",
              "      <td>2019-01-01</td>\n",
              "      <td>야</td>\n",
              "      <td>화</td>\n",
              "      <td>1</td>\n",
              "      <td>0</td>\n",
              "      <td>0</td>\n",
              "      <td>0</td>\n",
              "      <td>0</td>\n",
              "      <td>부산</td>\n",
              "      <td>해운대구</td>\n",
              "      <td>차대사람</td>\n",
              "      <td>기타</td>\n",
              "      <td>기타</td>\n",
              "      <td>중앙선 침범</td>\n",
              "      <td>교차로</td>\n",
              "      <td>교차로내</td>\n",
              "      <td>승용차</td>\n",
              "      <td>보행자</td>\n",
              "      <td>1150507.0</td>\n",
              "      <td>1685987.0</td>\n",
              "      <td>129.152465</td>\n",
              "      <td>35.157884</td>\n",
              "      <td>0</td>\n",
              "    </tr>\n",
              "    <tr>\n",
              "      <th>1</th>\n",
              "      <td>2019</td>\n",
              "      <td>2019-01-01</td>\n",
              "      <td>야</td>\n",
              "      <td>화</td>\n",
              "      <td>1</td>\n",
              "      <td>0</td>\n",
              "      <td>0</td>\n",
              "      <td>0</td>\n",
              "      <td>0</td>\n",
              "      <td>경기</td>\n",
              "      <td>안산시</td>\n",
              "      <td>차대차</td>\n",
              "      <td>정면충돌</td>\n",
              "      <td>정면충돌</td>\n",
              "      <td>중앙선 침범</td>\n",
              "      <td>단일로</td>\n",
              "      <td>기타단일로</td>\n",
              "      <td>승용차</td>\n",
              "      <td>승용차</td>\n",
              "      <td>943018.0</td>\n",
              "      <td>1921233.0</td>\n",
              "      <td>126.857149</td>\n",
              "      <td>37.288292</td>\n",
              "      <td>3</td>\n",
              "    </tr>\n",
              "    <tr>\n",
              "      <th>2</th>\n",
              "      <td>2019</td>\n",
              "      <td>2019-01-01</td>\n",
              "      <td>주</td>\n",
              "      <td>화</td>\n",
              "      <td>1</td>\n",
              "      <td>0</td>\n",
              "      <td>0</td>\n",
              "      <td>0</td>\n",
              "      <td>0</td>\n",
              "      <td>경북</td>\n",
              "      <td>청도군</td>\n",
              "      <td>차대차</td>\n",
              "      <td>측면충돌</td>\n",
              "      <td>측면충돌</td>\n",
              "      <td>안전운전 의무 불이행</td>\n",
              "      <td>교차로</td>\n",
              "      <td>교차로부근</td>\n",
              "      <td>승용차</td>\n",
              "      <td>사륜오토바이(ATV)</td>\n",
              "      <td>1100414.0</td>\n",
              "      <td>1739893.0</td>\n",
              "      <td>128.609230</td>\n",
              "      <td>35.650108</td>\n",
              "      <td>16</td>\n",
              "    </tr>\n",
              "    <tr>\n",
              "      <th>3</th>\n",
              "      <td>2019</td>\n",
              "      <td>2019-01-01</td>\n",
              "      <td>야</td>\n",
              "      <td>화</td>\n",
              "      <td>1</td>\n",
              "      <td>0</td>\n",
              "      <td>0</td>\n",
              "      <td>0</td>\n",
              "      <td>0</td>\n",
              "      <td>대전</td>\n",
              "      <td>서구</td>\n",
              "      <td>차대사람</td>\n",
              "      <td>횡단중</td>\n",
              "      <td>횡단중</td>\n",
              "      <td>안전운전 의무 불이행</td>\n",
              "      <td>교차로</td>\n",
              "      <td>교차로부근</td>\n",
              "      <td>승용차</td>\n",
              "      <td>보행자</td>\n",
              "      <td>989194.0</td>\n",
              "      <td>1817621.0</td>\n",
              "      <td>127.379560</td>\n",
              "      <td>36.355946</td>\n",
              "      <td>19</td>\n",
              "    </tr>\n",
              "    <tr>\n",
              "      <th>4</th>\n",
              "      <td>2019</td>\n",
              "      <td>2019-01-01</td>\n",
              "      <td>야</td>\n",
              "      <td>화</td>\n",
              "      <td>1</td>\n",
              "      <td>0</td>\n",
              "      <td>0</td>\n",
              "      <td>0</td>\n",
              "      <td>0</td>\n",
              "      <td>경북</td>\n",
              "      <td>영천시</td>\n",
              "      <td>차대사람</td>\n",
              "      <td>기타</td>\n",
              "      <td>기타</td>\n",
              "      <td>안전운전 의무 불이행</td>\n",
              "      <td>단일로</td>\n",
              "      <td>기타단일로</td>\n",
              "      <td>승용차</td>\n",
              "      <td>보행자</td>\n",
              "      <td>1127700.0</td>\n",
              "      <td>1767912.0</td>\n",
              "      <td>128.915041</td>\n",
              "      <td>35.899506</td>\n",
              "      <td>21</td>\n",
              "    </tr>\n",
              "  </tbody>\n",
              "</table>\n",
              "</div>"
            ],
            "text/plain": [
              "    발생년     발생년월일시 주야 요일  ...  발생위치Y_UTMK          경도         위도  발생시간\n",
              "0  2019 2019-01-01  야  화  ...   1685987.0  129.152465  35.157884     0\n",
              "1  2019 2019-01-01  야  화  ...   1921233.0  126.857149  37.288292     3\n",
              "2  2019 2019-01-01  주  화  ...   1739893.0  128.609230  35.650108    16\n",
              "3  2019 2019-01-01  야  화  ...   1817621.0  127.379560  36.355946    19\n",
              "4  2019 2019-01-01  야  화  ...   1767912.0  128.915041  35.899506    21\n",
              "\n",
              "[5 rows x 24 columns]"
            ]
          },
          "metadata": {
            "tags": []
          },
          "execution_count": 20
        }
      ]
    },
    {
      "cell_type": "markdown",
      "metadata": {
        "id": "jE3ftwJZ7RHV"
      },
      "source": [
        "1. 고양시 데이터 불러오기"
      ]
    },
    {
      "cell_type": "code",
      "metadata": {
        "colab": {
          "base_uri": "https://localhost:8080/"
        },
        "id": "AGqbNLSXyB-k",
        "outputId": "45114179-eace-4127-f5b7-ca30eea45cef"
      },
      "source": [
        "df_goyang = df[df.발생지시군구 == '고양시']\n",
        "df_goyang.info()"
      ],
      "execution_count": null,
      "outputs": [
        {
          "output_type": "stream",
          "text": [
            "<class 'pandas.core.frame.DataFrame'>\n",
            "Int64Index: 38 entries, 44 to 3193\n",
            "Data columns (total 24 columns):\n",
            " #   Column      Non-Null Count  Dtype         \n",
            "---  ------      --------------  -----         \n",
            " 0   발생년         38 non-null     int64         \n",
            " 1   발생년월일시      38 non-null     datetime64[ns]\n",
            " 2   주야          38 non-null     object        \n",
            " 3   요일          38 non-null     object        \n",
            " 4   사망자수        38 non-null     int64         \n",
            " 5   부상자수        38 non-null     int64         \n",
            " 6   중상자수        38 non-null     int64         \n",
            " 7   경상자수        38 non-null     int64         \n",
            " 8   부상신고자수      38 non-null     int64         \n",
            " 9   발생지시도       38 non-null     object        \n",
            " 10  발생지시군구      38 non-null     object        \n",
            " 11  사고유형_대분류    38 non-null     object        \n",
            " 12  사고유형_중분류    38 non-null     object        \n",
            " 13  사고유형        38 non-null     object        \n",
            " 14  가해자법규위반     38 non-null     object        \n",
            " 15  도로형태_대분류    38 non-null     object        \n",
            " 16  도로형태        38 non-null     object        \n",
            " 17  가해자_당사자종별   38 non-null     object        \n",
            " 18  피해자_당사자종별   38 non-null     object        \n",
            " 19  발생위치X_UTMK  38 non-null     float64       \n",
            " 20  발생위치Y_UTMK  38 non-null     float64       \n",
            " 21  경도          38 non-null     float64       \n",
            " 22  위도          38 non-null     float64       \n",
            " 23  발생시간        38 non-null     int64         \n",
            "dtypes: datetime64[ns](1), float64(4), int64(7), object(12)\n",
            "memory usage: 7.4+ KB\n"
          ],
          "name": "stdout"
        }
      ]
    },
    {
      "cell_type": "markdown",
      "metadata": {
        "id": "40W7tJ-I3D26"
      },
      "source": [
        "2. 교통사고 발생시간 별 사망자 현황"
      ]
    },
    {
      "cell_type": "code",
      "metadata": {
        "colab": {
          "base_uri": "https://localhost:8080/",
          "height": 542
        },
        "id": "Zemhv3lJ28jL",
        "outputId": "e32d4068-cf11-4274-91b8-f8a46440307c"
      },
      "source": [
        "fig = px.bar(df_goyang, x='사망자수', y= '발생시간', orientation='h', \n",
        "             title='대구 교통사고 발생시간 별 / 구 별 사망자 현황')\n",
        "fig.show()"
      ],
      "execution_count": null,
      "outputs": [
        {
          "output_type": "display_data",
          "data": {
            "text/html": [
              "<html>\n",
              "<head><meta charset=\"utf-8\" /></head>\n",
              "<body>\n",
              "    <div>\n",
              "            <script src=\"https://cdnjs.cloudflare.com/ajax/libs/mathjax/2.7.5/MathJax.js?config=TeX-AMS-MML_SVG\"></script><script type=\"text/javascript\">if (window.MathJax) {MathJax.Hub.Config({SVG: {font: \"STIX-Web\"}});}</script>\n",
              "                <script type=\"text/javascript\">window.PlotlyConfig = {MathJaxConfig: 'local'};</script>\n",
              "        <script src=\"https://cdn.plot.ly/plotly-latest.min.js\"></script>    \n",
              "            <div id=\"81a868ad-4490-4927-a4f3-e28b885b3a0a\" class=\"plotly-graph-div\" style=\"height:525px; width:100%;\"></div>\n",
              "            <script type=\"text/javascript\">\n",
              "                \n",
              "                    window.PLOTLYENV=window.PLOTLYENV || {};\n",
              "                    \n",
              "                if (document.getElementById(\"81a868ad-4490-4927-a4f3-e28b885b3a0a\")) {\n",
              "                    Plotly.newPlot(\n",
              "                        '81a868ad-4490-4927-a4f3-e28b885b3a0a',\n",
              "                        [{\"alignmentgroup\": \"True\", \"hoverlabel\": {\"namelength\": 0}, \"hovertemplate\": \"\\uc0ac\\ub9dd\\uc790\\uc218=%{x}<br>\\ubc1c\\uc0dd\\uc2dc\\uac04=%{y}\", \"legendgroup\": \"\", \"marker\": {\"color\": \"#636efa\"}, \"name\": \"\", \"offsetgroup\": \"\", \"orientation\": \"h\", \"showlegend\": false, \"textposition\": \"auto\", \"type\": \"bar\", \"x\": [1, 1, 1, 1, 1, 1, 1, 1, 2, 1, 1, 1, 1, 1, 1, 1, 1, 1, 1, 1, 1, 1, 1, 1, 1, 1, 1, 1, 1, 1, 1, 1, 1, 1, 1, 1, 1, 1], \"xaxis\": \"x\", \"y\": [18, 18, 8, 9, 9, 14, 0, 15, 8, 1, 14, 6, 2, 17, 2, 13, 2, 22, 0, 18, 0, 22, 2, 20, 19, 18, 21, 5, 1, 5, 18, 7, 23, 18, 16, 6, 18, 6], \"yaxis\": \"y\"}],\n",
              "                        {\"barmode\": \"relative\", \"legend\": {\"tracegroupgap\": 0}, \"template\": {\"data\": {\"bar\": [{\"error_x\": {\"color\": \"#2a3f5f\"}, \"error_y\": {\"color\": \"#2a3f5f\"}, \"marker\": {\"line\": {\"color\": \"#E5ECF6\", \"width\": 0.5}}, \"type\": \"bar\"}], \"barpolar\": [{\"marker\": {\"line\": {\"color\": \"#E5ECF6\", \"width\": 0.5}}, \"type\": \"barpolar\"}], \"carpet\": [{\"aaxis\": {\"endlinecolor\": \"#2a3f5f\", \"gridcolor\": \"white\", \"linecolor\": \"white\", \"minorgridcolor\": \"white\", \"startlinecolor\": \"#2a3f5f\"}, \"baxis\": {\"endlinecolor\": \"#2a3f5f\", \"gridcolor\": \"white\", \"linecolor\": \"white\", \"minorgridcolor\": \"white\", \"startlinecolor\": \"#2a3f5f\"}, \"type\": \"carpet\"}], \"choropleth\": [{\"colorbar\": {\"outlinewidth\": 0, \"ticks\": \"\"}, \"type\": \"choropleth\"}], \"contour\": [{\"colorbar\": {\"outlinewidth\": 0, \"ticks\": \"\"}, \"colorscale\": [[0.0, \"#0d0887\"], [0.1111111111111111, \"#46039f\"], [0.2222222222222222, \"#7201a8\"], [0.3333333333333333, \"#9c179e\"], [0.4444444444444444, \"#bd3786\"], [0.5555555555555556, \"#d8576b\"], [0.6666666666666666, \"#ed7953\"], [0.7777777777777778, \"#fb9f3a\"], [0.8888888888888888, \"#fdca26\"], [1.0, \"#f0f921\"]], \"type\": \"contour\"}], \"contourcarpet\": [{\"colorbar\": {\"outlinewidth\": 0, \"ticks\": \"\"}, \"type\": \"contourcarpet\"}], \"heatmap\": [{\"colorbar\": {\"outlinewidth\": 0, \"ticks\": \"\"}, \"colorscale\": [[0.0, \"#0d0887\"], [0.1111111111111111, \"#46039f\"], [0.2222222222222222, \"#7201a8\"], [0.3333333333333333, \"#9c179e\"], [0.4444444444444444, \"#bd3786\"], [0.5555555555555556, \"#d8576b\"], [0.6666666666666666, \"#ed7953\"], [0.7777777777777778, \"#fb9f3a\"], [0.8888888888888888, \"#fdca26\"], [1.0, \"#f0f921\"]], \"type\": \"heatmap\"}], \"heatmapgl\": [{\"colorbar\": {\"outlinewidth\": 0, \"ticks\": \"\"}, \"colorscale\": [[0.0, \"#0d0887\"], [0.1111111111111111, \"#46039f\"], [0.2222222222222222, \"#7201a8\"], [0.3333333333333333, \"#9c179e\"], [0.4444444444444444, \"#bd3786\"], [0.5555555555555556, \"#d8576b\"], [0.6666666666666666, \"#ed7953\"], [0.7777777777777778, \"#fb9f3a\"], [0.8888888888888888, \"#fdca26\"], [1.0, \"#f0f921\"]], \"type\": \"heatmapgl\"}], \"histogram\": [{\"marker\": {\"colorbar\": {\"outlinewidth\": 0, \"ticks\": \"\"}}, \"type\": \"histogram\"}], \"histogram2d\": [{\"colorbar\": {\"outlinewidth\": 0, \"ticks\": \"\"}, \"colorscale\": [[0.0, \"#0d0887\"], [0.1111111111111111, \"#46039f\"], [0.2222222222222222, \"#7201a8\"], [0.3333333333333333, \"#9c179e\"], [0.4444444444444444, \"#bd3786\"], [0.5555555555555556, \"#d8576b\"], [0.6666666666666666, \"#ed7953\"], [0.7777777777777778, \"#fb9f3a\"], [0.8888888888888888, \"#fdca26\"], [1.0, \"#f0f921\"]], \"type\": \"histogram2d\"}], \"histogram2dcontour\": [{\"colorbar\": {\"outlinewidth\": 0, \"ticks\": \"\"}, \"colorscale\": [[0.0, \"#0d0887\"], [0.1111111111111111, \"#46039f\"], [0.2222222222222222, \"#7201a8\"], [0.3333333333333333, \"#9c179e\"], [0.4444444444444444, \"#bd3786\"], [0.5555555555555556, \"#d8576b\"], [0.6666666666666666, \"#ed7953\"], [0.7777777777777778, \"#fb9f3a\"], [0.8888888888888888, \"#fdca26\"], [1.0, \"#f0f921\"]], \"type\": \"histogram2dcontour\"}], \"mesh3d\": [{\"colorbar\": {\"outlinewidth\": 0, \"ticks\": \"\"}, \"type\": \"mesh3d\"}], \"parcoords\": [{\"line\": {\"colorbar\": {\"outlinewidth\": 0, \"ticks\": \"\"}}, \"type\": \"parcoords\"}], \"pie\": [{\"automargin\": true, \"type\": \"pie\"}], \"scatter\": [{\"marker\": {\"colorbar\": {\"outlinewidth\": 0, \"ticks\": \"\"}}, \"type\": \"scatter\"}], \"scatter3d\": [{\"line\": {\"colorbar\": {\"outlinewidth\": 0, \"ticks\": \"\"}}, \"marker\": {\"colorbar\": {\"outlinewidth\": 0, \"ticks\": \"\"}}, \"type\": \"scatter3d\"}], \"scattercarpet\": [{\"marker\": {\"colorbar\": {\"outlinewidth\": 0, \"ticks\": \"\"}}, \"type\": \"scattercarpet\"}], \"scattergeo\": [{\"marker\": {\"colorbar\": {\"outlinewidth\": 0, \"ticks\": \"\"}}, \"type\": \"scattergeo\"}], \"scattergl\": [{\"marker\": {\"colorbar\": {\"outlinewidth\": 0, \"ticks\": \"\"}}, \"type\": \"scattergl\"}], \"scattermapbox\": [{\"marker\": {\"colorbar\": {\"outlinewidth\": 0, \"ticks\": \"\"}}, \"type\": \"scattermapbox\"}], \"scatterpolar\": [{\"marker\": {\"colorbar\": {\"outlinewidth\": 0, \"ticks\": \"\"}}, \"type\": \"scatterpolar\"}], \"scatterpolargl\": [{\"marker\": {\"colorbar\": {\"outlinewidth\": 0, \"ticks\": \"\"}}, \"type\": \"scatterpolargl\"}], \"scatterternary\": [{\"marker\": {\"colorbar\": {\"outlinewidth\": 0, \"ticks\": \"\"}}, \"type\": \"scatterternary\"}], \"surface\": [{\"colorbar\": {\"outlinewidth\": 0, \"ticks\": \"\"}, \"colorscale\": [[0.0, \"#0d0887\"], [0.1111111111111111, \"#46039f\"], [0.2222222222222222, \"#7201a8\"], [0.3333333333333333, \"#9c179e\"], [0.4444444444444444, \"#bd3786\"], [0.5555555555555556, \"#d8576b\"], [0.6666666666666666, \"#ed7953\"], [0.7777777777777778, \"#fb9f3a\"], [0.8888888888888888, \"#fdca26\"], [1.0, \"#f0f921\"]], \"type\": \"surface\"}], \"table\": [{\"cells\": {\"fill\": {\"color\": \"#EBF0F8\"}, \"line\": {\"color\": \"white\"}}, \"header\": {\"fill\": {\"color\": \"#C8D4E3\"}, \"line\": {\"color\": \"white\"}}, \"type\": \"table\"}]}, \"layout\": {\"annotationdefaults\": {\"arrowcolor\": \"#2a3f5f\", \"arrowhead\": 0, \"arrowwidth\": 1}, \"coloraxis\": {\"colorbar\": {\"outlinewidth\": 0, \"ticks\": \"\"}}, \"colorscale\": {\"diverging\": [[0, \"#8e0152\"], [0.1, \"#c51b7d\"], [0.2, \"#de77ae\"], [0.3, \"#f1b6da\"], [0.4, \"#fde0ef\"], [0.5, \"#f7f7f7\"], [0.6, \"#e6f5d0\"], [0.7, \"#b8e186\"], [0.8, \"#7fbc41\"], [0.9, \"#4d9221\"], [1, \"#276419\"]], \"sequential\": [[0.0, \"#0d0887\"], [0.1111111111111111, \"#46039f\"], [0.2222222222222222, \"#7201a8\"], [0.3333333333333333, \"#9c179e\"], [0.4444444444444444, \"#bd3786\"], [0.5555555555555556, \"#d8576b\"], [0.6666666666666666, \"#ed7953\"], [0.7777777777777778, \"#fb9f3a\"], [0.8888888888888888, \"#fdca26\"], [1.0, \"#f0f921\"]], \"sequentialminus\": [[0.0, \"#0d0887\"], [0.1111111111111111, \"#46039f\"], [0.2222222222222222, \"#7201a8\"], [0.3333333333333333, \"#9c179e\"], [0.4444444444444444, \"#bd3786\"], [0.5555555555555556, \"#d8576b\"], [0.6666666666666666, \"#ed7953\"], [0.7777777777777778, \"#fb9f3a\"], [0.8888888888888888, \"#fdca26\"], [1.0, \"#f0f921\"]]}, \"colorway\": [\"#636efa\", \"#EF553B\", \"#00cc96\", \"#ab63fa\", \"#FFA15A\", \"#19d3f3\", \"#FF6692\", \"#B6E880\", \"#FF97FF\", \"#FECB52\"], \"font\": {\"color\": \"#2a3f5f\"}, \"geo\": {\"bgcolor\": \"white\", \"lakecolor\": \"white\", \"landcolor\": \"#E5ECF6\", \"showlakes\": true, \"showland\": true, \"subunitcolor\": \"white\"}, \"hoverlabel\": {\"align\": \"left\"}, \"hovermode\": \"closest\", \"mapbox\": {\"style\": \"light\"}, \"paper_bgcolor\": \"white\", \"plot_bgcolor\": \"#E5ECF6\", \"polar\": {\"angularaxis\": {\"gridcolor\": \"white\", \"linecolor\": \"white\", \"ticks\": \"\"}, \"bgcolor\": \"#E5ECF6\", \"radialaxis\": {\"gridcolor\": \"white\", \"linecolor\": \"white\", \"ticks\": \"\"}}, \"scene\": {\"xaxis\": {\"backgroundcolor\": \"#E5ECF6\", \"gridcolor\": \"white\", \"gridwidth\": 2, \"linecolor\": \"white\", \"showbackground\": true, \"ticks\": \"\", \"zerolinecolor\": \"white\"}, \"yaxis\": {\"backgroundcolor\": \"#E5ECF6\", \"gridcolor\": \"white\", \"gridwidth\": 2, \"linecolor\": \"white\", \"showbackground\": true, \"ticks\": \"\", \"zerolinecolor\": \"white\"}, \"zaxis\": {\"backgroundcolor\": \"#E5ECF6\", \"gridcolor\": \"white\", \"gridwidth\": 2, \"linecolor\": \"white\", \"showbackground\": true, \"ticks\": \"\", \"zerolinecolor\": \"white\"}}, \"shapedefaults\": {\"line\": {\"color\": \"#2a3f5f\"}}, \"ternary\": {\"aaxis\": {\"gridcolor\": \"white\", \"linecolor\": \"white\", \"ticks\": \"\"}, \"baxis\": {\"gridcolor\": \"white\", \"linecolor\": \"white\", \"ticks\": \"\"}, \"bgcolor\": \"#E5ECF6\", \"caxis\": {\"gridcolor\": \"white\", \"linecolor\": \"white\", \"ticks\": \"\"}}, \"title\": {\"x\": 0.05}, \"xaxis\": {\"automargin\": true, \"gridcolor\": \"white\", \"linecolor\": \"white\", \"ticks\": \"\", \"title\": {\"standoff\": 15}, \"zerolinecolor\": \"white\", \"zerolinewidth\": 2}, \"yaxis\": {\"automargin\": true, \"gridcolor\": \"white\", \"linecolor\": \"white\", \"ticks\": \"\", \"title\": {\"standoff\": 15}, \"zerolinecolor\": \"white\", \"zerolinewidth\": 2}}}, \"title\": {\"text\": \"\\ub300\\uad6c \\uad50\\ud1b5\\uc0ac\\uace0 \\ubc1c\\uc0dd\\uc2dc\\uac04 \\ubcc4 / \\uad6c \\ubcc4 \\uc0ac\\ub9dd\\uc790 \\ud604\\ud669\"}, \"xaxis\": {\"anchor\": \"y\", \"domain\": [0.0, 1.0], \"title\": {\"text\": \"\\uc0ac\\ub9dd\\uc790\\uc218\"}}, \"yaxis\": {\"anchor\": \"x\", \"domain\": [0.0, 1.0], \"title\": {\"text\": \"\\ubc1c\\uc0dd\\uc2dc\\uac04\"}}},\n",
              "                        {\"responsive\": true}\n",
              "                    ).then(function(){\n",
              "                            \n",
              "var gd = document.getElementById('81a868ad-4490-4927-a4f3-e28b885b3a0a');\n",
              "var x = new MutationObserver(function (mutations, observer) {{\n",
              "        var display = window.getComputedStyle(gd).display;\n",
              "        if (!display || display === 'none') {{\n",
              "            console.log([gd, 'removed!']);\n",
              "            Plotly.purge(gd);\n",
              "            observer.disconnect();\n",
              "        }}\n",
              "}});\n",
              "\n",
              "// Listen for the removal of the full notebook cells\n",
              "var notebookContainer = gd.closest('#notebook-container');\n",
              "if (notebookContainer) {{\n",
              "    x.observe(notebookContainer, {childList: true});\n",
              "}}\n",
              "\n",
              "// Listen for the clearing of the current output cell\n",
              "var outputEl = gd.closest('.output');\n",
              "if (outputEl) {{\n",
              "    x.observe(outputEl, {childList: true});\n",
              "}}\n",
              "\n",
              "                        })\n",
              "                };\n",
              "                \n",
              "            </script>\n",
              "        </div>\n",
              "</body>\n",
              "</html>"
            ]
          },
          "metadata": {
            "tags": []
          }
        }
      ]
    },
    {
      "cell_type": "markdown",
      "metadata": {
        "id": "Sd5_bmqv3wRR"
      },
      "source": [
        "3. 사망자수, 부상자수, 중상자수, 경상자수 전처리 (float 형변환)\n",
        "\n"
      ]
    },
    {
      "cell_type": "code",
      "metadata": {
        "id": "MJ0YMDPg3xUY"
      },
      "source": [
        "# 지도에 마커를 그리려면 int가 아닌 float로 변환 필요\n",
        "df_goyang = df_goyang.astype({'사망자수' : 'float64'})\n",
        "df_goyang = df_goyang.astype({'경상자수' : 'float64'})\n",
        "df_goyang = df_goyang.astype({'중상자수' : 'float64'})\n",
        "df_goyang = df_goyang.astype({'부상자수' : 'float64'})"
      ],
      "execution_count": null,
      "outputs": []
    },
    {
      "cell_type": "code",
      "metadata": {
        "colab": {
          "base_uri": "https://localhost:8080/"
        },
        "id": "esLmLh1G6Jjt",
        "outputId": "2f003d3a-a73f-4206-85ef-60c1b3e1d17d"
      },
      "source": [
        "df_goyang.info()"
      ],
      "execution_count": null,
      "outputs": [
        {
          "output_type": "stream",
          "text": [
            "<class 'pandas.core.frame.DataFrame'>\n",
            "Int64Index: 38 entries, 44 to 3193\n",
            "Data columns (total 24 columns):\n",
            " #   Column      Non-Null Count  Dtype         \n",
            "---  ------      --------------  -----         \n",
            " 0   발생년         38 non-null     int64         \n",
            " 1   발생년월일시      38 non-null     datetime64[ns]\n",
            " 2   주야          38 non-null     object        \n",
            " 3   요일          38 non-null     object        \n",
            " 4   사망자수        38 non-null     float64       \n",
            " 5   부상자수        38 non-null     float64       \n",
            " 6   중상자수        38 non-null     float64       \n",
            " 7   경상자수        38 non-null     float64       \n",
            " 8   부상신고자수      38 non-null     int64         \n",
            " 9   발생지시도       38 non-null     object        \n",
            " 10  발생지시군구      38 non-null     object        \n",
            " 11  사고유형_대분류    38 non-null     object        \n",
            " 12  사고유형_중분류    38 non-null     object        \n",
            " 13  사고유형        38 non-null     object        \n",
            " 14  가해자법규위반     38 non-null     object        \n",
            " 15  도로형태_대분류    38 non-null     object        \n",
            " 16  도로형태        38 non-null     object        \n",
            " 17  가해자_당사자종별   38 non-null     object        \n",
            " 18  피해자_당사자종별   38 non-null     object        \n",
            " 19  발생위치X_UTMK  38 non-null     float64       \n",
            " 20  발생위치Y_UTMK  38 non-null     float64       \n",
            " 21  경도          38 non-null     float64       \n",
            " 22  위도          38 non-null     float64       \n",
            " 23  발생시간        38 non-null     int64         \n",
            "dtypes: datetime64[ns](1), float64(8), int64(3), object(12)\n",
            "memory usage: 8.7+ KB\n"
          ],
          "name": "stdout"
        }
      ]
    },
    {
      "cell_type": "markdown",
      "metadata": {
        "id": "e3n0raLH3jXc"
      },
      "source": [
        "4. 지도에 필요한 정보만 담기 -> 고양시의 교통사고 현황을 지도에 표출"
      ]
    },
    {
      "cell_type": "code",
      "metadata": {
        "id": "JVrpsvdo3aFX"
      },
      "source": [
        "import folium\n",
        "\n",
        "map = folium.Map(location=[37.68161936782737, 126.75529740984608]) # 일산 성저공원 좌표\n",
        "map\n",
        "\n",
        "for n in df_goyang.index :\n",
        "  cnt = df_goyang['사망자수'][n]+ df_goyang['경상자수'][n] # 사망자수 + 경상자수 -> CircleMarker 사이즈\n",
        "  folium.CircleMarker([df_goyang['위도'][n], df_goyang['경도'][n]],\n",
        "                       radius =cnt*10, popup=df_goyang['사고유형'][n], color='#3186cc',\n",
        "                      fill_color='#3186cc').add_to(map)\n",
        "map.save('고양시교통사고현황.html')"
      ],
      "execution_count": null,
      "outputs": []
    }
  ]
}