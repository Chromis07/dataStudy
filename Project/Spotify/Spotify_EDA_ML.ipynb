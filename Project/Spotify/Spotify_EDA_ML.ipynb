{
  "cells": [
    {
      "cell_type": "code",
      "execution_count": null,
      "metadata": {},
      "outputs": [],
      "source": []
    },
    {
      "cell_type": "markdown",
      "metadata": {
        "id": "ILcAS6pclsgm"
      },
      "source": [
        "# Spotify EDA <br>\n",
        "https://www.kaggle.com/yamaerenay/spotify-datase <br><br>\n",
        "1. 음악의 특징들간 상관관계 <br>\n",
        "2. 장르별 음악의 특징 분포 <br>\n",
        "3. 시간대에 따른 음악 변천사 분석 (큼직한 아티스트들 insight) <br> \n",
        "4. 스포티파이 내 popularity"
      ]
    },
    {
      "cell_type": "code",
      "execution_count": 190,
      "metadata": {
        "colab": {
          "base_uri": "https://localhost:8080/"
        },
        "id": "yg9KJqtnsKGw",
        "outputId": "4e8ba518-bcaf-4ccc-e39d-9c88fd47b5de"
      },
      "outputs": [],
      "source": [
        "# from google.colab import drive\r\n",
        "# drive.mount('/content/drive')"
      ]
    },
    {
      "cell_type": "code",
      "execution_count": 191,
      "metadata": {
        "id": "DKKkBwcylsgp"
      },
      "outputs": [],
      "source": [
        "# 라이브러리\n",
        "import numpy as np\n",
        "import pandas as pd\n",
        "import seaborn as sns\n",
        "import plotly.express as px\n",
        "import plotly.graph_objects as go\n",
        "import matplotlib as mpl\n",
        "import matplotlib.pyplot as plt\n",
        "from plotly.subplots import make_subplots\n",
        "\n",
        "import warnings\n",
        "warnings.filterwarnings('ignore')\n",
        "\n",
        "%matplotlib inline"
      ]
    },
    {
      "cell_type": "code",
      "execution_count": 192,
      "metadata": {},
      "outputs": [
        {
          "data": {
            "text/plain": [
              "[name: \"/device:CPU:0\"\n",
              " device_type: \"CPU\"\n",
              " memory_limit: 268435456\n",
              " locality {\n",
              " }\n",
              " incarnation: 15667250020459736551,\n",
              " name: \"/device:XLA_CPU:0\"\n",
              " device_type: \"XLA_CPU\"\n",
              " memory_limit: 17179869184\n",
              " locality {\n",
              " }\n",
              " incarnation: 1955484207411255740\n",
              " physical_device_desc: \"device: XLA_CPU device\",\n",
              " name: \"/device:GPU:0\"\n",
              " device_type: \"GPU\"\n",
              " memory_limit: 4951408640\n",
              " locality {\n",
              "   bus_id: 1\n",
              "   links {\n",
              "   }\n",
              " }\n",
              " incarnation: 14204884077003730194\n",
              " physical_device_desc: \"device: 0, name: NVIDIA GeForce RTX 2060, pci bus id: 0000:1c:00.0, compute capability: 7.5\",\n",
              " name: \"/device:XLA_GPU:0\"\n",
              " device_type: \"XLA_GPU\"\n",
              " memory_limit: 17179869184\n",
              " locality {\n",
              " }\n",
              " incarnation: 2278302128757037620\n",
              " physical_device_desc: \"device: XLA_GPU device\"]"
            ]
          },
          "execution_count": 192,
          "metadata": {},
          "output_type": "execute_result"
        }
      ],
      "source": [
        "from tensorflow.python.client import device_lib \r\n",
        "import tensorflow as tf\r\n",
        "device_lib.list_local_devices() "
      ]
    },
    {
      "cell_type": "code",
      "execution_count": 193,
      "metadata": {
        "colab": {
          "base_uri": "https://localhost:8080/",
          "height": 623
        },
        "id": "UwF4zW4hlsgq",
        "outputId": "f710506e-99ee-4bb6-9393-314f09992a1f"
      },
      "outputs": [
        {
          "data": {
            "text/html": [
              "<div>\n",
              "<style scoped>\n",
              "    .dataframe tbody tr th:only-of-type {\n",
              "        vertical-align: middle;\n",
              "    }\n",
              "\n",
              "    .dataframe tbody tr th {\n",
              "        vertical-align: top;\n",
              "    }\n",
              "\n",
              "    .dataframe thead th {\n",
              "        text-align: right;\n",
              "    }\n",
              "</style>\n",
              "<table border=\"1\" class=\"dataframe\">\n",
              "  <thead>\n",
              "    <tr style=\"text-align: right;\">\n",
              "      <th></th>\n",
              "      <th>id</th>\n",
              "      <th>name</th>\n",
              "      <th>popularity</th>\n",
              "      <th>duration_ms</th>\n",
              "      <th>explicit</th>\n",
              "      <th>artists</th>\n",
              "      <th>id_artists</th>\n",
              "      <th>release_date</th>\n",
              "      <th>danceability</th>\n",
              "      <th>energy</th>\n",
              "      <th>key</th>\n",
              "      <th>loudness</th>\n",
              "      <th>mode</th>\n",
              "      <th>speechiness</th>\n",
              "      <th>acousticness</th>\n",
              "      <th>instrumentalness</th>\n",
              "      <th>liveness</th>\n",
              "      <th>valence</th>\n",
              "      <th>tempo</th>\n",
              "      <th>time_signature</th>\n",
              "    </tr>\n",
              "  </thead>\n",
              "  <tbody>\n",
              "    <tr>\n",
              "      <th>0</th>\n",
              "      <td>35iwgR4jXetI318WEWsa1Q</td>\n",
              "      <td>Carve</td>\n",
              "      <td>6</td>\n",
              "      <td>126903</td>\n",
              "      <td>0</td>\n",
              "      <td>['Uli']</td>\n",
              "      <td>['45tIt06XoI0Iio4LBEVpls']</td>\n",
              "      <td>1922-02-22</td>\n",
              "      <td>0.645</td>\n",
              "      <td>0.4450</td>\n",
              "      <td>0</td>\n",
              "      <td>-13.338</td>\n",
              "      <td>1</td>\n",
              "      <td>0.4510</td>\n",
              "      <td>0.674</td>\n",
              "      <td>0.744000</td>\n",
              "      <td>0.1510</td>\n",
              "      <td>0.1270</td>\n",
              "      <td>104.851</td>\n",
              "      <td>3</td>\n",
              "    </tr>\n",
              "    <tr>\n",
              "      <th>1</th>\n",
              "      <td>021ht4sdgPcrDgSk7JTbKY</td>\n",
              "      <td>Capítulo 2.16 - Banquero Anarquista</td>\n",
              "      <td>0</td>\n",
              "      <td>98200</td>\n",
              "      <td>0</td>\n",
              "      <td>['Fernando Pessoa']</td>\n",
              "      <td>['14jtPCOoNZwquk5wd9DxrY']</td>\n",
              "      <td>1922-06-01</td>\n",
              "      <td>0.695</td>\n",
              "      <td>0.2630</td>\n",
              "      <td>0</td>\n",
              "      <td>-22.136</td>\n",
              "      <td>1</td>\n",
              "      <td>0.9570</td>\n",
              "      <td>0.797</td>\n",
              "      <td>0.000000</td>\n",
              "      <td>0.1480</td>\n",
              "      <td>0.6550</td>\n",
              "      <td>102.009</td>\n",
              "      <td>1</td>\n",
              "    </tr>\n",
              "    <tr>\n",
              "      <th>2</th>\n",
              "      <td>07A5yehtSnoedViJAZkNnc</td>\n",
              "      <td>Vivo para Quererte - Remasterizado</td>\n",
              "      <td>0</td>\n",
              "      <td>181640</td>\n",
              "      <td>0</td>\n",
              "      <td>['Ignacio Corsini']</td>\n",
              "      <td>['5LiOoJbxVSAMkBS2fUm3X2']</td>\n",
              "      <td>1922-03-21</td>\n",
              "      <td>0.434</td>\n",
              "      <td>0.1770</td>\n",
              "      <td>1</td>\n",
              "      <td>-21.180</td>\n",
              "      <td>1</td>\n",
              "      <td>0.0512</td>\n",
              "      <td>0.994</td>\n",
              "      <td>0.021800</td>\n",
              "      <td>0.2120</td>\n",
              "      <td>0.4570</td>\n",
              "      <td>130.418</td>\n",
              "      <td>5</td>\n",
              "    </tr>\n",
              "    <tr>\n",
              "      <th>3</th>\n",
              "      <td>08FmqUhxtyLTn6pAh6bk45</td>\n",
              "      <td>El Prisionero - Remasterizado</td>\n",
              "      <td>0</td>\n",
              "      <td>176907</td>\n",
              "      <td>0</td>\n",
              "      <td>['Ignacio Corsini']</td>\n",
              "      <td>['5LiOoJbxVSAMkBS2fUm3X2']</td>\n",
              "      <td>1922-03-21</td>\n",
              "      <td>0.321</td>\n",
              "      <td>0.0946</td>\n",
              "      <td>7</td>\n",
              "      <td>-27.961</td>\n",
              "      <td>1</td>\n",
              "      <td>0.0504</td>\n",
              "      <td>0.995</td>\n",
              "      <td>0.918000</td>\n",
              "      <td>0.1040</td>\n",
              "      <td>0.3970</td>\n",
              "      <td>169.980</td>\n",
              "      <td>3</td>\n",
              "    </tr>\n",
              "    <tr>\n",
              "      <th>4</th>\n",
              "      <td>08y9GfoqCWfOGsKdwojr5e</td>\n",
              "      <td>Lady of the Evening</td>\n",
              "      <td>0</td>\n",
              "      <td>163080</td>\n",
              "      <td>0</td>\n",
              "      <td>['Dick Haymes']</td>\n",
              "      <td>['3BiJGZsyX9sJchTqcSA7Su']</td>\n",
              "      <td>1922</td>\n",
              "      <td>0.402</td>\n",
              "      <td>0.1580</td>\n",
              "      <td>3</td>\n",
              "      <td>-16.900</td>\n",
              "      <td>0</td>\n",
              "      <td>0.0390</td>\n",
              "      <td>0.989</td>\n",
              "      <td>0.130000</td>\n",
              "      <td>0.3110</td>\n",
              "      <td>0.1960</td>\n",
              "      <td>103.220</td>\n",
              "      <td>4</td>\n",
              "    </tr>\n",
              "    <tr>\n",
              "      <th>...</th>\n",
              "      <td>...</td>\n",
              "      <td>...</td>\n",
              "      <td>...</td>\n",
              "      <td>...</td>\n",
              "      <td>...</td>\n",
              "      <td>...</td>\n",
              "      <td>...</td>\n",
              "      <td>...</td>\n",
              "      <td>...</td>\n",
              "      <td>...</td>\n",
              "      <td>...</td>\n",
              "      <td>...</td>\n",
              "      <td>...</td>\n",
              "      <td>...</td>\n",
              "      <td>...</td>\n",
              "      <td>...</td>\n",
              "      <td>...</td>\n",
              "      <td>...</td>\n",
              "      <td>...</td>\n",
              "      <td>...</td>\n",
              "    </tr>\n",
              "    <tr>\n",
              "      <th>586667</th>\n",
              "      <td>5rgu12WBIHQtvej2MdHSH0</td>\n",
              "      <td>云与海</td>\n",
              "      <td>50</td>\n",
              "      <td>258267</td>\n",
              "      <td>0</td>\n",
              "      <td>['阿YueYue']</td>\n",
              "      <td>['1QLBXKM5GCpyQQSVMNZqrZ']</td>\n",
              "      <td>2020-09-26</td>\n",
              "      <td>0.560</td>\n",
              "      <td>0.5180</td>\n",
              "      <td>0</td>\n",
              "      <td>-7.471</td>\n",
              "      <td>0</td>\n",
              "      <td>0.0292</td>\n",
              "      <td>0.785</td>\n",
              "      <td>0.000000</td>\n",
              "      <td>0.0648</td>\n",
              "      <td>0.2110</td>\n",
              "      <td>131.896</td>\n",
              "      <td>4</td>\n",
              "    </tr>\n",
              "    <tr>\n",
              "      <th>586668</th>\n",
              "      <td>0NuWgxEp51CutD2pJoF4OM</td>\n",
              "      <td>blind</td>\n",
              "      <td>72</td>\n",
              "      <td>153293</td>\n",
              "      <td>0</td>\n",
              "      <td>['ROLE MODEL']</td>\n",
              "      <td>['1dy5WNgIKQU6ezkpZs4y8z']</td>\n",
              "      <td>2020-10-21</td>\n",
              "      <td>0.765</td>\n",
              "      <td>0.6630</td>\n",
              "      <td>0</td>\n",
              "      <td>-5.223</td>\n",
              "      <td>1</td>\n",
              "      <td>0.0652</td>\n",
              "      <td>0.141</td>\n",
              "      <td>0.000297</td>\n",
              "      <td>0.0924</td>\n",
              "      <td>0.6860</td>\n",
              "      <td>150.091</td>\n",
              "      <td>4</td>\n",
              "    </tr>\n",
              "    <tr>\n",
              "      <th>586669</th>\n",
              "      <td>27Y1N4Q4U3EfDU5Ubw8ws2</td>\n",
              "      <td>What They'll Say About Us</td>\n",
              "      <td>70</td>\n",
              "      <td>187601</td>\n",
              "      <td>0</td>\n",
              "      <td>['FINNEAS']</td>\n",
              "      <td>['37M5pPGs6V1fchFJSgCguX']</td>\n",
              "      <td>2020-09-02</td>\n",
              "      <td>0.535</td>\n",
              "      <td>0.3140</td>\n",
              "      <td>7</td>\n",
              "      <td>-12.823</td>\n",
              "      <td>0</td>\n",
              "      <td>0.0408</td>\n",
              "      <td>0.895</td>\n",
              "      <td>0.000150</td>\n",
              "      <td>0.0874</td>\n",
              "      <td>0.0663</td>\n",
              "      <td>145.095</td>\n",
              "      <td>4</td>\n",
              "    </tr>\n",
              "    <tr>\n",
              "      <th>586670</th>\n",
              "      <td>45XJsGpFTyzbzeWK8VzR8S</td>\n",
              "      <td>A Day At A Time</td>\n",
              "      <td>58</td>\n",
              "      <td>142003</td>\n",
              "      <td>0</td>\n",
              "      <td>['Gentle Bones', 'Clara Benin']</td>\n",
              "      <td>['4jGPdu95icCKVF31CcFKbS', '5ebPSE9YI5aLeZ1Z2g...</td>\n",
              "      <td>2021-03-05</td>\n",
              "      <td>0.696</td>\n",
              "      <td>0.6150</td>\n",
              "      <td>10</td>\n",
              "      <td>-6.212</td>\n",
              "      <td>1</td>\n",
              "      <td>0.0345</td>\n",
              "      <td>0.206</td>\n",
              "      <td>0.000003</td>\n",
              "      <td>0.3050</td>\n",
              "      <td>0.4380</td>\n",
              "      <td>90.029</td>\n",
              "      <td>4</td>\n",
              "    </tr>\n",
              "    <tr>\n",
              "      <th>586671</th>\n",
              "      <td>5Ocn6dZ3BJFPWh4ylwFXtn</td>\n",
              "      <td>Mar de Emociones</td>\n",
              "      <td>38</td>\n",
              "      <td>214360</td>\n",
              "      <td>0</td>\n",
              "      <td>['Afrosound']</td>\n",
              "      <td>['0i4Qda0k4nf7jnNHmSNpYv']</td>\n",
              "      <td>2015-07-01</td>\n",
              "      <td>0.686</td>\n",
              "      <td>0.7230</td>\n",
              "      <td>6</td>\n",
              "      <td>-7.067</td>\n",
              "      <td>1</td>\n",
              "      <td>0.0363</td>\n",
              "      <td>0.105</td>\n",
              "      <td>0.000000</td>\n",
              "      <td>0.2640</td>\n",
              "      <td>0.9750</td>\n",
              "      <td>112.204</td>\n",
              "      <td>4</td>\n",
              "    </tr>\n",
              "  </tbody>\n",
              "</table>\n",
              "<p>586672 rows × 20 columns</p>\n",
              "</div>"
            ],
            "text/plain": [
              "                            id                                 name  \\\n",
              "0       35iwgR4jXetI318WEWsa1Q                                Carve   \n",
              "1       021ht4sdgPcrDgSk7JTbKY  Capítulo 2.16 - Banquero Anarquista   \n",
              "2       07A5yehtSnoedViJAZkNnc   Vivo para Quererte - Remasterizado   \n",
              "3       08FmqUhxtyLTn6pAh6bk45        El Prisionero - Remasterizado   \n",
              "4       08y9GfoqCWfOGsKdwojr5e                  Lady of the Evening   \n",
              "...                        ...                                  ...   \n",
              "586667  5rgu12WBIHQtvej2MdHSH0                                  云与海   \n",
              "586668  0NuWgxEp51CutD2pJoF4OM                                blind   \n",
              "586669  27Y1N4Q4U3EfDU5Ubw8ws2            What They'll Say About Us   \n",
              "586670  45XJsGpFTyzbzeWK8VzR8S                      A Day At A Time   \n",
              "586671  5Ocn6dZ3BJFPWh4ylwFXtn                     Mar de Emociones   \n",
              "\n",
              "        popularity  duration_ms  explicit                          artists  \\\n",
              "0                6       126903         0                          ['Uli']   \n",
              "1                0        98200         0              ['Fernando Pessoa']   \n",
              "2                0       181640         0              ['Ignacio Corsini']   \n",
              "3                0       176907         0              ['Ignacio Corsini']   \n",
              "4                0       163080         0                  ['Dick Haymes']   \n",
              "...            ...          ...       ...                              ...   \n",
              "586667          50       258267         0                      ['阿YueYue']   \n",
              "586668          72       153293         0                   ['ROLE MODEL']   \n",
              "586669          70       187601         0                      ['FINNEAS']   \n",
              "586670          58       142003         0  ['Gentle Bones', 'Clara Benin']   \n",
              "586671          38       214360         0                    ['Afrosound']   \n",
              "\n",
              "                                               id_artists release_date  \\\n",
              "0                              ['45tIt06XoI0Iio4LBEVpls']   1922-02-22   \n",
              "1                              ['14jtPCOoNZwquk5wd9DxrY']   1922-06-01   \n",
              "2                              ['5LiOoJbxVSAMkBS2fUm3X2']   1922-03-21   \n",
              "3                              ['5LiOoJbxVSAMkBS2fUm3X2']   1922-03-21   \n",
              "4                              ['3BiJGZsyX9sJchTqcSA7Su']         1922   \n",
              "...                                                   ...          ...   \n",
              "586667                         ['1QLBXKM5GCpyQQSVMNZqrZ']   2020-09-26   \n",
              "586668                         ['1dy5WNgIKQU6ezkpZs4y8z']   2020-10-21   \n",
              "586669                         ['37M5pPGs6V1fchFJSgCguX']   2020-09-02   \n",
              "586670  ['4jGPdu95icCKVF31CcFKbS', '5ebPSE9YI5aLeZ1Z2g...   2021-03-05   \n",
              "586671                         ['0i4Qda0k4nf7jnNHmSNpYv']   2015-07-01   \n",
              "\n",
              "        danceability  energy  key  loudness  mode  speechiness  acousticness  \\\n",
              "0              0.645  0.4450    0   -13.338     1       0.4510         0.674   \n",
              "1              0.695  0.2630    0   -22.136     1       0.9570         0.797   \n",
              "2              0.434  0.1770    1   -21.180     1       0.0512         0.994   \n",
              "3              0.321  0.0946    7   -27.961     1       0.0504         0.995   \n",
              "4              0.402  0.1580    3   -16.900     0       0.0390         0.989   \n",
              "...              ...     ...  ...       ...   ...          ...           ...   \n",
              "586667         0.560  0.5180    0    -7.471     0       0.0292         0.785   \n",
              "586668         0.765  0.6630    0    -5.223     1       0.0652         0.141   \n",
              "586669         0.535  0.3140    7   -12.823     0       0.0408         0.895   \n",
              "586670         0.696  0.6150   10    -6.212     1       0.0345         0.206   \n",
              "586671         0.686  0.7230    6    -7.067     1       0.0363         0.105   \n",
              "\n",
              "        instrumentalness  liveness  valence    tempo  time_signature  \n",
              "0               0.744000    0.1510   0.1270  104.851               3  \n",
              "1               0.000000    0.1480   0.6550  102.009               1  \n",
              "2               0.021800    0.2120   0.4570  130.418               5  \n",
              "3               0.918000    0.1040   0.3970  169.980               3  \n",
              "4               0.130000    0.3110   0.1960  103.220               4  \n",
              "...                  ...       ...      ...      ...             ...  \n",
              "586667          0.000000    0.0648   0.2110  131.896               4  \n",
              "586668          0.000297    0.0924   0.6860  150.091               4  \n",
              "586669          0.000150    0.0874   0.0663  145.095               4  \n",
              "586670          0.000003    0.3050   0.4380   90.029               4  \n",
              "586671          0.000000    0.2640   0.9750  112.204               4  \n",
              "\n",
              "[586672 rows x 20 columns]"
            ]
          },
          "execution_count": 193,
          "metadata": {},
          "output_type": "execute_result"
        }
      ],
      "source": [
        "# tracks 데이터 불러오기\r\n",
        "df = pd.read_csv('../../../../datascience/spotify/data/tracks.csv')\r\n",
        "df"
      ]
    },
    {
      "cell_type": "code",
      "execution_count": 194,
      "metadata": {
        "colab": {
          "base_uri": "https://localhost:8080/"
        },
        "id": "byF89O1zlsgr",
        "outputId": "fee82c2f-4135-4c73-db54-dac2601ca169"
      },
      "outputs": [
        {
          "name": "stdout",
          "output_type": "stream",
          "text": [
            "<class 'pandas.core.frame.DataFrame'>\n",
            "RangeIndex: 586672 entries, 0 to 586671\n",
            "Data columns (total 20 columns):\n",
            " #   Column            Non-Null Count   Dtype  \n",
            "---  ------            --------------   -----  \n",
            " 0   id                586672 non-null  object \n",
            " 1   name              586601 non-null  object \n",
            " 2   popularity        586672 non-null  int64  \n",
            " 3   duration_ms       586672 non-null  int64  \n",
            " 4   explicit          586672 non-null  int64  \n",
            " 5   artists           586672 non-null  object \n",
            " 6   id_artists        586672 non-null  object \n",
            " 7   release_date      586672 non-null  object \n",
            " 8   danceability      586672 non-null  float64\n",
            " 9   energy            586672 non-null  float64\n",
            " 10  key               586672 non-null  int64  \n",
            " 11  loudness          586672 non-null  float64\n",
            " 12  mode              586672 non-null  int64  \n",
            " 13  speechiness       586672 non-null  float64\n",
            " 14  acousticness      586672 non-null  float64\n",
            " 15  instrumentalness  586672 non-null  float64\n",
            " 16  liveness          586672 non-null  float64\n",
            " 17  valence           586672 non-null  float64\n",
            " 18  tempo             586672 non-null  float64\n",
            " 19  time_signature    586672 non-null  int64  \n",
            "dtypes: float64(9), int64(6), object(5)\n",
            "memory usage: 89.5+ MB\n"
          ]
        }
      ],
      "source": [
        "df.info()"
      ]
    },
    {
      "cell_type": "code",
      "execution_count": 195,
      "metadata": {
        "colab": {
          "base_uri": "https://localhost:8080/",
          "height": 316
        },
        "id": "Ub_26PY2lsgs",
        "outputId": "34d909a1-1f85-4045-d5e4-bf0aca584970"
      },
      "outputs": [
        {
          "data": {
            "text/html": [
              "<div>\n",
              "<style scoped>\n",
              "    .dataframe tbody tr th:only-of-type {\n",
              "        vertical-align: middle;\n",
              "    }\n",
              "\n",
              "    .dataframe tbody tr th {\n",
              "        vertical-align: top;\n",
              "    }\n",
              "\n",
              "    .dataframe thead th {\n",
              "        text-align: right;\n",
              "    }\n",
              "</style>\n",
              "<table border=\"1\" class=\"dataframe\">\n",
              "  <thead>\n",
              "    <tr style=\"text-align: right;\">\n",
              "      <th></th>\n",
              "      <th>name</th>\n",
              "      <th>popularity</th>\n",
              "      <th>duration_ms</th>\n",
              "      <th>artists</th>\n",
              "      <th>release_date</th>\n",
              "      <th>danceability</th>\n",
              "      <th>energy</th>\n",
              "      <th>key</th>\n",
              "      <th>loudness</th>\n",
              "      <th>mode</th>\n",
              "      <th>speechiness</th>\n",
              "      <th>acousticness</th>\n",
              "      <th>instrumentalness</th>\n",
              "      <th>liveness</th>\n",
              "      <th>valence</th>\n",
              "      <th>tempo</th>\n",
              "    </tr>\n",
              "  </thead>\n",
              "  <tbody>\n",
              "    <tr>\n",
              "      <th>0</th>\n",
              "      <td>Carve</td>\n",
              "      <td>6</td>\n",
              "      <td>126903</td>\n",
              "      <td>['Uli']</td>\n",
              "      <td>1922-02-22</td>\n",
              "      <td>0.645</td>\n",
              "      <td>0.4450</td>\n",
              "      <td>0</td>\n",
              "      <td>-13.338</td>\n",
              "      <td>1</td>\n",
              "      <td>0.4510</td>\n",
              "      <td>0.674</td>\n",
              "      <td>0.7440</td>\n",
              "      <td>0.151</td>\n",
              "      <td>0.127</td>\n",
              "      <td>104.851</td>\n",
              "    </tr>\n",
              "    <tr>\n",
              "      <th>1</th>\n",
              "      <td>Capítulo 2.16 - Banquero Anarquista</td>\n",
              "      <td>0</td>\n",
              "      <td>98200</td>\n",
              "      <td>['Fernando Pessoa']</td>\n",
              "      <td>1922-06-01</td>\n",
              "      <td>0.695</td>\n",
              "      <td>0.2630</td>\n",
              "      <td>0</td>\n",
              "      <td>-22.136</td>\n",
              "      <td>1</td>\n",
              "      <td>0.9570</td>\n",
              "      <td>0.797</td>\n",
              "      <td>0.0000</td>\n",
              "      <td>0.148</td>\n",
              "      <td>0.655</td>\n",
              "      <td>102.009</td>\n",
              "    </tr>\n",
              "    <tr>\n",
              "      <th>2</th>\n",
              "      <td>Vivo para Quererte - Remasterizado</td>\n",
              "      <td>0</td>\n",
              "      <td>181640</td>\n",
              "      <td>['Ignacio Corsini']</td>\n",
              "      <td>1922-03-21</td>\n",
              "      <td>0.434</td>\n",
              "      <td>0.1770</td>\n",
              "      <td>1</td>\n",
              "      <td>-21.180</td>\n",
              "      <td>1</td>\n",
              "      <td>0.0512</td>\n",
              "      <td>0.994</td>\n",
              "      <td>0.0218</td>\n",
              "      <td>0.212</td>\n",
              "      <td>0.457</td>\n",
              "      <td>130.418</td>\n",
              "    </tr>\n",
              "    <tr>\n",
              "      <th>3</th>\n",
              "      <td>El Prisionero - Remasterizado</td>\n",
              "      <td>0</td>\n",
              "      <td>176907</td>\n",
              "      <td>['Ignacio Corsini']</td>\n",
              "      <td>1922-03-21</td>\n",
              "      <td>0.321</td>\n",
              "      <td>0.0946</td>\n",
              "      <td>7</td>\n",
              "      <td>-27.961</td>\n",
              "      <td>1</td>\n",
              "      <td>0.0504</td>\n",
              "      <td>0.995</td>\n",
              "      <td>0.9180</td>\n",
              "      <td>0.104</td>\n",
              "      <td>0.397</td>\n",
              "      <td>169.980</td>\n",
              "    </tr>\n",
              "    <tr>\n",
              "      <th>4</th>\n",
              "      <td>Lady of the Evening</td>\n",
              "      <td>0</td>\n",
              "      <td>163080</td>\n",
              "      <td>['Dick Haymes']</td>\n",
              "      <td>1922</td>\n",
              "      <td>0.402</td>\n",
              "      <td>0.1580</td>\n",
              "      <td>3</td>\n",
              "      <td>-16.900</td>\n",
              "      <td>0</td>\n",
              "      <td>0.0390</td>\n",
              "      <td>0.989</td>\n",
              "      <td>0.1300</td>\n",
              "      <td>0.311</td>\n",
              "      <td>0.196</td>\n",
              "      <td>103.220</td>\n",
              "    </tr>\n",
              "  </tbody>\n",
              "</table>\n",
              "</div>"
            ],
            "text/plain": [
              "                                  name  popularity  duration_ms  \\\n",
              "0                                Carve           6       126903   \n",
              "1  Capítulo 2.16 - Banquero Anarquista           0        98200   \n",
              "2   Vivo para Quererte - Remasterizado           0       181640   \n",
              "3        El Prisionero - Remasterizado           0       176907   \n",
              "4                  Lady of the Evening           0       163080   \n",
              "\n",
              "               artists release_date  danceability  energy  key  loudness  \\\n",
              "0              ['Uli']   1922-02-22         0.645  0.4450    0   -13.338   \n",
              "1  ['Fernando Pessoa']   1922-06-01         0.695  0.2630    0   -22.136   \n",
              "2  ['Ignacio Corsini']   1922-03-21         0.434  0.1770    1   -21.180   \n",
              "3  ['Ignacio Corsini']   1922-03-21         0.321  0.0946    7   -27.961   \n",
              "4      ['Dick Haymes']         1922         0.402  0.1580    3   -16.900   \n",
              "\n",
              "   mode  speechiness  acousticness  instrumentalness  liveness  valence  \\\n",
              "0     1       0.4510         0.674            0.7440     0.151    0.127   \n",
              "1     1       0.9570         0.797            0.0000     0.148    0.655   \n",
              "2     1       0.0512         0.994            0.0218     0.212    0.457   \n",
              "3     1       0.0504         0.995            0.9180     0.104    0.397   \n",
              "4     0       0.0390         0.989            0.1300     0.311    0.196   \n",
              "\n",
              "     tempo  \n",
              "0  104.851  \n",
              "1  102.009  \n",
              "2  130.418  \n",
              "3  169.980  \n",
              "4  103.220  "
            ]
          },
          "execution_count": 195,
          "metadata": {},
          "output_type": "execute_result"
        }
      ],
      "source": [
        "# 필요없는 컬럼 제거\n",
        "df.drop(['explicit','id','id_artists','time_signature'],axis=1,inplace=True)\n",
        "df.head()"
      ]
    },
    {
      "cell_type": "code",
      "execution_count": 196,
      "metadata": {
        "colab": {
          "base_uri": "https://localhost:8080/"
        },
        "id": "jPeauT6qlsgs",
        "outputId": "4b6bb898-d71d-4f12-eaf7-b9bab13bcc7f"
      },
      "outputs": [
        {
          "data": {
            "text/plain": [
              "0         127\n",
              "1          98\n",
              "2         182\n",
              "3         177\n",
              "4         163\n",
              "         ... \n",
              "586667    258\n",
              "586668    153\n",
              "586669    188\n",
              "586670    142\n",
              "586671    214\n",
              "Name: duration_sec, Length: 586672, dtype: int64"
            ]
          },
          "execution_count": 196,
          "metadata": {},
          "output_type": "execute_result"
        }
      ],
      "source": [
        "# ms를 second(int)로 변환 (열 추가)\n",
        "df['duration_sec'] = (df[\"duration_ms\"]/1000).round()\n",
        "df['duration_sec'] = df[\"duration_sec\"].astype('int64')\n",
        "df.drop(['duration_ms'],axis=1,inplace=True)\n",
        "df['duration_sec']"
      ]
    },
    {
      "cell_type": "code",
      "execution_count": 197,
      "metadata": {
        "id": "68a3Ig0Clsgt"
      },
      "outputs": [],
      "source": [
        "# 년도만 출력\n",
        "df['release_date'] = df['release_date'].astype('str')\n",
        "df['release_date'] = df['release_date'].str[:4]"
      ]
    },
    {
      "cell_type": "code",
      "execution_count": 198,
      "metadata": {
        "colab": {
          "base_uri": "https://localhost:8080/"
        },
        "id": "sAaDEijhlsgt",
        "outputId": "bb9008ee-c5ae-4e65-e6c2-d8cc8ea6c4d3"
      },
      "outputs": [
        {
          "name": "stdout",
          "output_type": "stream",
          "text": [
            "<class 'pandas.core.frame.DataFrame'>\n",
            "RangeIndex: 586672 entries, 0 to 586671\n",
            "Data columns (total 16 columns):\n",
            " #   Column            Non-Null Count   Dtype         \n",
            "---  ------            --------------   -----         \n",
            " 0   name              586601 non-null  object        \n",
            " 1   popularity        586672 non-null  int64         \n",
            " 2   artists           586672 non-null  object        \n",
            " 3   release_date      586672 non-null  datetime64[ns]\n",
            " 4   danceability      586672 non-null  float64       \n",
            " 5   energy            586672 non-null  float64       \n",
            " 6   key               586672 non-null  int64         \n",
            " 7   loudness          586672 non-null  float64       \n",
            " 8   mode              586672 non-null  int64         \n",
            " 9   speechiness       586672 non-null  float64       \n",
            " 10  acousticness      586672 non-null  float64       \n",
            " 11  instrumentalness  586672 non-null  float64       \n",
            " 12  liveness          586672 non-null  float64       \n",
            " 13  valence           586672 non-null  float64       \n",
            " 14  tempo             586672 non-null  float64       \n",
            " 15  duration_sec      586672 non-null  int64         \n",
            "dtypes: datetime64[ns](1), float64(9), int64(4), object(2)\n",
            "memory usage: 71.6+ MB\n"
          ]
        }
      ],
      "source": [
        "# 발매일 datetime 변환\n",
        "df['release_date'] = pd.to_datetime(df['release_date'], format=\"%Y\")\n",
        "df.info()"
      ]
    },
    {
      "cell_type": "code",
      "execution_count": 199,
      "metadata": {
        "colab": {
          "base_uri": "https://localhost:8080/",
          "height": 399
        },
        "id": "EWWy3cEYlsgu",
        "outputId": "42383e29-00e8-4a96-a57f-63b4ba39fc5a"
      },
      "outputs": [
        {
          "data": {
            "text/plain": [
              "<Figure size 1440x720 with 0 Axes>"
            ]
          },
          "metadata": {},
          "output_type": "display_data"
        },
        {
          "data": {
            "image/png": "[encoded data removed]",
            "text/plain": [
              "<Figure size 360x360 with 1 Axes>"
            ]
          },
          "metadata": {},
          "output_type": "display_data"
        }
      ],
      "source": [
        "# 발매일에 따른 음원 분포\n",
        "plt.figure(figsize=(20, 10))\n",
        "sns.set(style=\"whitegrid\")\n",
        "ax = sns.displot(df['release_date'],bins=20)\n",
        "ax.set(title =\"tracks.csv\")\n",
        "plt.savefig('year_count.png', dpi = 300)"
      ]
    },
    {
      "cell_type": "code",
      "execution_count": 200,
      "metadata": {
        "colab": {
          "base_uri": "https://localhost:8080/",
          "height": 285
        },
        "id": "WgWj971slsgu",
        "outputId": "e64501bf-5649-417c-bcf5-585750da6ed7"
      },
      "outputs": [
        {
          "data": {
            "image/png": "[encoded data removed]",
            "text/plain": [
              "<Figure size 432x288 with 1 Axes>"
            ]
          },
          "metadata": {},
          "output_type": "display_data"
        }
      ],
      "source": [
        "sns.set_theme(style=\"whitegrid\")\n",
        "ax = sns.boxplot(x=df[\"duration_sec\"])"
      ]
    },
    {
      "cell_type": "code",
      "execution_count": 201,
      "metadata": {
        "colab": {
          "base_uri": "https://localhost:8080/",
          "height": 399
        },
        "id": "kSbJYtcBlsgv",
        "outputId": "e4cbb84b-f436-4915-e3de-25ba9628ba31"
      },
      "outputs": [
        {
          "data": {
            "text/plain": [
              "<Figure size 1440x720 with 0 Axes>"
            ]
          },
          "metadata": {},
          "output_type": "display_data"
        },
        {
          "data": {
            "image/png": "[encoded data removed]",
            "text/plain": [
              "<Figure size 360x360 with 1 Axes>"
            ]
          },
          "metadata": {},
          "output_type": "display_data"
        }
      ],
      "source": [
        "# 발매일에 따른 음원 분포\n",
        "plt.figure(figsize=(20, 10))\n",
        "sns.set(style=\"whitegrid\")\n",
        "ax = sns.displot(df['duration_sec'], kde=True)\n",
        "ax.set(title =\"duration_sec.csv\")\n",
        "plt.savefig('year_count.png', dpi = 300)"
      ]
    },
    {
      "cell_type": "code",
      "execution_count": 202,
      "metadata": {
        "colab": {
          "base_uri": "https://localhost:8080/"
        },
        "id": "nRXswCUBlsgv",
        "outputId": "21b408a6-6d84-4181-e4d7-9cdfaa12ff47"
      },
      "outputs": [
        {
          "data": {
            "text/plain": [
              "230.05065181225626"
            ]
          },
          "execution_count": 202,
          "metadata": {},
          "output_type": "execute_result"
        }
      ],
      "source": [
        "df['duration_sec'].mean()"
      ]
    },
    {
      "cell_type": "code",
      "execution_count": 203,
      "metadata": {
        "colab": {
          "base_uri": "https://localhost:8080/",
          "height": 402
        },
        "id": "rt0dSdoBlsgw",
        "outputId": "1f1c7c48-70ae-4fef-91cf-2916f38706a9"
      },
      "outputs": [
        {
          "data": {
            "text/html": [
              "<div>\n",
              "<style scoped>\n",
              "    .dataframe tbody tr th:only-of-type {\n",
              "        vertical-align: middle;\n",
              "    }\n",
              "\n",
              "    .dataframe tbody tr th {\n",
              "        vertical-align: top;\n",
              "    }\n",
              "\n",
              "    .dataframe thead th {\n",
              "        text-align: right;\n",
              "    }\n",
              "</style>\n",
              "<table border=\"1\" class=\"dataframe\">\n",
              "  <thead>\n",
              "    <tr style=\"text-align: right;\">\n",
              "      <th></th>\n",
              "      <th>key</th>\n",
              "      <th>mode</th>\n",
              "    </tr>\n",
              "  </thead>\n",
              "  <tbody>\n",
              "    <tr>\n",
              "      <th>0</th>\n",
              "      <td>0</td>\n",
              "      <td>1</td>\n",
              "    </tr>\n",
              "    <tr>\n",
              "      <th>1</th>\n",
              "      <td>0</td>\n",
              "      <td>1</td>\n",
              "    </tr>\n",
              "    <tr>\n",
              "      <th>2</th>\n",
              "      <td>1</td>\n",
              "      <td>1</td>\n",
              "    </tr>\n",
              "    <tr>\n",
              "      <th>3</th>\n",
              "      <td>7</td>\n",
              "      <td>1</td>\n",
              "    </tr>\n",
              "    <tr>\n",
              "      <th>4</th>\n",
              "      <td>3</td>\n",
              "      <td>0</td>\n",
              "    </tr>\n",
              "    <tr>\n",
              "      <th>...</th>\n",
              "      <td>...</td>\n",
              "      <td>...</td>\n",
              "    </tr>\n",
              "    <tr>\n",
              "      <th>586667</th>\n",
              "      <td>0</td>\n",
              "      <td>0</td>\n",
              "    </tr>\n",
              "    <tr>\n",
              "      <th>586668</th>\n",
              "      <td>0</td>\n",
              "      <td>1</td>\n",
              "    </tr>\n",
              "    <tr>\n",
              "      <th>586669</th>\n",
              "      <td>7</td>\n",
              "      <td>0</td>\n",
              "    </tr>\n",
              "    <tr>\n",
              "      <th>586670</th>\n",
              "      <td>10</td>\n",
              "      <td>1</td>\n",
              "    </tr>\n",
              "    <tr>\n",
              "      <th>586671</th>\n",
              "      <td>6</td>\n",
              "      <td>1</td>\n",
              "    </tr>\n",
              "  </tbody>\n",
              "</table>\n",
              "<p>586672 rows × 2 columns</p>\n",
              "</div>"
            ],
            "text/plain": [
              "        key  mode\n",
              "0         0     1\n",
              "1         0     1\n",
              "2         1     1\n",
              "3         7     1\n",
              "4         3     0\n",
              "...     ...   ...\n",
              "586667    0     0\n",
              "586668    0     1\n",
              "586669    7     0\n",
              "586670   10     1\n",
              "586671    6     1\n",
              "\n",
              "[586672 rows x 2 columns]"
            ]
          },
          "execution_count": 203,
          "metadata": {},
          "output_type": "execute_result"
        }
      ],
      "source": [
        "# key, mode 분리\n",
        "df_category = df[['key','mode']]\n",
        "df_category"
      ]
    },
    {
      "cell_type": "code",
      "execution_count": 204,
      "metadata": {
        "id": "e2QWTE6Ylsgw"
      },
      "outputs": [],
      "source": [
        "# key, mode 삭제 \n",
        "df.drop(['key','mode'],axis=1,inplace=True)"
      ]
    },
    {
      "cell_type": "code",
      "execution_count": 205,
      "metadata": {
        "colab": {
          "base_uri": "https://localhost:8080/",
          "height": 684
        },
        "id": "ssM2enIAlsgw",
        "outputId": "ab568a2d-d57c-49d5-e151-2f048ce61815"
      },
      "outputs": [
        {
          "data": {
            "image/png": "[encoded data removed]",
            "text/plain": [
              "<Figure size 1440x720 with 2 Axes>"
            ]
          },
          "metadata": {},
          "output_type": "display_data"
        }
      ],
      "source": [
        "# feature correlation (heatmap)\n",
        "plt.figure(figsize=(20, 10))\n",
        "corr = df.corr()\n",
        "sns.heatmap(corr,annot=True,cmap=\"coolwarm\")\n",
        "plt.savefig('feature_heatmap.png', dpi = 400)"
      ]
    },
    {
      "cell_type": "code",
      "execution_count": 206,
      "metadata": {
        "colab": {
          "base_uri": "https://localhost:8080/"
        },
        "id": "dqyQhb4Elsgx",
        "outputId": "0e10d832-13ac-4257-81da-315a83e638a9"
      },
      "outputs": [
        {
          "data": {
            "text/plain": [
              "0     74950\n",
              "7     73779\n",
              "2     66552\n",
              "9     65128\n",
              "5     53614\n",
              "4     48220\n",
              "1     41736\n",
              "11    39132\n",
              "10    37710\n",
              "8     33460\n",
              "6     30856\n",
              "3     21535\n",
              "Name: key, dtype: int64"
            ]
          },
          "execution_count": 206,
          "metadata": {},
          "output_type": "execute_result"
        }
      ],
      "source": [
        "# key sum값\n",
        "key = df_category['key'].value_counts()\n",
        "key"
      ]
    },
    {
      "cell_type": "code",
      "execution_count": 207,
      "metadata": {
        "colab": {
          "base_uri": "https://localhost:8080/"
        },
        "id": "VincKXcelsgx",
        "outputId": "b9b2a117-3d5e-4169-e46e-0d424414467f"
      },
      "outputs": [
        {
          "data": {
            "text/plain": [
              "1    386498\n",
              "0    200174\n",
              "Name: mode, dtype: int64"
            ]
          },
          "execution_count": 207,
          "metadata": {},
          "output_type": "execute_result"
        }
      ],
      "source": [
        "# mode sum값\n",
        "mode = df_category['mode'].value_counts()\n",
        "mode"
      ]
    },
    {
      "cell_type": "code",
      "execution_count": 208,
      "metadata": {
        "colab": {
          "base_uri": "https://localhost:8080/",
          "height": 617
        },
        "id": "cMocEq4Xlsgy",
        "outputId": "1711aaac-0a38-4071-dde7-b79615d0b37a"
      },
      "outputs": [
        {
          "data": {
            "application/vnd.plotly.v1+json": {
              "config": {
                "plotlyServerURL": "https://plot.ly"
              },
              "data": [
                {
                  "domain": {
                    "x": [
                      0,
                      0.45
                    ],
                    "y": [
                      0,
                      1
                    ]
                  },
                  "labels": [
                    "C",
                    "G",
                    "D",
                    "A",
                    "F",
                    "E",
                    "C♯",
                    "B",
                    "A♯",
                    "G♯",
                    "F♯",
                    "D♯"
                  ],
                  "textinfo": "percent+label",
                  "type": "pie",
                  "values": [
                    74950,
                    73779,
                    66552,
                    65128,
                    53614,
                    48220,
                    41736,
                    39132,
                    37710,
                    33460,
                    30856,
                    21535
                  ]
                },
                {
                  "domain": {
                    "x": [
                      0.55,
                      1
                    ],
                    "y": [
                      0,
                      1
                    ]
                  },
                  "labels": [
                    "Major",
                    "Minor"
                  ],
                  "textinfo": "percent+label",
                  "type": "pie",
                  "values": [
                    386498,
                    200174
                  ]
                }
              ],
              "layout": {
                "height": 600,
                "template": {
                  "data": {
                    "bar": [
                      {
                        "error_x": {
                          "color": "#2a3f5f"
                        },
                        "error_y": {
                          "color": "#2a3f5f"
                        },
                        "marker": {
                          "line": {
                            "color": "#E5ECF6",
                            "width": 0.5
                          }
                        },
                        "type": "bar"
                      }
                    ],
                    "barpolar": [
                      {
                        "marker": {
                          "line": {
                            "color": "#E5ECF6",
                            "width": 0.5
                          }
                        },
                        "type": "barpolar"
                      }
                    ],
                    "carpet": [
                      {
                        "aaxis": {
                          "endlinecolor": "#2a3f5f",
                          "gridcolor": "white",
                          "linecolor": "white",
                          "minorgridcolor": "white",
                          "startlinecolor": "#2a3f5f"
                        },
                        "baxis": {
                          "endlinecolor": "#2a3f5f",
                          "gridcolor": "white",
                          "linecolor": "white",
                          "minorgridcolor": "white",
                          "startlinecolor": "#2a3f5f"
                        },
                        "type": "carpet"
                      }
                    ],
                    "choropleth": [
                      {
                        "colorbar": {
                          "outlinewidth": 0,
                          "ticks": ""
                        },
                        "type": "choropleth"
                      }
                    ],
                    "contour": [
                      {
                        "colorbar": {
                          "outlinewidth": 0,
                          "ticks": ""
                        },
                        "colorscale": [
                          [
                            0,
                            "#0d0887"
                          ],
                          [
                            0.1111111111111111,
                            "#46039f"
                          ],
                          [
                            0.2222222222222222,
                            "#7201a8"
                          ],
                          [
                            0.3333333333333333,
                            "#9c179e"
                          ],
                          [
                            0.4444444444444444,
                            "#bd3786"
                          ],
                          [
                            0.5555555555555556,
                            "#d8576b"
                          ],
                          [
                            0.6666666666666666,
                            "#ed7953"
                          ],
                          [
                            0.7777777777777778,
                            "#fb9f3a"
                          ],
                          [
                            0.8888888888888888,
                            "#fdca26"
                          ],
                          [
                            1,
                            "#f0f921"
                          ]
                        ],
                        "type": "contour"
                      }
                    ],
                    "contourcarpet": [
                      {
                        "colorbar": {
                          "outlinewidth": 0,
                          "ticks": ""
                        },
                        "type": "contourcarpet"
                      }
                    ],
                    "heatmap": [
                      {
                        "colorbar": {
                          "outlinewidth": 0,
                          "ticks": ""
                        },
                        "colorscale": [
                          [
                            0,
                            "#0d0887"
                          ],
                          [
                            0.1111111111111111,
                            "#46039f"
                          ],
                          [
                            0.2222222222222222,
                            "#7201a8"
                          ],
                          [
                            0.3333333333333333,
                            "#9c179e"
                          ],
                          [
                            0.4444444444444444,
                            "#bd3786"
                          ],
                          [
                            0.5555555555555556,
                            "#d8576b"
                          ],
                          [
                            0.6666666666666666,
                            "#ed7953"
                          ],
                          [
                            0.7777777777777778,
                            "#fb9f3a"
                          ],
                          [
                            0.8888888888888888,
                            "#fdca26"
                          ],
                          [
                            1,
                            "#f0f921"
                          ]
                        ],
                        "type": "heatmap"
                      }
                    ],
                    "heatmapgl": [
                      {
                        "colorbar": {
                          "outlinewidth": 0,
                          "ticks": ""
                        },
                        "colorscale": [
                          [
                            0,
                            "#0d0887"
                          ],
                          [
                            0.1111111111111111,
                            "#46039f"
                          ],
                          [
                            0.2222222222222222,
                            "#7201a8"
                          ],
                          [
                            0.3333333333333333,
                            "#9c179e"
                          ],
                          [
                            0.4444444444444444,
                            "#bd3786"
                          ],
                          [
                            0.5555555555555556,
                            "#d8576b"
                          ],
                          [
                            0.6666666666666666,
                            "#ed7953"
                          ],
                          [
                            0.7777777777777778,
                            "#fb9f3a"
                          ],
                          [
                            0.8888888888888888,
                            "#fdca26"
                          ],
                          [
                            1,
                            "#f0f921"
                          ]
                        ],
                        "type": "heatmapgl"
                      }
                    ],
                    "histogram": [
                      {
                        "marker": {
                          "colorbar": {
                            "outlinewidth": 0,
                            "ticks": ""
                          }
                        },
                        "type": "histogram"
                      }
                    ],
                    "histogram2d": [
                      {
                        "colorbar": {
                          "outlinewidth": 0,
                          "ticks": ""
                        },
                        "colorscale": [
                          [
                            0,
                            "#0d0887"
                          ],
                          [
                            0.1111111111111111,
                            "#46039f"
                          ],
                          [
                            0.2222222222222222,
                            "#7201a8"
                          ],
                          [
                            0.3333333333333333,
                            "#9c179e"
                          ],
                          [
                            0.4444444444444444,
                            "#bd3786"
                          ],
                          [
                            0.5555555555555556,
                            "#d8576b"
                          ],
                          [
                            0.6666666666666666,
                            "#ed7953"
                          ],
                          [
                            0.7777777777777778,
                            "#fb9f3a"
                          ],
                          [
                            0.8888888888888888,
                            "#fdca26"
                          ],
                          [
                            1,
                            "#f0f921"
                          ]
                        ],
                        "type": "histogram2d"
                      }
                    ],
                    "histogram2dcontour": [
                      {
                        "colorbar": {
                          "outlinewidth": 0,
                          "ticks": ""
                        },
                        "colorscale": [
                          [
                            0,
                            "#0d0887"
                          ],
                          [
                            0.1111111111111111,
                            "#46039f"
                          ],
                          [
                            0.2222222222222222,
                            "#7201a8"
                          ],
                          [
                            0.3333333333333333,
                            "#9c179e"
                          ],
                          [
                            0.4444444444444444,
                            "#bd3786"
                          ],
                          [
                            0.5555555555555556,
                            "#d8576b"
                          ],
                          [
                            0.6666666666666666,
                            "#ed7953"
                          ],
                          [
                            0.7777777777777778,
                            "#fb9f3a"
                          ],
                          [
                            0.8888888888888888,
                            "#fdca26"
                          ],
                          [
                            1,
                            "#f0f921"
                          ]
                        ],
                        "type": "histogram2dcontour"
                      }
                    ],
                    "mesh3d": [
                      {
                        "colorbar": {
                          "outlinewidth": 0,
                          "ticks": ""
                        },
                        "type": "mesh3d"
                      }
                    ],
                    "parcoords": [
                      {
                        "line": {
                          "colorbar": {
                            "outlinewidth": 0,
                            "ticks": ""
                          }
                        },
                        "type": "parcoords"
                      }
                    ],
                    "pie": [
                      {
                        "automargin": true,
                        "type": "pie"
                      }
                    ],
                    "scatter": [
                      {
                        "marker": {
                          "colorbar": {
                            "outlinewidth": 0,
                            "ticks": ""
                          }
                        },
                        "type": "scatter"
                      }
                    ],
                    "scatter3d": [
                      {
                        "line": {
                          "colorbar": {
                            "outlinewidth": 0,
                            "ticks": ""
                          }
                        },
                        "marker": {
                          "colorbar": {
                            "outlinewidth": 0,
                            "ticks": ""
                          }
                        },
                        "type": "scatter3d"
                      }
                    ],
                    "scattercarpet": [
                      {
                        "marker": {
                          "colorbar": {
                            "outlinewidth": 0,
                            "ticks": ""
                          }
                        },
                        "type": "scattercarpet"
                      }
                    ],
                    "scattergeo": [
                      {
                        "marker": {
                          "colorbar": {
                            "outlinewidth": 0,
                            "ticks": ""
                          }
                        },
                        "type": "scattergeo"
                      }
                    ],
                    "scattergl": [
                      {
                        "marker": {
                          "colorbar": {
                            "outlinewidth": 0,
                            "ticks": ""
                          }
                        },
                        "type": "scattergl"
                      }
                    ],
                    "scattermapbox": [
                      {
                        "marker": {
                          "colorbar": {
                            "outlinewidth": 0,
                            "ticks": ""
                          }
                        },
                        "type": "scattermapbox"
                      }
                    ],
                    "scatterpolar": [
                      {
                        "marker": {
                          "colorbar": {
                            "outlinewidth": 0,
                            "ticks": ""
                          }
                        },
                        "type": "scatterpolar"
                      }
                    ],
                    "scatterpolargl": [
                      {
                        "marker": {
                          "colorbar": {
                            "outlinewidth": 0,
                            "ticks": ""
                          }
                        },
                        "type": "scatterpolargl"
                      }
                    ],
                    "scatterternary": [
                      {
                        "marker": {
                          "colorbar": {
                            "outlinewidth": 0,
                            "ticks": ""
                          }
                        },
                        "type": "scatterternary"
                      }
                    ],
                    "surface": [
                      {
                        "colorbar": {
                          "outlinewidth": 0,
                          "ticks": ""
                        },
                        "colorscale": [
                          [
                            0,
                            "#0d0887"
                          ],
                          [
                            0.1111111111111111,
                            "#46039f"
                          ],
                          [
                            0.2222222222222222,
                            "#7201a8"
                          ],
                          [
                            0.3333333333333333,
                            "#9c179e"
                          ],
                          [
                            0.4444444444444444,
                            "#bd3786"
                          ],
                          [
                            0.5555555555555556,
                            "#d8576b"
                          ],
                          [
                            0.6666666666666666,
                            "#ed7953"
                          ],
                          [
                            0.7777777777777778,
                            "#fb9f3a"
                          ],
                          [
                            0.8888888888888888,
                            "#fdca26"
                          ],
                          [
                            1,
                            "#f0f921"
                          ]
                        ],
                        "type": "surface"
                      }
                    ],
                    "table": [
                      {
                        "cells": {
                          "fill": {
                            "color": "#EBF0F8"
                          },
                          "line": {
                            "color": "white"
                          }
                        },
                        "header": {
                          "fill": {
                            "color": "#C8D4E3"
                          },
                          "line": {
                            "color": "white"
                          }
                        },
                        "type": "table"
                      }
                    ]
                  },
                  "layout": {
                    "annotationdefaults": {
                      "arrowcolor": "#2a3f5f",
                      "arrowhead": 0,
                      "arrowwidth": 1
                    },
                    "autotypenumbers": "strict",
                    "coloraxis": {
                      "colorbar": {
                        "outlinewidth": 0,
                        "ticks": ""
                      }
                    },
                    "colorscale": {
                      "diverging": [
                        [
                          0,
                          "#8e0152"
                        ],
                        [
                          0.1,
                          "#c51b7d"
                        ],
                        [
                          0.2,
                          "#de77ae"
                        ],
                        [
                          0.3,
                          "#f1b6da"
                        ],
                        [
                          0.4,
                          "#fde0ef"
                        ],
                        [
                          0.5,
                          "#f7f7f7"
                        ],
                        [
                          0.6,
                          "#e6f5d0"
                        ],
                        [
                          0.7,
                          "#b8e186"
                        ],
                        [
                          0.8,
                          "#7fbc41"
                        ],
                        [
                          0.9,
                          "#4d9221"
                        ],
                        [
                          1,
                          "#276419"
                        ]
                      ],
                      "sequential": [
                        [
                          0,
                          "#0d0887"
                        ],
                        [
                          0.1111111111111111,
                          "#46039f"
                        ],
                        [
                          0.2222222222222222,
                          "#7201a8"
                        ],
                        [
                          0.3333333333333333,
                          "#9c179e"
                        ],
                        [
                          0.4444444444444444,
                          "#bd3786"
                        ],
                        [
                          0.5555555555555556,
                          "#d8576b"
                        ],
                        [
                          0.6666666666666666,
                          "#ed7953"
                        ],
                        [
                          0.7777777777777778,
                          "#fb9f3a"
                        ],
                        [
                          0.8888888888888888,
                          "#fdca26"
                        ],
                        [
                          1,
                          "#f0f921"
                        ]
                      ],
                      "sequentialminus": [
                        [
                          0,
                          "#0d0887"
                        ],
                        [
                          0.1111111111111111,
                          "#46039f"
                        ],
                        [
                          0.2222222222222222,
                          "#7201a8"
                        ],
                        [
                          0.3333333333333333,
                          "#9c179e"
                        ],
                        [
                          0.4444444444444444,
                          "#bd3786"
                        ],
                        [
                          0.5555555555555556,
                          "#d8576b"
                        ],
                        [
                          0.6666666666666666,
                          "#ed7953"
                        ],
                        [
                          0.7777777777777778,
                          "#fb9f3a"
                        ],
                        [
                          0.8888888888888888,
                          "#fdca26"
                        ],
                        [
                          1,
                          "#f0f921"
                        ]
                      ]
                    },
                    "colorway": [
                      "#636efa",
                      "#EF553B",
                      "#00cc96",
                      "#ab63fa",
                      "#FFA15A",
                      "#19d3f3",
                      "#FF6692",
                      "#B6E880",
                      "#FF97FF",
                      "#FECB52"
                    ],
                    "font": {
                      "color": "#2a3f5f"
                    },
                    "geo": {
                      "bgcolor": "white",
                      "lakecolor": "white",
                      "landcolor": "#E5ECF6",
                      "showlakes": true,
                      "showland": true,
                      "subunitcolor": "white"
                    },
                    "hoverlabel": {
                      "align": "left"
                    },
                    "hovermode": "closest",
                    "mapbox": {
                      "style": "light"
                    },
                    "paper_bgcolor": "white",
                    "plot_bgcolor": "#E5ECF6",
                    "polar": {
                      "angularaxis": {
                        "gridcolor": "white",
                        "linecolor": "white",
                        "ticks": ""
                      },
                      "bgcolor": "#E5ECF6",
                      "radialaxis": {
                        "gridcolor": "white",
                        "linecolor": "white",
                        "ticks": ""
                      }
                    },
                    "scene": {
                      "xaxis": {
                        "backgroundcolor": "#E5ECF6",
                        "gridcolor": "white",
                        "gridwidth": 2,
                        "linecolor": "white",
                        "showbackground": true,
                        "ticks": "",
                        "zerolinecolor": "white"
                      },
                      "yaxis": {
                        "backgroundcolor": "#E5ECF6",
                        "gridcolor": "white",
                        "gridwidth": 2,
                        "linecolor": "white",
                        "showbackground": true,
                        "ticks": "",
                        "zerolinecolor": "white"
                      },
                      "zaxis": {
                        "backgroundcolor": "#E5ECF6",
                        "gridcolor": "white",
                        "gridwidth": 2,
                        "linecolor": "white",
                        "showbackground": true,
                        "ticks": "",
                        "zerolinecolor": "white"
                      }
                    },
                    "shapedefaults": {
                      "line": {
                        "color": "#2a3f5f"
                      }
                    },
                    "ternary": {
                      "aaxis": {
                        "gridcolor": "white",
                        "linecolor": "white",
                        "ticks": ""
                      },
                      "baxis": {
                        "gridcolor": "white",
                        "linecolor": "white",
                        "ticks": ""
                      },
                      "bgcolor": "#E5ECF6",
                      "caxis": {
                        "gridcolor": "white",
                        "linecolor": "white",
                        "ticks": ""
                      }
                    },
                    "title": {
                      "x": 0.05
                    },
                    "xaxis": {
                      "automargin": true,
                      "gridcolor": "white",
                      "linecolor": "white",
                      "ticks": "",
                      "title": {
                        "standoff": 15
                      },
                      "zerolinecolor": "white",
                      "zerolinewidth": 2
                    },
                    "yaxis": {
                      "automargin": true,
                      "gridcolor": "white",
                      "linecolor": "white",
                      "ticks": "",
                      "title": {
                        "standoff": 15
                      },
                      "zerolinecolor": "white",
                      "zerolinewidth": 2
                    }
                  }
                },
                "title": {
                  "text": "Keys / Modes"
                },
                "width": 1200
              }
            }
          },
          "metadata": {},
          "output_type": "display_data"
        }
      ],
      "source": [
        "# key, mode 파이차트\n",
        "key_mapping = {0:\"C\",1:\"C♯\",2:\"D\",3:\"D♯\",4:\"E\",5:\"F\",6:\"F♯\",7:\"G\",8:\"G♯\",9:\"A\",10:\"A♯\",11:\"B\"}\n",
        "key_counts_df = pd.DataFrame(df_category[\"key\"].value_counts())\n",
        "key_counts_df['key_names'] = key_counts_df.index.to_series().map(key_mapping)\n",
        "\n",
        "key_labels = key_counts_df['key_names'].values\n",
        "key_values = key_counts_df['key'].values\n",
        "\n",
        "mode_mapping = {0:\"Minor\",1:\"Major\"}\n",
        "mode_counts_df = pd.DataFrame(df_category[\"mode\"].value_counts())\n",
        "mode_counts_df['mode_names'] = mode_counts_df.index.to_series().map(mode_mapping)\n",
        "\n",
        "mode_labels = mode_counts_df['mode_names'].values\n",
        "mode_values = mode_counts_df['mode'].values\n",
        "\n",
        "fig = make_subplots(rows=1, cols=2,specs=[[{\"type\": \"pie\"}, {\"type\": \"pie\"}]])\n",
        "\n",
        "fig.add_trace(\n",
        "    go.Pie(labels=key_labels, values=key_values),row=1, col=1)\n",
        "\n",
        "fig.add_trace(\n",
        "    go.Pie(labels=mode_labels, values=mode_values),row=1, col=2)\n",
        "\n",
        "fig.update_traces(textinfo='percent+label')\n",
        "\n",
        "\n",
        "fig.update_layout(height=600, width=1200, title=\"Keys / Modes\")\n",
        "fig.show()"
      ]
    },
    {
      "cell_type": "code",
      "execution_count": 209,
      "metadata": {
        "colab": {
          "base_uri": "https://localhost:8080/",
          "height": 595
        },
        "id": "pBgieCqMlsgz",
        "outputId": "f8abe0c7-9c37-431c-cd8e-1d49639f2102"
      },
      "outputs": [
        {
          "ename": "AttributeError",
          "evalue": "'FacetGrid' object has no attribute 'set_title'",
          "output_type": "error",
          "traceback": [
            "\u001b[1;31m---------------------------------------------------------------------------\u001b[0m",
            "\u001b[1;31mAttributeError\u001b[0m                            Traceback (most recent call last)",
            "\u001b[1;32m<ipython-input-209-052f714aacee>\u001b[0m in \u001b[0;36m<module>\u001b[1;34m\u001b[0m\n\u001b[0;32m      1\u001b[0m \u001b[0mplt\u001b[0m\u001b[1;33m.\u001b[0m\u001b[0mfigure\u001b[0m\u001b[1;33m(\u001b[0m\u001b[0mfigsize\u001b[0m\u001b[1;33m=\u001b[0m\u001b[1;33m(\u001b[0m\u001b[1;36m16\u001b[0m\u001b[1;33m,\u001b[0m \u001b[1;36m8\u001b[0m\u001b[1;33m)\u001b[0m\u001b[1;33m)\u001b[0m\u001b[1;33m\u001b[0m\u001b[1;33m\u001b[0m\u001b[0m\n\u001b[0;32m      2\u001b[0m \u001b[0msns\u001b[0m\u001b[1;33m.\u001b[0m\u001b[0mdisplot\u001b[0m\u001b[1;33m(\u001b[0m\u001b[0mdf\u001b[0m\u001b[1;33m.\u001b[0m\u001b[0mpopularity\u001b[0m\u001b[1;33m,\u001b[0m\u001b[0mbins\u001b[0m\u001b[1;33m=\u001b[0m\u001b[1;36m20\u001b[0m\u001b[1;33m)\u001b[0m\u001b[1;33m\u001b[0m\u001b[1;33m\u001b[0m\u001b[0m\n\u001b[1;32m----> 3\u001b[1;33m \u001b[0max\u001b[0m\u001b[1;33m.\u001b[0m\u001b[0mset_title\u001b[0m\u001b[1;33m(\u001b[0m\u001b[1;34m'popularity_density'\u001b[0m\u001b[1;33m)\u001b[0m\u001b[1;33m\u001b[0m\u001b[1;33m\u001b[0m\u001b[0m\n\u001b[0m\u001b[0;32m      4\u001b[0m \u001b[0mplt\u001b[0m\u001b[1;33m.\u001b[0m\u001b[0msavefig\u001b[0m\u001b[1;33m(\u001b[0m\u001b[1;34m'popularity_count.png'\u001b[0m\u001b[1;33m,\u001b[0m \u001b[0mdpi\u001b[0m \u001b[1;33m=\u001b[0m \u001b[1;36m400\u001b[0m\u001b[1;33m)\u001b[0m\u001b[1;33m\u001b[0m\u001b[1;33m\u001b[0m\u001b[0m\n",
            "\u001b[1;31mAttributeError\u001b[0m: 'FacetGrid' object has no attribute 'set_title'"
          ]
        },
        {
          "data": {
            "text/plain": [
              "<Figure size 1152x576 with 0 Axes>"
            ]
          },
          "metadata": {},
          "output_type": "display_data"
        },
        {
          "data": {
            "image/png": "[encoded data removed]",
            "text/plain": [
              "<Figure size 360x360 with 1 Axes>"
            ]
          },
          "metadata": {},
          "output_type": "display_data"
        }
      ],
      "source": [
        "plt.figure(figsize=(16, 8))\n",
        "sns.displot(df.popularity,bins=20)\n",
        "ax.set_title('popularity_density')\n",
        "plt.savefig('popularity_count.png', dpi = 400)"
      ]
    },
    {
      "cell_type": "code",
      "execution_count": null,
      "metadata": {
        "colab": {
          "base_uri": "https://localhost:8080/",
          "height": 518
        },
        "id": "1r84NxzAlsgz",
        "outputId": "472f69f1-f3ee-47b1-c4f0-3e8d3d51924b"
      },
      "outputs": [],
      "source": [
        "df_year = pd.read_csv('./drive/MyDrive/spotify/data/data_by_year_o.csv')\n",
        "\n",
        "plt.figure(figsize=(17, 8))\n",
        "sns.set(style=\"whitegrid\")\n",
        "columns = [\"acousticness\",\"danceability\",\"energy\",\"valence\", \"instrumentalness\"]\n",
        "for col in columns:\n",
        "    x = df_year.groupby(\"year\")[col].mean()\n",
        "    ax= sns.lineplot(x=x.index,y=x,label=col)\n",
        "ax.set_title('Music trends')\n",
        "ax.set_ylabel('Value')\n",
        "ax.set_xlabel('Year')\n",
        "\n",
        "plt.savefig('music_trends.png', dpi = 400)"
      ]
    },
    {
      "cell_type": "code",
      "execution_count": null,
      "metadata": {
        "colab": {
          "base_uri": "https://localhost:8080/",
          "height": 518
        },
        "id": "2xTAVOwelsg0",
        "outputId": "716edc2a-bd3e-40df-ccf6-06b63d29b685"
      },
      "outputs": [],
      "source": [
        "df_year = pd.read_csv('./drive/MyDrive/spotify/data/data_by_year_o.csv')\n",
        "\n",
        "plt.figure(figsize=(17, 8))\n",
        "sns.set(style=\"whitegrid\")\n",
        "columns = [\"loudness\"]\n",
        "for col in columns:\n",
        "    x = df_year.groupby(\"year\")[col].mean()\n",
        "    ax= sns.lineplot(x=x.index,y=x,label=col)\n",
        "ax.set_title('Music trends(loudness)')\n",
        "ax.set_ylabel('Value')\n",
        "ax.set_xlabel('Year')\n",
        "\n",
        "plt.savefig('music_trends(loudness).png', dpi = 400)"
      ]
    },
    {
      "cell_type": "code",
      "execution_count": null,
      "metadata": {
        "colab": {
          "base_uri": "https://localhost:8080/",
          "height": 518
        },
        "id": "V0DJ4Vo6lsg1",
        "outputId": "53d571ad-efd4-4362-d573-8b431f7b4e20"
      },
      "outputs": [],
      "source": [
        "df_year = pd.read_csv('./drive/MyDrive/spotify/data/data_by_year_o.csv')\n",
        "\n",
        "# ms를 second(int)로 변환 (열 추가)\n",
        "df_year['duration_sec'] = (df_year[\"duration_ms\"]/1000).round()\n",
        "df_year['duration_sec'] = df_year[\"duration_sec\"].astype('int64')\n",
        "\n",
        "plt.figure(figsize=(17, 8))\n",
        "sns.set(style=\"whitegrid\")\n",
        "columns = [\"duration_sec\"]\n",
        "for col in columns:\n",
        "    x = df_year.groupby(\"year\")[col].mean()\n",
        "    ax= sns.lineplot(x=x.index,y=x,label=col)\n",
        "ax.set_title('Music trends(duration)')\n",
        "ax.set_ylabel('Value')\n",
        "ax.set_xlabel('Year')\n",
        "\n",
        "plt.savefig('music_trends(duration).png', dpi = 400)"
      ]
    },
    {
      "cell_type": "code",
      "execution_count": null,
      "metadata": {
        "colab": {
          "base_uri": "https://localhost:8080/",
          "height": 518
        },
        "id": "7WABdAeqlsg1",
        "outputId": "cee42c26-0032-41b1-8499-a6cf179d31e2"
      },
      "outputs": [],
      "source": [
        "df_year = pd.read_csv('./drive/MyDrive/spotify/data/data_by_year_o.csv')\n",
        "\n",
        "plt.figure(figsize=(17, 8))\n",
        "sns.set(style=\"whitegrid\")\n",
        "columns = [\"tempo\"]\n",
        "for col in columns:\n",
        "    x = df_year.groupby(\"year\")[col].mean()\n",
        "    ax= sns.lineplot(x=x.index,y=x,label=col)\n",
        "ax.set_title('Music trends(tempo)')\n",
        "ax.set_ylabel('Value')\n",
        "ax.set_xlabel('Year')\n",
        "\n",
        "plt.savefig('music_trends(tempo).png', dpi = 400)"
      ]
    },
    {
      "cell_type": "code",
      "execution_count": null,
      "metadata": {
        "colab": {
          "base_uri": "https://localhost:8080/",
          "height": 402
        },
        "id": "cde9nED6lsg2",
        "outputId": "b6c5fd21-79eb-45ef-a99d-d61ff2333486"
      },
      "outputs": [],
      "source": [
        "df_genre = pd.read_csv('./drive/MyDrive/spotify/data/data_by_genres_o.csv')\n",
        "df_genre.drop(['key','mode', 'duration_ms', 'liveness', 'speechiness'],axis=1,inplace=True)\n",
        "df_genre"
      ]
    },
    {
      "cell_type": "code",
      "execution_count": null,
      "metadata": {
        "colab": {
          "base_uri": "https://localhost:8080/"
        },
        "id": "ahiKsUmulsg3",
        "outputId": "fb893707-b481-4e69-96ba-a1828c17b72f"
      },
      "outputs": [],
      "source": [
        "pop = df_genre[df_genre['genres'].str.contains('pop')]\n",
        "pop.mean()"
      ]
    },
    {
      "cell_type": "code",
      "execution_count": null,
      "metadata": {
        "colab": {
          "base_uri": "https://localhost:8080/"
        },
        "id": "mH47f-YBlsg3",
        "outputId": "f6bdb6b9-de79-4dfd-c9fa-3938239e73b6"
      },
      "outputs": [],
      "source": [
        "rock = df_genre[df_genre['genres'].str.contains('rock')]\n",
        "rock.mean()"
      ]
    },
    {
      "cell_type": "code",
      "execution_count": null,
      "metadata": {
        "colab": {
          "base_uri": "https://localhost:8080/"
        },
        "id": "XsYZTGl3lsg4",
        "outputId": "c9246eb7-3abe-45cd-89a8-baee3e68b131"
      },
      "outputs": [],
      "source": [
        "metal = df_genre[df_genre['genres'].str.contains('metal')]\n",
        "metal.mean()"
      ]
    },
    {
      "cell_type": "code",
      "execution_count": null,
      "metadata": {
        "colab": {
          "base_uri": "https://localhost:8080/"
        },
        "id": "7mcHVxJ9lsg4",
        "outputId": "1ac3f54e-2be6-4b94-edef-b41267639a70"
      },
      "outputs": [],
      "source": [
        "jazz = df_genre[df_genre['genres'].str.contains('jazz')]\n",
        "jazz.mean()"
      ]
    },
    {
      "cell_type": "code",
      "execution_count": null,
      "metadata": {
        "colab": {
          "base_uri": "https://localhost:8080/"
        },
        "id": "YMrHFfLglsg5",
        "outputId": "95c52c6e-67da-4a2c-94c1-be459da1911e"
      },
      "outputs": [],
      "source": [
        "hiphop = df_genre[df_genre['genres'].str.contains('hip')]\n",
        "hiphop.mean()"
      ]
    },
    {
      "cell_type": "code",
      "execution_count": null,
      "metadata": {
        "colab": {
          "base_uri": "https://localhost:8080/"
        },
        "id": "Z4lbs1Evlsg5",
        "outputId": "71347bd3-8135-4671-cf82-ecbb2e71e504"
      },
      "outputs": [],
      "source": [
        "classical = df_genre[df_genre['genres'].str.contains('classical')]\n",
        "classical.mean()"
      ]
    },
    {
      "cell_type": "code",
      "execution_count": null,
      "metadata": {
        "colab": {
          "base_uri": "https://localhost:8080/"
        },
        "id": "CrcrVT36lsg6",
        "outputId": "b541364c-3044-42ff-d0d1-397767c980eb"
      },
      "outputs": [],
      "source": [
        "k_pop = df_genre[df_genre['genres'].str.contains('k-pop')]\n",
        "k_pop.mean()"
      ]
    },
    {
      "cell_type": "code",
      "execution_count": null,
      "metadata": {
        "colab": {
          "base_uri": "https://localhost:8080/",
          "height": 225
        },
        "id": "zzUfTtsIlsg6",
        "outputId": "2c816ab4-9412-4255-f9db-883e1aa324b8"
      },
      "outputs": [],
      "source": [
        "genres_clear = pd.DataFrame({'pop' : rock.mean(), 'jazz' : jazz.mean(), 'classical' : classical.mean(), 'rock' : rock.mean(), 'hiphop' : hiphop.mean(), 'k-pop' : k_pop.mean()})\n",
        "genres_clear = genres_clear.T\n",
        "genres_clear"
      ]
    },
    {
      "cell_type": "code",
      "execution_count": null,
      "metadata": {
        "colab": {
          "base_uri": "https://localhost:8080/",
          "height": 518
        },
        "id": "ygW7HCKdlsg6",
        "outputId": "abad4c9e-0e1a-4279-94f8-48d44812788e"
      },
      "outputs": [],
      "source": [
        "plt.figure(figsize=(17, 8))\n",
        "sns.set(style=\"whitegrid\")\n",
        "columns = ['acousticness', 'danceability', 'energy', 'instrumentalness', 'valence']\n",
        "for col in columns:\n",
        "    x = genres_clear[col]\n",
        "    ax= sns.lineplot(x=x.index,y=x,label=col)\n",
        "ax.set_title('genre_features')\n",
        "ax.set_ylabel('value')\n",
        "ax.set_xlabel('Genre')\n",
        "\n",
        "plt.savefig('genres1.png', dpi = 400)"
      ]
    },
    {
      "cell_type": "code",
      "execution_count": null,
      "metadata": {
        "colab": {
          "base_uri": "https://localhost:8080/",
          "height": 537
        },
        "id": "2xwZ0tnQlsg7",
        "outputId": "cadf0f97-6908-4ef4-f48d-104e13e44323"
      },
      "outputs": [],
      "source": [
        "plt.figure(figsize=(17, 8))\n",
        "sns.set(style=\"whitegrid\")\n",
        "columns = ['acousticness', 'danceability', 'energy', 'instrumentalness', 'valence']\n",
        "for col in columns:\n",
        "    x = genres_clear[col]\n",
        "    ax= sns.lineplot(x=x.index,y=x,label=col)\n",
        "ax.set_title('genre_features')\n",
        "ax.set_ylabel('value')\n",
        "ax.set_xlabel('Genre')"
      ]
    },
    {
      "cell_type": "code",
      "execution_count": null,
      "metadata": {
        "colab": {
          "base_uri": "https://localhost:8080/",
          "height": 518
        },
        "id": "J6pYn2kUlsg7",
        "outputId": "52d7621a-4699-4c13-ba1e-d26437c5bb2a"
      },
      "outputs": [],
      "source": [
        "plt.figure(figsize=(17, 8))\n",
        "sns.set(style=\"whitegrid\")\n",
        "columns = ['loudness']\n",
        "for col in columns:\n",
        "    x = genres_clear[col]\n",
        "    ax= sns.lineplot(x=x.index,y=x,label=col)\n",
        "ax.set_title('genre_loudness')\n",
        "ax.set_ylabel('value')\n",
        "ax.set_xlabel('Genre')\n",
        "\n",
        "plt.savefig('genres2.png', dpi = 400)"
      ]
    },
    {
      "cell_type": "code",
      "execution_count": null,
      "metadata": {
        "colab": {
          "base_uri": "https://localhost:8080/",
          "height": 518
        },
        "id": "sOqw-h5clsg8",
        "outputId": "1fbcc665-bc59-48dd-f5f8-2d8e7bd19a5a"
      },
      "outputs": [],
      "source": [
        "plt.figure(figsize=(17, 8))\n",
        "sns.set(style=\"whitegrid\")\n",
        "columns = ['tempo']\n",
        "for col in columns:\n",
        "    x = genres_clear[col]\n",
        "    ax= sns.lineplot(x=x.index,y=x,label=col)\n",
        "ax.set_title('genre_tempo')\n",
        "ax.set_ylabel('value')\n",
        "ax.set_xlabel('Genre')\n",
        "\n",
        "plt.savefig('genres3.png', dpi = 400)"
      ]
    },
    {
      "cell_type": "code",
      "execution_count": null,
      "metadata": {
        "colab": {
          "base_uri": "https://localhost:8080/",
          "height": 518
        },
        "id": "e_37SFwflsg8",
        "outputId": "a37b7752-a951-434f-ffda-98826083a250"
      },
      "outputs": [],
      "source": [
        "plt.figure(figsize=(17, 8))\n",
        "sns.set(style=\"whitegrid\")\n",
        "columns = ['popularity']\n",
        "for col in columns:\n",
        "    x = genres_clear[col]\n",
        "    ax= sns.lineplot(x=x.index,y=x,label=col)\n",
        "ax.set_title('genre_popularity')\n",
        "ax.set_ylabel('value')\n",
        "ax.set_xlabel('Genre')\n",
        "\n",
        "plt.savefig('genres4.png', dpi = 400)"
      ]
    },
    {
      "cell_type": "code",
      "execution_count": null,
      "metadata": {
        "colab": {
          "base_uri": "https://localhost:8080/",
          "height": 590
        },
        "id": "vW5UHtP9lsg8",
        "outputId": "fe352e63-a5ac-4f0d-af67-d3b7789cfbdf"
      },
      "outputs": [],
      "source": [
        "df_artist = pd.read_csv('./drive/MyDrive/spotify/data/data_by_artist_o.csv')\n",
        "df_artist[\"artists\"] = df_artist[\"artists\"].str.replace(pat=r'[^\\w]', repl=r'', regex=True)\n",
        "df_artist\n",
        "# 너무 오래걸림ㅠ"
      ]
    },
    {
      "cell_type": "code",
      "execution_count": null,
      "metadata": {
        "colab": {
          "base_uri": "https://localhost:8080/"
        },
        "id": "jNYhdkifsfuQ",
        "outputId": "917e07b3-7c92-48a6-f051-0ba44f0b5368"
      },
      "outputs": [],
      "source": [
        "df_artist.info()"
      ]
    },
    {
      "cell_type": "code",
      "execution_count": null,
      "metadata": {
        "colab": {
          "base_uri": "https://localhost:8080/",
          "height": 832
        },
        "id": "YedkCYeHlshH",
        "outputId": "6bc88c6b-d4ab-42f8-97f0-cd3483a0bec1"
      },
      "outputs": [],
      "source": [
        "plt.figure(figsize=(16, 8))\n",
        "sns.set(style=\"whitegrid\")\n",
        "x = df.groupby(\"artists\")[\"popularity\"].mean().sort_values(ascending=False).head(10)\n",
        "ax = sns.barplot(x.index, x)\n",
        "ax.set_title('Top Artists with Popularity')\n",
        "ax.set_ylabel('Popularity')\n",
        "ax.set_xlabel('Artists')\n",
        "plt.xticks(rotation = 90)\n",
        "\n",
        "plt.savefig('top10.png', dpi = 400)"
      ]
    },
    {
      "cell_type": "code",
      "execution_count": null,
      "metadata": {
        "colab": {
          "base_uri": "https://localhost:8080/",
          "height": 832
        },
        "id": "HK4gswfZlshI",
        "outputId": "cdd43ebb-e80b-40e6-f60f-ffe2379c36c8"
      },
      "outputs": [],
      "source": [
        "plt.figure(figsize=(16, 8))\n",
        "sns.set(style=\"whitegrid\")\n",
        "x = df.groupby(\"artists\")[\"popularity\"].mean().sort_values(ascending=False).head(10)\n",
        "ax = sns.barplot(x.index, x)\n",
        "ax.set_title('Top Artists with Popularity')\n",
        "ax.set_ylabel('Popularity')\n",
        "ax.set_xlabel('Artists')\n",
        "plt.xticks(rotation = 90)\n",
        "\n",
        "plt.savefig('top10.png', dpi = 400)"
      ]
    },
    {
      "cell_type": "code",
      "execution_count": null,
      "metadata": {
        "colab": {
          "base_uri": "https://localhost:8080/",
          "height": 825
        },
        "id": "U6u69p7elshJ",
        "outputId": "cc202eca-09f1-4441-fe8b-cdb7f65f436b"
      },
      "outputs": [],
      "source": [
        "df_artist = pd.read_csv('./drive/MyDrive/spotify/data/data_by_artist_o.csv')\n",
        "df_artist"
      ]
    },
    {
      "cell_type": "code",
      "execution_count": null,
      "metadata": {
        "colab": {
          "base_uri": "https://localhost:8080/",
          "height": 147
        },
        "id": "ruM1QHd8lshJ",
        "outputId": "52bd947e-feff-4020-bca0-52ce0db05fcd"
      },
      "outputs": [],
      "source": [
        "BTS = df_artist[df_artist['artists'] == 'BTS']\n",
        "BTS.head()"
      ]
    },
    {
      "cell_type": "code",
      "execution_count": null,
      "metadata": {
        "colab": {
          "base_uri": "https://localhost:8080/",
          "height": 147
        },
        "id": "mtogBRhZlshK",
        "outputId": "209b2836-842a-4ee7-d757-1e90c8c779e7"
      },
      "outputs": [],
      "source": [
        "Beatles = df_artist[df_artist['artists'] == 'The Beatles']\n",
        "Beatles.head()"
      ]
    },
    {
      "cell_type": "code",
      "execution_count": null,
      "metadata": {
        "colab": {
          "base_uri": "https://localhost:8080/",
          "height": 837
        },
        "id": "QW8iUy6HlshK",
        "outputId": "d8dd51d4-c1a1-48f3-c880-39c92189615a"
      },
      "outputs": [],
      "source": [
        "plt.figure(figsize=(20, 10))\n",
        "sns.set(style=\"whitegrid\")\n",
        "x = df.groupby(\"artists\")[\"popularity\"].sum().sort_values(ascending=False).head(20)\n",
        "ax = sns.barplot(x.index, x)\n",
        "ax.set_title('Top Artists with Popularity (Sum)')\n",
        "ax.set_ylabel('Popularity')\n",
        "ax.set_xlabel('Artists')\n",
        "plt.xticks(rotation = 90)\n",
        "\n",
        "plt.savefig('top10.png', dpi = 500)"
      ]
    },
    {
      "cell_type": "markdown",
      "metadata": {
        "id": "uQpNrjSio68Z"
      },
      "source": [
        "# feature engineering\n",
        "- for popularity"
      ]
    },
    {
      "cell_type": "code",
      "execution_count": 247,
      "metadata": {
        "colab": {
          "base_uri": "https://localhost:8080/",
          "height": 296
        },
        "id": "j9WkCJbyozUy",
        "outputId": "aa133bf2-3680-4aca-e470-b3158dbf564a"
      },
      "outputs": [
        {
          "data": {
            "text/html": [
              "<div>\n",
              "<style scoped>\n",
              "    .dataframe tbody tr th:only-of-type {\n",
              "        vertical-align: middle;\n",
              "    }\n",
              "\n",
              "    .dataframe tbody tr th {\n",
              "        vertical-align: top;\n",
              "    }\n",
              "\n",
              "    .dataframe thead th {\n",
              "        text-align: right;\n",
              "    }\n",
              "</style>\n",
              "<table border=\"1\" class=\"dataframe\">\n",
              "  <thead>\n",
              "    <tr style=\"text-align: right;\">\n",
              "      <th></th>\n",
              "      <th>name</th>\n",
              "      <th>popularity</th>\n",
              "      <th>artists</th>\n",
              "      <th>release_date</th>\n",
              "      <th>danceability</th>\n",
              "      <th>energy</th>\n",
              "      <th>loudness</th>\n",
              "      <th>speechiness</th>\n",
              "      <th>acousticness</th>\n",
              "      <th>instrumentalness</th>\n",
              "      <th>liveness</th>\n",
              "      <th>valence</th>\n",
              "      <th>tempo</th>\n",
              "      <th>duration_sec</th>\n",
              "    </tr>\n",
              "  </thead>\n",
              "  <tbody>\n",
              "    <tr>\n",
              "      <th>0</th>\n",
              "      <td>Carve</td>\n",
              "      <td>6</td>\n",
              "      <td>['Uli']</td>\n",
              "      <td>1922-01-01</td>\n",
              "      <td>0.645</td>\n",
              "      <td>0.4450</td>\n",
              "      <td>-13.338</td>\n",
              "      <td>0.4510</td>\n",
              "      <td>0.674</td>\n",
              "      <td>0.7440</td>\n",
              "      <td>0.151</td>\n",
              "      <td>0.127</td>\n",
              "      <td>104.851</td>\n",
              "      <td>127</td>\n",
              "    </tr>\n",
              "    <tr>\n",
              "      <th>1</th>\n",
              "      <td>Capítulo 2.16 - Banquero Anarquista</td>\n",
              "      <td>0</td>\n",
              "      <td>['Fernando Pessoa']</td>\n",
              "      <td>1922-01-01</td>\n",
              "      <td>0.695</td>\n",
              "      <td>0.2630</td>\n",
              "      <td>-22.136</td>\n",
              "      <td>0.9570</td>\n",
              "      <td>0.797</td>\n",
              "      <td>0.0000</td>\n",
              "      <td>0.148</td>\n",
              "      <td>0.655</td>\n",
              "      <td>102.009</td>\n",
              "      <td>98</td>\n",
              "    </tr>\n",
              "    <tr>\n",
              "      <th>2</th>\n",
              "      <td>Vivo para Quererte - Remasterizado</td>\n",
              "      <td>0</td>\n",
              "      <td>['Ignacio Corsini']</td>\n",
              "      <td>1922-01-01</td>\n",
              "      <td>0.434</td>\n",
              "      <td>0.1770</td>\n",
              "      <td>-21.180</td>\n",
              "      <td>0.0512</td>\n",
              "      <td>0.994</td>\n",
              "      <td>0.0218</td>\n",
              "      <td>0.212</td>\n",
              "      <td>0.457</td>\n",
              "      <td>130.418</td>\n",
              "      <td>182</td>\n",
              "    </tr>\n",
              "    <tr>\n",
              "      <th>3</th>\n",
              "      <td>El Prisionero - Remasterizado</td>\n",
              "      <td>0</td>\n",
              "      <td>['Ignacio Corsini']</td>\n",
              "      <td>1922-01-01</td>\n",
              "      <td>0.321</td>\n",
              "      <td>0.0946</td>\n",
              "      <td>-27.961</td>\n",
              "      <td>0.0504</td>\n",
              "      <td>0.995</td>\n",
              "      <td>0.9180</td>\n",
              "      <td>0.104</td>\n",
              "      <td>0.397</td>\n",
              "      <td>169.980</td>\n",
              "      <td>177</td>\n",
              "    </tr>\n",
              "    <tr>\n",
              "      <th>4</th>\n",
              "      <td>Lady of the Evening</td>\n",
              "      <td>0</td>\n",
              "      <td>['Dick Haymes']</td>\n",
              "      <td>1922-01-01</td>\n",
              "      <td>0.402</td>\n",
              "      <td>0.1580</td>\n",
              "      <td>-16.900</td>\n",
              "      <td>0.0390</td>\n",
              "      <td>0.989</td>\n",
              "      <td>0.1300</td>\n",
              "      <td>0.311</td>\n",
              "      <td>0.196</td>\n",
              "      <td>103.220</td>\n",
              "      <td>163</td>\n",
              "    </tr>\n",
              "  </tbody>\n",
              "</table>\n",
              "</div>"
            ],
            "text/plain": [
              "                                  name  popularity              artists  \\\n",
              "0                                Carve           6              ['Uli']   \n",
              "1  Capítulo 2.16 - Banquero Anarquista           0  ['Fernando Pessoa']   \n",
              "2   Vivo para Quererte - Remasterizado           0  ['Ignacio Corsini']   \n",
              "3        El Prisionero - Remasterizado           0  ['Ignacio Corsini']   \n",
              "4                  Lady of the Evening           0      ['Dick Haymes']   \n",
              "\n",
              "  release_date  danceability  energy  loudness  speechiness  acousticness  \\\n",
              "0   1922-01-01         0.645  0.4450   -13.338       0.4510         0.674   \n",
              "1   1922-01-01         0.695  0.2630   -22.136       0.9570         0.797   \n",
              "2   1922-01-01         0.434  0.1770   -21.180       0.0512         0.994   \n",
              "3   1922-01-01         0.321  0.0946   -27.961       0.0504         0.995   \n",
              "4   1922-01-01         0.402  0.1580   -16.900       0.0390         0.989   \n",
              "\n",
              "   instrumentalness  liveness  valence    tempo  duration_sec  \n",
              "0            0.7440     0.151    0.127  104.851           127  \n",
              "1            0.0000     0.148    0.655  102.009            98  \n",
              "2            0.0218     0.212    0.457  130.418           182  \n",
              "3            0.9180     0.104    0.397  169.980           177  \n",
              "4            0.1300     0.311    0.196  103.220           163  "
            ]
          },
          "execution_count": 247,
          "metadata": {},
          "output_type": "execute_result"
        }
      ],
      "source": [
        "df.head()"
      ]
    },
    {
      "cell_type": "code",
      "execution_count": 248,
      "metadata": {
        "colab": {
          "base_uri": "https://localhost:8080/"
        },
        "id": "gL-nI693qDBX",
        "outputId": "09bcb1b6-9c4c-4d9e-f72d-f9ba54aeb87f"
      },
      "outputs": [
        {
          "name": "stdout",
          "output_type": "stream",
          "text": [
            "<class 'pandas.core.frame.DataFrame'>\n",
            "RangeIndex: 586672 entries, 0 to 586671\n",
            "Data columns (total 14 columns):\n",
            " #   Column            Non-Null Count   Dtype  \n",
            "---  ------            --------------   -----  \n",
            " 0   name              586601 non-null  object \n",
            " 1   popularity        586672 non-null  int64  \n",
            " 2   artists           586672 non-null  object \n",
            " 3   release_date      586672 non-null  int32  \n",
            " 4   danceability      586672 non-null  float64\n",
            " 5   energy            586672 non-null  float64\n",
            " 6   loudness          586672 non-null  float64\n",
            " 7   speechiness       586672 non-null  float64\n",
            " 8   acousticness      586672 non-null  float64\n",
            " 9   instrumentalness  586672 non-null  float64\n",
            " 10  liveness          586672 non-null  float64\n",
            " 11  valence           586672 non-null  float64\n",
            " 12  tempo             586672 non-null  float64\n",
            " 13  duration_sec      586672 non-null  int64  \n",
            "dtypes: float64(9), int32(1), int64(2), object(2)\n",
            "memory usage: 60.4+ MB\n"
          ]
        }
      ],
      "source": [
        "# 년도만 출력\n",
        "df['release_date'] = df['release_date'].astype('str')\n",
        "df['release_date'] = df['release_date'].str[:4]\n",
        "df['release_date'] = df['release_date'].astype('int')\n",
        "df.info()"
      ]
    },
    {
      "cell_type": "code",
      "execution_count": 249,
      "metadata": {
        "colab": {
          "base_uri": "https://localhost:8080/",
          "height": 316
        },
        "id": "RIoFNMQJGIwE",
        "outputId": "be189dae-3479-4c78-a18d-4da84cb29607"
      },
      "outputs": [
        {
          "data": {
            "text/html": [
              "<div>\n",
              "<style scoped>\n",
              "    .dataframe tbody tr th:only-of-type {\n",
              "        vertical-align: middle;\n",
              "    }\n",
              "\n",
              "    .dataframe tbody tr th {\n",
              "        vertical-align: top;\n",
              "    }\n",
              "\n",
              "    .dataframe thead th {\n",
              "        text-align: right;\n",
              "    }\n",
              "</style>\n",
              "<table border=\"1\" class=\"dataframe\">\n",
              "  <thead>\n",
              "    <tr style=\"text-align: right;\">\n",
              "      <th></th>\n",
              "      <th>name</th>\n",
              "      <th>popularity</th>\n",
              "      <th>artists</th>\n",
              "      <th>release_date</th>\n",
              "      <th>danceability</th>\n",
              "      <th>energy</th>\n",
              "      <th>loudness</th>\n",
              "      <th>speechiness</th>\n",
              "      <th>acousticness</th>\n",
              "      <th>instrumentalness</th>\n",
              "      <th>liveness</th>\n",
              "      <th>valence</th>\n",
              "      <th>tempo</th>\n",
              "      <th>duration_sec</th>\n",
              "    </tr>\n",
              "  </thead>\n",
              "  <tbody>\n",
              "    <tr>\n",
              "      <th>0</th>\n",
              "      <td>Carve</td>\n",
              "      <td>6</td>\n",
              "      <td>['Uli']</td>\n",
              "      <td>1922</td>\n",
              "      <td>0.645</td>\n",
              "      <td>0.4450</td>\n",
              "      <td>-13.338</td>\n",
              "      <td>0.4510</td>\n",
              "      <td>0.674</td>\n",
              "      <td>0.7440</td>\n",
              "      <td>0.151</td>\n",
              "      <td>0.127</td>\n",
              "      <td>104.851</td>\n",
              "      <td>127</td>\n",
              "    </tr>\n",
              "    <tr>\n",
              "      <th>1</th>\n",
              "      <td>Capítulo 2.16 - Banquero Anarquista</td>\n",
              "      <td>0</td>\n",
              "      <td>['Fernando Pessoa']</td>\n",
              "      <td>1922</td>\n",
              "      <td>0.695</td>\n",
              "      <td>0.2630</td>\n",
              "      <td>-22.136</td>\n",
              "      <td>0.9570</td>\n",
              "      <td>0.797</td>\n",
              "      <td>0.0000</td>\n",
              "      <td>0.148</td>\n",
              "      <td>0.655</td>\n",
              "      <td>102.009</td>\n",
              "      <td>98</td>\n",
              "    </tr>\n",
              "    <tr>\n",
              "      <th>2</th>\n",
              "      <td>Vivo para Quererte - Remasterizado</td>\n",
              "      <td>0</td>\n",
              "      <td>['Ignacio Corsini']</td>\n",
              "      <td>1922</td>\n",
              "      <td>0.434</td>\n",
              "      <td>0.1770</td>\n",
              "      <td>-21.180</td>\n",
              "      <td>0.0512</td>\n",
              "      <td>0.994</td>\n",
              "      <td>0.0218</td>\n",
              "      <td>0.212</td>\n",
              "      <td>0.457</td>\n",
              "      <td>130.418</td>\n",
              "      <td>182</td>\n",
              "    </tr>\n",
              "    <tr>\n",
              "      <th>3</th>\n",
              "      <td>El Prisionero - Remasterizado</td>\n",
              "      <td>0</td>\n",
              "      <td>['Ignacio Corsini']</td>\n",
              "      <td>1922</td>\n",
              "      <td>0.321</td>\n",
              "      <td>0.0946</td>\n",
              "      <td>-27.961</td>\n",
              "      <td>0.0504</td>\n",
              "      <td>0.995</td>\n",
              "      <td>0.9180</td>\n",
              "      <td>0.104</td>\n",
              "      <td>0.397</td>\n",
              "      <td>169.980</td>\n",
              "      <td>177</td>\n",
              "    </tr>\n",
              "    <tr>\n",
              "      <th>4</th>\n",
              "      <td>Lady of the Evening</td>\n",
              "      <td>0</td>\n",
              "      <td>['Dick Haymes']</td>\n",
              "      <td>1922</td>\n",
              "      <td>0.402</td>\n",
              "      <td>0.1580</td>\n",
              "      <td>-16.900</td>\n",
              "      <td>0.0390</td>\n",
              "      <td>0.989</td>\n",
              "      <td>0.1300</td>\n",
              "      <td>0.311</td>\n",
              "      <td>0.196</td>\n",
              "      <td>103.220</td>\n",
              "      <td>163</td>\n",
              "    </tr>\n",
              "  </tbody>\n",
              "</table>\n",
              "</div>"
            ],
            "text/plain": [
              "                                  name  popularity              artists  \\\n",
              "0                                Carve           6              ['Uli']   \n",
              "1  Capítulo 2.16 - Banquero Anarquista           0  ['Fernando Pessoa']   \n",
              "2   Vivo para Quererte - Remasterizado           0  ['Ignacio Corsini']   \n",
              "3        El Prisionero - Remasterizado           0  ['Ignacio Corsini']   \n",
              "4                  Lady of the Evening           0      ['Dick Haymes']   \n",
              "\n",
              "   release_date  danceability  energy  loudness  speechiness  acousticness  \\\n",
              "0          1922         0.645  0.4450   -13.338       0.4510         0.674   \n",
              "1          1922         0.695  0.2630   -22.136       0.9570         0.797   \n",
              "2          1922         0.434  0.1770   -21.180       0.0512         0.994   \n",
              "3          1922         0.321  0.0946   -27.961       0.0504         0.995   \n",
              "4          1922         0.402  0.1580   -16.900       0.0390         0.989   \n",
              "\n",
              "   instrumentalness  liveness  valence    tempo  duration_sec  \n",
              "0            0.7440     0.151    0.127  104.851           127  \n",
              "1            0.0000     0.148    0.655  102.009            98  \n",
              "2            0.0218     0.212    0.457  130.418           182  \n",
              "3            0.9180     0.104    0.397  169.980           177  \n",
              "4            0.1300     0.311    0.196  103.220           163  "
            ]
          },
          "execution_count": 249,
          "metadata": {},
          "output_type": "execute_result"
        }
      ],
      "source": [
        "df.head()"
      ]
    },
    {
      "cell_type": "code",
      "execution_count": 250,
      "metadata": {
        "colab": {
          "base_uri": "https://localhost:8080/",
          "height": 316
        },
        "id": "kfW11o2yGLny",
        "outputId": "0a8c78f2-3734-4ba3-a9a4-6b2fd789bf5f"
      },
      "outputs": [
        {
          "data": {
            "text/html": [
              "<div>\n",
              "<style scoped>\n",
              "    .dataframe tbody tr th:only-of-type {\n",
              "        vertical-align: middle;\n",
              "    }\n",
              "\n",
              "    .dataframe tbody tr th {\n",
              "        vertical-align: top;\n",
              "    }\n",
              "\n",
              "    .dataframe thead th {\n",
              "        text-align: right;\n",
              "    }\n",
              "</style>\n",
              "<table border=\"1\" class=\"dataframe\">\n",
              "  <thead>\n",
              "    <tr style=\"text-align: right;\">\n",
              "      <th></th>\n",
              "      <th>name</th>\n",
              "      <th>popularity</th>\n",
              "      <th>artists</th>\n",
              "      <th>year</th>\n",
              "      <th>danceability</th>\n",
              "      <th>energy</th>\n",
              "      <th>loudness</th>\n",
              "      <th>speechiness</th>\n",
              "      <th>acousticness</th>\n",
              "      <th>instrumentalness</th>\n",
              "      <th>liveness</th>\n",
              "      <th>valence</th>\n",
              "      <th>tempo</th>\n",
              "      <th>duration_sec</th>\n",
              "    </tr>\n",
              "  </thead>\n",
              "  <tbody>\n",
              "    <tr>\n",
              "      <th>0</th>\n",
              "      <td>Carve</td>\n",
              "      <td>6</td>\n",
              "      <td>['Uli']</td>\n",
              "      <td>1922</td>\n",
              "      <td>0.645</td>\n",
              "      <td>0.4450</td>\n",
              "      <td>-13.338</td>\n",
              "      <td>0.4510</td>\n",
              "      <td>0.674</td>\n",
              "      <td>0.7440</td>\n",
              "      <td>0.151</td>\n",
              "      <td>0.127</td>\n",
              "      <td>104.851</td>\n",
              "      <td>127</td>\n",
              "    </tr>\n",
              "    <tr>\n",
              "      <th>1</th>\n",
              "      <td>Capítulo 2.16 - Banquero Anarquista</td>\n",
              "      <td>0</td>\n",
              "      <td>['Fernando Pessoa']</td>\n",
              "      <td>1922</td>\n",
              "      <td>0.695</td>\n",
              "      <td>0.2630</td>\n",
              "      <td>-22.136</td>\n",
              "      <td>0.9570</td>\n",
              "      <td>0.797</td>\n",
              "      <td>0.0000</td>\n",
              "      <td>0.148</td>\n",
              "      <td>0.655</td>\n",
              "      <td>102.009</td>\n",
              "      <td>98</td>\n",
              "    </tr>\n",
              "    <tr>\n",
              "      <th>2</th>\n",
              "      <td>Vivo para Quererte - Remasterizado</td>\n",
              "      <td>0</td>\n",
              "      <td>['Ignacio Corsini']</td>\n",
              "      <td>1922</td>\n",
              "      <td>0.434</td>\n",
              "      <td>0.1770</td>\n",
              "      <td>-21.180</td>\n",
              "      <td>0.0512</td>\n",
              "      <td>0.994</td>\n",
              "      <td>0.0218</td>\n",
              "      <td>0.212</td>\n",
              "      <td>0.457</td>\n",
              "      <td>130.418</td>\n",
              "      <td>182</td>\n",
              "    </tr>\n",
              "    <tr>\n",
              "      <th>3</th>\n",
              "      <td>El Prisionero - Remasterizado</td>\n",
              "      <td>0</td>\n",
              "      <td>['Ignacio Corsini']</td>\n",
              "      <td>1922</td>\n",
              "      <td>0.321</td>\n",
              "      <td>0.0946</td>\n",
              "      <td>-27.961</td>\n",
              "      <td>0.0504</td>\n",
              "      <td>0.995</td>\n",
              "      <td>0.9180</td>\n",
              "      <td>0.104</td>\n",
              "      <td>0.397</td>\n",
              "      <td>169.980</td>\n",
              "      <td>177</td>\n",
              "    </tr>\n",
              "    <tr>\n",
              "      <th>4</th>\n",
              "      <td>Lady of the Evening</td>\n",
              "      <td>0</td>\n",
              "      <td>['Dick Haymes']</td>\n",
              "      <td>1922</td>\n",
              "      <td>0.402</td>\n",
              "      <td>0.1580</td>\n",
              "      <td>-16.900</td>\n",
              "      <td>0.0390</td>\n",
              "      <td>0.989</td>\n",
              "      <td>0.1300</td>\n",
              "      <td>0.311</td>\n",
              "      <td>0.196</td>\n",
              "      <td>103.220</td>\n",
              "      <td>163</td>\n",
              "    </tr>\n",
              "  </tbody>\n",
              "</table>\n",
              "</div>"
            ],
            "text/plain": [
              "                                  name  popularity              artists  year  \\\n",
              "0                                Carve           6              ['Uli']  1922   \n",
              "1  Capítulo 2.16 - Banquero Anarquista           0  ['Fernando Pessoa']  1922   \n",
              "2   Vivo para Quererte - Remasterizado           0  ['Ignacio Corsini']  1922   \n",
              "3        El Prisionero - Remasterizado           0  ['Ignacio Corsini']  1922   \n",
              "4                  Lady of the Evening           0      ['Dick Haymes']  1922   \n",
              "\n",
              "   danceability  energy  loudness  speechiness  acousticness  \\\n",
              "0         0.645  0.4450   -13.338       0.4510         0.674   \n",
              "1         0.695  0.2630   -22.136       0.9570         0.797   \n",
              "2         0.434  0.1770   -21.180       0.0512         0.994   \n",
              "3         0.321  0.0946   -27.961       0.0504         0.995   \n",
              "4         0.402  0.1580   -16.900       0.0390         0.989   \n",
              "\n",
              "   instrumentalness  liveness  valence    tempo  duration_sec  \n",
              "0            0.7440     0.151    0.127  104.851           127  \n",
              "1            0.0000     0.148    0.655  102.009            98  \n",
              "2            0.0218     0.212    0.457  130.418           182  \n",
              "3            0.9180     0.104    0.397  169.980           177  \n",
              "4            0.1300     0.311    0.196  103.220           163  "
            ]
          },
          "execution_count": 250,
          "metadata": {},
          "output_type": "execute_result"
        }
      ],
      "source": [
        "df.rename(columns={'release_date': 'year'}, inplace=True)\n",
        "df.head()"
      ]
    },
    {
      "cell_type": "code",
      "execution_count": 251,
      "metadata": {
        "colab": {
          "base_uri": "https://localhost:8080/",
          "height": 672
        },
        "id": "0vqUwiW-GmWz",
        "outputId": "dd3724ed-d28a-4f13-80c4-c87223f0c73e"
      },
      "outputs": [
        {
          "data": {
            "image/png": "[encoded data removed]",
            "text/plain": [
              "<Figure size 1440x720 with 2 Axes>"
            ]
          },
          "metadata": {},
          "output_type": "display_data"
        }
      ],
      "source": [
        "# feature correlation (heatmap)\n",
        "plt.figure(figsize=(20, 10))\n",
        "corr = df.corr()\n",
        "sns.heatmap(corr,annot=True,cmap=\"coolwarm\")\n",
        "plt.savefig('feature_heatmap.png', dpi = 400)"
      ]
    },
    {
      "cell_type": "markdown",
      "metadata": {
        "id": "lbKitWjRNM8z"
      },
      "source": [
        "MinMax Scaling"
      ]
    },
    {
      "cell_type": "code",
      "execution_count": 252,
      "metadata": {
        "id": "zsUsPKaDTKYE"
      },
      "outputs": [],
      "source": [
        "# 곡 이름, 가수 제거\n",
        "df_features = df.sort_values(by='year').drop(columns=['name', 'artists']).copy()"
      ]
    },
    {
      "cell_type": "code",
      "execution_count": 253,
      "metadata": {
        "id": "OBC9cskfG2D0"
      },
      "outputs": [],
      "source": [
        "X = df_features.drop('popularity', axis=1).copy()\n",
        "y = df_features['popularity'].copy()"
      ]
    },
    {
      "cell_type": "code",
      "execution_count": 254,
      "metadata": {
        "colab": {
          "base_uri": "https://localhost:8080/",
          "height": 402
        },
        "id": "ud7MwBIfNpnA",
        "outputId": "faf3f2b3-06c7-4339-e88a-e3d5b6b156da"
      },
      "outputs": [
        {
          "data": {
            "text/html": [
              "<div>\n",
              "<style scoped>\n",
              "    .dataframe tbody tr th:only-of-type {\n",
              "        vertical-align: middle;\n",
              "    }\n",
              "\n",
              "    .dataframe tbody tr th {\n",
              "        vertical-align: top;\n",
              "    }\n",
              "\n",
              "    .dataframe thead th {\n",
              "        text-align: right;\n",
              "    }\n",
              "</style>\n",
              "<table border=\"1\" class=\"dataframe\">\n",
              "  <thead>\n",
              "    <tr style=\"text-align: right;\">\n",
              "      <th></th>\n",
              "      <th>year</th>\n",
              "      <th>danceability</th>\n",
              "      <th>energy</th>\n",
              "      <th>loudness</th>\n",
              "      <th>speechiness</th>\n",
              "      <th>acousticness</th>\n",
              "      <th>instrumentalness</th>\n",
              "      <th>liveness</th>\n",
              "      <th>valence</th>\n",
              "      <th>tempo</th>\n",
              "      <th>duration_sec</th>\n",
              "    </tr>\n",
              "  </thead>\n",
              "  <tbody>\n",
              "    <tr>\n",
              "      <th>478627</th>\n",
              "      <td>1900</td>\n",
              "      <td>0.659</td>\n",
              "      <td>0.791</td>\n",
              "      <td>-4.895</td>\n",
              "      <td>0.0295</td>\n",
              "      <td>0.1390</td>\n",
              "      <td>0.000002</td>\n",
              "      <td>0.1610</td>\n",
              "      <td>0.956</td>\n",
              "      <td>141.999</td>\n",
              "      <td>234</td>\n",
              "    </tr>\n",
              "    <tr>\n",
              "      <th>132350</th>\n",
              "      <td>1922</td>\n",
              "      <td>0.567</td>\n",
              "      <td>0.663</td>\n",
              "      <td>-5.334</td>\n",
              "      <td>0.0318</td>\n",
              "      <td>0.9920</td>\n",
              "      <td>0.878000</td>\n",
              "      <td>0.2680</td>\n",
              "      <td>0.853</td>\n",
              "      <td>103.394</td>\n",
              "      <td>233</td>\n",
              "    </tr>\n",
              "    <tr>\n",
              "      <th>132349</th>\n",
              "      <td>1922</td>\n",
              "      <td>0.483</td>\n",
              "      <td>0.060</td>\n",
              "      <td>-9.499</td>\n",
              "      <td>0.0420</td>\n",
              "      <td>0.9820</td>\n",
              "      <td>0.000089</td>\n",
              "      <td>0.0498</td>\n",
              "      <td>0.381</td>\n",
              "      <td>136.044</td>\n",
              "      <td>196</td>\n",
              "    </tr>\n",
              "    <tr>\n",
              "      <th>132348</th>\n",
              "      <td>1922</td>\n",
              "      <td>0.578</td>\n",
              "      <td>0.462</td>\n",
              "      <td>-7.217</td>\n",
              "      <td>0.0398</td>\n",
              "      <td>0.9950</td>\n",
              "      <td>0.903000</td>\n",
              "      <td>0.0767</td>\n",
              "      <td>0.513</td>\n",
              "      <td>89.876</td>\n",
              "      <td>195</td>\n",
              "    </tr>\n",
              "    <tr>\n",
              "      <th>132347</th>\n",
              "      <td>1922</td>\n",
              "      <td>0.565</td>\n",
              "      <td>0.334</td>\n",
              "      <td>-6.802</td>\n",
              "      <td>0.0309</td>\n",
              "      <td>0.9780</td>\n",
              "      <td>0.032900</td>\n",
              "      <td>0.2560</td>\n",
              "      <td>0.550</td>\n",
              "      <td>97.167</td>\n",
              "      <td>190</td>\n",
              "    </tr>\n",
              "    <tr>\n",
              "      <th>...</th>\n",
              "      <td>...</td>\n",
              "      <td>...</td>\n",
              "      <td>...</td>\n",
              "      <td>...</td>\n",
              "      <td>...</td>\n",
              "      <td>...</td>\n",
              "      <td>...</td>\n",
              "      <td>...</td>\n",
              "      <td>...</td>\n",
              "      <td>...</td>\n",
              "      <td>...</td>\n",
              "    </tr>\n",
              "    <tr>\n",
              "      <th>211946</th>\n",
              "      <td>2021</td>\n",
              "      <td>0.777</td>\n",
              "      <td>0.714</td>\n",
              "      <td>-4.296</td>\n",
              "      <td>0.0532</td>\n",
              "      <td>0.1600</td>\n",
              "      <td>0.000000</td>\n",
              "      <td>0.1150</td>\n",
              "      <td>0.590</td>\n",
              "      <td>90.987</td>\n",
              "      <td>237</td>\n",
              "    </tr>\n",
              "    <tr>\n",
              "      <th>211945</th>\n",
              "      <td>2021</td>\n",
              "      <td>0.804</td>\n",
              "      <td>0.786</td>\n",
              "      <td>-3.837</td>\n",
              "      <td>0.0735</td>\n",
              "      <td>0.1440</td>\n",
              "      <td>0.000000</td>\n",
              "      <td>0.0928</td>\n",
              "      <td>0.575</td>\n",
              "      <td>91.992</td>\n",
              "      <td>309</td>\n",
              "    </tr>\n",
              "    <tr>\n",
              "      <th>211944</th>\n",
              "      <td>2021</td>\n",
              "      <td>0.807</td>\n",
              "      <td>0.606</td>\n",
              "      <td>-8.871</td>\n",
              "      <td>0.0872</td>\n",
              "      <td>0.0946</td>\n",
              "      <td>0.000000</td>\n",
              "      <td>0.1190</td>\n",
              "      <td>0.304</td>\n",
              "      <td>92.988</td>\n",
              "      <td>228</td>\n",
              "    </tr>\n",
              "    <tr>\n",
              "      <th>211955</th>\n",
              "      <td>2021</td>\n",
              "      <td>0.855</td>\n",
              "      <td>0.710</td>\n",
              "      <td>-5.321</td>\n",
              "      <td>0.0939</td>\n",
              "      <td>0.0426</td>\n",
              "      <td>0.000000</td>\n",
              "      <td>0.3370</td>\n",
              "      <td>0.591</td>\n",
              "      <td>89.977</td>\n",
              "      <td>247</td>\n",
              "    </tr>\n",
              "    <tr>\n",
              "      <th>444564</th>\n",
              "      <td>2021</td>\n",
              "      <td>0.896</td>\n",
              "      <td>0.459</td>\n",
              "      <td>-8.937</td>\n",
              "      <td>0.0515</td>\n",
              "      <td>0.0737</td>\n",
              "      <td>0.000084</td>\n",
              "      <td>0.0981</td>\n",
              "      <td>0.484</td>\n",
              "      <td>125.939</td>\n",
              "      <td>169</td>\n",
              "    </tr>\n",
              "  </tbody>\n",
              "</table>\n",
              "<p>586672 rows × 11 columns</p>\n",
              "</div>"
            ],
            "text/plain": [
              "        year  danceability  energy  loudness  speechiness  acousticness  \\\n",
              "478627  1900         0.659   0.791    -4.895       0.0295        0.1390   \n",
              "132350  1922         0.567   0.663    -5.334       0.0318        0.9920   \n",
              "132349  1922         0.483   0.060    -9.499       0.0420        0.9820   \n",
              "132348  1922         0.578   0.462    -7.217       0.0398        0.9950   \n",
              "132347  1922         0.565   0.334    -6.802       0.0309        0.9780   \n",
              "...      ...           ...     ...       ...          ...           ...   \n",
              "211946  2021         0.777   0.714    -4.296       0.0532        0.1600   \n",
              "211945  2021         0.804   0.786    -3.837       0.0735        0.1440   \n",
              "211944  2021         0.807   0.606    -8.871       0.0872        0.0946   \n",
              "211955  2021         0.855   0.710    -5.321       0.0939        0.0426   \n",
              "444564  2021         0.896   0.459    -8.937       0.0515        0.0737   \n",
              "\n",
              "        instrumentalness  liveness  valence    tempo  duration_sec  \n",
              "478627          0.000002    0.1610    0.956  141.999           234  \n",
              "132350          0.878000    0.2680    0.853  103.394           233  \n",
              "132349          0.000089    0.0498    0.381  136.044           196  \n",
              "132348          0.903000    0.0767    0.513   89.876           195  \n",
              "132347          0.032900    0.2560    0.550   97.167           190  \n",
              "...                  ...       ...      ...      ...           ...  \n",
              "211946          0.000000    0.1150    0.590   90.987           237  \n",
              "211945          0.000000    0.0928    0.575   91.992           309  \n",
              "211944          0.000000    0.1190    0.304   92.988           228  \n",
              "211955          0.000000    0.3370    0.591   89.977           247  \n",
              "444564          0.000084    0.0981    0.484  125.939           169  \n",
              "\n",
              "[586672 rows x 11 columns]"
            ]
          },
          "execution_count": 254,
          "metadata": {},
          "output_type": "execute_result"
        }
      ],
      "source": [
        "X"
      ]
    },
    {
      "cell_type": "code",
      "execution_count": 255,
      "metadata": {
        "colab": {
          "base_uri": "https://localhost:8080/"
        },
        "id": "546Z-HbcOnm_",
        "outputId": "95bd2c87-3714-4960-a27b-aedf4c74f658"
      },
      "outputs": [
        {
          "data": {
            "text/plain": [
              "478627    19\n",
              "132350     0\n",
              "132349     0\n",
              "132348     0\n",
              "132347     0\n",
              "          ..\n",
              "211946     1\n",
              "211945     0\n",
              "211944     0\n",
              "211955     1\n",
              "444564    71\n",
              "Name: popularity, Length: 586672, dtype: int64"
            ]
          },
          "execution_count": 255,
          "metadata": {},
          "output_type": "execute_result"
        }
      ],
      "source": [
        "y"
      ]
    },
    {
      "cell_type": "code",
      "execution_count": 256,
      "metadata": {
        "colab": {
          "base_uri": "https://localhost:8080/"
        },
        "id": "f8S7k8TmPFNQ",
        "outputId": "25b10043-34d4-432c-a1dc-fd7604fe43b5"
      },
      "outputs": [
        {
          "data": {
            "text/plain": [
              "array([[0.        , 0.66498486, 0.791     , ..., 0.956     , 0.57633908,\n",
              "        0.04111784],\n",
              "       [0.18181818, 0.57214934, 0.663     , ..., 0.853     , 0.41965087,\n",
              "        0.04093984],\n",
              "       [0.18181818, 0.48738648, 0.06      , ..., 0.381     , 0.5521692 ,\n",
              "        0.03435386],\n",
              "       ...,\n",
              "       [1.        , 0.81432896, 0.606     , ..., 0.304     , 0.37741547,\n",
              "        0.04004984],\n",
              "       [1.        , 0.86276488, 0.71      , ..., 0.591     , 0.36519456,\n",
              "        0.04343183],\n",
              "       [1.        , 0.90413724, 0.459     , ..., 0.484     , 0.51115549,\n",
              "        0.02954788]])"
            ]
          },
          "execution_count": 256,
          "metadata": {},
          "output_type": "execute_result"
        }
      ],
      "source": [
        "# 정규화\n",
        "from sklearn.preprocessing import MinMaxScaler\n",
        "min_max_scaler = MinMaxScaler()\n",
        "X_scale = min_max_scaler.fit_transform(X)\n",
        "X_scale"
      ]
    },
    {
      "cell_type": "markdown",
      "metadata": {
        "id": "GzcZO1XoZftd"
      },
      "source": [
        "train / test set 구분"
      ]
    },
    {
      "cell_type": "code",
      "execution_count": 257,
      "metadata": {
        "id": "YmhvtPR4ZKBn"
      },
      "outputs": [],
      "source": [
        "from sklearn.model_selection import train_test_split\n",
        "\n",
        "X_train, X_test, y_train, y_test = train_test_split(X_scale, y, test_size=0.3, random_state=7)"
      ]
    },
    {
      "cell_type": "markdown",
      "metadata": {
        "id": "61QMhOFoZmh2"
      },
      "source": [
        "1. Linear Regression "
      ]
    },
    {
      "cell_type": "code",
      "execution_count": 212,
      "metadata": {
        "colab": {
          "base_uri": "https://localhost:8080/"
        },
        "id": "vJDAyDmuZaXx",
        "outputId": "0215d43a-6c5b-4da4-8276-b243c08a8a10"
      },
      "outputs": [
        {
          "data": {
            "text/plain": [
              "array([33.56939598, 14.03403535, 39.76563256, ..., 39.54688723,\n",
              "       26.69329274, 20.53806739])"
            ]
          },
          "execution_count": 212,
          "metadata": {},
          "output_type": "execute_result"
        }
      ],
      "source": [
        "from sklearn.linear_model import LinearRegression\n",
        "\n",
        "# 단순회귀분석 모형 객체 생성 후 학습시키기\n",
        "lr = LinearRegression().fit(X_train, y_train)\n",
        "\n",
        "y_predict = lr.predict(X_test)\n",
        "y_predict"
      ]
    },
    {
      "cell_type": "code",
      "execution_count": 213,
      "metadata": {
        "colab": {
          "base_uri": "https://localhost:8080/"
        },
        "id": "gNnB3g2ceCvH",
        "outputId": "26503965-b65b-485e-df61-0f2c311251fc"
      },
      "outputs": [
        {
          "name": "stdout",
          "output_type": "stream",
          "text": [
            "212.3109108861911\n",
            "11.21762440142037\n"
          ]
        }
      ],
      "source": [
        "from sklearn.metrics import mean_squared_error\n",
        "from sklearn.metrics import mean_absolute_error\n",
        "print(mean_squared_error(y_test, y_predict))\n",
        "print(mean_absolute_error(y_test, y_predict))"
      ]
    },
    {
      "cell_type": "code",
      "execution_count": 214,
      "metadata": {
        "colab": {
          "base_uri": "https://localhost:8080/"
        },
        "id": "2wYCLk5yZt-B",
        "outputId": "00de9d89-a468-4187-839c-3027e379228a"
      },
      "outputs": [
        {
          "data": {
            "text/plain": [
              "0.36909208312311725"
            ]
          },
          "execution_count": 214,
          "metadata": {},
          "output_type": "execute_result"
        }
      ],
      "source": [
        "r_square = lr.score(X_test, y_test)\n",
        "r_square"
      ]
    },
    {
      "cell_type": "code",
      "execution_count": 215,
      "metadata": {
        "colab": {
          "base_uri": "https://localhost:8080/"
        },
        "id": "IRe4ZWSvZ08u",
        "outputId": "d4f0db38-234b-4a1d-e786-635d8b1fcb8e"
      },
      "outputs": [
        {
          "name": "stdout",
          "output_type": "stream",
          "text": [
            "훈련 세트 정확도 : 36.94%\n",
            "테스트 세트 정확도 : 36.91%\n"
          ]
        }
      ],
      "source": [
        "print(\"훈련 세트 정확도 : {:.2f}%\".format(lr.score(X_train,y_train)*100))\n",
        "print(\"테스트 세트 정확도 : {:.2f}%\".format(lr.score(X_test,y_test)*100))"
      ]
    },
    {
      "cell_type": "code",
      "execution_count": 216,
      "metadata": {},
      "outputs": [],
      "source": [
        "mse_linear = mean_squared_error(y_test, y_predict)"
      ]
    },
    {
      "cell_type": "markdown",
      "metadata": {
        "id": "o-ztFyTtaa73"
      },
      "source": [
        "2. Lasso Regression"
      ]
    },
    {
      "cell_type": "code",
      "execution_count": 217,
      "metadata": {
        "colab": {
          "base_uri": "https://localhost:8080/"
        },
        "id": "lYHr3wdxaMXJ",
        "outputId": "324fb636-2160-4968-c4a5-45a15d6492b4"
      },
      "outputs": [
        {
          "data": {
            "text/plain": [
              "array([33.44016675, 13.83385772, 39.61779301, ..., 39.30633307,\n",
              "       26.54691896, 21.01505344])"
            ]
          },
          "execution_count": 217,
          "metadata": {},
          "output_type": "execute_result"
        }
      ],
      "source": [
        "# sklearn 라이브러리에서 선형회귀분석 모듈 가져오기\n",
        "from sklearn.linear_model import Lasso\n",
        "\n",
        "# 다항 회귀분석 모형 객체 생성 후 학습 시키기\n",
        "lasso001 = Lasso(alpha=0.01).fit(X_train,y_train)\n",
        "\n",
        "y_predict = lasso001.predict(X_test)\n",
        "y_predict"
      ]
    },
    {
      "cell_type": "code",
      "execution_count": 218,
      "metadata": {
        "colab": {
          "base_uri": "https://localhost:8080/"
        },
        "id": "LZkVEisUH_dF",
        "outputId": "42bcc1f2-a72f-488d-e819-bf62b7e1ce2c"
      },
      "outputs": [
        {
          "name": "stdout",
          "output_type": "stream",
          "text": [
            "212.3966672106697\n",
            "11.218548575538087\n"
          ]
        }
      ],
      "source": [
        "from sklearn.metrics import mean_squared_error\n",
        "from sklearn.metrics import mean_absolute_error\n",
        "print(mean_squared_error(y_test, y_predict))\n",
        "print(mean_absolute_error(y_test, y_predict))"
      ]
    },
    {
      "cell_type": "code",
      "execution_count": 219,
      "metadata": {},
      "outputs": [],
      "source": [
        "mse_lasso = mean_squared_error(y_test, y_predict)"
      ]
    },
    {
      "cell_type": "code",
      "execution_count": 220,
      "metadata": {
        "colab": {
          "base_uri": "https://localhost:8080/"
        },
        "id": "tDC4quwRghIt",
        "outputId": "cccbe505-7380-4666-be26-8762a03646c7"
      },
      "outputs": [
        {
          "data": {
            "text/plain": [
              "0.3688372476847972"
            ]
          },
          "execution_count": 220,
          "metadata": {},
          "output_type": "execute_result"
        }
      ],
      "source": [
        "# 학습을 마친 모형에 test data를 적용하여 결정계수 (R-제곱) 계산\n",
        "# -> 결정계수 값이 클수록 모형의 예측 능력이 좋다고 판단\n",
        "r_square = lasso001.score(X_test,y_test)\n",
        "r_square"
      ]
    },
    {
      "cell_type": "code",
      "execution_count": 221,
      "metadata": {
        "colab": {
          "base_uri": "https://localhost:8080/"
        },
        "id": "UUNhquTvgvfC",
        "outputId": "f5d439ba-702c-4e0b-86f4-5d2b8fee348e"
      },
      "outputs": [
        {
          "name": "stdout",
          "output_type": "stream",
          "text": [
            "훈련 세트 정확도 : 36.92%\n",
            "테스트 세트 정확도 : 36.88%\n"
          ]
        }
      ],
      "source": [
        "print(\"훈련 세트 정확도 : {:.2f}%\".format(lasso001.score(X_train,y_train)*100))\n",
        "print(\"테스트 세트 정확도 : {:.2f}%\".format(lasso001.score(X_test,y_test)*100))"
      ]
    },
    {
      "cell_type": "markdown",
      "metadata": {
        "id": "hCpHyDgQguaB"
      },
      "source": [
        "3. Ridge Regression"
      ]
    },
    {
      "cell_type": "code",
      "execution_count": 222,
      "metadata": {
        "id": "VSo-r2sjgkVm"
      },
      "outputs": [],
      "source": [
        "# sklearn 라이브러리에서 선형회귀분석 모듈 가져오기\n",
        "from sklearn.linear_model import Ridge\n",
        "\n",
        "# 다항 회귀분석 모형 객체 생성 후 학습 시키기\n",
        "ridge50 = Ridge(alpha=5.0).fit(X_train,y_train)\n",
        "y_predict = ridge50.predict(X_test)"
      ]
    },
    {
      "cell_type": "code",
      "execution_count": 223,
      "metadata": {
        "colab": {
          "base_uri": "https://localhost:8080/"
        },
        "id": "4u5Ad3e4IJJ-",
        "outputId": "cb678944-30dd-465d-aa90-08ebb2383845"
      },
      "outputs": [
        {
          "name": "stdout",
          "output_type": "stream",
          "text": [
            "212.3103439445023\n",
            "11.217937607540728\n"
          ]
        }
      ],
      "source": [
        "from sklearn.metrics import mean_squared_error\n",
        "from sklearn.metrics import mean_absolute_error\n",
        "print(mean_squared_error(y_test, y_predict))\n",
        "print(mean_absolute_error(y_test, y_predict))"
      ]
    },
    {
      "cell_type": "code",
      "execution_count": 224,
      "metadata": {},
      "outputs": [],
      "source": [
        "mse_ridge = mean_squared_error(y_test, y_predict)"
      ]
    },
    {
      "cell_type": "code",
      "execution_count": 225,
      "metadata": {
        "colab": {
          "base_uri": "https://localhost:8080/"
        },
        "id": "Tq0icWsnhRdQ",
        "outputId": "c0bf4384-0008-4eee-da74-d4d3ec5ef1d6"
      },
      "outputs": [
        {
          "data": {
            "text/plain": [
              "0.3690937678598949"
            ]
          },
          "execution_count": 225,
          "metadata": {},
          "output_type": "execute_result"
        }
      ],
      "source": [
        "# 학습을 마친 모형에 test data를 적용하여 결정계수 (R-제곱) 계산\n",
        "# -> 결정계수 값이 클수록 모형의 예측 능력이 좋다고 판단\n",
        "r_square = ridge50.score(X_test,y_test)\n",
        "r_square"
      ]
    },
    {
      "cell_type": "markdown",
      "metadata": {
        "id": "z-0uAcvhh-Uf"
      },
      "source": [
        "4. Decision Tree"
      ]
    },
    {
      "cell_type": "code",
      "execution_count": 226,
      "metadata": {
        "id": "Ckz7lFBghTMZ"
      },
      "outputs": [],
      "source": [
        "from sklearn import tree\n",
        "tree_model = tree.DecisionTreeClassifier(criterion='entropy', max_depth=3)"
      ]
    },
    {
      "cell_type": "code",
      "execution_count": 227,
      "metadata": {
        "id": "WEts22BgiGGw"
      },
      "outputs": [],
      "source": [
        "# train 데이터를 가지고 모델 학습\n",
        "tree_model.fit(X_train, y_train)\n",
        "\n",
        "# test 데이터를 가지고 모델 예측\n",
        "y_predict = tree_model.predict(X_test)"
      ]
    },
    {
      "cell_type": "code",
      "execution_count": 228,
      "metadata": {
        "colab": {
          "base_uri": "https://localhost:8080/"
        },
        "id": "xJSJW3l4IeNl",
        "outputId": "a0e3e163-2fb1-4507-b4d5-9fe8174800c0"
      },
      "outputs": [
        {
          "name": "stdout",
          "output_type": "stream",
          "text": [
            "449.53082351336917\n",
            "14.313303257917523\n"
          ]
        }
      ],
      "source": [
        "from sklearn.metrics import mean_squared_error\n",
        "from sklearn.metrics import mean_absolute_error\n",
        "print(mean_squared_error(y_test, y_predict))\n",
        "print(mean_absolute_error(y_test, y_predict))"
      ]
    },
    {
      "cell_type": "code",
      "execution_count": 229,
      "metadata": {},
      "outputs": [],
      "source": [
        "mse_tree = mean_squared_error(y_test, y_predict)"
      ]
    },
    {
      "cell_type": "code",
      "execution_count": 230,
      "metadata": {
        "colab": {
          "base_uri": "https://localhost:8080/"
        },
        "id": "nHWsTefyiJ1F",
        "outputId": "28dc3bba-151a-428b-d0f1-4b20c939deb9"
      },
      "outputs": [
        {
          "name": "stdout",
          "output_type": "stream",
          "text": [
            "train set 정확도 : 9.35\n",
            "test set 정확도 : 9.48\n"
          ]
        }
      ],
      "source": [
        "print(f\"train set 정확도 : {tree_model.score(X_train, y_train)*100:.2f}\")\n",
        "print(f\"test set 정확도 : {tree_model.score(X_test, y_test)*100:.2f}\")"
      ]
    },
    {
      "cell_type": "code",
      "execution_count": 231,
      "metadata": {
        "id": "kwnaNQ2OiNpO"
      },
      "outputs": [],
      "source": [
        "training_accuracy = []\n",
        "test_accuracy = []\n",
        "# 1 에서 10 까지 max_depth 를 적용\n",
        "max_depth_settings = range(1, 11)\n",
        "\n",
        "for max_depth in max_depth_settings:\n",
        "    # 모델 생성\n",
        "    tr = tree.DecisionTreeClassifier(criterion='entropy', max_depth=max_depth)\n",
        "    tr.fit(X_train, y_train)\n",
        "    # 훈련 세트 정확도 저장\n",
        "    training_accuracy.append(tr.score(X_train, y_train))\n",
        "    # 테스트 세트(일반화) 정확도 저장\n",
        "    test_accuracy.append(tr.score(X_test, y_test))"
      ]
    },
    {
      "cell_type": "code",
      "execution_count": 232,
      "metadata": {
        "colab": {
          "base_uri": "https://localhost:8080/",
          "height": 761
        },
        "id": "_h75YfssiW5s",
        "outputId": "12b03a9b-b10e-4c33-c2d4-6d5196e31764"
      },
      "outputs": [
        {
          "data": {
            "image/png": "[encoded data removed]",
            "text/plain": [
              "<Figure size 1200x800 with 1 Axes>"
            ]
          },
          "metadata": {},
          "output_type": "display_data"
        }
      ],
      "source": [
        "plt.figure(dpi = 200)\n",
        "\n",
        "plt.plot(max_depth_settings, training_accuracy, label=\"train acc\")\n",
        "plt.plot(max_depth_settings, test_accuracy, label=\"test acc\")\n",
        "plt.ylabel(\"acc\")\n",
        "plt.xlabel(\"max_depth\")\n",
        "plt.legend()\n",
        "plt.show()"
      ]
    },
    {
      "cell_type": "markdown",
      "metadata": {
        "id": "daJ0LW9Lj9yS"
      },
      "source": [
        "5. Random Forest"
      ]
    },
    {
      "cell_type": "code",
      "execution_count": 233,
      "metadata": {
        "id": "Vg4Z9yU2jxQn"
      },
      "outputs": [],
      "source": [
        "from sklearn.ensemble import RandomForestRegressor\n",
        "\n",
        "random = RandomForestRegressor(n_estimators=5,\n",
        "                                   random_state=0).fit(X_train,y_train)"
      ]
    },
    {
      "cell_type": "code",
      "execution_count": 234,
      "metadata": {
        "id": "koL2hBpmIuiJ"
      },
      "outputs": [],
      "source": [
        "random.fit(X_train, y_train)\n",
        "y_predict = tree_model.predict(X_test)"
      ]
    },
    {
      "cell_type": "code",
      "execution_count": 235,
      "metadata": {
        "colab": {
          "base_uri": "https://localhost:8080/"
        },
        "id": "PqxeB8IEI1Wz",
        "outputId": "306f6002-b62c-4d79-fc21-729c2ac11a8a"
      },
      "outputs": [
        {
          "name": "stdout",
          "output_type": "stream",
          "text": [
            "449.53082351336917\n",
            "14.313303257917523\n"
          ]
        }
      ],
      "source": [
        "from sklearn.metrics import mean_squared_error\n",
        "from sklearn.metrics import mean_absolute_error\n",
        "print(mean_squared_error(y_test, y_predict))\n",
        "print(mean_absolute_error(y_test, y_predict))"
      ]
    },
    {
      "cell_type": "code",
      "execution_count": 236,
      "metadata": {},
      "outputs": [],
      "source": [
        "mse_random = mean_squared_error(y_test, y_predict)"
      ]
    },
    {
      "cell_type": "code",
      "execution_count": 237,
      "metadata": {
        "colab": {
          "base_uri": "https://localhost:8080/"
        },
        "id": "0KMTmZKnk5sr",
        "outputId": "9cb0e707-4126-49cd-acd6-0a760b88bf83"
      },
      "outputs": [
        {
          "name": "stdout",
          "output_type": "stream",
          "text": [
            "Train data Score :  0.8708179754542181\n",
            "Test data Score :  0.4188381246002447\n"
          ]
        },
        {
          "data": {
            "text/plain": [
              "0.4188381246002447"
            ]
          },
          "execution_count": 237,
          "metadata": {},
          "output_type": "execute_result"
        }
      ],
      "source": [
        "# 정확도 확인\n",
        "print('Train data Score : ', random.score(X_train, y_train))\n",
        "print('Test data Score : ', random.score(X_test, y_test))\n",
        "\n",
        "r_square = random.score(X_test,y_test)\n",
        "r_square"
      ]
    },
    {
      "cell_type": "markdown",
      "metadata": {
        "id": "LE76sxgs4pen"
      },
      "source": [
        "6. Gradient Boosting Regressor"
      ]
    },
    {
      "cell_type": "code",
      "execution_count": 238,
      "metadata": {
        "id": "U7sa2PDG0St4"
      },
      "outputs": [],
      "source": [
        "from sklearn.ensemble import GradientBoostingRegressor\n",
        "\n",
        "reg = GradientBoostingRegressor(random_state=777)\n",
        "reg.fit(X_train, y_train)\n",
        "y_predict = reg.predict(X_test)"
      ]
    },
    {
      "cell_type": "code",
      "execution_count": 239,
      "metadata": {
        "colab": {
          "base_uri": "https://localhost:8080/"
        },
        "id": "0pE09mX7JFzK",
        "outputId": "0ae514cc-77e2-4b3c-ab3e-67fae5b9edc0"
      },
      "outputs": [
        {
          "name": "stdout",
          "output_type": "stream",
          "text": [
            "184.91646141515992\n",
            "10.346762990561135\n"
          ]
        }
      ],
      "source": [
        "from sklearn.metrics import mean_squared_error\n",
        "from sklearn.metrics import mean_absolute_error\n",
        "print(mean_squared_error(y_test, y_predict))\n",
        "print(mean_absolute_error(y_test, y_predict))"
      ]
    },
    {
      "cell_type": "code",
      "execution_count": 240,
      "metadata": {},
      "outputs": [],
      "source": [
        "mse_boost = mean_squared_error(y_test, y_predict)"
      ]
    },
    {
      "cell_type": "markdown",
      "metadata": {
        "id": "R0ZFmnHd51yC"
      },
      "source": [
        "# 7. Linear (nn)"
      ]
    },
    {
      "cell_type": "code",
      "execution_count": 258,
      "metadata": {
        "id": "JkSvvWIN0DLh"
      },
      "outputs": [],
      "source": [
        "# train / validation 데이터를 7:3 비율로 분리\r\n",
        "x_train, x_val, y_train, y_val = train_test_split(X_train, y_train,\r\n",
        "                                                  test_size=0.3,\r\n",
        "                                                  random_state=777)"
      ]
    },
    {
      "cell_type": "code",
      "execution_count": 259,
      "metadata": {
        "colab": {
          "base_uri": "https://localhost:8080/"
        },
        "id": "178j62Ci6ERB",
        "outputId": "5b5960bc-7f26-4511-92a1-e228a4e6459e"
      },
      "outputs": [
        {
          "name": "stdout",
          "output_type": "stream",
          "text": [
            "(287469, 11) (123201, 11)\n"
          ]
        }
      ],
      "source": [
        "print(x_train.shape, x_val.shape)"
      ]
    },
    {
      "cell_type": "code",
      "execution_count": 264,
      "metadata": {
        "id": "-RZFLC2Z6F0v"
      },
      "outputs": [],
      "source": [
        "from tensorflow.keras.models import Sequential\r\n",
        "from tensorflow.keras.layers import Dense\r\n",
        "\r\n",
        "model = Sequential()\r\n",
        "model.add(Dense(128, activation='relu', input_shape=(13,)))\r\n",
        "model.add(Dense(64, activation='relu'))\r\n",
        "model.add(Dense(32, activation='relu'))\r\n",
        "model.add(Dense(1))  # 하나의 값을 출력 -> popularity"
      ]
    },
    {
      "cell_type": "code",
      "execution_count": 265,
      "metadata": {
        "id": "SDB0x25D6W1O"
      },
      "outputs": [],
      "source": [
        "model.compile(optimizer='adam', loss='mse', metrics=['mae','mse'])"
      ]
    },
    {
      "cell_type": "code",
      "execution_count": 266,
      "metadata": {
        "colab": {
          "base_uri": "https://localhost:8080/"
        },
        "id": "QBphetPX6bDF",
        "outputId": "c17ea004-eea6-4775-b904-8ddea422eca3"
      },
      "outputs": [
        {
          "name": "stdout",
          "output_type": "stream",
          "text": [
            "Epoch 1/500\n"
          ]
        },
        {
          "ename": "ValueError",
          "evalue": "in user code:\n\n    C:\\Anaconda3\\lib\\site-packages\\tensorflow\\python\\keras\\engine\\training.py:806 train_function  *\n        return step_function(self, iterator)\n    C:\\Anaconda3\\lib\\site-packages\\tensorflow\\python\\keras\\engine\\training.py:796 step_function  **\n        outputs = model.distribute_strategy.run(run_step, args=(data,))\n    C:\\Anaconda3\\lib\\site-packages\\tensorflow\\python\\distribute\\distribute_lib.py:1211 run\n        return self._extended.call_for_each_replica(fn, args=args, kwargs=kwargs)\n    C:\\Anaconda3\\lib\\site-packages\\tensorflow\\python\\distribute\\distribute_lib.py:2585 call_for_each_replica\n        return self._call_for_each_replica(fn, args, kwargs)\n    C:\\Anaconda3\\lib\\site-packages\\tensorflow\\python\\distribute\\distribute_lib.py:2945 _call_for_each_replica\n        return fn(*args, **kwargs)\n    C:\\Anaconda3\\lib\\site-packages\\tensorflow\\python\\keras\\engine\\training.py:789 run_step  **\n        outputs = model.train_step(data)\n    C:\\Anaconda3\\lib\\site-packages\\tensorflow\\python\\keras\\engine\\training.py:747 train_step\n        y_pred = self(x, training=True)\n    C:\\Anaconda3\\lib\\site-packages\\tensorflow\\python\\keras\\engine\\base_layer.py:975 __call__\n        input_spec.assert_input_compatibility(self.input_spec, inputs,\n    C:\\Anaconda3\\lib\\site-packages\\tensorflow\\python\\keras\\engine\\input_spec.py:212 assert_input_compatibility\n        raise ValueError(\n\n    ValueError: Input 0 of layer sequential_18 is incompatible with the layer: expected axis -1 of input shape to have value 13 but received input with shape [None, 11]\n",
          "output_type": "error",
          "traceback": [
            "\u001b[1;31m---------------------------------------------------------------------------\u001b[0m",
            "\u001b[1;31mValueError\u001b[0m                                Traceback (most recent call last)",
            "\u001b[1;32m<ipython-input-266-a9648ebcc3e8>\u001b[0m in \u001b[0;36m<module>\u001b[1;34m\u001b[0m\n\u001b[0;32m      1\u001b[0m \u001b[1;31m# 모델 학습하기\u001b[0m\u001b[1;33m\u001b[0m\u001b[1;33m\u001b[0m\u001b[1;33m\u001b[0m\u001b[0m\n\u001b[1;32m----> 2\u001b[1;33m history = model.fit(x_train,y_train,\n\u001b[0m\u001b[0;32m      3\u001b[0m                     \u001b[0mbatch_size\u001b[0m\u001b[1;33m=\u001b[0m\u001b[1;36m128\u001b[0m\u001b[1;33m,\u001b[0m\u001b[1;33m\u001b[0m\u001b[1;33m\u001b[0m\u001b[0m\n\u001b[0;32m      4\u001b[0m                     \u001b[0mepochs\u001b[0m \u001b[1;33m=\u001b[0m \u001b[1;36m500\u001b[0m\u001b[1;33m,\u001b[0m\u001b[1;33m\u001b[0m\u001b[1;33m\u001b[0m\u001b[0m\n\u001b[0;32m      5\u001b[0m                     validation_data = (X_val, y_val))\n",
            "\u001b[1;32mC:\\Anaconda3\\lib\\site-packages\\tensorflow\\python\\keras\\engine\\training.py\u001b[0m in \u001b[0;36m_method_wrapper\u001b[1;34m(self, *args, **kwargs)\u001b[0m\n\u001b[0;32m    106\u001b[0m   \u001b[1;32mdef\u001b[0m \u001b[0m_method_wrapper\u001b[0m\u001b[1;33m(\u001b[0m\u001b[0mself\u001b[0m\u001b[1;33m,\u001b[0m \u001b[1;33m*\u001b[0m\u001b[0margs\u001b[0m\u001b[1;33m,\u001b[0m \u001b[1;33m**\u001b[0m\u001b[0mkwargs\u001b[0m\u001b[1;33m)\u001b[0m\u001b[1;33m:\u001b[0m\u001b[1;33m\u001b[0m\u001b[1;33m\u001b[0m\u001b[0m\n\u001b[0;32m    107\u001b[0m     \u001b[1;32mif\u001b[0m \u001b[1;32mnot\u001b[0m \u001b[0mself\u001b[0m\u001b[1;33m.\u001b[0m\u001b[0m_in_multi_worker_mode\u001b[0m\u001b[1;33m(\u001b[0m\u001b[1;33m)\u001b[0m\u001b[1;33m:\u001b[0m  \u001b[1;31m# pylint: disable=protected-access\u001b[0m\u001b[1;33m\u001b[0m\u001b[1;33m\u001b[0m\u001b[0m\n\u001b[1;32m--> 108\u001b[1;33m       \u001b[1;32mreturn\u001b[0m \u001b[0mmethod\u001b[0m\u001b[1;33m(\u001b[0m\u001b[0mself\u001b[0m\u001b[1;33m,\u001b[0m \u001b[1;33m*\u001b[0m\u001b[0margs\u001b[0m\u001b[1;33m,\u001b[0m \u001b[1;33m**\u001b[0m\u001b[0mkwargs\u001b[0m\u001b[1;33m)\u001b[0m\u001b[1;33m\u001b[0m\u001b[1;33m\u001b[0m\u001b[0m\n\u001b[0m\u001b[0;32m    109\u001b[0m \u001b[1;33m\u001b[0m\u001b[0m\n\u001b[0;32m    110\u001b[0m     \u001b[1;31m# Running inside `run_distribute_coordinator` already.\u001b[0m\u001b[1;33m\u001b[0m\u001b[1;33m\u001b[0m\u001b[1;33m\u001b[0m\u001b[0m\n",
            "\u001b[1;32mC:\\Anaconda3\\lib\\site-packages\\tensorflow\\python\\keras\\engine\\training.py\u001b[0m in \u001b[0;36mfit\u001b[1;34m(self, x, y, batch_size, epochs, verbose, callbacks, validation_split, validation_data, shuffle, class_weight, sample_weight, initial_epoch, steps_per_epoch, validation_steps, validation_batch_size, validation_freq, max_queue_size, workers, use_multiprocessing)\u001b[0m\n\u001b[0;32m   1096\u001b[0m                 batch_size=batch_size):\n\u001b[0;32m   1097\u001b[0m               \u001b[0mcallbacks\u001b[0m\u001b[1;33m.\u001b[0m\u001b[0mon_train_batch_begin\u001b[0m\u001b[1;33m(\u001b[0m\u001b[0mstep\u001b[0m\u001b[1;33m)\u001b[0m\u001b[1;33m\u001b[0m\u001b[1;33m\u001b[0m\u001b[0m\n\u001b[1;32m-> 1098\u001b[1;33m               \u001b[0mtmp_logs\u001b[0m \u001b[1;33m=\u001b[0m \u001b[0mtrain_function\u001b[0m\u001b[1;33m(\u001b[0m\u001b[0miterator\u001b[0m\u001b[1;33m)\u001b[0m\u001b[1;33m\u001b[0m\u001b[1;33m\u001b[0m\u001b[0m\n\u001b[0m\u001b[0;32m   1099\u001b[0m               \u001b[1;32mif\u001b[0m \u001b[0mdata_handler\u001b[0m\u001b[1;33m.\u001b[0m\u001b[0mshould_sync\u001b[0m\u001b[1;33m:\u001b[0m\u001b[1;33m\u001b[0m\u001b[1;33m\u001b[0m\u001b[0m\n\u001b[0;32m   1100\u001b[0m                 \u001b[0mcontext\u001b[0m\u001b[1;33m.\u001b[0m\u001b[0masync_wait\u001b[0m\u001b[1;33m(\u001b[0m\u001b[1;33m)\u001b[0m\u001b[1;33m\u001b[0m\u001b[1;33m\u001b[0m\u001b[0m\n",
            "\u001b[1;32mC:\\Anaconda3\\lib\\site-packages\\tensorflow\\python\\eager\\def_function.py\u001b[0m in \u001b[0;36m__call__\u001b[1;34m(self, *args, **kwds)\u001b[0m\n\u001b[0;32m    778\u001b[0m       \u001b[1;32melse\u001b[0m\u001b[1;33m:\u001b[0m\u001b[1;33m\u001b[0m\u001b[1;33m\u001b[0m\u001b[0m\n\u001b[0;32m    779\u001b[0m         \u001b[0mcompiler\u001b[0m \u001b[1;33m=\u001b[0m \u001b[1;34m\"nonXla\"\u001b[0m\u001b[1;33m\u001b[0m\u001b[1;33m\u001b[0m\u001b[0m\n\u001b[1;32m--> 780\u001b[1;33m         \u001b[0mresult\u001b[0m \u001b[1;33m=\u001b[0m \u001b[0mself\u001b[0m\u001b[1;33m.\u001b[0m\u001b[0m_call\u001b[0m\u001b[1;33m(\u001b[0m\u001b[1;33m*\u001b[0m\u001b[0margs\u001b[0m\u001b[1;33m,\u001b[0m \u001b[1;33m**\u001b[0m\u001b[0mkwds\u001b[0m\u001b[1;33m)\u001b[0m\u001b[1;33m\u001b[0m\u001b[1;33m\u001b[0m\u001b[0m\n\u001b[0m\u001b[0;32m    781\u001b[0m \u001b[1;33m\u001b[0m\u001b[0m\n\u001b[0;32m    782\u001b[0m       \u001b[0mnew_tracing_count\u001b[0m \u001b[1;33m=\u001b[0m \u001b[0mself\u001b[0m\u001b[1;33m.\u001b[0m\u001b[0m_get_tracing_count\u001b[0m\u001b[1;33m(\u001b[0m\u001b[1;33m)\u001b[0m\u001b[1;33m\u001b[0m\u001b[1;33m\u001b[0m\u001b[0m\n",
            "\u001b[1;32mC:\\Anaconda3\\lib\\site-packages\\tensorflow\\python\\eager\\def_function.py\u001b[0m in \u001b[0;36m_call\u001b[1;34m(self, *args, **kwds)\u001b[0m\n\u001b[0;32m    821\u001b[0m       \u001b[1;31m# This is the first call of __call__, so we have to initialize.\u001b[0m\u001b[1;33m\u001b[0m\u001b[1;33m\u001b[0m\u001b[1;33m\u001b[0m\u001b[0m\n\u001b[0;32m    822\u001b[0m       \u001b[0minitializers\u001b[0m \u001b[1;33m=\u001b[0m \u001b[1;33m[\u001b[0m\u001b[1;33m]\u001b[0m\u001b[1;33m\u001b[0m\u001b[1;33m\u001b[0m\u001b[0m\n\u001b[1;32m--> 823\u001b[1;33m       \u001b[0mself\u001b[0m\u001b[1;33m.\u001b[0m\u001b[0m_initialize\u001b[0m\u001b[1;33m(\u001b[0m\u001b[0margs\u001b[0m\u001b[1;33m,\u001b[0m \u001b[0mkwds\u001b[0m\u001b[1;33m,\u001b[0m \u001b[0madd_initializers_to\u001b[0m\u001b[1;33m=\u001b[0m\u001b[0minitializers\u001b[0m\u001b[1;33m)\u001b[0m\u001b[1;33m\u001b[0m\u001b[1;33m\u001b[0m\u001b[0m\n\u001b[0m\u001b[0;32m    824\u001b[0m     \u001b[1;32mfinally\u001b[0m\u001b[1;33m:\u001b[0m\u001b[1;33m\u001b[0m\u001b[1;33m\u001b[0m\u001b[0m\n\u001b[0;32m    825\u001b[0m       \u001b[1;31m# At this point we know that the initialization is complete (or less\u001b[0m\u001b[1;33m\u001b[0m\u001b[1;33m\u001b[0m\u001b[1;33m\u001b[0m\u001b[0m\n",
            "\u001b[1;32mC:\\Anaconda3\\lib\\site-packages\\tensorflow\\python\\eager\\def_function.py\u001b[0m in \u001b[0;36m_initialize\u001b[1;34m(self, args, kwds, add_initializers_to)\u001b[0m\n\u001b[0;32m    694\u001b[0m     \u001b[0mself\u001b[0m\u001b[1;33m.\u001b[0m\u001b[0m_graph_deleter\u001b[0m \u001b[1;33m=\u001b[0m \u001b[0mFunctionDeleter\u001b[0m\u001b[1;33m(\u001b[0m\u001b[0mself\u001b[0m\u001b[1;33m.\u001b[0m\u001b[0m_lifted_initializer_graph\u001b[0m\u001b[1;33m)\u001b[0m\u001b[1;33m\u001b[0m\u001b[1;33m\u001b[0m\u001b[0m\n\u001b[0;32m    695\u001b[0m     self._concrete_stateful_fn = (\n\u001b[1;32m--> 696\u001b[1;33m         self._stateful_fn._get_concrete_function_internal_garbage_collected(  # pylint: disable=protected-access\n\u001b[0m\u001b[0;32m    697\u001b[0m             *args, **kwds))\n\u001b[0;32m    698\u001b[0m \u001b[1;33m\u001b[0m\u001b[0m\n",
            "\u001b[1;32mC:\\Anaconda3\\lib\\site-packages\\tensorflow\\python\\eager\\function.py\u001b[0m in \u001b[0;36m_get_concrete_function_internal_garbage_collected\u001b[1;34m(self, *args, **kwargs)\u001b[0m\n\u001b[0;32m   2853\u001b[0m       \u001b[0margs\u001b[0m\u001b[1;33m,\u001b[0m \u001b[0mkwargs\u001b[0m \u001b[1;33m=\u001b[0m \u001b[1;32mNone\u001b[0m\u001b[1;33m,\u001b[0m \u001b[1;32mNone\u001b[0m\u001b[1;33m\u001b[0m\u001b[1;33m\u001b[0m\u001b[0m\n\u001b[0;32m   2854\u001b[0m     \u001b[1;32mwith\u001b[0m \u001b[0mself\u001b[0m\u001b[1;33m.\u001b[0m\u001b[0m_lock\u001b[0m\u001b[1;33m:\u001b[0m\u001b[1;33m\u001b[0m\u001b[1;33m\u001b[0m\u001b[0m\n\u001b[1;32m-> 2855\u001b[1;33m       \u001b[0mgraph_function\u001b[0m\u001b[1;33m,\u001b[0m \u001b[0m_\u001b[0m\u001b[1;33m,\u001b[0m \u001b[0m_\u001b[0m \u001b[1;33m=\u001b[0m \u001b[0mself\u001b[0m\u001b[1;33m.\u001b[0m\u001b[0m_maybe_define_function\u001b[0m\u001b[1;33m(\u001b[0m\u001b[0margs\u001b[0m\u001b[1;33m,\u001b[0m \u001b[0mkwargs\u001b[0m\u001b[1;33m)\u001b[0m\u001b[1;33m\u001b[0m\u001b[1;33m\u001b[0m\u001b[0m\n\u001b[0m\u001b[0;32m   2856\u001b[0m     \u001b[1;32mreturn\u001b[0m \u001b[0mgraph_function\u001b[0m\u001b[1;33m\u001b[0m\u001b[1;33m\u001b[0m\u001b[0m\n\u001b[0;32m   2857\u001b[0m \u001b[1;33m\u001b[0m\u001b[0m\n",
            "\u001b[1;32mC:\\Anaconda3\\lib\\site-packages\\tensorflow\\python\\eager\\function.py\u001b[0m in \u001b[0;36m_maybe_define_function\u001b[1;34m(self, args, kwargs)\u001b[0m\n\u001b[0;32m   3211\u001b[0m \u001b[1;33m\u001b[0m\u001b[0m\n\u001b[0;32m   3212\u001b[0m       \u001b[0mself\u001b[0m\u001b[1;33m.\u001b[0m\u001b[0m_function_cache\u001b[0m\u001b[1;33m.\u001b[0m\u001b[0mmissed\u001b[0m\u001b[1;33m.\u001b[0m\u001b[0madd\u001b[0m\u001b[1;33m(\u001b[0m\u001b[0mcall_context_key\u001b[0m\u001b[1;33m)\u001b[0m\u001b[1;33m\u001b[0m\u001b[1;33m\u001b[0m\u001b[0m\n\u001b[1;32m-> 3213\u001b[1;33m       \u001b[0mgraph_function\u001b[0m \u001b[1;33m=\u001b[0m \u001b[0mself\u001b[0m\u001b[1;33m.\u001b[0m\u001b[0m_create_graph_function\u001b[0m\u001b[1;33m(\u001b[0m\u001b[0margs\u001b[0m\u001b[1;33m,\u001b[0m \u001b[0mkwargs\u001b[0m\u001b[1;33m)\u001b[0m\u001b[1;33m\u001b[0m\u001b[1;33m\u001b[0m\u001b[0m\n\u001b[0m\u001b[0;32m   3214\u001b[0m       \u001b[0mself\u001b[0m\u001b[1;33m.\u001b[0m\u001b[0m_function_cache\u001b[0m\u001b[1;33m.\u001b[0m\u001b[0mprimary\u001b[0m\u001b[1;33m[\u001b[0m\u001b[0mcache_key\u001b[0m\u001b[1;33m]\u001b[0m \u001b[1;33m=\u001b[0m \u001b[0mgraph_function\u001b[0m\u001b[1;33m\u001b[0m\u001b[1;33m\u001b[0m\u001b[0m\n\u001b[0;32m   3215\u001b[0m       \u001b[1;32mreturn\u001b[0m \u001b[0mgraph_function\u001b[0m\u001b[1;33m,\u001b[0m \u001b[0margs\u001b[0m\u001b[1;33m,\u001b[0m \u001b[0mkwargs\u001b[0m\u001b[1;33m\u001b[0m\u001b[1;33m\u001b[0m\u001b[0m\n",
            "\u001b[1;32mC:\\Anaconda3\\lib\\site-packages\\tensorflow\\python\\eager\\function.py\u001b[0m in \u001b[0;36m_create_graph_function\u001b[1;34m(self, args, kwargs, override_flat_arg_shapes)\u001b[0m\n\u001b[0;32m   3063\u001b[0m     \u001b[0marg_names\u001b[0m \u001b[1;33m=\u001b[0m \u001b[0mbase_arg_names\u001b[0m \u001b[1;33m+\u001b[0m \u001b[0mmissing_arg_names\u001b[0m\u001b[1;33m\u001b[0m\u001b[1;33m\u001b[0m\u001b[0m\n\u001b[0;32m   3064\u001b[0m     graph_function = ConcreteFunction(\n\u001b[1;32m-> 3065\u001b[1;33m         func_graph_module.func_graph_from_py_func(\n\u001b[0m\u001b[0;32m   3066\u001b[0m             \u001b[0mself\u001b[0m\u001b[1;33m.\u001b[0m\u001b[0m_name\u001b[0m\u001b[1;33m,\u001b[0m\u001b[1;33m\u001b[0m\u001b[1;33m\u001b[0m\u001b[0m\n\u001b[0;32m   3067\u001b[0m             \u001b[0mself\u001b[0m\u001b[1;33m.\u001b[0m\u001b[0m_python_function\u001b[0m\u001b[1;33m,\u001b[0m\u001b[1;33m\u001b[0m\u001b[1;33m\u001b[0m\u001b[0m\n",
            "\u001b[1;32mC:\\Anaconda3\\lib\\site-packages\\tensorflow\\python\\framework\\func_graph.py\u001b[0m in \u001b[0;36mfunc_graph_from_py_func\u001b[1;34m(name, python_func, args, kwargs, signature, func_graph, autograph, autograph_options, add_control_dependencies, arg_names, op_return_value, collections, capture_by_value, override_flat_arg_shapes)\u001b[0m\n\u001b[0;32m    984\u001b[0m         \u001b[0m_\u001b[0m\u001b[1;33m,\u001b[0m \u001b[0moriginal_func\u001b[0m \u001b[1;33m=\u001b[0m \u001b[0mtf_decorator\u001b[0m\u001b[1;33m.\u001b[0m\u001b[0munwrap\u001b[0m\u001b[1;33m(\u001b[0m\u001b[0mpython_func\u001b[0m\u001b[1;33m)\u001b[0m\u001b[1;33m\u001b[0m\u001b[1;33m\u001b[0m\u001b[0m\n\u001b[0;32m    985\u001b[0m \u001b[1;33m\u001b[0m\u001b[0m\n\u001b[1;32m--> 986\u001b[1;33m       \u001b[0mfunc_outputs\u001b[0m \u001b[1;33m=\u001b[0m \u001b[0mpython_func\u001b[0m\u001b[1;33m(\u001b[0m\u001b[1;33m*\u001b[0m\u001b[0mfunc_args\u001b[0m\u001b[1;33m,\u001b[0m \u001b[1;33m**\u001b[0m\u001b[0mfunc_kwargs\u001b[0m\u001b[1;33m)\u001b[0m\u001b[1;33m\u001b[0m\u001b[1;33m\u001b[0m\u001b[0m\n\u001b[0m\u001b[0;32m    987\u001b[0m \u001b[1;33m\u001b[0m\u001b[0m\n\u001b[0;32m    988\u001b[0m       \u001b[1;31m# invariant: `func_outputs` contains only Tensors, CompositeTensors,\u001b[0m\u001b[1;33m\u001b[0m\u001b[1;33m\u001b[0m\u001b[1;33m\u001b[0m\u001b[0m\n",
            "\u001b[1;32mC:\\Anaconda3\\lib\\site-packages\\tensorflow\\python\\eager\\def_function.py\u001b[0m in \u001b[0;36mwrapped_fn\u001b[1;34m(*args, **kwds)\u001b[0m\n\u001b[0;32m    598\u001b[0m         \u001b[1;31m# __wrapped__ allows AutoGraph to swap in a converted function. We give\u001b[0m\u001b[1;33m\u001b[0m\u001b[1;33m\u001b[0m\u001b[1;33m\u001b[0m\u001b[0m\n\u001b[0;32m    599\u001b[0m         \u001b[1;31m# the function a weak reference to itself to avoid a reference cycle.\u001b[0m\u001b[1;33m\u001b[0m\u001b[1;33m\u001b[0m\u001b[1;33m\u001b[0m\u001b[0m\n\u001b[1;32m--> 600\u001b[1;33m         \u001b[1;32mreturn\u001b[0m \u001b[0mweak_wrapped_fn\u001b[0m\u001b[1;33m(\u001b[0m\u001b[1;33m)\u001b[0m\u001b[1;33m.\u001b[0m\u001b[0m__wrapped__\u001b[0m\u001b[1;33m(\u001b[0m\u001b[1;33m*\u001b[0m\u001b[0margs\u001b[0m\u001b[1;33m,\u001b[0m \u001b[1;33m**\u001b[0m\u001b[0mkwds\u001b[0m\u001b[1;33m)\u001b[0m\u001b[1;33m\u001b[0m\u001b[1;33m\u001b[0m\u001b[0m\n\u001b[0m\u001b[0;32m    601\u001b[0m     \u001b[0mweak_wrapped_fn\u001b[0m \u001b[1;33m=\u001b[0m \u001b[0mweakref\u001b[0m\u001b[1;33m.\u001b[0m\u001b[0mref\u001b[0m\u001b[1;33m(\u001b[0m\u001b[0mwrapped_fn\u001b[0m\u001b[1;33m)\u001b[0m\u001b[1;33m\u001b[0m\u001b[1;33m\u001b[0m\u001b[0m\n\u001b[0;32m    602\u001b[0m \u001b[1;33m\u001b[0m\u001b[0m\n",
            "\u001b[1;32mC:\\Anaconda3\\lib\\site-packages\\tensorflow\\python\\framework\\func_graph.py\u001b[0m in \u001b[0;36mwrapper\u001b[1;34m(*args, **kwargs)\u001b[0m\n\u001b[0;32m    971\u001b[0m           \u001b[1;32mexcept\u001b[0m \u001b[0mException\u001b[0m \u001b[1;32mas\u001b[0m \u001b[0me\u001b[0m\u001b[1;33m:\u001b[0m  \u001b[1;31m# pylint:disable=broad-except\u001b[0m\u001b[1;33m\u001b[0m\u001b[1;33m\u001b[0m\u001b[0m\n\u001b[0;32m    972\u001b[0m             \u001b[1;32mif\u001b[0m \u001b[0mhasattr\u001b[0m\u001b[1;33m(\u001b[0m\u001b[0me\u001b[0m\u001b[1;33m,\u001b[0m \u001b[1;34m\"ag_error_metadata\"\u001b[0m\u001b[1;33m)\u001b[0m\u001b[1;33m:\u001b[0m\u001b[1;33m\u001b[0m\u001b[1;33m\u001b[0m\u001b[0m\n\u001b[1;32m--> 973\u001b[1;33m               \u001b[1;32mraise\u001b[0m \u001b[0me\u001b[0m\u001b[1;33m.\u001b[0m\u001b[0mag_error_metadata\u001b[0m\u001b[1;33m.\u001b[0m\u001b[0mto_exception\u001b[0m\u001b[1;33m(\u001b[0m\u001b[0me\u001b[0m\u001b[1;33m)\u001b[0m\u001b[1;33m\u001b[0m\u001b[1;33m\u001b[0m\u001b[0m\n\u001b[0m\u001b[0;32m    974\u001b[0m             \u001b[1;32melse\u001b[0m\u001b[1;33m:\u001b[0m\u001b[1;33m\u001b[0m\u001b[1;33m\u001b[0m\u001b[0m\n\u001b[0;32m    975\u001b[0m               \u001b[1;32mraise\u001b[0m\u001b[1;33m\u001b[0m\u001b[1;33m\u001b[0m\u001b[0m\n",
            "\u001b[1;31mValueError\u001b[0m: in user code:\n\n    C:\\Anaconda3\\lib\\site-packages\\tensorflow\\python\\keras\\engine\\training.py:806 train_function  *\n        return step_function(self, iterator)\n    C:\\Anaconda3\\lib\\site-packages\\tensorflow\\python\\keras\\engine\\training.py:796 step_function  **\n        outputs = model.distribute_strategy.run(run_step, args=(data,))\n    C:\\Anaconda3\\lib\\site-packages\\tensorflow\\python\\distribute\\distribute_lib.py:1211 run\n        return self._extended.call_for_each_replica(fn, args=args, kwargs=kwargs)\n    C:\\Anaconda3\\lib\\site-packages\\tensorflow\\python\\distribute\\distribute_lib.py:2585 call_for_each_replica\n        return self._call_for_each_replica(fn, args, kwargs)\n    C:\\Anaconda3\\lib\\site-packages\\tensorflow\\python\\distribute\\distribute_lib.py:2945 _call_for_each_replica\n        return fn(*args, **kwargs)\n    C:\\Anaconda3\\lib\\site-packages\\tensorflow\\python\\keras\\engine\\training.py:789 run_step  **\n        outputs = model.train_step(data)\n    C:\\Anaconda3\\lib\\site-packages\\tensorflow\\python\\keras\\engine\\training.py:747 train_step\n        y_pred = self(x, training=True)\n    C:\\Anaconda3\\lib\\site-packages\\tensorflow\\python\\keras\\engine\\base_layer.py:975 __call__\n        input_spec.assert_input_compatibility(self.input_spec, inputs,\n    C:\\Anaconda3\\lib\\site-packages\\tensorflow\\python\\keras\\engine\\input_spec.py:212 assert_input_compatibility\n        raise ValueError(\n\n    ValueError: Input 0 of layer sequential_18 is incompatible with the layer: expected axis -1 of input shape to have value 13 but received input with shape [None, 11]\n"
          ]
        }
      ],
      "source": [
        "# 모델 학습하기\r\n",
        "history = model.fit(x_train,y_train,\r\n",
        "                    batch_size=128,\r\n",
        "                    epochs = 500,\r\n",
        "                    validation_data = (X_val, y_val))"
      ]
    },
    {
      "cell_type": "markdown",
      "metadata": {
        "id": "3a4jt31MFJ_t"
      },
      "source": [
        "모델 평가"
      ]
    },
    {
      "cell_type": "code",
      "execution_count": null,
      "metadata": {
        "colab": {
          "base_uri": "https://localhost:8080/",
          "height": 350
        },
        "id": "gyjK7xHQ6dKX",
        "outputId": "6fb085b1-9193-42ab-a6a0-0a665244f9b6"
      },
      "outputs": [],
      "source": [
        "import matplotlib.pyplot as plt\r\n",
        "\r\n",
        "his_dict = history.history\r\n",
        "mse = his_dict['mse']\r\n",
        "val_mse = his_dict['val_mse'] # 검증 데이터가 있는 경우 ‘val_’ 수식어가 붙습니다.\r\n",
        "\r\n",
        "epochs = range(1, len(mse) + 1)\r\n",
        "fig = plt.figure(figsize = (10, 5))\r\n",
        "\r\n",
        "# 훈련 및 검증 손실 그리기\r\n",
        "ax1 = fig.add_subplot(1, 2, 1)\r\n",
        "ax1.plot(epochs, mse, color = 'blue', label = 'train_mse')\r\n",
        "ax1.plot(epochs, val_mse, color = 'orange', label = 'val_mse')\r\n",
        "ax1.set_title('train and val mse')\r\n",
        "ax1.set_xlabel('epochs')\r\n",
        "ax1.set_ylabel('mse')\r\n",
        "ax1.legend()\r\n",
        "\r\n",
        "mae = his_dict['mae']\r\n",
        "val_mae = his_dict['val_mae']\r\n",
        "\r\n",
        "# 훈련 및 검증 정확도 그리기\r\n",
        "ax2 = fig.add_subplot(1, 2, 2)\r\n",
        "ax2.plot(epochs, mae, color = 'blue', label = 'train_mae')\r\n",
        "ax2.plot(epochs, val_mae, color = 'orange', label = 'val_mae')\r\n",
        "ax2.set_title('train and val mae')\r\n",
        "ax2.set_xlabel('epochs')\r\n",
        "ax2.set_ylabel('mae')\r\n",
        "ax2.legend()\r\n",
        "\r\n",
        "plt.show()\r\n",
        "plt.savefig('nn_model.png', dpi = 400)"
      ]
    },
    {
      "cell_type": "code",
      "execution_count": null,
      "metadata": {
        "colab": {
          "base_uri": "https://localhost:8080/"
        },
        "id": "As4Opw9NFOxh",
        "outputId": "d220f99a-77cd-43dd-eb49-700895bee94a"
      },
      "outputs": [],
      "source": [
        "model.evaluate(X_test, y_test)"
      ]
    },
    {
      "cell_type": "code",
      "execution_count": null,
      "metadata": {
        "colab": {
          "base_uri": "https://localhost:8080/",
          "height": 279
        },
        "id": "Dy8HUcGrGQoh",
        "outputId": "cc389eae-1431-4e0a-868b-bde9f0140576"
      },
      "outputs": [],
      "source": [
        "test_predictions = model.predict(X_test).flatten()\r\n",
        "\r\n",
        "plt.scatter(y_test, test_predictions)\r\n",
        "plt.xlabel('True Values [popularity]')\r\n",
        "plt.ylabel('Predictions [popularity]')\r\n",
        "plt.axis('equal')\r\n",
        "plt.axis('square')\r\n",
        "plt.xlim([0,plt.xlim()[1]])\r\n",
        "plt.ylim([0,plt.ylim()[1]])\r\n",
        "_ = plt.plot([-100, 100], [-100, 100])"
      ]
    },
    {
      "cell_type": "code",
      "execution_count": null,
      "metadata": {
        "id": "w_LKF952GYRx"
      },
      "outputs": [],
      "source": [
        "mse_nn = mean_squared_error(y_test, test_predictions)\r\n",
        "mse_nn"
      ]
    },
    {
      "cell_type": "code",
      "execution_count": null,
      "metadata": {},
      "outputs": [],
      "source": [
        "mse_list = [mse_linear, mse_lasso, mse_ridge, mse_tree, mse_random, mse_boost, mse_nn]\r\n",
        "mse_list"
      ]
    },
    {
      "cell_type": "code",
      "execution_count": null,
      "metadata": {},
      "outputs": [],
      "source": [
        "plt.figure(figsize=(17, 8))\r\n",
        "sns.set(style=\"whitegrid\")\r\n",
        "ax = sns.lineplot(data=mse_list)\r\n",
        "ax.set_xticklabels(['','linear', 'lasso', 'ridge', 'tree', 'random', 'boost', 'nn'])\r\n",
        "ax.set_title('model comparision')\r\n",
        "ax.set_ylabel('MSE')\r\n",
        "ax.set_xlabel('MODEL')\r\n",
        "plt.savefig('model_mse.png', dpi = 400)"
      ]
    },
    {
      "cell_type": "markdown",
      "metadata": {},
      "source": [
        "## 레이어 변경"
      ]
    },
    {
      "cell_type": "code",
      "execution_count": 180,
      "metadata": {},
      "outputs": [],
      "source": [
        "from tensorflow.keras.models import Sequential\r\n",
        "from tensorflow.keras.layers import Dense, BatchNormalization\r\n",
        "\r\n",
        "model = Sequential()\r\n",
        "model.add(Dense(64, activation='relu', input_shape=(13,)))\r\n",
        "model.add(BatchNormalization())\r\n",
        "model.add(Dense(64, activation='relu'))\r\n",
        "model.add(BatchNormalization())\r\n",
        "model.add(Dense(1))  # 하나의 값을 출력 -> popularity"
      ]
    },
    {
      "cell_type": "code",
      "execution_count": 181,
      "metadata": {},
      "outputs": [],
      "source": [
        "model.compile(optimizer='adam', loss='mse', metrics=['mae','mse'])"
      ]
    },
    {
      "cell_type": "code",
      "execution_count": 182,
      "metadata": {},
      "outputs": [
        {
          "name": "stdout",
          "output_type": "stream",
          "text": [
            "Epoch 1/300\n",
            "2246/2246 [==============================] - 7s 3ms/step - loss: 288.8248 - mae: 12.9434 - mse: 288.8248 - val_loss: 191.5631 - val_mae: 10.6825 - val_mse: 191.5631\n",
            "Epoch 2/300\n",
            "2246/2246 [==============================] - 7s 3ms/step - loss: 192.1753 - mae: 10.6063 - mse: 192.1753 - val_loss: 187.8607 - val_mae: 10.3394 - val_mse: 187.8607\n",
            "Epoch 3/300\n",
            "2246/2246 [==============================] - 7s 3ms/step - loss: 190.0288 - mae: 10.5179 - mse: 190.0288 - val_loss: 190.2849 - val_mae: 10.5857 - val_mse: 190.2849\n",
            "Epoch 4/300\n",
            "2246/2246 [==============================] - 7s 3ms/step - loss: 188.8587 - mae: 10.4692 - mse: 188.8587 - val_loss: 185.4654 - val_mae: 10.3935 - val_mse: 185.4654\n",
            "Epoch 5/300\n",
            "2246/2246 [==============================] - 7s 3ms/step - loss: 187.8410 - mae: 10.4286 - mse: 187.8410 - val_loss: 185.0887 - val_mae: 10.3281 - val_mse: 185.0887\n",
            "Epoch 6/300\n",
            "2246/2246 [==============================] - 7s 3ms/step - loss: 187.2000 - mae: 10.4022 - mse: 187.2000 - val_loss: 185.0480 - val_mae: 10.3600 - val_mse: 185.0480\n",
            "Epoch 7/300\n",
            "2246/2246 [==============================] - 7s 3ms/step - loss: 186.5906 - mae: 10.3851 - mse: 186.5906 - val_loss: 186.1312 - val_mae: 10.4238 - val_mse: 186.1312\n",
            "Epoch 8/300\n",
            "2246/2246 [==============================] - 7s 3ms/step - loss: 185.9085 - mae: 10.3680 - mse: 185.9085 - val_loss: 184.9424 - val_mae: 10.2517 - val_mse: 184.9424\n",
            "Epoch 9/300\n",
            "2246/2246 [==============================] - 7s 3ms/step - loss: 185.2141 - mae: 10.3476 - mse: 185.2141 - val_loss: 184.8080 - val_mae: 10.3745 - val_mse: 184.8080\n",
            "Epoch 10/300\n",
            "2246/2246 [==============================] - 7s 3ms/step - loss: 184.8268 - mae: 10.3314 - mse: 184.8268 - val_loss: 182.2199 - val_mae: 10.2378 - val_mse: 182.2199\n",
            "Epoch 11/300\n",
            "2246/2246 [==============================] - 7s 3ms/step - loss: 184.5663 - mae: 10.3207 - mse: 184.5663 - val_loss: 182.1914 - val_mae: 10.2490 - val_mse: 182.1914\n",
            "Epoch 12/300\n",
            "2246/2246 [==============================] - 7s 3ms/step - loss: 184.0973 - mae: 10.3104 - mse: 184.0973 - val_loss: 182.6516 - val_mae: 10.3011 - val_mse: 182.6516\n",
            "Epoch 13/300\n",
            "2246/2246 [==============================] - 7s 3ms/step - loss: 183.8002 - mae: 10.3013 - mse: 183.8002 - val_loss: 181.5668 - val_mae: 10.1693 - val_mse: 181.5668\n",
            "Epoch 14/300\n",
            "2246/2246 [==============================] - 7s 3ms/step - loss: 183.6937 - mae: 10.2978 - mse: 183.6937 - val_loss: 181.2326 - val_mae: 10.1458 - val_mse: 181.2326\n",
            "Epoch 15/300\n",
            "2246/2246 [==============================] - 8s 3ms/step - loss: 183.3531 - mae: 10.2852 - mse: 183.3531 - val_loss: 181.7390 - val_mae: 10.1025 - val_mse: 181.7390\n",
            "Epoch 16/300\n",
            "2246/2246 [==============================] - 6s 3ms/step - loss: 183.1221 - mae: 10.2722 - mse: 183.1221 - val_loss: 183.2858 - val_mae: 10.2338 - val_mse: 183.2858\n",
            "Epoch 17/300\n",
            "2246/2246 [==============================] - 7s 3ms/step - loss: 182.8601 - mae: 10.2690 - mse: 182.8601 - val_loss: 180.1506 - val_mae: 10.1670 - val_mse: 180.1506\n",
            "Epoch 18/300\n",
            "2246/2246 [==============================] - 6s 3ms/step - loss: 182.5764 - mae: 10.2564 - mse: 182.5764 - val_loss: 182.1289 - val_mae: 10.2933 - val_mse: 182.1289\n",
            "Epoch 19/300\n",
            "2246/2246 [==============================] - 7s 3ms/step - loss: 182.4123 - mae: 10.2487 - mse: 182.4123 - val_loss: 181.5278 - val_mae: 10.1743 - val_mse: 181.5278\n",
            "Epoch 20/300\n",
            "2246/2246 [==============================] - 6s 3ms/step - loss: 182.0959 - mae: 10.2443 - mse: 182.0959 - val_loss: 180.0345 - val_mae: 10.2009 - val_mse: 180.0345\n",
            "Epoch 21/300\n",
            "2246/2246 [==============================] - 6s 3ms/step - loss: 182.1853 - mae: 10.2400 - mse: 182.1853 - val_loss: 179.2997 - val_mae: 10.0871 - val_mse: 179.2997\n",
            "Epoch 22/300\n",
            "2246/2246 [==============================] - 7s 3ms/step - loss: 182.0230 - mae: 10.2346 - mse: 182.0230 - val_loss: 181.4767 - val_mae: 10.3740 - val_mse: 181.4767\n",
            "Epoch 23/300\n",
            "2246/2246 [==============================] - 7s 3ms/step - loss: 181.8435 - mae: 10.2281 - mse: 181.8435 - val_loss: 179.5481 - val_mae: 10.0689 - val_mse: 179.5481\n",
            "Epoch 24/300\n",
            "2246/2246 [==============================] - 7s 3ms/step - loss: 181.6579 - mae: 10.2215 - mse: 181.6579 - val_loss: 180.2480 - val_mae: 10.2705 - val_mse: 180.2480\n",
            "Epoch 25/300\n",
            "2246/2246 [==============================] - 7s 3ms/step - loss: 181.4344 - mae: 10.2153 - mse: 181.4344 - val_loss: 180.7702 - val_mae: 10.0453 - val_mse: 180.7702\n",
            "Epoch 26/300\n",
            "2246/2246 [==============================] - 7s 3ms/step - loss: 181.2788 - mae: 10.2086 - mse: 181.2788 - val_loss: 180.4149 - val_mae: 10.2257 - val_mse: 180.4149\n",
            "Epoch 27/300\n",
            "2246/2246 [==============================] - 7s 3ms/step - loss: 181.3064 - mae: 10.2071 - mse: 181.3064 - val_loss: 179.9605 - val_mae: 10.1088 - val_mse: 179.9605\n",
            "Epoch 28/300\n",
            "2246/2246 [==============================] - 7s 3ms/step - loss: 180.9932 - mae: 10.1911 - mse: 180.9932 - val_loss: 179.4131 - val_mae: 10.0497 - val_mse: 179.4131\n",
            "Epoch 29/300\n",
            "2246/2246 [==============================] - 7s 3ms/step - loss: 180.8101 - mae: 10.1930 - mse: 180.8101 - val_loss: 178.8503 - val_mae: 10.1599 - val_mse: 178.8503\n",
            "Epoch 30/300\n",
            "2246/2246 [==============================] - 7s 3ms/step - loss: 180.7718 - mae: 10.1929 - mse: 180.7718 - val_loss: 180.1524 - val_mae: 10.2657 - val_mse: 180.1524\n",
            "Epoch 31/300\n",
            "2246/2246 [==============================] - 7s 3ms/step - loss: 180.6030 - mae: 10.1906 - mse: 180.6030 - val_loss: 179.5731 - val_mae: 10.0583 - val_mse: 179.5731\n",
            "Epoch 32/300\n",
            "2246/2246 [==============================] - 7s 3ms/step - loss: 180.3976 - mae: 10.1810 - mse: 180.3976 - val_loss: 178.5218 - val_mae: 10.0911 - val_mse: 178.5218\n",
            "Epoch 33/300\n",
            "2246/2246 [==============================] - 6s 3ms/step - loss: 180.4483 - mae: 10.1838 - mse: 180.4483 - val_loss: 177.9941 - val_mae: 10.0526 - val_mse: 177.9941\n",
            "Epoch 34/300\n",
            "2246/2246 [==============================] - 6s 3ms/step - loss: 180.2825 - mae: 10.1719 - mse: 180.2825 - val_loss: 179.4566 - val_mae: 10.0632 - val_mse: 179.4566\n",
            "Epoch 35/300\n",
            "2246/2246 [==============================] - 6s 3ms/step - loss: 180.0975 - mae: 10.1675 - mse: 180.0975 - val_loss: 184.7917 - val_mae: 10.2110 - val_mse: 184.7917\n",
            "Epoch 36/300\n",
            "2246/2246 [==============================] - 6s 3ms/step - loss: 180.0699 - mae: 10.1687 - mse: 180.0699 - val_loss: 179.2928 - val_mae: 10.0597 - val_mse: 179.2928\n",
            "Epoch 37/300\n",
            "2246/2246 [==============================] - 6s 3ms/step - loss: 180.2130 - mae: 10.1736 - mse: 180.2130 - val_loss: 179.1611 - val_mae: 10.0068 - val_mse: 179.1611\n",
            "Epoch 38/300\n",
            "2246/2246 [==============================] - 6s 3ms/step - loss: 179.8708 - mae: 10.1621 - mse: 179.8708 - val_loss: 178.5804 - val_mae: 10.1304 - val_mse: 178.5804\n",
            "Epoch 39/300\n",
            "2246/2246 [==============================] - 7s 3ms/step - loss: 179.7117 - mae: 10.1576 - mse: 179.7117 - val_loss: 179.0452 - val_mae: 10.1122 - val_mse: 179.0452\n",
            "Epoch 40/300\n",
            "2246/2246 [==============================] - 7s 3ms/step - loss: 179.6092 - mae: 10.1535 - mse: 179.6092 - val_loss: 179.1001 - val_mae: 10.0785 - val_mse: 179.1001\n",
            "Epoch 41/300\n",
            "2246/2246 [==============================] - 7s 3ms/step - loss: 179.7534 - mae: 10.1559 - mse: 179.7534 - val_loss: 179.5340 - val_mae: 10.2945 - val_mse: 179.5340\n",
            "Epoch 42/300\n",
            "2246/2246 [==============================] - 7s 3ms/step - loss: 179.4998 - mae: 10.1486 - mse: 179.4998 - val_loss: 179.4190 - val_mae: 10.1236 - val_mse: 179.4190\n",
            "Epoch 43/300\n",
            "2246/2246 [==============================] - 6s 3ms/step - loss: 179.3757 - mae: 10.1483 - mse: 179.3757 - val_loss: 178.3286 - val_mae: 10.1155 - val_mse: 178.3286\n",
            "Epoch 44/300\n",
            "2246/2246 [==============================] - 6s 3ms/step - loss: 179.2696 - mae: 10.1425 - mse: 179.2696 - val_loss: 180.1708 - val_mae: 10.1686 - val_mse: 180.1708\n",
            "Epoch 45/300\n",
            "2246/2246 [==============================] - 7s 3ms/step - loss: 178.9503 - mae: 10.1283 - mse: 178.9503 - val_loss: 178.8853 - val_mae: 10.0696 - val_mse: 178.8853\n",
            "Epoch 46/300\n",
            "2246/2246 [==============================] - 7s 3ms/step - loss: 179.0479 - mae: 10.1339 - mse: 179.0479 - val_loss: 178.5215 - val_mae: 10.0388 - val_mse: 178.5215\n",
            "Epoch 47/300\n",
            "2246/2246 [==============================] - 7s 3ms/step - loss: 178.7394 - mae: 10.1281 - mse: 178.7394 - val_loss: 177.4121 - val_mae: 10.0349 - val_mse: 177.4121\n",
            "Epoch 48/300\n",
            "2246/2246 [==============================] - 6s 3ms/step - loss: 178.9406 - mae: 10.1321 - mse: 178.9406 - val_loss: 178.1439 - val_mae: 9.9846 - val_mse: 178.1439\n",
            "Epoch 49/300\n",
            "2246/2246 [==============================] - 7s 3ms/step - loss: 178.8699 - mae: 10.1284 - mse: 178.8699 - val_loss: 177.8619 - val_mae: 10.0391 - val_mse: 177.8619\n",
            "Epoch 50/300\n",
            "2246/2246 [==============================] - 6s 3ms/step - loss: 179.0770 - mae: 10.1335 - mse: 179.0770 - val_loss: 177.5613 - val_mae: 10.0602 - val_mse: 177.5613\n",
            "Epoch 51/300\n",
            "2246/2246 [==============================] - 7s 3ms/step - loss: 178.9579 - mae: 10.1332 - mse: 178.9579 - val_loss: 177.1364 - val_mae: 9.9985 - val_mse: 177.1364\n",
            "Epoch 52/300\n",
            "2246/2246 [==============================] - 7s 3ms/step - loss: 178.6151 - mae: 10.1164 - mse: 178.6151 - val_loss: 178.0124 - val_mae: 10.1562 - val_mse: 178.0124\n",
            "Epoch 53/300\n",
            "2246/2246 [==============================] - 7s 3ms/step - loss: 178.5282 - mae: 10.1190 - mse: 178.5282 - val_loss: 176.6426 - val_mae: 10.0452 - val_mse: 176.6426\n",
            "Epoch 54/300\n",
            "2246/2246 [==============================] - 7s 3ms/step - loss: 178.5438 - mae: 10.1182 - mse: 178.5438 - val_loss: 176.8766 - val_mae: 10.1165 - val_mse: 176.8766\n",
            "Epoch 55/300\n",
            "2246/2246 [==============================] - 7s 3ms/step - loss: 178.4031 - mae: 10.1107 - mse: 178.4031 - val_loss: 178.6998 - val_mae: 10.1528 - val_mse: 178.6998\n",
            "Epoch 56/300\n",
            "2246/2246 [==============================] - 7s 3ms/step - loss: 178.4010 - mae: 10.1117 - mse: 178.4010 - val_loss: 178.7044 - val_mae: 10.2833 - val_mse: 178.7044\n",
            "Epoch 57/300\n",
            "2246/2246 [==============================] - 7s 3ms/step - loss: 178.3578 - mae: 10.1135 - mse: 178.3578 - val_loss: 177.9344 - val_mae: 10.0443 - val_mse: 177.9344\n",
            "Epoch 58/300\n",
            "2246/2246 [==============================] - 7s 3ms/step - loss: 178.3179 - mae: 10.1059 - mse: 178.3179 - val_loss: 178.2587 - val_mae: 10.0966 - val_mse: 178.2587\n",
            "Epoch 59/300\n",
            "2246/2246 [==============================] - 7s 3ms/step - loss: 178.1735 - mae: 10.1052 - mse: 178.1735 - val_loss: 178.4938 - val_mae: 9.9574 - val_mse: 178.4938\n",
            "Epoch 60/300\n",
            "2246/2246 [==============================] - 6s 3ms/step - loss: 178.2663 - mae: 10.1099 - mse: 178.2663 - val_loss: 177.7487 - val_mae: 10.1569 - val_mse: 177.7487\n",
            "Epoch 61/300\n",
            "2246/2246 [==============================] - 7s 3ms/step - loss: 178.0210 - mae: 10.0974 - mse: 178.0210 - val_loss: 178.3356 - val_mae: 9.9789 - val_mse: 178.3356\n",
            "Epoch 62/300\n",
            "2246/2246 [==============================] - 6s 3ms/step - loss: 178.1659 - mae: 10.1028 - mse: 178.1659 - val_loss: 176.7486 - val_mae: 9.9715 - val_mse: 176.7486\n",
            "Epoch 63/300\n",
            "2246/2246 [==============================] - 7s 3ms/step - loss: 178.1808 - mae: 10.1047 - mse: 178.1808 - val_loss: 178.1400 - val_mae: 10.1163 - val_mse: 178.1400\n",
            "Epoch 64/300\n",
            "2246/2246 [==============================] - 7s 3ms/step - loss: 178.1786 - mae: 10.1022 - mse: 178.1786 - val_loss: 177.0840 - val_mae: 10.0393 - val_mse: 177.0840\n",
            "Epoch 65/300\n",
            "2246/2246 [==============================] - 7s 3ms/step - loss: 177.9379 - mae: 10.0990 - mse: 177.9379 - val_loss: 177.9033 - val_mae: 9.9811 - val_mse: 177.9033\n",
            "Epoch 66/300\n",
            "2246/2246 [==============================] - 7s 3ms/step - loss: 177.8806 - mae: 10.0923 - mse: 177.8806 - val_loss: 179.9380 - val_mae: 10.1181 - val_mse: 179.9380\n",
            "Epoch 67/300\n",
            "2246/2246 [==============================] - 7s 3ms/step - loss: 178.0692 - mae: 10.1037 - mse: 178.0692 - val_loss: 177.4730 - val_mae: 10.0285 - val_mse: 177.4730\n",
            "Epoch 68/300\n",
            "2246/2246 [==============================] - 7s 3ms/step - loss: 178.0147 - mae: 10.0948 - mse: 178.0147 - val_loss: 178.3779 - val_mae: 10.1463 - val_mse: 178.3779\n",
            "Epoch 69/300\n",
            "2246/2246 [==============================] - 7s 3ms/step - loss: 177.8093 - mae: 10.0937 - mse: 177.8093 - val_loss: 177.8247 - val_mae: 9.9561 - val_mse: 177.8247\n",
            "Epoch 70/300\n",
            "2246/2246 [==============================] - 7s 3ms/step - loss: 177.8819 - mae: 10.0898 - mse: 177.8819 - val_loss: 178.0785 - val_mae: 10.0742 - val_mse: 178.0785\n",
            "Epoch 71/300\n",
            "2246/2246 [==============================] - 6s 3ms/step - loss: 177.7534 - mae: 10.0905 - mse: 177.7534 - val_loss: 177.8208 - val_mae: 10.0886 - val_mse: 177.8208\n",
            "Epoch 72/300\n",
            "2246/2246 [==============================] - 7s 3ms/step - loss: 177.7705 - mae: 10.0924 - mse: 177.7705 - val_loss: 176.2724 - val_mae: 9.9420 - val_mse: 176.2724\n",
            "Epoch 73/300\n",
            "2246/2246 [==============================] - 7s 3ms/step - loss: 177.7424 - mae: 10.0893 - mse: 177.7424 - val_loss: 177.0905 - val_mae: 10.0095 - val_mse: 177.0905\n",
            "Epoch 74/300\n",
            "2246/2246 [==============================] - 7s 3ms/step - loss: 177.6549 - mae: 10.0866 - mse: 177.6549 - val_loss: 177.9175 - val_mae: 10.2059 - val_mse: 177.9175\n",
            "Epoch 75/300\n",
            "2246/2246 [==============================] - 7s 3ms/step - loss: 177.5128 - mae: 10.0854 - mse: 177.5128 - val_loss: 177.4514 - val_mae: 10.0606 - val_mse: 177.4514\n",
            "Epoch 76/300\n",
            "2246/2246 [==============================] - 7s 3ms/step - loss: 177.6799 - mae: 10.0858 - mse: 177.6799 - val_loss: 177.8712 - val_mae: 10.1851 - val_mse: 177.8712\n",
            "Epoch 77/300\n",
            "2246/2246 [==============================] - 7s 3ms/step - loss: 177.6070 - mae: 10.0816 - mse: 177.6070 - val_loss: 177.1051 - val_mae: 10.0817 - val_mse: 177.1051\n",
            "Epoch 78/300\n",
            "2246/2246 [==============================] - 7s 3ms/step - loss: 177.6434 - mae: 10.0843 - mse: 177.6434 - val_loss: 176.6089 - val_mae: 10.0724 - val_mse: 176.6089\n",
            "Epoch 79/300\n",
            "2246/2246 [==============================] - 7s 3ms/step - loss: 177.5867 - mae: 10.0859 - mse: 177.5867 - val_loss: 177.1585 - val_mae: 10.0775 - val_mse: 177.1585\n",
            "Epoch 80/300\n",
            "2246/2246 [==============================] - 7s 3ms/step - loss: 177.4354 - mae: 10.0769 - mse: 177.4354 - val_loss: 176.8067 - val_mae: 10.0463 - val_mse: 176.8067\n",
            "Epoch 81/300\n",
            "2246/2246 [==============================] - 7s 3ms/step - loss: 177.4171 - mae: 10.0787 - mse: 177.4171 - val_loss: 177.8390 - val_mae: 9.9820 - val_mse: 177.8390\n",
            "Epoch 82/300\n",
            "2246/2246 [==============================] - 7s 3ms/step - loss: 177.3802 - mae: 10.0792 - mse: 177.3802 - val_loss: 178.4427 - val_mae: 10.0808 - val_mse: 178.4427\n",
            "Epoch 83/300\n",
            "2246/2246 [==============================] - 7s 3ms/step - loss: 177.4729 - mae: 10.0846 - mse: 177.4729 - val_loss: 176.1236 - val_mae: 9.9505 - val_mse: 176.1236\n",
            "Epoch 84/300\n",
            "2246/2246 [==============================] - 7s 3ms/step - loss: 177.2345 - mae: 10.0726 - mse: 177.2345 - val_loss: 179.4512 - val_mae: 10.0329 - val_mse: 179.4512\n",
            "Epoch 85/300\n",
            "2246/2246 [==============================] - 7s 3ms/step - loss: 177.2904 - mae: 10.0726 - mse: 177.2904 - val_loss: 176.7530 - val_mae: 9.9514 - val_mse: 176.7530\n",
            "Epoch 86/300\n",
            "2246/2246 [==============================] - 7s 3ms/step - loss: 177.2939 - mae: 10.0768 - mse: 177.2939 - val_loss: 176.9551 - val_mae: 9.9530 - val_mse: 176.9551\n",
            "Epoch 87/300\n",
            "2246/2246 [==============================] - 7s 3ms/step - loss: 177.1522 - mae: 10.0706 - mse: 177.1522 - val_loss: 178.3013 - val_mae: 10.0525 - val_mse: 178.3013\n",
            "Epoch 88/300\n",
            "2246/2246 [==============================] - 7s 3ms/step - loss: 177.1627 - mae: 10.0718 - mse: 177.1627 - val_loss: 177.4289 - val_mae: 10.0925 - val_mse: 177.4289\n",
            "Epoch 89/300\n",
            "2246/2246 [==============================] - 7s 3ms/step - loss: 177.1966 - mae: 10.0734 - mse: 177.1966 - val_loss: 176.7528 - val_mae: 10.0123 - val_mse: 176.7528\n",
            "Epoch 90/300\n",
            "2246/2246 [==============================] - 7s 3ms/step - loss: 177.2888 - mae: 10.0706 - mse: 177.2888 - val_loss: 176.8378 - val_mae: 9.9823 - val_mse: 176.8378\n",
            "Epoch 91/300\n",
            "2246/2246 [==============================] - 7s 3ms/step - loss: 177.2198 - mae: 10.0712 - mse: 177.2198 - val_loss: 177.0860 - val_mae: 10.0342 - val_mse: 177.0860\n",
            "Epoch 92/300\n",
            "2246/2246 [==============================] - 7s 3ms/step - loss: 177.4617 - mae: 10.0813 - mse: 177.4617 - val_loss: 176.6541 - val_mae: 9.9832 - val_mse: 176.6541\n",
            "Epoch 93/300\n",
            "2246/2246 [==============================] - 7s 3ms/step - loss: 177.0999 - mae: 10.0649 - mse: 177.0999 - val_loss: 177.1416 - val_mae: 10.0714 - val_mse: 177.1416\n",
            "Epoch 94/300\n",
            "2246/2246 [==============================] - 7s 3ms/step - loss: 177.1324 - mae: 10.0722 - mse: 177.1324 - val_loss: 175.6461 - val_mae: 10.0082 - val_mse: 175.6461\n",
            "Epoch 95/300\n",
            "2246/2246 [==============================] - 7s 3ms/step - loss: 177.0802 - mae: 10.0722 - mse: 177.0802 - val_loss: 176.9084 - val_mae: 10.0145 - val_mse: 176.9084\n",
            "Epoch 96/300\n",
            "2246/2246 [==============================] - 7s 3ms/step - loss: 177.2698 - mae: 10.0742 - mse: 177.2698 - val_loss: 176.8954 - val_mae: 10.1094 - val_mse: 176.8954\n",
            "Epoch 97/300\n",
            "2246/2246 [==============================] - 7s 3ms/step - loss: 177.2556 - mae: 10.0754 - mse: 177.2556 - val_loss: 175.7875 - val_mae: 9.9992 - val_mse: 175.7875\n",
            "Epoch 98/300\n",
            "2246/2246 [==============================] - 7s 3ms/step - loss: 177.0135 - mae: 10.0688 - mse: 177.0135 - val_loss: 176.8589 - val_mae: 9.9506 - val_mse: 176.8589\n",
            "Epoch 99/300\n",
            "2246/2246 [==============================] - 7s 3ms/step - loss: 177.2248 - mae: 10.0722 - mse: 177.2248 - val_loss: 175.4753 - val_mae: 9.9765 - val_mse: 175.4753\n",
            "Epoch 100/300\n",
            "2246/2246 [==============================] - 7s 3ms/step - loss: 176.9964 - mae: 10.0673 - mse: 176.9964 - val_loss: 177.7978 - val_mae: 10.2338 - val_mse: 177.7978\n",
            "Epoch 101/300\n",
            "2246/2246 [==============================] - 7s 3ms/step - loss: 176.8853 - mae: 10.0657 - mse: 176.8853 - val_loss: 177.1699 - val_mae: 9.9666 - val_mse: 177.1699\n",
            "Epoch 102/300\n",
            "2246/2246 [==============================] - 7s 3ms/step - loss: 176.9149 - mae: 10.0632 - mse: 176.9149 - val_loss: 175.7768 - val_mae: 9.9889 - val_mse: 175.7768\n",
            "Epoch 103/300\n",
            "2246/2246 [==============================] - 7s 3ms/step - loss: 176.7729 - mae: 10.0614 - mse: 176.7729 - val_loss: 176.6680 - val_mae: 10.1234 - val_mse: 176.6680\n",
            "Epoch 104/300\n",
            "2246/2246 [==============================] - 7s 3ms/step - loss: 176.7344 - mae: 10.0565 - mse: 176.7344 - val_loss: 176.0707 - val_mae: 9.9596 - val_mse: 176.0707\n",
            "Epoch 105/300\n",
            "2246/2246 [==============================] - 7s 3ms/step - loss: 176.9175 - mae: 10.0619 - mse: 176.9175 - val_loss: 176.1190 - val_mae: 10.0051 - val_mse: 176.1190\n",
            "Epoch 106/300\n",
            "2246/2246 [==============================] - 7s 3ms/step - loss: 176.8521 - mae: 10.0660 - mse: 176.8521 - val_loss: 176.6483 - val_mae: 9.9093 - val_mse: 176.6483\n",
            "Epoch 107/300\n",
            "2246/2246 [==============================] - 7s 3ms/step - loss: 176.8523 - mae: 10.0613 - mse: 176.8523 - val_loss: 175.7657 - val_mae: 9.9290 - val_mse: 175.7657\n",
            "Epoch 108/300\n",
            "2246/2246 [==============================] - 7s 3ms/step - loss: 177.0896 - mae: 10.0673 - mse: 177.0896 - val_loss: 177.8038 - val_mae: 9.9492 - val_mse: 177.8038\n",
            "Epoch 109/300\n",
            "2246/2246 [==============================] - 7s 3ms/step - loss: 176.9322 - mae: 10.0617 - mse: 176.9322 - val_loss: 176.3539 - val_mae: 10.0111 - val_mse: 176.3539\n",
            "Epoch 110/300\n",
            "2246/2246 [==============================] - 7s 3ms/step - loss: 176.8217 - mae: 10.0624 - mse: 176.8217 - val_loss: 178.1922 - val_mae: 10.0069 - val_mse: 178.1922\n",
            "Epoch 111/300\n",
            "2246/2246 [==============================] - 7s 3ms/step - loss: 176.8429 - mae: 10.0654 - mse: 176.8429 - val_loss: 176.9634 - val_mae: 9.9951 - val_mse: 176.9634\n",
            "Epoch 112/300\n",
            "2246/2246 [==============================] - 7s 3ms/step - loss: 176.5794 - mae: 10.0528 - mse: 176.5794 - val_loss: 176.5715 - val_mae: 9.9958 - val_mse: 176.5715\n",
            "Epoch 113/300\n",
            "2246/2246 [==============================] - 7s 3ms/step - loss: 176.6984 - mae: 10.0542 - mse: 176.6984 - val_loss: 176.5444 - val_mae: 10.0454 - val_mse: 176.5444\n",
            "Epoch 114/300\n",
            "2246/2246 [==============================] - 7s 3ms/step - loss: 176.8046 - mae: 10.0581 - mse: 176.8046 - val_loss: 176.2203 - val_mae: 9.9807 - val_mse: 176.2203\n",
            "Epoch 115/300\n",
            "2246/2246 [==============================] - 7s 3ms/step - loss: 176.4226 - mae: 10.0490 - mse: 176.4226 - val_loss: 176.4362 - val_mae: 10.0513 - val_mse: 176.4362\n",
            "Epoch 116/300\n",
            "2246/2246 [==============================] - 7s 3ms/step - loss: 176.7850 - mae: 10.0585 - mse: 176.7850 - val_loss: 177.5400 - val_mae: 10.0352 - val_mse: 177.5400\n",
            "Epoch 117/300\n",
            "2246/2246 [==============================] - 7s 3ms/step - loss: 176.2631 - mae: 10.0433 - mse: 176.2631 - val_loss: 178.2388 - val_mae: 10.0673 - val_mse: 178.2388\n",
            "Epoch 118/300\n",
            "2246/2246 [==============================] - 7s 3ms/step - loss: 176.2099 - mae: 10.0433 - mse: 176.2099 - val_loss: 176.8979 - val_mae: 9.9677 - val_mse: 176.8979\n",
            "Epoch 119/300\n",
            "2246/2246 [==============================] - 7s 3ms/step - loss: 176.5331 - mae: 10.0514 - mse: 176.5331 - val_loss: 176.4943 - val_mae: 10.0144 - val_mse: 176.4943\n",
            "Epoch 120/300\n",
            "2246/2246 [==============================] - 7s 3ms/step - loss: 176.3935 - mae: 10.0433 - mse: 176.3935 - val_loss: 176.9016 - val_mae: 9.9883 - val_mse: 176.9016\n",
            "Epoch 121/300\n",
            "2246/2246 [==============================] - 7s 3ms/step - loss: 176.3251 - mae: 10.0490 - mse: 176.3251 - val_loss: 177.0814 - val_mae: 9.9541 - val_mse: 177.0814\n",
            "Epoch 122/300\n",
            "2246/2246 [==============================] - 7s 3ms/step - loss: 176.4300 - mae: 10.0473 - mse: 176.4300 - val_loss: 176.6894 - val_mae: 10.0232 - val_mse: 176.6894\n",
            "Epoch 123/300\n",
            "2246/2246 [==============================] - 7s 3ms/step - loss: 176.4707 - mae: 10.0509 - mse: 176.4707 - val_loss: 176.0402 - val_mae: 9.9863 - val_mse: 176.0402\n",
            "Epoch 124/300\n",
            "2246/2246 [==============================] - 7s 3ms/step - loss: 176.3772 - mae: 10.0409 - mse: 176.3772 - val_loss: 176.5658 - val_mae: 9.9894 - val_mse: 176.5658\n",
            "Epoch 125/300\n",
            "2246/2246 [==============================] - 7s 3ms/step - loss: 176.2099 - mae: 10.0420 - mse: 176.2099 - val_loss: 176.1642 - val_mae: 9.9379 - val_mse: 176.1642\n",
            "Epoch 126/300\n",
            "2246/2246 [==============================] - 7s 3ms/step - loss: 176.5013 - mae: 10.0509 - mse: 176.5013 - val_loss: 176.2928 - val_mae: 9.9998 - val_mse: 176.2928\n",
            "Epoch 127/300\n",
            "2246/2246 [==============================] - 7s 3ms/step - loss: 176.2945 - mae: 10.0418 - mse: 176.2945 - val_loss: 175.9312 - val_mae: 9.9585 - val_mse: 175.9312\n",
            "Epoch 128/300\n",
            "2246/2246 [==============================] - 7s 3ms/step - loss: 176.3908 - mae: 10.0468 - mse: 176.3908 - val_loss: 176.8743 - val_mae: 10.0799 - val_mse: 176.8743\n",
            "Epoch 129/300\n",
            "2246/2246 [==============================] - 7s 3ms/step - loss: 176.4693 - mae: 10.0489 - mse: 176.4693 - val_loss: 177.0854 - val_mae: 10.1353 - val_mse: 177.0854\n",
            "Epoch 130/300\n",
            "2246/2246 [==============================] - 7s 3ms/step - loss: 176.4180 - mae: 10.0479 - mse: 176.4180 - val_loss: 176.3516 - val_mae: 9.9972 - val_mse: 176.3516\n",
            "Epoch 131/300\n",
            "2246/2246 [==============================] - 7s 3ms/step - loss: 176.3269 - mae: 10.0404 - mse: 176.3269 - val_loss: 178.8225 - val_mae: 10.1075 - val_mse: 178.8225\n",
            "Epoch 132/300\n",
            "2246/2246 [==============================] - 7s 3ms/step - loss: 176.5680 - mae: 10.0455 - mse: 176.5680 - val_loss: 175.9630 - val_mae: 10.0388 - val_mse: 175.9630\n",
            "Epoch 133/300\n",
            "2246/2246 [==============================] - 7s 3ms/step - loss: 176.4734 - mae: 10.0491 - mse: 176.4734 - val_loss: 176.1807 - val_mae: 9.9650 - val_mse: 176.1807\n",
            "Epoch 134/300\n",
            "2246/2246 [==============================] - 7s 3ms/step - loss: 176.2971 - mae: 10.0459 - mse: 176.2971 - val_loss: 176.7442 - val_mae: 9.9776 - val_mse: 176.7442\n",
            "Epoch 135/300\n",
            "2246/2246 [==============================] - 7s 3ms/step - loss: 176.3624 - mae: 10.0470 - mse: 176.3624 - val_loss: 177.4439 - val_mae: 10.0129 - val_mse: 177.4439\n",
            "Epoch 136/300\n",
            "2246/2246 [==============================] - 7s 3ms/step - loss: 176.3648 - mae: 10.0479 - mse: 176.3648 - val_loss: 175.7459 - val_mae: 9.9644 - val_mse: 175.7459\n",
            "Epoch 137/300\n",
            "2246/2246 [==============================] - 7s 3ms/step - loss: 176.2727 - mae: 10.0426 - mse: 176.2727 - val_loss: 175.6240 - val_mae: 10.0087 - val_mse: 175.6240\n",
            "Epoch 138/300\n",
            "2246/2246 [==============================] - 7s 3ms/step - loss: 176.3240 - mae: 10.0499 - mse: 176.3240 - val_loss: 176.4966 - val_mae: 10.0876 - val_mse: 176.4966\n",
            "Epoch 139/300\n",
            "2246/2246 [==============================] - 7s 3ms/step - loss: 176.3750 - mae: 10.0472 - mse: 176.3750 - val_loss: 175.6841 - val_mae: 9.9762 - val_mse: 175.6841\n",
            "Epoch 140/300\n",
            "2246/2246 [==============================] - 7s 3ms/step - loss: 176.2423 - mae: 10.0435 - mse: 176.2423 - val_loss: 176.1968 - val_mae: 9.9577 - val_mse: 176.1968\n",
            "Epoch 141/300\n",
            "2246/2246 [==============================] - 7s 3ms/step - loss: 176.4308 - mae: 10.0489 - mse: 176.4308 - val_loss: 176.2860 - val_mae: 9.9379 - val_mse: 176.2860\n",
            "Epoch 142/300\n",
            "2246/2246 [==============================] - 7s 3ms/step - loss: 176.2462 - mae: 10.0414 - mse: 176.2462 - val_loss: 176.7729 - val_mae: 10.1099 - val_mse: 176.7729\n",
            "Epoch 143/300\n",
            "2246/2246 [==============================] - 8s 3ms/step - loss: 175.9784 - mae: 10.0334 - mse: 175.9784 - val_loss: 177.2938 - val_mae: 10.0125 - val_mse: 177.2938\n",
            "Epoch 144/300\n",
            "2246/2246 [==============================] - 7s 3ms/step - loss: 175.9866 - mae: 10.0381 - mse: 175.9866 - val_loss: 177.0844 - val_mae: 9.9519 - val_mse: 177.0844\n",
            "Epoch 145/300\n",
            "2246/2246 [==============================] - 7s 3ms/step - loss: 176.2263 - mae: 10.0443 - mse: 176.2263 - val_loss: 177.7688 - val_mae: 9.9618 - val_mse: 177.7688\n",
            "Epoch 146/300\n",
            "2246/2246 [==============================] - 7s 3ms/step - loss: 176.2812 - mae: 10.0435 - mse: 176.2812 - val_loss: 176.9658 - val_mae: 9.9975 - val_mse: 176.9658\n",
            "Epoch 147/300\n",
            "2246/2246 [==============================] - 7s 3ms/step - loss: 176.1093 - mae: 10.0363 - mse: 176.1093 - val_loss: 176.8757 - val_mae: 10.0689 - val_mse: 176.8757\n",
            "Epoch 148/300\n",
            "2246/2246 [==============================] - 7s 3ms/step - loss: 176.1294 - mae: 10.0402 - mse: 176.1294 - val_loss: 176.8659 - val_mae: 9.9849 - val_mse: 176.8659\n",
            "Epoch 149/300\n",
            "2246/2246 [==============================] - 7s 3ms/step - loss: 175.9355 - mae: 10.0323 - mse: 175.9355 - val_loss: 176.0814 - val_mae: 9.9742 - val_mse: 176.0814\n",
            "Epoch 150/300\n",
            "2246/2246 [==============================] - 7s 3ms/step - loss: 176.0334 - mae: 10.0338 - mse: 176.0334 - val_loss: 177.5536 - val_mae: 10.1533 - val_mse: 177.5536\n",
            "Epoch 151/300\n",
            "2246/2246 [==============================] - 7s 3ms/step - loss: 175.8192 - mae: 10.0283 - mse: 175.8192 - val_loss: 176.7305 - val_mae: 9.9863 - val_mse: 176.7305\n",
            "Epoch 152/300\n",
            "2246/2246 [==============================] - 7s 3ms/step - loss: 175.9407 - mae: 10.0305 - mse: 175.9407 - val_loss: 176.1650 - val_mae: 9.9909 - val_mse: 176.1650\n",
            "Epoch 153/300\n",
            "2246/2246 [==============================] - 7s 3ms/step - loss: 176.1993 - mae: 10.0450 - mse: 176.1993 - val_loss: 177.0071 - val_mae: 10.0966 - val_mse: 177.0071\n",
            "Epoch 154/300\n",
            "2246/2246 [==============================] - 7s 3ms/step - loss: 175.8843 - mae: 10.0302 - mse: 175.8843 - val_loss: 176.2560 - val_mae: 9.9217 - val_mse: 176.2560\n",
            "Epoch 155/300\n",
            "2246/2246 [==============================] - 7s 3ms/step - loss: 175.9779 - mae: 10.0372 - mse: 175.9779 - val_loss: 177.0553 - val_mae: 10.0932 - val_mse: 177.0553\n",
            "Epoch 156/300\n",
            "2246/2246 [==============================] - 7s 3ms/step - loss: 175.8901 - mae: 10.0282 - mse: 175.8901 - val_loss: 177.4224 - val_mae: 10.0422 - val_mse: 177.4224\n",
            "Epoch 157/300\n",
            "2246/2246 [==============================] - 7s 3ms/step - loss: 175.9866 - mae: 10.0341 - mse: 175.9866 - val_loss: 176.0178 - val_mae: 9.9118 - val_mse: 176.0178\n",
            "Epoch 158/300\n",
            "2246/2246 [==============================] - 7s 3ms/step - loss: 176.1842 - mae: 10.0342 - mse: 176.1842 - val_loss: 176.6377 - val_mae: 10.0404 - val_mse: 176.6377\n",
            "Epoch 159/300\n",
            "2246/2246 [==============================] - 7s 3ms/step - loss: 176.0235 - mae: 10.0321 - mse: 176.0235 - val_loss: 180.0448 - val_mae: 10.2472 - val_mse: 180.0448\n",
            "Epoch 160/300\n",
            "2246/2246 [==============================] - 7s 3ms/step - loss: 175.9082 - mae: 10.0329 - mse: 175.9082 - val_loss: 176.9955 - val_mae: 10.0091 - val_mse: 176.9955\n",
            "Epoch 161/300\n",
            "2246/2246 [==============================] - 7s 3ms/step - loss: 176.0061 - mae: 10.0373 - mse: 176.0061 - val_loss: 177.1490 - val_mae: 9.9479 - val_mse: 177.1490\n",
            "Epoch 162/300\n",
            "2246/2246 [==============================] - 7s 3ms/step - loss: 176.0372 - mae: 10.0380 - mse: 176.0372 - val_loss: 177.8872 - val_mae: 10.0829 - val_mse: 177.8872\n",
            "Epoch 163/300\n",
            "2246/2246 [==============================] - 7s 3ms/step - loss: 175.6202 - mae: 10.0268 - mse: 175.6202 - val_loss: 176.0772 - val_mae: 9.9654 - val_mse: 176.0772\n",
            "Epoch 164/300\n",
            "2246/2246 [==============================] - 7s 3ms/step - loss: 176.0832 - mae: 10.0430 - mse: 176.0832 - val_loss: 178.3447 - val_mae: 10.2412 - val_mse: 178.3447\n",
            "Epoch 165/300\n",
            "2246/2246 [==============================] - 7s 3ms/step - loss: 175.7817 - mae: 10.0295 - mse: 175.7817 - val_loss: 175.8450 - val_mae: 9.9632 - val_mse: 175.8450\n",
            "Epoch 166/300\n",
            "2246/2246 [==============================] - 7s 3ms/step - loss: 175.8415 - mae: 10.0287 - mse: 175.8415 - val_loss: 176.0167 - val_mae: 9.9456 - val_mse: 176.0167\n",
            "Epoch 167/300\n",
            "2246/2246 [==============================] - 7s 3ms/step - loss: 175.8491 - mae: 10.0331 - mse: 175.8491 - val_loss: 176.2985 - val_mae: 9.9806 - val_mse: 176.2985\n",
            "Epoch 168/300\n",
            "2246/2246 [==============================] - 7s 3ms/step - loss: 175.9917 - mae: 10.0303 - mse: 175.9917 - val_loss: 177.2222 - val_mae: 10.0818 - val_mse: 177.2222\n",
            "Epoch 169/300\n",
            "2246/2246 [==============================] - 7s 3ms/step - loss: 175.6258 - mae: 10.0197 - mse: 175.6258 - val_loss: 176.2207 - val_mae: 10.0348 - val_mse: 176.2207\n",
            "Epoch 170/300\n",
            "2246/2246 [==============================] - 7s 3ms/step - loss: 175.7418 - mae: 10.0236 - mse: 175.7418 - val_loss: 176.4054 - val_mae: 10.0852 - val_mse: 176.4054\n",
            "Epoch 171/300\n",
            "2246/2246 [==============================] - 7s 3ms/step - loss: 175.7740 - mae: 10.0274 - mse: 175.7740 - val_loss: 176.3985 - val_mae: 9.9584 - val_mse: 176.3985\n",
            "Epoch 172/300\n",
            "2246/2246 [==============================] - 7s 3ms/step - loss: 175.7175 - mae: 10.0283 - mse: 175.7175 - val_loss: 176.4156 - val_mae: 10.0449 - val_mse: 176.4156\n",
            "Epoch 173/300\n",
            "2246/2246 [==============================] - 7s 3ms/step - loss: 175.7316 - mae: 10.0282 - mse: 175.7316 - val_loss: 175.8168 - val_mae: 9.9533 - val_mse: 175.8168\n",
            "Epoch 174/300\n",
            "2246/2246 [==============================] - 7s 3ms/step - loss: 175.5586 - mae: 10.0209 - mse: 175.5586 - val_loss: 175.8738 - val_mae: 9.9633 - val_mse: 175.8738\n",
            "Epoch 175/300\n",
            "2246/2246 [==============================] - 7s 3ms/step - loss: 175.8552 - mae: 10.0304 - mse: 175.8552 - val_loss: 176.7229 - val_mae: 10.1070 - val_mse: 176.7229\n",
            "Epoch 176/300\n",
            "2246/2246 [==============================] - 7s 3ms/step - loss: 175.7166 - mae: 10.0273 - mse: 175.7166 - val_loss: 176.8209 - val_mae: 10.0332 - val_mse: 176.8209\n",
            "Epoch 177/300\n",
            "2246/2246 [==============================] - 7s 3ms/step - loss: 175.6808 - mae: 10.0250 - mse: 175.6808 - val_loss: 176.3634 - val_mae: 9.9775 - val_mse: 176.3634\n",
            "Epoch 178/300\n",
            "2246/2246 [==============================] - 7s 3ms/step - loss: 175.7372 - mae: 10.0302 - mse: 175.7372 - val_loss: 176.1202 - val_mae: 9.9600 - val_mse: 176.1202\n",
            "Epoch 179/300\n",
            "2246/2246 [==============================] - 7s 3ms/step - loss: 175.3847 - mae: 10.0123 - mse: 175.3847 - val_loss: 177.5003 - val_mae: 9.9501 - val_mse: 177.5003\n",
            "Epoch 180/300\n",
            "2246/2246 [==============================] - 7s 3ms/step - loss: 175.7484 - mae: 10.0292 - mse: 175.7484 - val_loss: 175.4001 - val_mae: 9.9541 - val_mse: 175.4001\n",
            "Epoch 181/300\n",
            "2246/2246 [==============================] - 7s 3ms/step - loss: 175.7867 - mae: 10.0295 - mse: 175.7867 - val_loss: 175.8154 - val_mae: 9.9877 - val_mse: 175.8154\n",
            "Epoch 182/300\n",
            "2246/2246 [==============================] - 7s 3ms/step - loss: 175.7279 - mae: 10.0235 - mse: 175.7279 - val_loss: 175.8686 - val_mae: 10.0195 - val_mse: 175.8686\n",
            "Epoch 183/300\n",
            "2246/2246 [==============================] - 7s 3ms/step - loss: 175.4987 - mae: 10.0236 - mse: 175.4987 - val_loss: 176.4637 - val_mae: 10.0433 - val_mse: 176.4637\n",
            "Epoch 184/300\n",
            "2246/2246 [==============================] - 7s 3ms/step - loss: 175.4992 - mae: 10.0177 - mse: 175.4992 - val_loss: 177.6859 - val_mae: 9.9571 - val_mse: 177.6859\n",
            "Epoch 185/300\n",
            "2246/2246 [==============================] - 7s 3ms/step - loss: 175.8841 - mae: 10.0311 - mse: 175.8841 - val_loss: 176.8889 - val_mae: 10.0090 - val_mse: 176.8889\n",
            "Epoch 186/300\n",
            "2246/2246 [==============================] - 7s 3ms/step - loss: 175.7239 - mae: 10.0264 - mse: 175.7239 - val_loss: 176.2026 - val_mae: 9.9627 - val_mse: 176.2026\n",
            "Epoch 187/300\n",
            "2246/2246 [==============================] - 7s 3ms/step - loss: 175.5436 - mae: 10.0200 - mse: 175.5436 - val_loss: 177.0775 - val_mae: 9.9495 - val_mse: 177.0775\n",
            "Epoch 188/300\n",
            "2246/2246 [==============================] - 7s 3ms/step - loss: 175.5553 - mae: 10.0200 - mse: 175.5553 - val_loss: 175.7437 - val_mae: 9.9717 - val_mse: 175.7437\n",
            "Epoch 189/300\n",
            "2246/2246 [==============================] - 7s 3ms/step - loss: 175.5126 - mae: 10.0206 - mse: 175.5126 - val_loss: 175.9776 - val_mae: 10.0548 - val_mse: 175.9776\n",
            "Epoch 190/300\n",
            "2246/2246 [==============================] - 7s 3ms/step - loss: 175.7335 - mae: 10.0255 - mse: 175.7335 - val_loss: 178.1007 - val_mae: 9.9893 - val_mse: 178.1007\n",
            "Epoch 191/300\n",
            "2246/2246 [==============================] - 7s 3ms/step - loss: 175.8435 - mae: 10.0288 - mse: 175.8435 - val_loss: 176.0631 - val_mae: 9.9204 - val_mse: 176.0631\n",
            "Epoch 192/300\n",
            "2246/2246 [==============================] - 7s 3ms/step - loss: 175.5676 - mae: 10.0227 - mse: 175.5676 - val_loss: 177.1535 - val_mae: 9.9433 - val_mse: 177.1535\n",
            "Epoch 193/300\n",
            "2246/2246 [==============================] - 7s 3ms/step - loss: 175.5851 - mae: 10.0214 - mse: 175.5851 - val_loss: 175.8136 - val_mae: 9.9234 - val_mse: 175.8136\n",
            "Epoch 194/300\n",
            "2246/2246 [==============================] - 7s 3ms/step - loss: 175.6388 - mae: 10.0219 - mse: 175.6388 - val_loss: 175.6709 - val_mae: 9.9831 - val_mse: 175.6709\n",
            "Epoch 195/300\n",
            "2246/2246 [==============================] - 7s 3ms/step - loss: 175.6379 - mae: 10.0207 - mse: 175.6379 - val_loss: 176.1580 - val_mae: 10.0272 - val_mse: 176.1580\n",
            "Epoch 196/300\n",
            "2246/2246 [==============================] - 7s 3ms/step - loss: 175.5921 - mae: 10.0222 - mse: 175.5921 - val_loss: 176.2699 - val_mae: 10.0362 - val_mse: 176.2699\n",
            "Epoch 197/300\n",
            "2246/2246 [==============================] - 7s 3ms/step - loss: 175.1842 - mae: 10.0090 - mse: 175.1842 - val_loss: 176.9355 - val_mae: 9.9553 - val_mse: 176.9355\n",
            "Epoch 198/300\n",
            "2246/2246 [==============================] - 7s 3ms/step - loss: 175.2214 - mae: 10.0071 - mse: 175.2214 - val_loss: 176.4873 - val_mae: 10.0230 - val_mse: 176.4873\n",
            "Epoch 199/300\n",
            "2246/2246 [==============================] - 7s 3ms/step - loss: 175.5716 - mae: 10.0264 - mse: 175.5716 - val_loss: 175.7906 - val_mae: 9.9451 - val_mse: 175.7906\n",
            "Epoch 200/300\n",
            "2246/2246 [==============================] - 7s 3ms/step - loss: 175.6304 - mae: 10.0208 - mse: 175.6304 - val_loss: 176.1578 - val_mae: 10.0226 - val_mse: 176.1578\n",
            "Epoch 201/300\n",
            "2246/2246 [==============================] - 7s 3ms/step - loss: 175.2284 - mae: 10.0092 - mse: 175.2284 - val_loss: 176.7653 - val_mae: 9.9926 - val_mse: 176.7653\n",
            "Epoch 202/300\n",
            "2246/2246 [==============================] - 7s 3ms/step - loss: 175.3629 - mae: 10.0093 - mse: 175.3629 - val_loss: 175.8414 - val_mae: 9.9166 - val_mse: 175.8414\n",
            "Epoch 203/300\n",
            "2246/2246 [==============================] - 7s 3ms/step - loss: 175.4024 - mae: 10.0146 - mse: 175.4024 - val_loss: 175.3215 - val_mae: 9.9811 - val_mse: 175.3215\n",
            "Epoch 204/300\n",
            "2246/2246 [==============================] - 7s 3ms/step - loss: 175.4536 - mae: 10.0163 - mse: 175.4536 - val_loss: 176.3689 - val_mae: 9.9739 - val_mse: 176.3689\n",
            "Epoch 205/300\n",
            "2246/2246 [==============================] - 7s 3ms/step - loss: 175.4000 - mae: 10.0179 - mse: 175.4000 - val_loss: 176.2450 - val_mae: 10.0021 - val_mse: 176.2450\n",
            "Epoch 206/300\n",
            "2246/2246 [==============================] - 7s 3ms/step - loss: 175.3792 - mae: 10.0110 - mse: 175.3792 - val_loss: 176.0291 - val_mae: 10.0294 - val_mse: 176.0291\n",
            "Epoch 207/300\n",
            "2246/2246 [==============================] - 7s 3ms/step - loss: 175.3331 - mae: 10.0133 - mse: 175.3331 - val_loss: 176.8075 - val_mae: 9.9380 - val_mse: 176.8075\n",
            "Epoch 208/300\n",
            "2246/2246 [==============================] - 7s 3ms/step - loss: 175.2925 - mae: 10.0126 - mse: 175.2925 - val_loss: 176.4111 - val_mae: 9.9783 - val_mse: 176.4111\n",
            "Epoch 209/300\n",
            "2246/2246 [==============================] - 7s 3ms/step - loss: 175.2669 - mae: 10.0085 - mse: 175.2669 - val_loss: 177.3613 - val_mae: 10.0253 - val_mse: 177.3613\n",
            "Epoch 210/300\n",
            "2246/2246 [==============================] - 7s 3ms/step - loss: 175.2323 - mae: 10.0108 - mse: 175.2323 - val_loss: 176.0516 - val_mae: 9.9958 - val_mse: 176.0516\n",
            "Epoch 211/300\n",
            "2246/2246 [==============================] - 7s 3ms/step - loss: 175.3458 - mae: 10.0171 - mse: 175.3458 - val_loss: 177.4326 - val_mae: 10.1677 - val_mse: 177.4326\n",
            "Epoch 212/300\n",
            "2246/2246 [==============================] - 7s 3ms/step - loss: 175.2397 - mae: 10.0083 - mse: 175.2397 - val_loss: 176.3831 - val_mae: 10.1101 - val_mse: 176.3831\n",
            "Epoch 213/300\n",
            "2246/2246 [==============================] - 7s 3ms/step - loss: 175.2132 - mae: 10.0106 - mse: 175.2132 - val_loss: 176.3621 - val_mae: 9.9894 - val_mse: 176.3621\n",
            "Epoch 214/300\n",
            "2246/2246 [==============================] - 7s 3ms/step - loss: 175.4256 - mae: 10.0104 - mse: 175.4256 - val_loss: 175.9431 - val_mae: 9.9637 - val_mse: 175.9431\n",
            "Epoch 215/300\n",
            "2246/2246 [==============================] - 7s 3ms/step - loss: 175.2168 - mae: 10.0106 - mse: 175.2168 - val_loss: 176.1404 - val_mae: 10.0422 - val_mse: 176.1404\n",
            "Epoch 216/300\n",
            "2246/2246 [==============================] - 7s 3ms/step - loss: 175.1310 - mae: 10.0088 - mse: 175.1310 - val_loss: 176.8003 - val_mae: 9.9808 - val_mse: 176.8003\n",
            "Epoch 217/300\n",
            "2246/2246 [==============================] - 7s 3ms/step - loss: 175.1737 - mae: 10.0073 - mse: 175.1737 - val_loss: 176.1824 - val_mae: 9.9904 - val_mse: 176.1824\n",
            "Epoch 218/300\n",
            "2246/2246 [==============================] - 7s 3ms/step - loss: 175.3470 - mae: 10.0066 - mse: 175.3470 - val_loss: 177.3500 - val_mae: 10.1387 - val_mse: 177.3500\n",
            "Epoch 219/300\n",
            "2246/2246 [==============================] - 7s 3ms/step - loss: 175.3826 - mae: 10.0151 - mse: 175.3826 - val_loss: 176.7527 - val_mae: 9.9510 - val_mse: 176.7527\n",
            "Epoch 220/300\n",
            "2246/2246 [==============================] - 7s 3ms/step - loss: 175.1413 - mae: 10.0092 - mse: 175.1413 - val_loss: 175.4815 - val_mae: 9.9579 - val_mse: 175.4815\n",
            "Epoch 221/300\n",
            "2246/2246 [==============================] - 7s 3ms/step - loss: 175.4134 - mae: 10.0172 - mse: 175.4134 - val_loss: 176.4476 - val_mae: 9.9672 - val_mse: 176.4476\n",
            "Epoch 222/300\n",
            "2246/2246 [==============================] - 7s 3ms/step - loss: 175.4100 - mae: 10.0140 - mse: 175.4100 - val_loss: 176.0594 - val_mae: 9.9438 - val_mse: 176.0594\n",
            "Epoch 223/300\n",
            "2246/2246 [==============================] - 7s 3ms/step - loss: 175.3708 - mae: 10.0137 - mse: 175.3708 - val_loss: 175.7813 - val_mae: 9.9948 - val_mse: 175.7813\n",
            "Epoch 224/300\n",
            "2246/2246 [==============================] - 8s 3ms/step - loss: 175.1653 - mae: 10.0069 - mse: 175.1653 - val_loss: 176.1710 - val_mae: 9.9743 - val_mse: 176.1710\n",
            "Epoch 225/300\n",
            "2246/2246 [==============================] - 7s 3ms/step - loss: 175.2199 - mae: 10.0099 - mse: 175.2199 - val_loss: 175.5181 - val_mae: 9.9461 - val_mse: 175.5181\n",
            "Epoch 226/300\n",
            "2246/2246 [==============================] - 7s 3ms/step - loss: 175.5743 - mae: 10.0203 - mse: 175.5743 - val_loss: 176.0958 - val_mae: 9.9439 - val_mse: 176.0958\n",
            "Epoch 227/300\n",
            "2246/2246 [==============================] - 7s 3ms/step - loss: 175.2768 - mae: 10.0108 - mse: 175.2768 - val_loss: 176.8940 - val_mae: 9.9715 - val_mse: 176.8940\n",
            "Epoch 228/300\n",
            "2246/2246 [==============================] - 7s 3ms/step - loss: 175.3922 - mae: 10.0113 - mse: 175.3922 - val_loss: 175.2071 - val_mae: 9.9994 - val_mse: 175.2071\n",
            "Epoch 229/300\n",
            "2246/2246 [==============================] - 7s 3ms/step - loss: 175.2583 - mae: 10.0125 - mse: 175.2583 - val_loss: 176.1481 - val_mae: 9.9780 - val_mse: 176.1481\n",
            "Epoch 230/300\n",
            "2246/2246 [==============================] - 8s 4ms/step - loss: 175.1218 - mae: 10.0080 - mse: 175.1218 - val_loss: 178.2589 - val_mae: 9.9395 - val_mse: 178.2589\n",
            "Epoch 231/300\n",
            "2246/2246 [==============================] - 8s 4ms/step - loss: 175.1353 - mae: 10.0061 - mse: 175.1353 - val_loss: 176.5773 - val_mae: 10.0708 - val_mse: 176.5773\n",
            "Epoch 232/300\n",
            "2246/2246 [==============================] - 8s 4ms/step - loss: 175.3608 - mae: 10.0079 - mse: 175.3608 - val_loss: 176.3994 - val_mae: 10.0337 - val_mse: 176.3994\n",
            "Epoch 233/300\n",
            "2246/2246 [==============================] - 8s 3ms/step - loss: 175.3069 - mae: 10.0152 - mse: 175.3069 - val_loss: 176.0800 - val_mae: 9.9988 - val_mse: 176.0800\n",
            "Epoch 234/300\n",
            "2246/2246 [==============================] - 7s 3ms/step - loss: 175.1874 - mae: 10.0063 - mse: 175.1874 - val_loss: 175.7395 - val_mae: 9.9861 - val_mse: 175.7395\n",
            "Epoch 235/300\n",
            "2246/2246 [==============================] - 8s 4ms/step - loss: 175.0379 - mae: 10.0022 - mse: 175.0379 - val_loss: 175.5763 - val_mae: 9.9495 - val_mse: 175.5763\n",
            "Epoch 236/300\n",
            "2246/2246 [==============================] - 8s 3ms/step - loss: 175.3054 - mae: 10.0130 - mse: 175.3054 - val_loss: 179.9670 - val_mae: 10.3081 - val_mse: 179.9670\n",
            "Epoch 237/300\n",
            "2246/2246 [==============================] - 7s 3ms/step - loss: 175.2401 - mae: 10.0087 - mse: 175.2401 - val_loss: 176.1101 - val_mae: 9.9565 - val_mse: 176.1101\n",
            "Epoch 238/300\n",
            "2246/2246 [==============================] - 7s 3ms/step - loss: 175.0968 - mae: 10.0083 - mse: 175.0968 - val_loss: 178.2373 - val_mae: 10.1826 - val_mse: 178.2373\n",
            "Epoch 239/300\n",
            "2246/2246 [==============================] - 7s 3ms/step - loss: 175.0418 - mae: 10.0034 - mse: 175.0418 - val_loss: 175.5433 - val_mae: 9.9593 - val_mse: 175.5433\n",
            "Epoch 240/300\n",
            "2246/2246 [==============================] - 7s 3ms/step - loss: 175.3877 - mae: 10.0162 - mse: 175.3877 - val_loss: 177.0694 - val_mae: 10.0104 - val_mse: 177.0694\n",
            "Epoch 241/300\n",
            "2246/2246 [==============================] - 7s 3ms/step - loss: 175.2778 - mae: 10.0071 - mse: 175.2778 - val_loss: 177.0560 - val_mae: 10.0849 - val_mse: 177.0560\n",
            "Epoch 242/300\n",
            "2246/2246 [==============================] - 7s 3ms/step - loss: 175.4432 - mae: 10.0144 - mse: 175.4432 - val_loss: 176.3181 - val_mae: 10.0125 - val_mse: 176.3181\n",
            "Epoch 243/300\n",
            "2246/2246 [==============================] - 7s 3ms/step - loss: 175.3958 - mae: 10.0152 - mse: 175.3958 - val_loss: 176.1515 - val_mae: 9.9554 - val_mse: 176.1515\n",
            "Epoch 244/300\n",
            "2246/2246 [==============================] - 8s 3ms/step - loss: 174.9906 - mae: 9.9976 - mse: 174.9906 - val_loss: 176.0889 - val_mae: 10.0519 - val_mse: 176.0889\n",
            "Epoch 245/300\n",
            "2246/2246 [==============================] - 7s 3ms/step - loss: 175.1060 - mae: 10.0013 - mse: 175.1060 - val_loss: 177.2513 - val_mae: 9.9251 - val_mse: 177.2513\n",
            "Epoch 246/300\n",
            "2246/2246 [==============================] - 7s 3ms/step - loss: 175.0780 - mae: 10.0013 - mse: 175.0780 - val_loss: 176.1044 - val_mae: 10.0110 - val_mse: 176.1044\n",
            "Epoch 247/300\n",
            "2246/2246 [==============================] - 7s 3ms/step - loss: 175.0540 - mae: 10.0007 - mse: 175.0540 - val_loss: 175.7334 - val_mae: 10.0478 - val_mse: 175.7334\n",
            "Epoch 248/300\n",
            "2246/2246 [==============================] - 7s 3ms/step - loss: 175.1076 - mae: 10.0031 - mse: 175.1076 - val_loss: 176.4709 - val_mae: 10.0056 - val_mse: 176.4709\n",
            "Epoch 249/300\n",
            "2246/2246 [==============================] - 7s 3ms/step - loss: 175.1805 - mae: 10.0011 - mse: 175.1805 - val_loss: 175.7632 - val_mae: 10.0543 - val_mse: 175.7632\n",
            "Epoch 250/300\n",
            "2246/2246 [==============================] - 7s 3ms/step - loss: 175.1059 - mae: 10.0077 - mse: 175.1059 - val_loss: 176.4279 - val_mae: 10.0647 - val_mse: 176.4279\n",
            "Epoch 251/300\n",
            "2246/2246 [==============================] - 8s 3ms/step - loss: 175.1064 - mae: 10.0029 - mse: 175.1064 - val_loss: 177.5247 - val_mae: 9.9246 - val_mse: 177.5247\n",
            "Epoch 252/300\n",
            "2246/2246 [==============================] - 7s 3ms/step - loss: 175.1953 - mae: 10.0079 - mse: 175.1953 - val_loss: 178.1796 - val_mae: 9.9989 - val_mse: 178.1796\n",
            "Epoch 253/300\n",
            "2246/2246 [==============================] - 7s 3ms/step - loss: 175.2547 - mae: 10.0065 - mse: 175.2547 - val_loss: 175.8998 - val_mae: 9.9280 - val_mse: 175.8998\n",
            "Epoch 254/300\n",
            "2246/2246 [==============================] - 7s 3ms/step - loss: 175.0007 - mae: 10.0019 - mse: 175.0007 - val_loss: 176.0961 - val_mae: 10.0040 - val_mse: 176.0961\n",
            "Epoch 255/300\n",
            "2246/2246 [==============================] - 7s 3ms/step - loss: 175.0099 - mae: 9.9997 - mse: 175.0099 - val_loss: 177.4157 - val_mae: 9.9194 - val_mse: 177.4157\n",
            "Epoch 256/300\n",
            "2246/2246 [==============================] - 7s 3ms/step - loss: 175.1741 - mae: 10.0072 - mse: 175.1741 - val_loss: 176.2569 - val_mae: 10.0464 - val_mse: 176.2569\n",
            "Epoch 257/300\n",
            "2246/2246 [==============================] - 7s 3ms/step - loss: 174.8668 - mae: 9.9974 - mse: 174.8668 - val_loss: 177.0407 - val_mae: 10.0236 - val_mse: 177.0407\n",
            "Epoch 258/300\n",
            "2246/2246 [==============================] - 7s 3ms/step - loss: 174.9829 - mae: 9.9983 - mse: 174.9829 - val_loss: 176.8458 - val_mae: 9.9705 - val_mse: 176.8458\n",
            "Epoch 259/300\n",
            "2246/2246 [==============================] - 7s 3ms/step - loss: 175.1023 - mae: 10.0061 - mse: 175.1023 - val_loss: 177.3647 - val_mae: 9.9705 - val_mse: 177.3647\n",
            "Epoch 260/300\n",
            "2246/2246 [==============================] - 7s 3ms/step - loss: 174.9801 - mae: 10.0043 - mse: 174.9801 - val_loss: 175.9850 - val_mae: 9.9877 - val_mse: 175.9850\n",
            "Epoch 261/300\n",
            "2246/2246 [==============================] - 7s 3ms/step - loss: 175.1252 - mae: 10.0046 - mse: 175.1252 - val_loss: 175.6411 - val_mae: 9.9808 - val_mse: 175.6411\n",
            "Epoch 262/300\n",
            "2246/2246 [==============================] - 8s 3ms/step - loss: 175.1438 - mae: 10.0094 - mse: 175.1438 - val_loss: 176.3548 - val_mae: 10.0876 - val_mse: 176.3548\n",
            "Epoch 263/300\n",
            "2246/2246 [==============================] - 7s 3ms/step - loss: 175.1345 - mae: 10.0102 - mse: 175.1345 - val_loss: 176.9779 - val_mae: 9.9578 - val_mse: 176.9779\n",
            "Epoch 264/300\n",
            "2246/2246 [==============================] - 7s 3ms/step - loss: 175.1593 - mae: 10.0054 - mse: 175.1593 - val_loss: 175.9720 - val_mae: 9.9238 - val_mse: 175.9720\n",
            "Epoch 265/300\n",
            "2246/2246 [==============================] - 7s 3ms/step - loss: 174.7822 - mae: 9.9951 - mse: 174.7822 - val_loss: 175.1572 - val_mae: 9.9325 - val_mse: 175.1572\n",
            "Epoch 266/300\n",
            "2246/2246 [==============================] - 7s 3ms/step - loss: 174.8427 - mae: 9.9959 - mse: 174.8427 - val_loss: 176.9136 - val_mae: 10.0691 - val_mse: 176.9136\n",
            "Epoch 267/300\n",
            "2246/2246 [==============================] - 7s 3ms/step - loss: 175.0779 - mae: 10.0024 - mse: 175.0779 - val_loss: 176.3288 - val_mae: 9.9878 - val_mse: 176.3288\n",
            "Epoch 268/300\n",
            "2246/2246 [==============================] - 7s 3ms/step - loss: 174.8560 - mae: 9.9922 - mse: 174.8560 - val_loss: 177.6543 - val_mae: 10.0630 - val_mse: 177.6543\n",
            "Epoch 269/300\n",
            "2246/2246 [==============================] - 7s 3ms/step - loss: 175.0998 - mae: 10.0045 - mse: 175.0998 - val_loss: 176.1122 - val_mae: 9.9920 - val_mse: 176.1122\n",
            "Epoch 270/300\n",
            "2246/2246 [==============================] - 7s 3ms/step - loss: 175.0693 - mae: 10.0012 - mse: 175.0693 - val_loss: 176.5123 - val_mae: 9.9613 - val_mse: 176.5123\n",
            "Epoch 271/300\n",
            "2246/2246 [==============================] - 7s 3ms/step - loss: 174.9502 - mae: 10.0021 - mse: 174.9502 - val_loss: 177.3619 - val_mae: 10.0075 - val_mse: 177.3619\n",
            "Epoch 272/300\n",
            "2246/2246 [==============================] - 8s 3ms/step - loss: 174.8838 - mae: 9.9979 - mse: 174.8838 - val_loss: 176.6581 - val_mae: 9.9551 - val_mse: 176.6581\n",
            "Epoch 273/300\n",
            "2246/2246 [==============================] - 7s 3ms/step - loss: 174.8723 - mae: 9.9990 - mse: 174.8723 - val_loss: 175.8531 - val_mae: 9.9331 - val_mse: 175.8531\n",
            "Epoch 274/300\n",
            "2246/2246 [==============================] - 7s 3ms/step - loss: 174.6010 - mae: 9.9862 - mse: 174.6010 - val_loss: 176.0761 - val_mae: 9.9871 - val_mse: 176.0761\n",
            "Epoch 275/300\n",
            "2246/2246 [==============================] - 7s 3ms/step - loss: 174.9103 - mae: 10.0001 - mse: 174.9103 - val_loss: 177.6335 - val_mae: 10.0693 - val_mse: 177.6335\n",
            "Epoch 276/300\n",
            "2246/2246 [==============================] - 7s 3ms/step - loss: 174.8025 - mae: 9.9956 - mse: 174.8025 - val_loss: 176.4879 - val_mae: 9.9848 - val_mse: 176.4879\n",
            "Epoch 277/300\n",
            "2246/2246 [==============================] - 7s 3ms/step - loss: 174.9762 - mae: 9.9979 - mse: 174.9762 - val_loss: 176.2425 - val_mae: 10.0203 - val_mse: 176.2425\n",
            "Epoch 278/300\n",
            "2246/2246 [==============================] - 7s 3ms/step - loss: 174.8544 - mae: 10.0006 - mse: 174.8544 - val_loss: 176.8273 - val_mae: 9.9596 - val_mse: 176.8273\n",
            "Epoch 279/300\n",
            "2246/2246 [==============================] - 7s 3ms/step - loss: 174.7262 - mae: 9.9938 - mse: 174.7262 - val_loss: 177.8304 - val_mae: 10.0689 - val_mse: 177.8304\n",
            "Epoch 280/300\n",
            "2246/2246 [==============================] - 7s 3ms/step - loss: 174.9173 - mae: 10.0003 - mse: 174.9173 - val_loss: 176.9184 - val_mae: 10.0229 - val_mse: 176.9184\n",
            "Epoch 281/300\n",
            "2246/2246 [==============================] - 7s 3ms/step - loss: 174.8851 - mae: 10.0023 - mse: 174.8851 - val_loss: 175.8028 - val_mae: 10.0484 - val_mse: 175.8028\n",
            "Epoch 282/300\n",
            "2246/2246 [==============================] - 8s 3ms/step - loss: 175.0298 - mae: 10.0034 - mse: 175.0298 - val_loss: 177.3836 - val_mae: 9.9928 - val_mse: 177.3836\n",
            "Epoch 283/300\n",
            "2246/2246 [==============================] - 7s 3ms/step - loss: 175.0270 - mae: 9.9997 - mse: 175.0270 - val_loss: 177.3457 - val_mae: 9.9666 - val_mse: 177.3457\n",
            "Epoch 284/300\n",
            "2246/2246 [==============================] - 7s 3ms/step - loss: 174.9384 - mae: 10.0009 - mse: 174.9384 - val_loss: 176.3256 - val_mae: 9.9977 - val_mse: 176.3256\n",
            "Epoch 285/300\n",
            "2246/2246 [==============================] - 8s 4ms/step - loss: 174.7330 - mae: 9.9934 - mse: 174.7330 - val_loss: 176.0426 - val_mae: 9.9501 - val_mse: 176.0426\n",
            "Epoch 286/300\n",
            "2246/2246 [==============================] - 7s 3ms/step - loss: 174.7277 - mae: 9.9982 - mse: 174.7277 - val_loss: 176.5012 - val_mae: 10.0027 - val_mse: 176.5012\n",
            "Epoch 287/300\n",
            "2246/2246 [==============================] - 7s 3ms/step - loss: 174.8150 - mae: 10.0006 - mse: 174.8150 - val_loss: 176.9841 - val_mae: 10.0129 - val_mse: 176.9841\n",
            "Epoch 288/300\n",
            "2246/2246 [==============================] - 7s 3ms/step - loss: 174.8542 - mae: 9.9974 - mse: 174.8542 - val_loss: 175.3123 - val_mae: 10.0075 - val_mse: 175.3123\n",
            "Epoch 289/300\n",
            "2246/2246 [==============================] - 8s 3ms/step - loss: 174.8236 - mae: 9.9989 - mse: 174.8236 - val_loss: 175.4742 - val_mae: 9.9905 - val_mse: 175.4742\n",
            "Epoch 290/300\n",
            "2246/2246 [==============================] - 7s 3ms/step - loss: 174.7587 - mae: 9.9964 - mse: 174.7587 - val_loss: 175.3054 - val_mae: 9.9894 - val_mse: 175.3054\n",
            "Epoch 291/300\n",
            "2246/2246 [==============================] - 7s 3ms/step - loss: 174.8150 - mae: 9.9940 - mse: 174.8150 - val_loss: 176.2128 - val_mae: 9.9484 - val_mse: 176.2128\n",
            "Epoch 292/300\n",
            "2246/2246 [==============================] - 8s 3ms/step - loss: 175.1419 - mae: 10.0003 - mse: 175.1419 - val_loss: 177.5247 - val_mae: 9.9413 - val_mse: 177.5247\n",
            "Epoch 293/300\n",
            "2246/2246 [==============================] - 7s 3ms/step - loss: 174.8375 - mae: 10.0000 - mse: 174.8375 - val_loss: 175.6430 - val_mae: 9.9597 - val_mse: 175.6430\n",
            "Epoch 294/300\n",
            "2246/2246 [==============================] - 7s 3ms/step - loss: 174.7169 - mae: 9.9986 - mse: 174.7169 - val_loss: 175.6049 - val_mae: 9.9938 - val_mse: 175.6049\n",
            "Epoch 295/300\n",
            "2246/2246 [==============================] - 7s 3ms/step - loss: 174.8886 - mae: 9.9975 - mse: 174.8886 - val_loss: 176.5176 - val_mae: 10.0303 - val_mse: 176.5176\n",
            "Epoch 296/300\n",
            "2246/2246 [==============================] - 7s 3ms/step - loss: 174.6317 - mae: 9.9965 - mse: 174.6317 - val_loss: 175.6020 - val_mae: 9.9908 - val_mse: 175.6020\n",
            "Epoch 297/300\n",
            "2246/2246 [==============================] - 7s 3ms/step - loss: 174.7154 - mae: 9.9947 - mse: 174.7154 - val_loss: 175.7520 - val_mae: 9.9836 - val_mse: 175.7520\n",
            "Epoch 298/300\n",
            "2246/2246 [==============================] - 7s 3ms/step - loss: 174.7952 - mae: 9.9961 - mse: 174.7952 - val_loss: 176.2364 - val_mae: 9.9682 - val_mse: 176.2364\n",
            "Epoch 299/300\n",
            "2246/2246 [==============================] - 7s 3ms/step - loss: 174.9392 - mae: 10.0000 - mse: 174.9392 - val_loss: 175.8304 - val_mae: 10.0428 - val_mse: 175.8304\n",
            "Epoch 300/300\n",
            "2246/2246 [==============================] - 7s 3ms/step - loss: 174.8046 - mae: 9.9929 - mse: 174.8046 - val_loss: 175.1382 - val_mae: 9.9546 - val_mse: 175.1382\n"
          ]
        }
      ],
      "source": [
        "# 모델 학습하기\r\n",
        "history222 = model.fit(x_train,y_train,\r\n",
        "                    batch_size=128,\r\n",
        "                    epochs = 300,\r\n",
        "                    validation_data = (x_val, y_val))"
      ]
    },
    {
      "cell_type": "code",
      "execution_count": 183,
      "metadata": {},
      "outputs": [
        {
          "name": "stdout",
          "output_type": "stream",
          "text": [
            "5501/5501 [==============================] - 7s 1ms/step - loss: 175.6070 - mae: 9.9569 - mse: 175.6070\n"
          ]
        },
        {
          "data": {
            "text/plain": [
              "[175.60704040527344, 9.95689582824707, 175.60704040527344]"
            ]
          },
          "execution_count": 183,
          "metadata": {},
          "output_type": "execute_result"
        }
      ],
      "source": [
        "model.evaluate(X_test, y_test)"
      ]
    },
    {
      "cell_type": "code",
      "execution_count": 185,
      "metadata": {},
      "outputs": [
        {
          "data": {
            "image/png": "[encoded data removed]",
            "text/plain": [
              "<Figure size 720x360 with 2 Axes>"
            ]
          },
          "metadata": {
            "needs_background": "light"
          },
          "output_type": "display_data"
        },
        {
          "data": {
            "text/plain": [
              "<Figure size 432x288 with 0 Axes>"
            ]
          },
          "metadata": {},
          "output_type": "display_data"
        }
      ],
      "source": [
        "import matplotlib.pyplot as plt\r\n",
        "\r\n",
        "his_dict = history222.history\r\n",
        "mse = his_dict['mse']\r\n",
        "val_mse = his_dict['val_mse'] # 검증 데이터가 있는 경우 ‘val_’ 수식어가 붙습니다.\r\n",
        "\r\n",
        "epochs = range(1, len(mse) + 1)\r\n",
        "fig = plt.figure(figsize = (10, 5))\r\n",
        "\r\n",
        "# 훈련 및 검증 손실 그리기\r\n",
        "ax1 = fig.add_subplot(1, 2, 1)\r\n",
        "ax1.plot(epochs, mse, color = 'blue', label = 'train_mse')\r\n",
        "ax1.plot(epochs, val_mse, color = 'orange', label = 'val_mse')\r\n",
        "ax1.set_title('train and val mse')\r\n",
        "ax1.set_xlabel('epochs')\r\n",
        "ax1.set_ylabel('mse')\r\n",
        "ax1.legend()\r\n",
        "\r\n",
        "mae = his_dict['mae']\r\n",
        "val_mae = his_dict['val_mae']\r\n",
        "\r\n",
        "# 훈련 및 검증 정확도 그리기\r\n",
        "ax2 = fig.add_subplot(1, 2, 2)\r\n",
        "ax2.plot(epochs, mae, color = 'blue', label = 'train_mae')\r\n",
        "ax2.plot(epochs, val_mae, color = 'orange', label = 'val_mae')\r\n",
        "ax2.set_title('train and val mae')\r\n",
        "ax2.set_xlabel('epochs')\r\n",
        "ax2.set_ylabel('mae')\r\n",
        "ax2.legend()\r\n",
        "\r\n",
        "plt.show()\r\n",
        "plt.savefig('nn_model.png', dpi = 400)"
      ]
    },
    {
      "cell_type": "code",
      "execution_count": 186,
      "metadata": {},
      "outputs": [
        {
          "data": {
            "image/png": "[encoded data removed]",
            "text/plain": [
              "<Figure size 432x288 with 1 Axes>"
            ]
          },
          "metadata": {
            "needs_background": "light"
          },
          "output_type": "display_data"
        }
      ],
      "source": [
        "test_predictions = model.predict(X_test).flatten()\r\n",
        "\r\n",
        "plt.scatter(y_test, test_predictions)\r\n",
        "plt.xlabel('True Values [popularity]')\r\n",
        "plt.ylabel('Predictions [popularity]')\r\n",
        "plt.axis('equal')\r\n",
        "plt.axis('square')\r\n",
        "plt.xlim([0,plt.xlim()[1]])\r\n",
        "plt.ylim([0,plt.ylim()[1]])\r\n",
        "_ = plt.plot([-100, 100], [-100, 100])"
      ]
    },
    {
      "cell_type": "code",
      "execution_count": 187,
      "metadata": {},
      "outputs": [
        {
          "data": {
            "text/plain": [
              "175.6067537535339"
            ]
          },
          "execution_count": 187,
          "metadata": {},
          "output_type": "execute_result"
        }
      ],
      "source": [
        "mse_nn = mean_squared_error(y_test, test_predictions)\r\n",
        "mse_nn"
      ]
    },
    {
      "cell_type": "code",
      "execution_count": null,
      "metadata": {},
      "outputs": [],
      "source": []
    }
  ],
  "metadata": {
    "accelerator": "GPU",
    "colab": {
      "collapsed_sections": [],
      "name": "Spotify EDA.ipynb",
      "provenance": []
    },
    "interpreter": {
      "hash": "97ae724bfa85b9b34df7982b8bb8c7216f435b92902d749e4263f71162bea840"
    },
    "kernelspec": {
      "display_name": "Python 3.8.8 64-bit ('base': conda)",
      "name": "python3"
    },
    "language_info": {
      "codemirror_mode": {
        "name": "ipython",
        "version": 3
      },
      "file_extension": ".py",
      "mimetype": "text/x-python",
      "name": "python",
      "nbconvert_exporter": "python",
      "pygments_lexer": "ipython3",
      "version": "3.8.8"
    },
    "orig_nbformat": 4
  },
  "nbformat": 4,
  "nbformat_minor": 0
}