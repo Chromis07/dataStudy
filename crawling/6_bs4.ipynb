{
 "cells": [
  {
   "cell_type": "code",
   "execution_count": 2,
   "source": [
    "import requests\r\n",
    "from bs4 import BeautifulSoup"
   ],
   "outputs": [],
   "metadata": {}
  },
  {
   "cell_type": "code",
   "execution_count": 4,
   "source": [
    "url = \"https://comic.naver.com/webtoon/weekday\"\r\n",
    "res = requests.get(url)\r\n",
    "res.raise_for_status()"
   ],
   "outputs": [],
   "metadata": {}
  },
  {
   "cell_type": "code",
   "execution_count": 5,
   "source": [
    "soup = BeautifulSoup(res.text, \"lxml\")"
   ],
   "outputs": [],
   "metadata": {}
  },
  {
   "cell_type": "code",
   "execution_count": 7,
   "source": [
    "print(soup.title)\r\n",
    "print(soup.title.get_text())"
   ],
   "outputs": [
    {
     "output_type": "stream",
     "name": "stdout",
     "text": [
      "<title>네이버 만화 &gt; 요일별  웹툰 &gt; 전체웹툰</title>\n",
      "네이버 만화 > 요일별  웹툰 > 전체웹툰\n"
     ]
    }
   ],
   "metadata": {}
  },
  {
   "cell_type": "code",
   "execution_count": 10,
   "source": [
    "print(soup.a) # 처음으로 발견한 a 태그 내용 반환\r\n",
    "print(soup.a.attrs) # a element의 속성정보 반환\r\n",
    "print(soup.a[\"href\"]) # a element의 href 속성 '값' 반환"
   ],
   "outputs": [
    {
     "output_type": "stream",
     "name": "stdout",
     "text": [
      "<a href=\"#menu\" onclick=\"document.getElementById('menu').tabIndex=-1;document.getElementById('menu').focus();return false;\"><span>메인 메뉴로 바로가기</span></a>\n",
      "{'href': '#menu', 'onclick': \"document.getElementById('menu').tabIndex=-1;document.getElementById('menu').focus();return false;\"}\n",
      "#menu\n"
     ]
    }
   ],
   "metadata": {}
  },
  {
   "cell_type": "code",
   "execution_count": 12,
   "source": [
    "print(soup.find(\"a\", attrs={\"class\" : \"Nbtn_upload\"}))"
   ],
   "outputs": [
    {
     "output_type": "stream",
     "name": "stdout",
     "text": [
      "<a class=\"Nbtn_upload\" href=\"/mypage/myActivity\" onclick=\"nclk_v2(event,'olk.upload');\">웹툰 올리기</a>\n"
     ]
    }
   ],
   "metadata": {}
  },
  {
   "cell_type": "code",
   "execution_count": 13,
   "source": [
    "print(soup.find(attrs={\"class\" : \"Nbtn_upload\"}))"
   ],
   "outputs": [
    {
     "output_type": "stream",
     "name": "stdout",
     "text": [
      "<a class=\"Nbtn_upload\" href=\"/mypage/myActivity\" onclick=\"nclk_v2(event,'olk.upload');\">웹툰 올리기</a>\n"
     ]
    }
   ],
   "metadata": {}
  },
  {
   "cell_type": "code",
   "execution_count": 14,
   "source": [
    "print(soup.find(\"li\", attrs={\"class\" : \"rank01\"}))"
   ],
   "outputs": [
    {
     "output_type": "stream",
     "name": "stdout",
     "text": [
      "<li class=\"rank01\">\n",
      "<a href=\"/webtoon/detail?titleId=641253&amp;no=349\" onclick=\"nclk_v2(event,'rnk*p.cont','641253','1')\" title=\"외모지상주의-349화 정상회담 [02]\">외모지상주의-349화 정상회담 [02]</a>\n",
      "<span class=\"rankBox\">\n",
      "<img alt=\"변동없음\" height=\"10\" src=\"https://ssl.pstatic.net/static/comic/images/migration/common/arrow_no.gif\" title=\"변동없음\" width=\"7\"/> 0\n",
      "\t\t\t\t\t\t\n",
      "\t\t\t\t\t\n",
      "\t\t\t\t</span>\n",
      "</li>\n"
     ]
    }
   ],
   "metadata": {}
  },
  {
   "cell_type": "code",
   "execution_count": 15,
   "source": [
    "rank1 = soup.find(\"li\", attrs={\"class\" : \"rank01\"})\r\n",
    "print(rank1.a)"
   ],
   "outputs": [
    {
     "output_type": "stream",
     "name": "stdout",
     "text": [
      "<a href=\"/webtoon/detail?titleId=641253&amp;no=349\" onclick=\"nclk_v2(event,'rnk*p.cont','641253','1')\" title=\"외모지상주의-349화 정상회담 [02]\">외모지상주의-349화 정상회담 [02]</a>\n"
     ]
    }
   ],
   "metadata": {}
  },
  {
   "cell_type": "code",
   "execution_count": 17,
   "source": [
    "print(rank1.a.get_text())"
   ],
   "outputs": [
    {
     "output_type": "stream",
     "name": "stdout",
     "text": [
      "외모지상주의-349화 정상회담 [02]\n"
     ]
    }
   ],
   "metadata": {}
  },
  {
   "cell_type": "code",
   "execution_count": 21,
   "source": [
    "rank2 = rank1.next_sibling.next_sibling # 개행 태그때문에 한 번 더 함\r\n",
    "print(rank2) # previous도 사용 가능"
   ],
   "outputs": [
    {
     "output_type": "stream",
     "name": "stdout",
     "text": [
      "<li class=\"rank02\">\n",
      "<a href=\"/webtoon/detail?titleId=772764&amp;no=10\" onclick=\"nclk_v2(event,'rnk*p.cont','772764','2')\" title=\"죽지 않으려면-10화\">죽지 않으려면-10화</a>\n",
      "<span class=\"rankBox\">\n",
      "<img alt=\"변동없음\" height=\"10\" src=\"https://ssl.pstatic.net/static/comic/images/migration/common/arrow_no.gif\" title=\"변동없음\" width=\"7\"/> 0\n",
      "\t\t\t\t\t\t\n",
      "\t\t\t\t\t\n",
      "\t\t\t\t</span>\n",
      "</li>\n"
     ]
    }
   ],
   "metadata": {}
  },
  {
   "cell_type": "code",
   "execution_count": 22,
   "source": [
    "rank3 = rank2.next_sibling.next_sibling\r\n",
    "print(rank3.a.get_text())"
   ],
   "outputs": [
    {
     "output_type": "stream",
     "name": "stdout",
     "text": [
      "갓 오브 하이스쿨-523화\n"
     ]
    }
   ],
   "metadata": {}
  },
  {
   "cell_type": "code",
   "execution_count": 23,
   "source": [
    "print(rank1.parent)"
   ],
   "outputs": [
    {
     "output_type": "stream",
     "name": "stdout",
     "text": [
      "<ol class=\"asideBoxRank\" id=\"realTimeRankFavorite\">\n",
      "<li class=\"rank01\">\n",
      "<a href=\"/webtoon/detail?titleId=641253&amp;no=349\" onclick=\"nclk_v2(event,'rnk*p.cont','641253','1')\" title=\"외모지상주의-349화 정상회담 [02]\">외모지상주의-349화 정상회담 [02]</a>\n",
      "<span class=\"rankBox\">\n",
      "<img alt=\"변동없음\" height=\"10\" src=\"https://ssl.pstatic.net/static/comic/images/migration/common/arrow_no.gif\" title=\"변동없음\" width=\"7\"/> 0\n",
      "\t\t\t\t\t\t\n",
      "\t\t\t\t\t\n",
      "\t\t\t\t</span>\n",
      "</li>\n",
      "<li class=\"rank02\">\n",
      "<a href=\"/webtoon/detail?titleId=772764&amp;no=10\" onclick=\"nclk_v2(event,'rnk*p.cont','772764','2')\" title=\"죽지 않으려면-10화\">죽지 않으려면-10화</a>\n",
      "<span class=\"rankBox\">\n",
      "<img alt=\"변동없음\" height=\"10\" src=\"https://ssl.pstatic.net/static/comic/images/migration/common/arrow_no.gif\" title=\"변동없음\" width=\"7\"/> 0\n",
      "\t\t\t\t\t\t\n",
      "\t\t\t\t\t\n",
      "\t\t\t\t</span>\n",
      "</li>\n",
      "<li class=\"rank03\">\n",
      "<a href=\"/webtoon/detail?titleId=318995&amp;no=527\" onclick=\"nclk_v2(event,'rnk*p.cont','318995','3')\" title=\"갓 오브 하이스쿨-523화\">갓 오브 하이스쿨-523화</a>\n",
      "<span class=\"rankBox\">\n",
      "<img alt=\"변동없음\" height=\"10\" src=\"https://ssl.pstatic.net/static/comic/images/migration/common/arrow_no.gif\" title=\"변동없음\" width=\"7\"/> 0\n",
      "\t\t\t\t\t\t\n",
      "\t\t\t\t\t\n",
      "\t\t\t\t</span>\n",
      "</li>\n",
      "<li class=\"rank04\">\n",
      "<a href=\"/webtoon/detail?titleId=712362&amp;no=133\" onclick=\"nclk_v2(event,'rnk*p.cont','712362','4')\" title=\"개를 낳았다-시즌2 62화\">개를 낳았다-시즌2 62화</a>\n",
      "<span class=\"rankBox\">\n",
      "<img alt=\"변동없음\" height=\"10\" src=\"https://ssl.pstatic.net/static/comic/images/migration/common/arrow_no.gif\" title=\"변동없음\" width=\"7\"/> 0\n",
      "\t\t\t\t\t\t\n",
      "\t\t\t\t\t\n",
      "\t\t\t\t</span>\n",
      "</li>\n",
      "<li class=\"rank05\">\n",
      "<a href=\"/webtoon/detail?titleId=725586&amp;no=124\" onclick=\"nclk_v2(event,'rnk*p.cont','725586','5')\" title=\"1초-123화 체력 테스트 (6)\">1초-123화 체력 테스트 (6)</a>\n",
      "<span class=\"rankBox\">\n",
      "<img alt=\"변동없음\" height=\"10\" src=\"https://ssl.pstatic.net/static/comic/images/migration/common/arrow_no.gif\" title=\"변동없음\" width=\"7\"/> 0\n",
      "\t\t\t\t\t\t\n",
      "\t\t\t\t\t\n",
      "\t\t\t\t</span>\n",
      "</li>\n",
      "<li class=\"rank06\">\n",
      "<a href=\"/webtoon/detail?titleId=773476&amp;no=7\" onclick=\"nclk_v2(event,'rnk*p.cont','773476','6')\" title=\"서울역 드루이드-7화\">서울역 드루이드-7화</a>\n",
      "<span class=\"rankBox\">\n",
      "<img alt=\"변동없음\" height=\"10\" src=\"https://ssl.pstatic.net/static/comic/images/migration/common/arrow_no.gif\" title=\"변동없음\" width=\"7\"/> 0\n",
      "\t\t\t\t\t\t\n",
      "\t\t\t\t\t\n",
      "\t\t\t\t</span>\n",
      "</li>\n",
      "<li class=\"rank07\">\n",
      "<a href=\"/webtoon/detail?titleId=753478&amp;no=46\" onclick=\"nclk_v2(event,'rnk*p.cont','753478','7')\" title=\"데드퀸-46화\">데드퀸-46화</a>\n",
      "<span class=\"rankBox\">\n",
      "<img alt=\"변동없음\" height=\"10\" src=\"https://ssl.pstatic.net/static/comic/images/migration/common/arrow_no.gif\" title=\"변동없음\" width=\"7\"/> 0\n",
      "\t\t\t\t\t\t\n",
      "\t\t\t\t\t\n",
      "\t\t\t\t</span>\n",
      "</li>\n",
      "<li class=\"rank08\">\n",
      "<a href=\"/webtoon/detail?titleId=748534&amp;no=57\" onclick=\"nclk_v2(event,'rnk*p.cont','748534','8')\" title=\"구남친이 내게 반했다-57화\">구남친이 내게 반했다-57화</a>\n",
      "<span class=\"rankBox\">\n",
      "<img alt=\"변동없음\" height=\"10\" src=\"https://ssl.pstatic.net/static/comic/images/migration/common/arrow_no.gif\" title=\"변동없음\" width=\"7\"/> 0\n",
      "\t\t\t\t\t\t\n",
      "\t\t\t\t\t\n",
      "\t\t\t\t</span>\n",
      "</li>\n",
      "<li class=\"rank09\">\n",
      "<a href=\"/webtoon/detail?titleId=773916&amp;no=6\" onclick=\"nclk_v2(event,'rnk*p.cont','773916','9')\" title=\"말년용사-6화\">말년용사-6화</a>\n",
      "<span class=\"rankBox\">\n",
      "<img alt=\"변동없음\" height=\"10\" src=\"https://ssl.pstatic.net/static/comic/images/migration/common/arrow_no.gif\" title=\"변동없음\" width=\"7\"/> 0\n",
      "\t\t\t\t\t\t\n",
      "\t\t\t\t\t\n",
      "\t\t\t\t</span>\n",
      "</li>\n",
      "<li class=\"rank10\">\n",
      "<a href=\"/webtoon/detail?titleId=700844&amp;no=191\" onclick=\"nclk_v2(event,'rnk*p.cont','700844','10')\" title=\"걸어서 30분-191화 드러난 거짓말\">걸어서 30분-191화 드러난 거짓말</a>\n",
      "<span class=\"rankBox\">\n",
      "<img alt=\"변동없음\" height=\"10\" src=\"https://ssl.pstatic.net/static/comic/images/migration/common/arrow_no.gif\" title=\"변동없음\" width=\"7\"/> 0\n",
      "\t\t\t\t\t\t\n",
      "\t\t\t\t\t\n",
      "\t\t\t\t</span>\n",
      "</li>\n",
      "</ol>\n"
     ]
    }
   ],
   "metadata": {}
  },
  {
   "cell_type": "code",
   "execution_count": 24,
   "source": [
    "rank2 = rank1.find_next_sibling(\"li\")\r\n",
    "print(rank2.a.get_text())"
   ],
   "outputs": [
    {
     "output_type": "stream",
     "name": "stdout",
     "text": [
      "죽지 않으려면-10화\n"
     ]
    }
   ],
   "metadata": {}
  },
  {
   "cell_type": "code",
   "execution_count": 25,
   "source": [
    "rank3 = rank2.find_next_sibling(\"li\")\r\n",
    "print(rank3.a.get_text())"
   ],
   "outputs": [
    {
     "output_type": "stream",
     "name": "stdout",
     "text": [
      "갓 오브 하이스쿨-523화\n"
     ]
    }
   ],
   "metadata": {}
  },
  {
   "cell_type": "code",
   "execution_count": 30,
   "source": [
    "print(rank1.find_next_siblings(\"li\"))"
   ],
   "outputs": [
    {
     "output_type": "stream",
     "name": "stdout",
     "text": [
      "[<li class=\"rank02\">\n",
      "<a href=\"/webtoon/detail?titleId=772764&amp;no=10\" onclick=\"nclk_v2(event,'rnk*p.cont','772764','2')\" title=\"죽지 않으려면-10화\">죽지 않으려면-10화</a>\n",
      "<span class=\"rankBox\">\n",
      "<img alt=\"변동없음\" height=\"10\" src=\"https://ssl.pstatic.net/static/comic/images/migration/common/arrow_no.gif\" title=\"변동없음\" width=\"7\"/> 0\n",
      "\t\t\t\t\t\t\n",
      "\t\t\t\t\t\n",
      "\t\t\t\t</span>\n",
      "</li>, <li class=\"rank03\">\n",
      "<a href=\"/webtoon/detail?titleId=318995&amp;no=527\" onclick=\"nclk_v2(event,'rnk*p.cont','318995','3')\" title=\"갓 오브 하이스쿨-523화\">갓 오브 하이스쿨-523화</a>\n",
      "<span class=\"rankBox\">\n",
      "<img alt=\"변동없음\" height=\"10\" src=\"https://ssl.pstatic.net/static/comic/images/migration/common/arrow_no.gif\" title=\"변동없음\" width=\"7\"/> 0\n",
      "\t\t\t\t\t\t\n",
      "\t\t\t\t\t\n",
      "\t\t\t\t</span>\n",
      "</li>, <li class=\"rank04\">\n",
      "<a href=\"/webtoon/detail?titleId=712362&amp;no=133\" onclick=\"nclk_v2(event,'rnk*p.cont','712362','4')\" title=\"개를 낳았다-시즌2 62화\">개를 낳았다-시즌2 62화</a>\n",
      "<span class=\"rankBox\">\n",
      "<img alt=\"변동없음\" height=\"10\" src=\"https://ssl.pstatic.net/static/comic/images/migration/common/arrow_no.gif\" title=\"변동없음\" width=\"7\"/> 0\n",
      "\t\t\t\t\t\t\n",
      "\t\t\t\t\t\n",
      "\t\t\t\t</span>\n",
      "</li>, <li class=\"rank05\">\n",
      "<a href=\"/webtoon/detail?titleId=725586&amp;no=124\" onclick=\"nclk_v2(event,'rnk*p.cont','725586','5')\" title=\"1초-123화 체력 테스트 (6)\">1초-123화 체력 테스트 (6)</a>\n",
      "<span class=\"rankBox\">\n",
      "<img alt=\"변동없음\" height=\"10\" src=\"https://ssl.pstatic.net/static/comic/images/migration/common/arrow_no.gif\" title=\"변동없음\" width=\"7\"/> 0\n",
      "\t\t\t\t\t\t\n",
      "\t\t\t\t\t\n",
      "\t\t\t\t</span>\n",
      "</li>, <li class=\"rank06\">\n",
      "<a href=\"/webtoon/detail?titleId=773476&amp;no=7\" onclick=\"nclk_v2(event,'rnk*p.cont','773476','6')\" title=\"서울역 드루이드-7화\">서울역 드루이드-7화</a>\n",
      "<span class=\"rankBox\">\n",
      "<img alt=\"변동없음\" height=\"10\" src=\"https://ssl.pstatic.net/static/comic/images/migration/common/arrow_no.gif\" title=\"변동없음\" width=\"7\"/> 0\n",
      "\t\t\t\t\t\t\n",
      "\t\t\t\t\t\n",
      "\t\t\t\t</span>\n",
      "</li>, <li class=\"rank07\">\n",
      "<a href=\"/webtoon/detail?titleId=753478&amp;no=46\" onclick=\"nclk_v2(event,'rnk*p.cont','753478','7')\" title=\"데드퀸-46화\">데드퀸-46화</a>\n",
      "<span class=\"rankBox\">\n",
      "<img alt=\"변동없음\" height=\"10\" src=\"https://ssl.pstatic.net/static/comic/images/migration/common/arrow_no.gif\" title=\"변동없음\" width=\"7\"/> 0\n",
      "\t\t\t\t\t\t\n",
      "\t\t\t\t\t\n",
      "\t\t\t\t</span>\n",
      "</li>, <li class=\"rank08\">\n",
      "<a href=\"/webtoon/detail?titleId=748534&amp;no=57\" onclick=\"nclk_v2(event,'rnk*p.cont','748534','8')\" title=\"구남친이 내게 반했다-57화\">구남친이 내게 반했다-57화</a>\n",
      "<span class=\"rankBox\">\n",
      "<img alt=\"변동없음\" height=\"10\" src=\"https://ssl.pstatic.net/static/comic/images/migration/common/arrow_no.gif\" title=\"변동없음\" width=\"7\"/> 0\n",
      "\t\t\t\t\t\t\n",
      "\t\t\t\t\t\n",
      "\t\t\t\t</span>\n",
      "</li>, <li class=\"rank09\">\n",
      "<a href=\"/webtoon/detail?titleId=773916&amp;no=6\" onclick=\"nclk_v2(event,'rnk*p.cont','773916','9')\" title=\"말년용사-6화\">말년용사-6화</a>\n",
      "<span class=\"rankBox\">\n",
      "<img alt=\"변동없음\" height=\"10\" src=\"https://ssl.pstatic.net/static/comic/images/migration/common/arrow_no.gif\" title=\"변동없음\" width=\"7\"/> 0\n",
      "\t\t\t\t\t\t\n",
      "\t\t\t\t\t\n",
      "\t\t\t\t</span>\n",
      "</li>, <li class=\"rank10\">\n",
      "<a href=\"/webtoon/detail?titleId=700844&amp;no=191\" onclick=\"nclk_v2(event,'rnk*p.cont','700844','10')\" title=\"걸어서 30분-191화 드러난 거짓말\">걸어서 30분-191화 드러난 거짓말</a>\n",
      "<span class=\"rankBox\">\n",
      "<img alt=\"변동없음\" height=\"10\" src=\"https://ssl.pstatic.net/static/comic/images/migration/common/arrow_no.gif\" title=\"변동없음\" width=\"7\"/> 0\n",
      "\t\t\t\t\t\t\n",
      "\t\t\t\t\t\n",
      "\t\t\t\t</span>\n",
      "</li>]\n"
     ]
    }
   ],
   "metadata": {}
  },
  {
   "cell_type": "code",
   "execution_count": 31,
   "source": [
    "webtoon = soup.find(\"a\", text=\"죽지 않으려면-10화\")\r\n",
    "print(webtoon)"
   ],
   "outputs": [
    {
     "output_type": "stream",
     "name": "stdout",
     "text": [
      "<a href=\"/webtoon/detail?titleId=772764&amp;no=10\" onclick=\"nclk_v2(event,'rnk*p.cont','772764','2')\" title=\"죽지 않으려면-10화\">죽지 않으려면-10화</a>\n"
     ]
    }
   ],
   "metadata": {}
  }
 ],
 "metadata": {
  "orig_nbformat": 4,
  "language_info": {
   "name": "python",
   "version": "3.7.10",
   "mimetype": "text/x-python",
   "codemirror_mode": {
    "name": "ipython",
    "version": 3
   },
   "pygments_lexer": "ipython3",
   "nbconvert_exporter": "python",
   "file_extension": ".py"
  },
  "kernelspec": {
   "name": "python3",
   "display_name": "Python 3.7.10 64-bit ('py37': conda)"
  },
  "interpreter": {
   "hash": "9dcac9ecd627181a876e081bba3edef39bedaedf8b29af9846361eb47efe5c01"
  }
 },
 "nbformat": 4,
 "nbformat_minor": 2
}