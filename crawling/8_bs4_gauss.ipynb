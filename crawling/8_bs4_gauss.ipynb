{
 "cells": [
  {
   "cell_type": "code",
   "execution_count": 1,
   "source": [
    "import requests\r\n",
    "from bs4 import BeautifulSoup\r\n",
    "\r\n",
    "url = \"https://comic.naver.com/webtoon/list?titleId=675554\"\r\n",
    "res = requests.get(url)\r\n",
    "res.raise_for_status()\r\n",
    "\r\n",
    "soup = BeautifulSoup(res.text, \"lxml\")"
   ],
   "outputs": [],
   "metadata": {}
  },
  {
   "cell_type": "code",
   "execution_count": 9,
   "source": [
    "cartoons = soup.find_all(\"td\", attrs={\"class\" : \"title\"})\r\n",
    "title = cartoons[0].a.get_text()\r\n",
    "link = cartoons[0].a[\"href\"]\r\n",
    "print(title)\r\n",
    "print(\"https://comic.naver.com\"+link)"
   ],
   "outputs": [
    {
     "output_type": "stream",
     "name": "stdout",
     "text": [
      "후기 + 10년 후 가우스\n",
      "https://comic.naver.com/webtoon/detail?titleId=675554&no=911&weekday=mon\n"
     ]
    }
   ],
   "metadata": {}
  },
  {
   "cell_type": "code",
   "execution_count": 13,
   "source": [
    "# 만화 제목 + 링크 가져오기\r\n",
    "for cartoon in cartoons :\r\n",
    "    title = cartoon.a.get_text()\r\n",
    "    link = \"https://comic.naver.com\"+cartoon.a[\"href\"]\r\n",
    "    print(title,\"\\n\",link)"
   ],
   "outputs": [
    {
     "output_type": "stream",
     "name": "stdout",
     "text": [
      "후기 + 10년 후 가우스 \n",
      " https://comic.naver.com/webtoon/detail?titleId=675554&no=911&weekday=mon\n",
      "시즌4 430화 내일 봐요 \n",
      " https://comic.naver.com/webtoon/detail?titleId=675554&no=910&weekday=mon\n",
      "시즌4 429화 잠행 \n",
      " https://comic.naver.com/webtoon/detail?titleId=675554&no=909&weekday=mon\n",
      "시즌4 428화 추억 \n",
      " https://comic.naver.com/webtoon/detail?titleId=675554&no=908&weekday=mon\n",
      "시즌4 427화 섬세한사람 \n",
      " https://comic.naver.com/webtoon/detail?titleId=675554&no=907&weekday=mon\n",
      "시즌4 426화 적응 \n",
      " https://comic.naver.com/webtoon/detail?titleId=675554&no=906&weekday=mon\n",
      "시즌4 425화 대견 \n",
      " https://comic.naver.com/webtoon/detail?titleId=675554&no=905&weekday=mon\n",
      "시즌4 424화 초빙강사 \n",
      " https://comic.naver.com/webtoon/detail?titleId=675554&no=904&weekday=mon\n",
      "시즌4 423화 추억의 물건 \n",
      " https://comic.naver.com/webtoon/detail?titleId=675554&no=903&weekday=mon\n",
      "시즌4 422화 아니요 \n",
      " https://comic.naver.com/webtoon/detail?titleId=675554&no=902&weekday=mon\n"
     ]
    }
   ],
   "metadata": {}
  },
  {
   "cell_type": "code",
   "execution_count": 15,
   "source": [
    "# 평점 구하기\r\n",
    "total_rates = 0\r\n",
    "ratings = soup.find_all(\"div\", attrs={\"class\" : \"rating_type\"})\r\n",
    "for rating in ratings :\r\n",
    "    rate = rating.find(\"strong\").get_text()\r\n",
    "    print(rate)\r\n",
    "    total_rates += float(rate)\r\n",
    "print(\"전체 점수 : \", total_rates)\r\n",
    "print(\"평균 점수 : \", total_rates / len(ratings))"
   ],
   "outputs": [
    {
     "output_type": "stream",
     "name": "stdout",
     "text": [
      "9.98\n",
      "9.98\n",
      "9.97\n",
      "9.97\n",
      "9.97\n",
      "9.98\n",
      "9.97\n",
      "9.97\n",
      "9.97\n",
      "9.97\n",
      "전체 점수 :  99.72999999999999\n",
      "평균 점수 :  9.972999999999999\n"
     ]
    }
   ],
   "metadata": {}
  }
 ],
 "metadata": {
  "orig_nbformat": 4,
  "language_info": {
   "name": "python",
   "version": "3.7.10",
   "mimetype": "text/x-python",
   "codemirror_mode": {
    "name": "ipython",
    "version": 3
   },
   "pygments_lexer": "ipython3",
   "nbconvert_exporter": "python",
   "file_extension": ".py"
  },
  "kernelspec": {
   "name": "python3",
   "display_name": "Python 3.7.10 64-bit ('py37': conda)"
  },
  "interpreter": {
   "hash": "9dcac9ecd627181a876e081bba3edef39bedaedf8b29af9846361eb47efe5c01"
  }
 },
 "nbformat": 4,
 "nbformat_minor": 2
}