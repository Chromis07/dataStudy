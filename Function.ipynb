{
 "metadata": {
  "language_info": {
   "codemirror_mode": {
    "name": "ipython",
    "version": 3
   },
   "file_extension": ".py",
   "mimetype": "text/x-python",
   "name": "python",
   "nbconvert_exporter": "python",
   "pygments_lexer": "ipython3",
   "version": "3.8.3"
  },
  "orig_nbformat": 2,
  "kernelspec": {
   "name": "python383jvsc74a57bd07190fc511120d358dd8e0425251d769e5880bdfe6416c47ca4abb95888d2729b",
   "display_name": "Python 3.8.3 64-bit ('base': conda)"
  }
 },
 "nbformat": 4,
 "nbformat_minor": 2,
 "cells": [
  {
   "cell_type": "code",
   "execution_count": null,
   "metadata": {},
   "outputs": [],
   "source": [
    "letters = [\"a\", 'b', 'c']\n",
    "for i in range(len(letters)):\n",
    "    print (f\"Each letter : {letters[i]} \")\n"
   ]
  },
  {
   "cell_type": "code",
   "execution_count": null,
   "metadata": {},
   "outputs": [],
   "source": [
    "import math\n",
    "\n",
    "def circle(radius):\n",
    "    \"\"\"반지름을 주면 넓이와 원주율을 준다\"\"\"\n",
    "\n",
    "    return math.pi*radius**2, 2*math.pi*radius"
   ]
  },
  {
   "cell_type": "code",
   "execution_count": null,
   "metadata": {},
   "outputs": [],
   "source": [
    "circle(10)"
   ]
  },
  {
   "cell_type": "code",
   "execution_count": 41,
   "metadata": {},
   "outputs": [
    {
     "output_type": "stream",
     "name": "stdout",
     "text": [
      "원의 넓이와 원주율은 5cm이면 78.54cm 제곱과 31.42cm \n"
     ]
    }
   ],
   "source": [
    "x = 5 #global variable\n",
    "print (f'원의 넓이와 원주율은 {x}cm이면 \\\n",
    "{circle(x)[0]:.2f}cm 제곱과 {circle(x)[1]:.2f}cm ')"
   ]
  },
  {
   "cell_type": "code",
   "execution_count": null,
   "metadata": {},
   "outputs": [],
   "source": [
    "circle?"
   ]
  },
  {
   "cell_type": "code",
   "execution_count": null,
   "metadata": {},
   "outputs": [],
   "source": [
    "def myFunction(x, y):\n",
    "    \"\"\"두 값을 받아서 더하고 곱하고 나눈다\"\"\"\n",
    "\n",
    "    return x+y, x*y, x/y"
   ]
  },
  {
   "cell_type": "code",
   "execution_count": 42,
   "metadata": {},
   "outputs": [
    {
     "output_type": "execute_result",
     "data": {
      "text/plain": [
       "(18, 45, 5.0)"
      ]
     },
     "metadata": {},
     "execution_count": 42
    }
   ],
   "source": [
    "myFunction(15,3)"
   ]
  },
  {
   "cell_type": "code",
   "execution_count": 46,
   "metadata": {},
   "outputs": [],
   "source": [
    "def findmin():\n",
    "    \"\"\"세 값을 받아 최소값을 찾는다\"\"\"\n",
    "    x = int(input('첫번째 값을 넣으세요 :'))\n",
    "    y = int(input('두번째 값을 넣으세요 :'))\n",
    "    z = int(input('세번째 값을 넣으세요 :'))\n",
    "    minimum = x\n",
    "    if y < minimum:\n",
    "        minimum = y\n",
    "    if z < minimum:\n",
    "        minimum = z\n",
    "    return minimum"
   ]
  },
  {
   "cell_type": "code",
   "execution_count": 48,
   "metadata": {},
   "outputs": [
    {
     "output_type": "execute_result",
     "data": {
      "text/plain": [
       "123"
      ]
     },
     "metadata": {},
     "execution_count": 48
    }
   ],
   "source": [
    "findmin()"
   ]
  },
  {
   "cell_type": "code",
   "execution_count": 49,
   "metadata": {},
   "outputs": [],
   "source": [
    "def findmin(x,y,z):\n",
    "    \"\"\"또다른 세 값에서 최소값\"\"\"\n",
    "    return min(x,y,z)"
   ]
  },
  {
   "cell_type": "code",
   "execution_count": 51,
   "metadata": {},
   "outputs": [
    {
     "output_type": "stream",
     "name": "stdout",
     "text": [
      "7\n5\n"
     ]
    }
   ],
   "source": [
    "print(findmin(7,8,9))\n",
    "print(x) #global variable x를 출력"
   ]
  },
  {
   "cell_type": "code",
   "execution_count": 52,
   "metadata": {},
   "outputs": [
    {
     "output_type": "stream",
     "name": "stdout",
     "text": [
      "Minimum is 3\n"
     ]
    }
   ],
   "source": [
    "print(f'Minimum is {findmin(10, 8, 3)}')"
   ]
  },
  {
   "cell_type": "code",
   "execution_count": 53,
   "metadata": {},
   "outputs": [],
   "source": [
    "def rectangle(width=3, height=5):\n",
    "    \"\"\"직사각형의 면적을 구한다\"\"\"\n",
    "    \n",
    "    return width*height"
   ]
  },
  {
   "cell_type": "code",
   "execution_count": 54,
   "metadata": {},
   "outputs": [
    {
     "output_type": "stream",
     "name": "stdout",
     "text": [
      "15 25 28\n"
     ]
    }
   ],
   "source": [
    "print(rectangle(), rectangle(5), rectangle(4, 7))"
   ]
  },
  {
   "cell_type": "code",
   "execution_count": 57,
   "metadata": {},
   "outputs": [
    {
     "output_type": "stream",
     "name": "stdout",
     "text": [
      "15 42\n"
     ]
    }
   ],
   "source": [
    "print( rectangle(height= 5), rectangle(height= 6, width= 7))"
   ]
  },
  {
   "cell_type": "code",
   "execution_count": 58,
   "metadata": {},
   "outputs": [],
   "source": [
    "def my_average(*nums): # * << 계산하는 값의 개수에 제한을 두지 않는다.\n",
    "    \"\"\"여러 수로 평균을 구한다\"\"\"\n",
    "    \n",
    "    return sum(nums)/len(nums)"
   ]
  },
  {
   "cell_type": "code",
   "execution_count": 61,
   "metadata": {},
   "outputs": [
    {
     "output_type": "execute_result",
     "data": {
      "text/plain": [
       "204.8"
      ]
     },
     "metadata": {},
     "execution_count": 61
    }
   ],
   "source": [
    "my_average(324, 34, 46, 576, 44)"
   ]
  },
  {
   "cell_type": "code",
   "execution_count": 68,
   "metadata": {},
   "outputs": [
    {
     "output_type": "execute_result",
     "data": {
      "text/plain": [
       "4.714285714285714"
      ]
     },
     "metadata": {},
     "execution_count": 68
    }
   ],
   "source": [
    "grades = [1,3,5,7,8,3,6]\n",
    "my_average(*grades)"
   ]
  },
  {
   "cell_type": "code",
   "execution_count": null,
   "metadata": {},
   "outputs": [],
   "source": []
  }
 ]
}