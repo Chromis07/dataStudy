{
 "cells": [
  {
   "cell_type": "code",
   "execution_count": null,
   "metadata": {},
   "outputs": [],
   "source": []
  }
 ],
 "metadata": {
  "kernelspec": {
   "display_name": "Python 3.8.13 ('py38')",
   "language": "python",
   "name": "python3"
  },
  "language_info": {
   "name": "python",
   "version": "3.8.13"
  },
  "orig_nbformat": 4,
  "vscode": {
   "interpreter": {
    "hash": "39dd06e25282661fb5dba166953c8ac5fb3e5b0ec3aaddbd1f5fdd8ce1fc3bd8"
   }
  }
 },
 "nbformat": 4,
 "nbformat_minor": 2
}
