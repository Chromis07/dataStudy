{
 "cells": [
  {
   "cell_type": "markdown",
   "source": [
    "만들어 놓은 코드를 재사용하고 싶다!\r\n",
    "\r\n",
    "# 클래스와 객체\r\n",
    "## 객체 지향 언어의 이해"
   ],
   "metadata": {}
  },
  {
   "cell_type": "markdown",
   "source": [
    "객체 : 속성(Attribute)와 행동(Action)을 가짐\r\n",
    "\r\n",
    "- OOP는 속성을 변수(variable), 행동은 함수(method)로 표현됨\r\n",
    "\r\n",
    "설계도 Class에서 구현체인 object가 나옴\r\n",
    "\r\n",
    "- Super Class 부모 클래스\r\n",
    "\r\n",
    "- Sub Class / Child Class 자식 클래스. 상속받은 클래스\r\n",
    "\r\n",
    "- Constructor 클래스 인스턴스 생성\r\n",
    "\r\n",
    "- '__init__()' 클래스 생성자 메서드\r\n",
    "\r\n",
    "- 클래스 변수\r\n",
    "\r\n",
    "- Method 클래스 내의 함수\r\n",
    "\r\n",
    "- Method Overrriding 상속받은 메서드를 재 정의"
   ],
   "metadata": {}
  },
  {
   "cell_type": "code",
   "execution_count": 2,
   "source": [
    "class Person :\r\n",
    "    total_count = 0 # 클래스 변수\r\n",
    "    def __init__(self, name, age) : # 생성자 메서드\r\n",
    "        self.name = name # 인스턴스 변수\r\n",
    "        self.age = age\r\n",
    "        Person.total_count += 1\r\n",
    "    \r\n",
    "    def introduce(self) : # 메서드\r\n",
    "        print(f'제 이름은 {self.name} 이고, 나이는 {self.age}살 입니다.')"
   ],
   "outputs": [],
   "metadata": {}
  },
  {
   "cell_type": "code",
   "execution_count": 3,
   "source": [
    "p1 = Person('김철수', 22)\r\n",
    "p1.introduce()"
   ],
   "outputs": [
    {
     "output_type": "stream",
     "name": "stdout",
     "text": [
      "제 이름은 김철수 이고, 나이는 22살 입니다.\n"
     ]
    }
   ],
   "metadata": {}
  },
  {
   "cell_type": "markdown",
   "source": [
    "### 상속(inheritance)"
   ],
   "metadata": {}
  },
  {
   "cell_type": "code",
   "execution_count": 12,
   "source": [
    "\r\n",
    "class Person :\r\n",
    "    '''Super Class'''\r\n",
    "    total_count = 0 # 클래스 변수\r\n",
    "    def __init__(self) : # 생성자 메서드\r\n",
    "        self.name = '홍길동' # 인스턴스 변수\r\n",
    "        self.age = 1\r\n",
    "        Person.total_count += 1\r\n",
    "    \r\n",
    "    def introduce(self) : # 메서드\r\n",
    "        print(f'제 이름은 {self.name} 이고, 나이는 {self.age}살 입니다.')\r\n",
    "\r\n",
    "class Student(Person) :\r\n",
    "    '''Sub Class'''\r\n",
    "    \r\n",
    "    def __init__(self):\r\n",
    "        super().__init__()"
   ],
   "outputs": [],
   "metadata": {}
  },
  {
   "cell_type": "code",
   "execution_count": 14,
   "source": [
    "p1 = Person()"
   ],
   "outputs": [],
   "metadata": {}
  },
  {
   "cell_type": "code",
   "execution_count": 15,
   "source": [
    "p1.introduce()"
   ],
   "outputs": [
    {
     "output_type": "stream",
     "name": "stdout",
     "text": [
      "제 이름은 홍길동 이고, 나이는 1살 입니다.\n"
     ]
    }
   ],
   "metadata": {}
  },
  {
   "cell_type": "code",
   "execution_count": 16,
   "source": [
    "p2 = Person()"
   ],
   "outputs": [],
   "metadata": {}
  },
  {
   "cell_type": "code",
   "execution_count": 17,
   "source": [
    "p3 = Person()"
   ],
   "outputs": [],
   "metadata": {}
  },
  {
   "cell_type": "code",
   "execution_count": 18,
   "source": [
    "p3.__class__.total_count"
   ],
   "outputs": [
    {
     "output_type": "execute_result",
     "data": {
      "text/plain": [
       "3"
      ]
     },
     "metadata": {},
     "execution_count": 18
    }
   ],
   "metadata": {}
  },
  {
   "cell_type": "code",
   "execution_count": 21,
   "source": [
    "class Student(Person):\r\n",
    "    \r\n",
    "    def __init__(self):\r\n",
    "        super().__init__() # 부모 클래스의 init 함수 실행"
   ],
   "outputs": [],
   "metadata": {}
  },
  {
   "cell_type": "code",
   "execution_count": 23,
   "source": [
    "student = Student()\r\n",
    "student.introduce()"
   ],
   "outputs": [
    {
     "output_type": "stream",
     "name": "stdout",
     "text": [
      "제 이름은 홍길동 이고, 나이는 1살 입니다.\n"
     ]
    }
   ],
   "metadata": {}
  },
  {
   "cell_type": "code",
   "execution_count": 29,
   "source": [
    "class Person :\r\n",
    "    total_count = 0 # 클래스 변수\r\n",
    "    def __init__(self, name, age) : # 생성자 메서드\r\n",
    "        self.name = name # 인스턴스 변수\r\n",
    "        self.age = age\r\n",
    "        Person.total_count += 1\r\n",
    "    \r\n",
    "    def introduce(self) : # 메서드\r\n",
    "        print(f'제 이름은 {self.name} 이고, 나이는 {self.age}살 입니다.')\r\n",
    "        \r\n",
    "class Student(Person) :\r\n",
    "    '''Sub Class'''\r\n",
    "    \r\n",
    "    def __init__(self, name, age):\r\n",
    "        super().__init__(name, age)"
   ],
   "outputs": [],
   "metadata": {}
  },
  {
   "cell_type": "code",
   "execution_count": 31,
   "source": [
    "s1 = Student('김철수', 22)"
   ],
   "outputs": [],
   "metadata": {}
  },
  {
   "cell_type": "code",
   "execution_count": 32,
   "source": [
    "s1.introduce()"
   ],
   "outputs": [
    {
     "output_type": "stream",
     "name": "stdout",
     "text": [
      "제 이름은 김철수 이고, 나이는 22살 입니다.\n"
     ]
    }
   ],
   "metadata": {}
  },
  {
   "cell_type": "markdown",
   "source": [
    "## 클래스 오버라이딩"
   ],
   "metadata": {}
  },
  {
   "cell_type": "code",
   "execution_count": 33,
   "source": [
    "class Person :\r\n",
    "    total_count = 0 # 클래스 변수\r\n",
    "    def __init__(self, name, age) : # 생성자 메서드\r\n",
    "        self.name = name # 인스턴스 변수\r\n",
    "        self.age = age\r\n",
    "        Person.total_count += 1\r\n",
    "    \r\n",
    "    def introduce(self) : # 메서드\r\n",
    "        print(f'제 이름은 {self.name} 이고, 나이는 {self.age}살 입니다.')\r\n",
    "        \r\n",
    "class Student(Person) :\r\n",
    "    '''Sub Class'''\r\n",
    "    \r\n",
    "    def __init__(self, name, age):\r\n",
    "        super().__init__(name, age)\r\n",
    "\r\n",
    "    def introduce(self):\r\n",
    "        super().introduce()\r\n",
    "        print(f'제 이름은 {self.name} 이고, 나이는 비밀입니다.')"
   ],
   "outputs": [],
   "metadata": {}
  },
  {
   "cell_type": "code",
   "execution_count": 35,
   "source": [
    "s1 = Student('홍길동', 20)\r\n",
    "s1.introduce()"
   ],
   "outputs": [
    {
     "output_type": "stream",
     "name": "stdout",
     "text": [
      "제 이름은 홍길동 이고, 나이는 20살 입니다.\n",
      "제 이름은 홍길동 이고, 나이는 비밀입니다.\n"
     ]
    }
   ],
   "metadata": {}
  },
  {
   "cell_type": "markdown",
   "source": [
    "### 상속 구조 확인"
   ],
   "metadata": {}
  },
  {
   "cell_type": "code",
   "execution_count": 37,
   "source": [
    "Student.mro()"
   ],
   "outputs": [
    {
     "output_type": "execute_result",
     "data": {
      "text/plain": [
       "[__main__.Student, __main__.Person, object]"
      ]
     },
     "metadata": {},
     "execution_count": 37
    }
   ],
   "metadata": {}
  },
  {
   "cell_type": "code",
   "execution_count": null,
   "source": [],
   "outputs": [],
   "metadata": {}
  }
 ],
 "metadata": {
  "orig_nbformat": 4,
  "language_info": {
   "name": "python",
   "version": "3.8.8",
   "mimetype": "text/x-python",
   "codemirror_mode": {
    "name": "ipython",
    "version": 3
   },
   "pygments_lexer": "ipython3",
   "nbconvert_exporter": "python",
   "file_extension": ".py"
  },
  "kernelspec": {
   "name": "python3",
   "display_name": "Python 3.8.8 64-bit ('base': conda)"
  },
  "interpreter": {
   "hash": "7190fc511120d358dd8e0425251d769e5880bdfe6416c47ca4abb95888d2729b"
  }
 },
 "nbformat": 4,
 "nbformat_minor": 2
}