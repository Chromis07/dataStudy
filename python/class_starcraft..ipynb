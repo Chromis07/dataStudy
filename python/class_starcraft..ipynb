{
 "cells": [
  {
   "cell_type": "code",
   "execution_count": 5,
   "source": [
    "name = \"마린\"  # 유닛의 이름\r\n",
    "hp = 40  # 유닛의 체력\r\n",
    "damage = 5  # 유닛의 공격력\r\n",
    "\r\n",
    "print(f\"{name}유닛이 생성되었습니다\")\r\n",
    "print(f\"체력{hp}, 공격력 {damage} \\n\")"
   ],
   "outputs": [
    {
     "output_type": "stream",
     "name": "stdout",
     "text": [
      "마린유닛이 생성되었습니다\n",
      "체력40, 공격력 5 \n",
      "\n"
     ]
    }
   ],
   "metadata": {}
  },
  {
   "cell_type": "code",
   "execution_count": 7,
   "source": [
    "# 탱크 : 공격 유닛, 탱크. 포를 쏠 수 있는데, 일반모드 / 시즈모드\r\n",
    "\r\n",
    "tank_name = '탱크'\r\n",
    "tank_hp = 150\r\n",
    "tank_damage = 35\r\n",
    "\r\n",
    "print(f\"{tank_name} 유닛이 생성되었습니다\")\r\n",
    "print(f\"체력{tank_hp}, 공격력 {tank_damage} \\n\")"
   ],
   "outputs": [
    {
     "output_type": "stream",
     "name": "stdout",
     "text": [
      "탱크 유닛이 생성되었습니다\n",
      "체력150, 공격력 35 \n",
      "\n"
     ]
    }
   ],
   "metadata": {}
  },
  {
   "cell_type": "code",
   "execution_count": 8,
   "source": [
    "def attack(name, location, damage):\r\n",
    "    print(f\"{name} : {location} 방향으로 적군을 공격합니다. [공격력 {damage}]\")\r\n",
    "    \r\n",
    "attack(name, \"1시\", damage)\r\n",
    "attack(tank_name, \"1시\", tank_damage)\r\n"
   ],
   "outputs": [
    {
     "output_type": "stream",
     "name": "stdout",
     "text": [
      "마린 : 1시 방향으로 적군을 공격합니다. [공격력 5]\n",
      "탱크 : 1시 방향으로 적군을 공격합니다. [공격력 35]\n"
     ]
    }
   ],
   "metadata": {}
  },
  {
   "cell_type": "code",
   "execution_count": 11,
   "source": [
    "class Unit : \r\n",
    "    def __init__(self, name, hp, damage) :\r\n",
    "        self.name = name # 멤버 변수\r\n",
    "        self.hp = hp\r\n",
    "        self.damage = damage\r\n",
    "        \r\n",
    "        print(f\"{self.name} 유닛이 생성되었습니다\")\r\n",
    "        print(f\"체력 {self.hp}, 공격력 {self.damage}\")\r\n"
   ],
   "outputs": [],
   "metadata": {}
  },
  {
   "cell_type": "code",
   "execution_count": 12,
   "source": [
    "marine1 = Unit(\"마린\", 40, 5) # 인스턴스 생성\r\n",
    "marine2 = Unit(\"마린\", 40, 5)\r\n",
    "tank = Unit(\"탱크\", 150, 35)"
   ],
   "outputs": [
    {
     "output_type": "stream",
     "name": "stdout",
     "text": [
      "마린 유닛이 생성되었습니다\n",
      "체력 40, 공격력 5\n",
      "마린 유닛이 생성되었습니다\n",
      "체력 40, 공격력 5\n",
      "탱크 유닛이 생성되었습니다\n",
      "체력 150, 공격력 35\n"
     ]
    }
   ],
   "metadata": {}
  },
  {
   "cell_type": "code",
   "execution_count": 13,
   "source": [
    "# 레이스 : 유닛, 비행기, 클로킹\r\n",
    "\r\n",
    "wraith1 = Unit(\"레이스\", 80, 5)\r\n",
    "print(f\"유닛 이름 : {wraith1.name}, 공격력 : {wraith1.damage}\") # 멤버 변수를 외부에서 사용    "
   ],
   "outputs": [
    {
     "output_type": "stream",
     "name": "stdout",
     "text": [
      "레이스 유닛이 생성되었습니다\n",
      "체력 80, 공격력 5\n",
      "유닛 이름 : 레이스, 공격력 : 5\n"
     ]
    }
   ],
   "metadata": {}
  },
  {
   "cell_type": "code",
   "execution_count": null,
   "source": [],
   "outputs": [],
   "metadata": {}
  }
 ],
 "metadata": {
  "orig_nbformat": 4,
  "language_info": {
   "name": "python",
   "version": "3.8.8",
   "mimetype": "text/x-python",
   "codemirror_mode": {
    "name": "ipython",
    "version": 3
   },
   "pygments_lexer": "ipython3",
   "nbconvert_exporter": "python",
   "file_extension": ".py"
  },
  "kernelspec": {
   "name": "python3",
   "display_name": "Python 3.8.8 64-bit ('base': conda)"
  },
  "interpreter": {
   "hash": "7190fc511120d358dd8e0425251d769e5880bdfe6416c47ca4abb95888d2729b"
  }
 },
 "nbformat": 4,
 "nbformat_minor": 2
}