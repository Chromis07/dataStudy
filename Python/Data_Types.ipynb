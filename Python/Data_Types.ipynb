{
 "cells": [
  {
   "cell_type": "code",
   "execution_count": 3,
   "metadata": {},
   "outputs": [
    {
     "output_type": "stream",
     "name": "stdout",
     "text": [
      "2\n('Kim', 'Park', 'Kwon') [80, 90, 100] <class 'tuple'> <class 'list'>\n80 90 100\nW I F I\n"
     ]
    }
   ],
   "source": [
    "# Unpacking\n",
    "t4 = (('Kim', 'Park', 'Kwon'), [80, 90, 100])\n",
    "print(len(t4))\n",
    "last_name, grades = t4\n",
    "print(last_name, grades, type(last_name), type(grades))\n",
    "\n",
    "# Unpacking list\n",
    "grade1, grade2, grade3 = grades\n",
    "print(grade1, grade2, grade3)\n",
    "\n",
    "# Unpacking a string\n",
    "first, second, third, fourth = \"WIFI\"\n",
    "print(first, second, third, fourth)"
   ]
  },
  {
   "cell_type": "code",
   "execution_count": 2,
   "metadata": {},
   "outputs": [
    {
     "output_type": "stream",
     "name": "stdout",
     "text": [
      "[(0, 'red'), (1, 'yellow'), (2, 'blue'), (3, 'black'), (4, 'white')]\n((0, 'red'), (1, 'yellow'), (2, 'blue'), (3, 'black'), (4, 'white'))\n0: red\n1: yellow\n2: blue\n3: black\n4: white\n"
     ]
    }
   ],
   "source": [
    "# Enumerate\n",
    "\n",
    "colors = ['red', 'yellow', 'blue', 'black', 'white']\n",
    "print(list(enumerate(colors)))\n",
    "print(tuple(enumerate(colors)))\n",
    "\n",
    "# printing index and value of the list\n",
    "for index, color in enumerate(colors):\n",
    "    print(f'{index}: {color}')\n"
   ]
  },
  {
   "cell_type": "code",
   "execution_count": 3,
   "metadata": {},
   "outputs": [
    {
     "output_type": "stream",
     "name": "stdout",
     "text": [
      "[1, 2, 3, 4, 5, 6, 7, 8] 8\n",
      "[1, 2, 3, 4, 5, 6, 7, 8]\n",
      "[1, 3, 5, 7]\n"
     ]
    }
   ],
   "source": [
    "list = [1, 2, 3, 4, 5, 6, 7, 8]\n",
    "print(list, len(list))\n",
    "print(list[:])\n",
    "print(list[::2])"
   ]
  },
  {
   "cell_type": "code",
   "execution_count": 4,
   "metadata": {},
   "outputs": [
    {
     "output_type": "stream",
     "name": "stdout",
     "text": [
      "['one', 'two', 'three', 4, 5, 6, 7, 8]\n",
      "[4, 5, 6, 7, 8]\n"
     ]
    }
   ],
   "source": [
    "list[0:3] = ['one', 'two', 'three']\n",
    "print(list)\n",
    "list[0:3] = []\n",
    "print(list)"
   ]
  },
  {
   "cell_type": "code",
   "execution_count": 5,
   "metadata": {},
   "outputs": [
    {
     "output_type": "stream",
     "name": "stdout",
     "text": [
      "[4, 5, 6, 7]\n[5, 7]\n[]\n"
     ]
    }
   ],
   "source": [
    "del list[-1]\n",
    "print(list)\n",
    "del list[::2]\n",
    "print(list)\n",
    "del list[:]\n",
    "print(list)"
   ]
  },
  {
   "cell_type": "code",
   "execution_count": 6,
   "metadata": {},
   "outputs": [
    {
     "output_type": "stream",
     "name": "stdout",
     "text": [
      "[]\n<class 'list'>\n"
     ]
    }
   ],
   "source": [
    "print(list)\n",
    "del list\n",
    "print(list)"
   ]
  },
  {
   "cell_type": "code",
   "execution_count": 7,
   "metadata": {},
   "outputs": [
    {
     "output_type": "stream",
     "name": "stdout",
     "text": [
      "[1, 3, 3, 5, 6, 7, 8]\n[8, 7, 6, 5, 3, 3, 1]\n[1, 3, 3, 5, 6, 7, 8]\n"
     ]
    }
   ],
   "source": [
    "numbers = [6,3,5,7,8,1,3]\n",
    "numbers.sort()\n",
    "print(numbers)\n",
    "\n",
    "numbers.sort(reverse = True) #내림차순\n",
    "print(numbers)\n",
    "numbers.reverse() # 역순\n",
    "print(numbers)"
   ]
  },
  {
   "cell_type": "code",
   "execution_count": 8,
   "metadata": {},
   "outputs": [
    {
     "output_type": "stream",
     "name": "stdout",
     "text": [
      "['I', 'love', 'you,', 'and', 'do', 'you', 'love', 'me?'] <class 'list'>\n['I', 'do', 'and', 'you', 'me?', 'love', 'you,', 'love'] <class 'list'>\n['I', 'and', 'do', 'love', 'love', 'me?', 'you', 'you,']\n"
     ]
    }
   ],
   "source": [
    "a_string = 'I love you, and do you love me?'\n",
    "a_string = a_string.split()\n",
    "print(a_string, type(a_string))\n",
    "a_string.sort(key=len) # 단어 길이로 정렬\n",
    "print(a_string, type(a_string))\n",
    "b_string = sorted(a_string) #알파벳 순서로 정렬 (대문자 우선)\n",
    "print(b_string)"
   ]
  },
  {
   "cell_type": "code",
   "execution_count": 9,
   "metadata": {},
   "outputs": [
    {
     "output_type": "stream",
     "name": "stdout",
     "text": [
      "[7, 4, 3, 7, 0, 6, 3, 2]\n[0, 2, 3, 3, 4, 6, 7, 7]\n[2, 3, 6, 0, 7, 3, 4, 7]\n[7, 4, 3, 7, 0, 6, 3, 2]\n"
     ]
    }
   ],
   "source": [
    "x = [7,4,3,7,0,6,3,2]\n",
    "y = sorted(x)\n",
    "z = reversed(x)\n",
    "print(x) # x는 수정되지 않음\n",
    "print(y)\n",
    "print(list(z))\n",
    "print(x)"
   ]
  },
  {
   "cell_type": "code",
   "execution_count": 10,
   "metadata": {},
   "outputs": [
    {
     "output_type": "stream",
     "name": "stdout",
     "text": [
      "2\nFalse\nTrue\nFalse\n"
     ]
    }
   ],
   "source": [
    "print(x.index(3))\n",
    "print(12 in x)\n",
    "print(12 not in x)\n",
    "print('Love' in a_string) # love 소문자이기에 False"
   ]
  },
  {
   "cell_type": "code",
   "execution_count": 11,
   "metadata": {},
   "outputs": [
    {
     "output_type": "stream",
     "name": "stdout",
     "text": [
      "['I', 'do', 'and', 'you', 'me?', 'love', 'you,', 'love']\n['I', 'do', 'and', 'him', 'you', 'me?', 'love', 'you,', 'love']\n"
     ]
    }
   ],
   "source": [
    "print(a_string)\n",
    "a_string.insert(3, 'him')\n",
    "print(a_string)"
   ]
  },
  {
   "cell_type": "code",
   "execution_count": 12,
   "metadata": {},
   "outputs": [
    {
     "output_type": "stream",
     "name": "stdout",
     "text": [
      "['I', 'do', 'and', 'him', 'you', 'me?', 'love', 'you,', 'love', 'hate']\n['I', 'do', 'and', 'you', 'me?', 'love', 'you,', 'love', 'hate']\n"
     ]
    }
   ],
   "source": [
    "a_string.append('hate')\n",
    "print(a_string)\n",
    "a_string.remove('him')\n",
    "print(a_string)"
   ]
  },
  {
   "cell_type": "code",
   "execution_count": 13,
   "metadata": {},
   "outputs": [
    {
     "output_type": "stream",
     "name": "stdout",
     "text": [
      "['I', 'do', 'and', 'you', 'me?', 'love', 'you,', 'love', 'hate', 'I', 'and']\n['I', 'do', 'and', 'you', 'me?', 'love', 'you,', 'love', 'hate', 'I', 'and']\n"
     ]
    }
   ],
   "source": [
    "print(a_string+['I', 'and'])\n",
    "a_string.extend(['I', 'and'])\n",
    "print(a_string)"
   ]
  },
  {
   "cell_type": "code",
   "execution_count": 14,
   "metadata": {},
   "outputs": [
    {
     "output_type": "stream",
     "name": "stdout",
     "text": [
      "[]\n"
     ]
    }
   ],
   "source": [
    "a_string.clear()\n",
    "print(a_string)"
   ]
  },
  {
   "cell_type": "code",
   "execution_count": 16,
   "metadata": {},
   "outputs": [
    {
     "output_type": "stream",
     "name": "stdout",
     "text": [
      "[7, 4, 3, 7, 0, 6, 3, 2]\n[7, 4, 3, 7, 0, 6, 3, 2]\n[7, 4, 3, 7, 0, 6, 3, 2]\n"
     ]
    }
   ],
   "source": [
    "print(x)\n",
    "x_copied = x.copy()\n",
    "print(x_copied)\n",
    "print(x)"
   ]
  },
  {
   "source": [
    "x.sort(reverse = True)\n",
    "print(x)"
   ],
   "cell_type": "code",
   "metadata": {},
   "execution_count": 17,
   "outputs": [
    {
     "output_type": "stream",
     "name": "stdout",
     "text": [
      "[7, 7, 6, 4, 3, 3, 2, 0]\n"
     ]
    }
   ]
  },
  {
   "source": [
    "### List comprehension"
   ],
   "cell_type": "markdown",
   "metadata": {}
  },
  {
   "cell_type": "code",
   "execution_count": 23,
   "metadata": {},
   "outputs": [
    {
     "output_type": "stream",
     "name": "stdout",
     "text": [
      "[0, 2, 4, 6, 8]\n[0, 2, 4, 6, 8]\n[1, 3, 5, 7, 9]\n"
     ]
    }
   ],
   "source": [
    "list_range = list(range(0,10,2))\n",
    "print(list_range)\n",
    "\n",
    "# [] 리스트 안에 수식을 넣는다.\n",
    "list_com = [i for i in range(0,10,2)]\n",
    "print(list_com)\n",
    "list_con = [i for i in range(0,10) if i % 2 !=0]\n",
    "print(list_con)"
   ]
  },
  {
   "cell_type": "code",
   "execution_count": 26,
   "metadata": {},
   "outputs": [
    {
     "output_type": "stream",
     "name": "stdout",
     "text": [
      "[0, 4, 16, 36, 64]\n['A', 'B', 'T', 'HIM']\n"
     ]
    }
   ],
   "source": [
    "a_string = ['a', 'b', 't', 'him']\n",
    "\n",
    "list_op = [i**2 for i in range(0,10,2)]\n",
    "print(list_op)\n",
    "list_up = [i.upper() for i in a_string]\n",
    "print(list_up)"
   ]
  },
  {
   "cell_type": "code",
   "execution_count": 30,
   "metadata": {},
   "outputs": [
    {
     "output_type": "stream",
     "name": "stdout",
     "text": [
      "<generator object <genexpr> at 0x000002BC6B198DD0>\n[4, 8, 20, 40, 68]\n"
     ]
    }
   ],
   "source": [
    "# Generator expression - 메모리 효율성 높아짐\n",
    "# https://mingrammer.com/introduce-comprehension-of-python/\n",
    "list_gen = (i**2 for i in range(10) if i % 2 ==0)\n",
    "print(list_gen)\n",
    "list_gen1 = [i+4 for i in list_gen]\n",
    "print(list_gen1)"
   ]
  },
  {
   "source": [
    "### Lambda expression"
   ],
   "cell_type": "markdown",
   "metadata": {}
  },
  {
   "cell_type": "code",
   "execution_count": 31,
   "metadata": {},
   "outputs": [
    {
     "output_type": "stream",
     "name": "stdout",
     "text": [
      "[0, 1, 2, 3, 4, 5, 6, 7, 8, 9, 10, 11, 12, 13, 14, 15, 16, 17, 18, 19, 20, 21, 22, 23, 24]\n"
     ]
    }
   ],
   "source": [
    "list3 = list(range(0,25))\n",
    "print(list3)\n",
    "\n",
    "def is_mutiple3(x):\n",
    "    \"\"\"3의 배수인지 확인\"\"\"\n",
    "    return x % 3 == 0"
   ]
  },
  {
   "cell_type": "code",
   "execution_count": 35,
   "metadata": {},
   "outputs": [
    {
     "output_type": "stream",
     "name": "stdout",
     "text": [
      "<filter object at 0x000002BC6A43BDC0>\n[0, 3, 6, 9, 12, 15, 18, 21, 24]\n"
     ]
    }
   ],
   "source": [
    "# filter function >> 생성자\n",
    "# filter (함수, 데이터(함수에게 args로 줌)) 두 번째 인수인 반복 가능한 자료형 요소가 첫 번째 인수인 함수에 입력되었을 때 반환 값이 참인 것만 묶어서 돌려준다.\n",
    "print(filter(is_mutiple3, list3))\n",
    "result = list(filter(is_mutiple3, list3))\n",
    "print(result)"
   ]
  },
  {
   "cell_type": "code",
   "execution_count": 36,
   "metadata": {},
   "outputs": [
    {
     "output_type": "stream",
     "name": "stdout",
     "text": [
      "[0, 3, 6, 9, 12, 15, 18, 21, 24]\n"
     ]
    }
   ],
   "source": [
    "# lambda function >> anonymous function (이름이 없는 function)\n",
    "# 1개의 input만 받을 수 있다. 역할은 : 이후에 제시\n",
    "list4 = list(filter(lambda x : x % 3 == 0,list3)) # lambda가 참일때만 (filter 함수)\n",
    "print(list4)"
   ]
  },
  {
   "cell_type": "code",
   "execution_count": 39,
   "metadata": {},
   "outputs": [
    {
     "output_type": "stream",
     "name": "stdout",
     "text": [
      "[0, 9, 36, 81, 144, 225, 324, 441, 576]\n[0, 9, 36, 81, 144, 225, 324, 441, 576]\n"
     ]
    }
   ],
   "source": [
    "# Map >> 생성자 generatorm, Lazy evaluation\n",
    "print(list(map(lambda x : x**2, list4)))\n",
    "print([i**2 for i in list4])\n",
    "\n",
    "#결과는 똑같음\n",
    "# 여기서는 list comprehension 이 훨씬 낫다"
   ]
  },
  {
   "cell_type": "code",
   "execution_count": 63,
   "metadata": {},
   "outputs": [
    {
     "output_type": "stream",
     "name": "stdout",
     "text": [
      "[0, 9, 36, 81, 144, 225, 324, 441, 576]\n[0, 9, 36, 81, 144, 225, 324, 441, 576]\n"
     ]
    }
   ],
   "source": [
    "print(list(map(lambda x : x**2, filter(lambda x : x%3 == 0, list3))))\n",
    "\n",
    "print([x**2 for x in list3 if x % 3 ==0])\n",
    "# list3 에서 x를 순서대로 받는데, x % 3 ==0 일 때만 받은 것을 **2 시켜서 리스트화 한다. (list comprehension)"
   ]
  },
  {
   "cell_type": "code",
   "execution_count": 67,
   "metadata": {},
   "outputs": [
    {
     "output_type": "stream",
     "name": "stdout",
     "text": [
      "['Mini', 'Excel', 'Sonata', 'Santafe', 'Elantra', 'Grandeur']\n['Elantra', 'Excel', 'Grandeur', 'Mini', 'Santafe', 'Sonata']\nElantra Sonata\n"
     ]
    },
    {
     "output_type": "execute_result",
     "data": {
      "text/plain": [
       "'Sonata'"
      ]
     },
     "metadata": {},
     "execution_count": 67
    }
   ],
   "source": [
    "car = ['Santafe', 'Mini', 'Grandeur', 'Sonata', 'Excel', 'Elantra']\n",
    "car.sort(key=len) #단어 길이대로 오름차순\n",
    "print(car)\n",
    "print(sorted(car)) # 알파벳 대로 정렬\n",
    "print(min(car), max(car)) #아스키코드 가장 작은거 큰 거\n",
    "max(car, key=lambda i : i.lower()) #대문자가 먼저 오고 소문자가 순서가 되기 때문에 소문자로 통일해주고 정렬"
   ]
  },
  {
   "cell_type": "code",
   "execution_count": 84,
   "metadata": {},
   "outputs": [
    {
     "output_type": "stream",
     "name": "stdout",
     "text": [
      "Ryu : 7\nSon : 20\nPark : 10\n"
     ]
    }
   ],
   "source": [
    "# zip function 한 쌍의 리스트를 넣고 인덱스 순서대로 뽑는 것\n",
    "players = ['Ryu', 'Son', 'Park']\n",
    "goals = [7,20,10]\n",
    "for last_name, goal in zip (players, goals):\n",
    "    print(f'{last_name} : {goal}')"
   ]
  },
  {
   "cell_type": "code",
   "execution_count": 71,
   "metadata": {},
   "outputs": [
    {
     "output_type": "stream",
     "name": "stdout",
     "text": [
      "[1, 2, 3]\n"
     ]
    }
   ],
   "source": [
    "a = [1,2,3]\n",
    "print(a)"
   ]
  },
  {
   "cell_type": "code",
   "execution_count": 6,
   "metadata": {},
   "outputs": [
    {
     "output_type": "stream",
     "name": "stdout",
     "text": [
      "4 6 \n5 5 \n6 4 \n"
     ]
    }
   ],
   "source": [
    "a=[1,2,3,4,5,6]\n",
    "b=[1,2,3,4,5,6]\n",
    "\n",
    "n = int(input())\n",
    "# list comprehension 2중 for문\n",
    "list = [[i, j] for i in a \n",
    "        for j in b\n",
    "        if i+j == n]\n",
    "\n",
    "# for i in a:\n",
    "#     for j in b:\n",
    "#         if i+j == n:\n",
    "#             list.append([i, j])\n",
    "#         print()\n",
    "\n",
    "for j in range(len(list)):\n",
    "    print(f'{list[j][0]} {list[j][1]}')\n",
    "\n",
    "# for row in list:\n",
    "#     for column in row:\n",
    "#         print(column, end=\" \")\n",
    "#     print()"
   ]
  },
  {
   "cell_type": "code",
   "execution_count": 2,
   "metadata": {},
   "outputs": [
    {
     "output_type": "stream",
     "name": "stdout",
     "text": [
      "[[1, 2, 3, 4], [5, 6, 7, 8], [9, 10, 11, 12]]\n1 2 3 4 \n5 6 7 8 \n9 10 11 12 \n"
     ]
    }
   ],
   "source": [
    "a = [[1,2,3,4],[5,6,7,8],[9,10,11,12]]\n",
    "print(a)\n",
    "for row in a:\n",
    "    for column in row:\n",
    "        print(column, end=\" \")\n",
    "    print()"
   ]
  },
  {
   "cell_type": "code",
   "execution_count": null,
   "metadata": {},
   "outputs": [],
   "source": []
  }
 ],
 "metadata": {
  "kernelspec": {
   "name": "python388jvsc74a57bd07190fc511120d358dd8e0425251d769e5880bdfe6416c47ca4abb95888d2729b",
   "display_name": "Python 3.8.8 64-bit ('Chromis': virtualenv)"
  },
  "language_info": {
   "codemirror_mode": {
    "name": "ipython",
    "version": 3
   },
   "file_extension": ".py",
   "mimetype": "text/x-python",
   "name": "python",
   "nbconvert_exporter": "python",
   "pygments_lexer": "ipython3",
   "version": "3.8.8"
  }
 },
 "nbformat": 4,
 "nbformat_minor": 2
}