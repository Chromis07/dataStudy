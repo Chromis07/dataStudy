{
 "metadata": {
  "language_info": {
   "codemirror_mode": {
    "name": "ipython",
    "version": 3
   },
   "file_extension": ".py",
   "mimetype": "text/x-python",
   "name": "python",
   "nbconvert_exporter": "python",
   "pygments_lexer": "ipython3",
   "version": "3.8.3"
  },
  "orig_nbformat": 2,
  "kernelspec": {
   "name": "python383jvsc74a57bd07190fc511120d358dd8e0425251d769e5880bdfe6416c47ca4abb95888d2729b",
   "display_name": "Python 3.8.3 64-bit ('base': conda)"
  }
 },
 "nbformat": 4,
 "nbformat_minor": 2,
 "cells": [
  {
   "cell_type": "code",
   "execution_count": 8,
   "metadata": {},
   "outputs": [
    {
     "output_type": "stream",
     "name": "stdout",
     "text": [
      "2\n('Kim', 'Park', 'Kwon') [80, 90, 100] <class 'tuple'> <class 'list'>\n80 90 100\nW I F I\n"
     ]
    }
   ],
   "source": [
    "# Unpacking\n",
    "t4 = (('Kim', 'Park', 'Kwon'), [80, 90, 100])\n",
    "print(len(t4))\n",
    "last_name, grades = t4\n",
    "print(last_name, grades, type(last_name), type(grades))\n",
    "\n",
    "# Unpacking list\n",
    "grade1, grade2, grade3 = grades\n",
    "print(grade1, grade2, grade3)\n",
    "\n",
    "# Unpacking a string\n",
    "first, second, third, fourth = \"WIFI\"\n",
    "print(first, second, third, fourth)"
   ]
  },
  {
   "cell_type": "code",
   "execution_count": 14,
   "metadata": {},
   "outputs": [
    {
     "output_type": "stream",
     "name": "stdout",
     "text": [
      "[(0, 'red'), (1, 'yellow'), (2, 'blue'), (3, 'black'), (4, 'white')]\n((0, 'red'), (1, 'yellow'), (2, 'blue'), (3, 'black'), (4, 'white'))\n0: red\n1: yellow\n2: blue\n3: black\n4: white\n"
     ]
    }
   ],
   "source": [
    "# Enumerate\n",
    "\n",
    "colors = ['red', 'yellow', 'blue', 'black', 'white']\n",
    "print(list(enumerate(colors)))\n",
    "print(tuple(enumerate(colors)))\n",
    "\n",
    "# printing index and value of the list\n",
    "for index, color in enumerate(colors):\n",
    "    print(f'{index}: {color}')\n"
   ]
  },
  {
   "cell_type": "code",
   "execution_count": 34,
   "metadata": {},
   "outputs": [
    {
     "output_type": "stream",
     "name": "stdout",
     "text": [
      "[1, 2, 3, 4, 5, 6, 7, 8] 8\n[1, 2, 3, 4, 5, 6, 7, 8]\n[1, 3, 5, 7]\n"
     ]
    }
   ],
   "source": [
    "list = [1, 2, 3, 4, 5, 6, 7, 8]\n",
    "print(list, len(list))\n",
    "print(list[:])\n",
    "print(list[::2])"
   ]
  },
  {
   "cell_type": "code",
   "execution_count": 35,
   "metadata": {},
   "outputs": [
    {
     "output_type": "stream",
     "name": "stdout",
     "text": [
      "['one', 'two', 'three', 4, 5, 6, 7, 8]\n[4, 5, 6, 7, 8]\n"
     ]
    }
   ],
   "source": [
    "list[0:3] = ['one', 'two', 'three']\n",
    "print(list)\n",
    "list[0:3] = []\n",
    "print(list)"
   ]
  },
  {
   "cell_type": "code",
   "execution_count": 36,
   "metadata": {},
   "outputs": [
    {
     "output_type": "stream",
     "name": "stdout",
     "text": [
      "[4, 5, 6, 7]\n[5, 7]\n[]\n"
     ]
    }
   ],
   "source": [
    "del list[-1]\n",
    "print(list)\n",
    "del list[::2]\n",
    "print(list)\n",
    "del list[:]\n",
    "print(list)"
   ]
  },
  {
   "cell_type": "code",
   "execution_count": 37,
   "metadata": {},
   "outputs": [
    {
     "output_type": "stream",
     "name": "stdout",
     "text": [
      "[]\n<class 'list'>\n"
     ]
    }
   ],
   "source": [
    "print(list)\n",
    "del list\n",
    "print(list)"
   ]
  },
  {
   "cell_type": "code",
   "execution_count": 44,
   "metadata": {},
   "outputs": [
    {
     "output_type": "stream",
     "name": "stdout",
     "text": [
      "[1, 3, 3, 5, 6, 7, 8]\n[8, 7, 6, 5, 3, 3, 1]\n[1, 3, 3, 5, 6, 7, 8]\n"
     ]
    }
   ],
   "source": [
    "numbers = [6,3,5,7,8,1,3]\n",
    "numbers.sort()\n",
    "print(numbers)\n",
    "\n",
    "numbers.sort(reverse = True) #내림차순\n",
    "print(numbers)\n",
    "numbers.reverse() # 역순\n",
    "print(numbers)"
   ]
  },
  {
   "cell_type": "code",
   "execution_count": 45,
   "metadata": {},
   "outputs": [
    {
     "output_type": "stream",
     "name": "stdout",
     "text": [
      "['I', 'love', 'you,', 'and', 'do', 'you', 'love', 'me?'] <class 'list'>\n['I', 'do', 'and', 'you', 'me?', 'love', 'you,', 'love'] <class 'list'>\n['I', 'and', 'do', 'love', 'love', 'me?', 'you', 'you,']\n"
     ]
    }
   ],
   "source": [
    "a_string = 'I love you, and do you love me?'\n",
    "a_string = a_string.split()\n",
    "print(a_string, type(a_string))\n",
    "a_string.sort(key=len) # 단어 길이로 정렬\n",
    "print(a_string, type(a_string))\n",
    "b_string = sorted(a_string) #알파벳 순서로 정렬 (대문자 우선)\n",
    "print(b_string)"
   ]
  },
  {
   "cell_type": "code",
   "execution_count": 46,
   "metadata": {},
   "outputs": [
    {
     "output_type": "stream",
     "name": "stdout",
     "text": [
      "[7, 4, 3, 7, 0, 6, 3, 2]\n[0, 2, 3, 3, 4, 6, 7, 7]\n[2, 3, 6, 0, 7, 3, 4, 7]\n[7, 4, 3, 7, 0, 6, 3, 2]\n"
     ]
    }
   ],
   "source": [
    "x = [7,4,3,7,0,6,3,2]\n",
    "y = sorted(x)\n",
    "z = reversed(x)\n",
    "print(x) # x는 수정되지 않음\n",
    "print(y)\n",
    "print(list(z))\n",
    "print(x)"
   ]
  },
  {
   "cell_type": "code",
   "execution_count": 47,
   "metadata": {},
   "outputs": [
    {
     "output_type": "stream",
     "name": "stdout",
     "text": [
      "2\nFalse\nTrue\nFalse\n"
     ]
    }
   ],
   "source": [
    "print(x.index(3))\n",
    "print(12 in x)\n",
    "print(12 not in x)\n",
    "print('Love' in a_string) # love 소문자이기에 False"
   ]
  },
  {
   "cell_type": "code",
   "execution_count": null,
   "metadata": {},
   "outputs": [],
   "source": []
  }
 ]
}